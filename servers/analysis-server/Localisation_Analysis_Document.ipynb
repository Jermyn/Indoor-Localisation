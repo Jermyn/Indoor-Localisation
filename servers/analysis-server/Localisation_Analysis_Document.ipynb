{
 "cells": [
  {
   "cell_type": "code",
   "execution_count": 567,
   "metadata": {},
   "outputs": [
    {
     "name": "stdout",
     "output_type": "stream",
     "text": [
      "1625737290000.0\n"
     ]
    }
   ],
   "source": [
    "### Import necessary library packages ###\n",
    "import plotly.graph_objects as go\n",
    "from plotly.subplots import make_subplots\n",
    "import numpy as np\n",
    "import math\n",
    "import csv, operator\n",
    "from datetime import datetime, timedelta\n",
    "from cache import getCache\n",
    "from rssi import rssiToDistance\n",
    "from storeScale import getScale, getCoordinates, getImage, getAnchors\n",
    "from storePOI import actlab_POI\n",
    "import time\n",
    "import pandas as pd\n",
    "import json\n",
    "from statistics import mean\n",
    "from pytz import timezone\n",
    "\n",
    "### Declare and instantiate variables and states ###\n",
    "devlistX = []\n",
    "devlistY = []\n",
    "devicelist = []\n",
    "tz = timezone('Asia/Singapore')\n",
    "sysStartTime=tz.localize(datetime.strptime(\"2021-07-08 17.41.30.00\", \"%Y-%m-%d %H.%M.%S.%f\")).timestamp()*1000#actlab_test1\n",
    "sysEndTime=tz.localize(datetime.strptime(\"2021-07-08 17.48.05.00\" , \"%Y-%m-%d %H.%M.%S.%f\")).timestamp()*1000\n",
    "print (sysStartTime)\n",
    "checkpointNum = ['A-1.1', 'A-1.2', 'A-2.1', 'A-2.2', 'A-3.1', 'A-3.2', 'A-4.1', 'A-4.2', 'A-5.1', 'A-5.2']\n",
    "areaChkpts = ['A1', 'A2', 'A3', 'A4', 'A5']\n",
    "checkpointTimes = {\\\n",
    "                    'A-1.1': datetime(2021, 7, 8, 17, 41, 37),\\\n",
    "                    'A-1.2': datetime(2021, 7, 8, 17, 42, 5),\\\n",
    "                    'A-2.1': datetime(2021, 7, 8, 17, 42, 37),\\\n",
    "                    'A-2.2': datetime(2021, 7, 8, 17, 43, 8),\\\n",
    "                    'A-3.1': datetime(2021, 7, 8, 17, 43, 46),\\\n",
    "                    'A-3.2': datetime(2021, 7, 8, 17, 44, 14),\\\n",
    "                    'A-4.1': datetime(2021, 7, 8, 17, 44, 43),\\\n",
    "                    'A-4.2': datetime(2021, 7, 8, 17, 45, 10),\\\n",
    "                    'A-5.1': datetime(2021, 7, 8, 17, 45, 38),\\\n",
    "                    'A-5.2': datetime(2021, 7, 8, 17, 46, 8),\\\n",
    "                    }"
   ]
  },
  {
   "cell_type": "code",
   "execution_count": 568,
   "metadata": {},
   "outputs": [],
   "source": [
    " ### Declare methods ###\n",
    "def prepareDataByDev(devlist, startDate, endDate, devTime, dev, devX, devY):\n",
    "    # This function stores the localisation data in pandas Dataframe type, resample it at every second and return it. \n",
    "    # This method can be used interchangeably for different devices (beacon, heartrate, motion sensor, etc.)\n",
    "    for data in devlist:\n",
    "        data[2] = float(data[2])\n",
    "        data[3] = float(data[3])\n",
    "        data[1] = (datetime.fromtimestamp(int(float(data[1])/1000)) + timedelta(hours=8))\n",
    "        if (data[1] >= startDate) and (data[1] <= endDate):\n",
    "            devTime.append(data[1])\n",
    "            dev.append(data[0])\n",
    "            devX.append(data[2])\n",
    "            devY.append(data[3])\n",
    "    devData = pd.DataFrame({'timestamp': devTime, 'Device': dev, 'Beacon Longtitude': devX, 'Beacon Latitude': devY})\n",
    "    devData.set_index('timestamp', inplace=True)\n",
    "    devData.index = pd.to_datetime(devData.index)\n",
    "    devData = devData.groupby('Device').resample('S')['Beacon Longtitude', 'Beacon Latitude'].mean().ffill()\n",
    "    return devData\n",
    "\n",
    "def prepareData(datalist):\n",
    "    # This function prepares the data and returns it in pandas dataFrame type, as well as returning the device(s) ID.\n",
    "    devTime, dev, devX, devY = [], [], [], []\n",
    "    initialDate = datetime.fromtimestamp(int(float(sysStartTime)/1000)) + timedelta(hours=8)\n",
    "    finalDate = datetime.fromtimestamp(int(float(sysEndTime)/1000)) + timedelta(hours=8)\n",
    "    devData = prepareDataByDev(datalist, initialDate, finalDate, devTime, dev, devX, devY)\n",
    "    findDevicelist = devData.index.values.tolist()\n",
    "    for findDev in findDevicelist:\n",
    "        if findDev[0] not in devicelist:\n",
    "            devicelist.append(findDev[0])\n",
    "    return devData, devicelist\n",
    "\n",
    "def prepareFilteredData(rawData):\n",
    "    # This function stores the raw RSSI data into an array\n",
    "    dev, devTime, devRSSI = [],[],[]\n",
    "    rawData = sorted(rawData, key=operator.itemgetter(2), reverse=False)\n",
    "    for data in rawData:\n",
    "        if int(data[2]) >= int(sysStartTime) and int(data[2]) <= int(sysEndTime):\n",
    "            devTime.append(data[2])\n",
    "            dev.append(data[1])\n",
    "            devRSSI.append(float(data[3]))\n",
    "    devData = pd.DataFrame({'timestamp': devTime, 'Anchor': dev, 'RSSI': devRSSI})\n",
    "    devData = devData.groupby('Anchor').agg(list)\n",
    "    return devData\n",
    "\n",
    "def filterRSSI(rssiDict, alpha):\n",
    "    # This functions filters the raw RSSI data using filter with\n",
    "    # a particular alpha gain\n",
    "    filteredData={}\n",
    "    rssilist = rssiDict.RSSI\n",
    "    timestamplist = rssiDict.timestamp\n",
    "    mu = int(rssilist[0])\n",
    "    time = int(timestamplist[0])\n",
    "    sigma=1000\n",
    "    period=100\n",
    "    lastUpdate=time\n",
    "    muList=[]\n",
    "    sigmaList=[]\n",
    "    alp = alpha\n",
    "    j=0\n",
    "    while j< len(rssilist):\n",
    "        diff= int(rssilist[j]) - mu\n",
    "        incr = alp * diff \n",
    "        mu += incr\n",
    "        sigma = (1-alp) * (sigma+diff *incr)\n",
    "\n",
    "        diff = int(timestamplist[j]) - lastUpdate - period\n",
    "        incr = 0.01*diff\n",
    "\n",
    "        period += incr\n",
    "        lastUpdate = int(timestamplist[j])\n",
    "\n",
    "        if period >100:\n",
    "            alp=alpha\n",
    "        else:\n",
    "            alp = period*0.0001667 + 0.0333\n",
    "\n",
    "        muList.append(mu)\n",
    "        sigmaList.append(sigma)\n",
    "        j+=1\n",
    "\n",
    "    try:\n",
    "        filteredData['rssi'].update(muList)\n",
    "    except KeyError:\n",
    "        filteredData = {'rssi': muList}\n",
    "\n",
    "    return filteredData\n",
    "\n",
    "def convertDevice(receiverId):\n",
    "    return cache_anchors[receiverId]['device']['id']\n",
    "\n",
    "def shiftTimeAxis(timestampList):\n",
    "    newTimeList=[]\n",
    "    i=0\n",
    "    while i< len(timestampList):\n",
    "        newTimeList.append((int(timestampList[i])-sysStartTime)/1000)\n",
    "        i+=1\n",
    "\n",
    "    return newTimeList\n",
    "\n",
    "def read_file(fileName):\n",
    "    # This function reads the location file and returns the datalist\n",
    "    global finallist\n",
    "    with open(fileName, 'r') as f:\n",
    "        next(f)\n",
    "        reader = csv.reader(f)\n",
    "        devlist = list(reader)\n",
    "    return devlist\n",
    "\n",
    "def updateChkpt_timings(_checkpoints, checkpointNum, checkpointTimes):\n",
    "    # This function updates the _checkpoints dictionary with the start and end time of each checkpoints and return it\n",
    "    for checkpointID in checkpointNum:\n",
    "        _checkpoints[checkpointID].update({'start': checkpointTimes[checkpointID], 'end': checkpointTimes[checkpointID] + timedelta(seconds=20)})\n",
    "    return _checkpoints\n",
    "\n",
    "def categoriseData(_beacon, _checkpoints):\n",
    "    # This function breaks down the location dataFrame into their corresponding checkpoints,\n",
    "    # catching those location that falls in the checkpoints timings\n",
    "    temp = {}\n",
    "    timestampList = _beacon.loc['b2',:].index.tolist();\n",
    "    beaconX = _beacon.loc['b2', 'Beacon Longtitude'].tolist();\n",
    "    beaconY = _beacon.loc['b2', 'Beacon Latitude'].tolist();\n",
    "    for k,v in _checkpoints.items():\n",
    "        for index, beaconTime in enumerate(timestampList):\n",
    "            if (beaconTime >= v['start'] and beaconTime <= v['end']):\n",
    "                try:\n",
    "                    temp[k].append([{'lng': beaconX[index], 'lat': beaconY[index], 'timestamp': tz.localize(beaconTime).timestamp()*1000}])\n",
    "                except KeyError:\n",
    "                    temp[k] = [[{'lng': beaconX[index], 'lat': beaconY[index], 'timestamp': tz.localize(beaconTime).timestamp()*1000}]]\n",
    "    return temp\n",
    "\n",
    "def calculateBeaconErr(_beacon, _checkpoints, mapScale):\n",
    "    # This function calculates the mean error distance, standard deviation and standard error for each checkpoint and return them in a dictionary\n",
    "    beaconMeanVariance = {}\n",
    "    errorDist = []\n",
    "    checkptlist = []\n",
    "    timestamplist = []\n",
    "    errorDict = {}\n",
    "    temp = []\n",
    "    errorDict = {key : {'error': [], 'checkpt': [], 'timestamp': []} for key in _beacon.keys()}\n",
    "    for k,v in _beacon.items():\n",
    "        errorDist = [abs(math.sqrt((_checkpoints[k]['lng']-loc[0]['lng'])**2 + (_checkpoints[k]['lat']-loc[0]['lat'])**2))*mapScale for loc in v]\n",
    "        checkptlist = [k for loc in v]\n",
    "        timestamplist = [(loc[0]['timestamp'] - sysStartTime)/1000 for loc in v]\n",
    "        errorDict[k]['error'] += errorDist\n",
    "        errorDict[k]['checkpt'] += checkptlist\n",
    "        errorDict[k]['timestamp'] += timestamplist\n",
    "        errorDist = []\n",
    "        checkptlist = []\n",
    "        timestamplist = []\n",
    "    df = pd.DataFrame.from_dict(errorDict)\n",
    "    return df\n",
    "\n",
    "def sortResults(_result):\n",
    "    # This function sort the results in the proper order as defined in areaChkpts and return it\n",
    "    temp = {}\n",
    "    for num in checkpointNum:\n",
    "        try:\n",
    "            temp[num].update(_result[num])\n",
    "        except KeyError:\n",
    "            temp[num] = _result[num]\n",
    "    _result = temp\n",
    "    return _result"
   ]
  },
  {
   "cell_type": "code",
   "execution_count": 569,
   "metadata": {},
   "outputs": [],
   "source": [
    "### continue - declare Methods ###\n",
    "def findMinimum_Maximum(_list):\n",
    "    # This function is used for the map configuration to determine the minimum and maximum lat and lng points for a given map coordinates.\n",
    "    minimum = float(\"{0:.3f}\".format(float(_list[0])))\n",
    "    maximum = float(\"{0:.3f}\".format(float(_list[0])))\n",
    "    for a in range(1, len(_list)):\n",
    "        temp = float(\"{0:.3f}\".format(float(_list[a])))\n",
    "        if temp<minimum:\n",
    "            minimum = temp\n",
    "        elif temp>maximum:  \n",
    "            maximum = temp\n",
    "    return minimum, maximum\n",
    "\n",
    "\n",
    "def getMap(mapName):\n",
    "    # This function returns all the necessary points for plotting the map\n",
    "    coord_lng_list = []\n",
    "    coord_lat_list = []\n",
    "    coord_total_list = []\n",
    "    map_coordinates = getCoordinates(mapName)\n",
    "    for coor in map_coordinates:\n",
    "        coord_lng_list.append(coor[0])\n",
    "        coord_lat_list.append(coor[1])\n",
    "    coord_total_list = coord_lng_list + coord_lat_list\n",
    "    min_pt, max_pt = findMinimum_Maximum(coord_total_list)\n",
    "    min_x, max_x = findMinimum_Maximum(coord_lng_list)\n",
    "    min_y, max_y = findMinimum_Maximum(coord_lat_list)\n",
    "    return min_pt, max_pt, min_x, max_x, min_y, max_y\n",
    "\n",
    "def showMap(result):\n",
    "    image = go.Figure()\n",
    "    meanValues = []\n",
    "    imageURL = getImage('actlab')\n",
    "    img_width = 1600\n",
    "    img_height = 900\n",
    "    meanValues = [mean(result[k]['error']) for k in result.keys()]\n",
    "    image.add_layout_image(\n",
    "            x=0,\n",
    "            sizex=img_width,\n",
    "            y=0,\n",
    "            sizey=img_height,\n",
    "            xref=\"x\",\n",
    "            yref=\"y\",\n",
    "            opacity=1.0,\n",
    "            layer=\"below\",\n",
    "            source=imageURL\n",
    "    )\n",
    "\n",
    "    # Line shape added programatically\n",
    "    image.add_shape(type='rect', xref='x', yref='y', x0=100, x1=250, y0=150, y1=300, line_color='darkblue')\n",
    "    image.add_annotation(x=180, y=220, text=\"A1.1\", showarrow=False, font=dict(size=14,color=\"black\"))\n",
    "    image.add_shape(type='rect', xref='x', yref='y', x0=100, x1=250, y0=300, y1=440, line_color='darkblue')\n",
    "    image.add_annotation(x=180, y=360, text=\"A1.2\", showarrow=False, font=dict(size=14,color=\"black\"))\n",
    "    image.add_shape(type='rect', xref='x', yref='y', x0=50, x1=190, y0=440, y1=500, line_color='red')\n",
    "    image.add_annotation(x=120, y=470, text=\"A2.1\", showarrow=False, font=dict(size=14,color=\"black\"))\n",
    "    image.add_shape(type='rect', xref='x', yref='y', x0=190, x1=330, y0=440, y1=500, line_color='red')\n",
    "    image.add_annotation(x=260, y=470, text=\"A2.2\", showarrow=False, font=dict(size=14,color=\"black\"))\n",
    "    image.add_shape(type='rect', xref='x', yref='y', x0=330, x1=430, y0=150, y1=300, line_color='brown')\n",
    "    image.add_annotation(x=380, y=220, text=\"A3.1\", showarrow=False, font=dict(size=14, color=\"black\"))\n",
    "    image.add_shape(type='rect', xref='x', yref='y', x0=330, x1=430, y0=300, y1=440, line_color='brown')\n",
    "    image.add_annotation(x=380, y=360, text=\"A3.2\", showarrow=False, font=dict(size=14, color=\"black\"))\n",
    "    image.add_shape(type='rect', xref='x', yref='y', x0=330, x1=440, y0=440, y1=500, line_color='green')\n",
    "    image.add_annotation(x=380, y=470, text=\"A4.1\", showarrow=False, font=dict(size=14, color=\"black\"))\n",
    "    image.add_shape(type='rect', xref='x', yref='y', x0=440, x1=550, y0=440, y1=500, line_color='green')\n",
    "    image.add_annotation(x=490, y=470, text=\"A4.2\", showarrow=False, font=dict(size=14, color=\"black\"))\n",
    "    image.add_shape(type='rect', xref='x', yref='y', x0=420, x1=550, y0=500, y1=650, line_color='violet')\n",
    "    image.add_annotation(x=490, y=570, text=\"A5.1\", showarrow=False, font=dict(size=14, color=\"black\"))\n",
    "    image.add_shape(type='rect', xref='x', yref='y', x0=420, x1=550, y0=650, y1=800, line_color='violet')\n",
    "    image.add_annotation(x=490, y=720, text=\"A5.2\", showarrow=False, font=dict(size=14, color=\"black\"))\n",
    "    \n",
    "    image.update_layout(dragmode='drawrect', newshape=dict(line_color='cyan'), title_text='Actlab Map Image with Mean Error (w/o calibration)', \n",
    "        xaxis_visible = False, yaxis_visible = False)\n",
    "    image.update_xaxes(showgrid=False, range=(0, img_width))\n",
    "    image.update_yaxes(showgrid=False, scaleanchor='x', range=(img_height, 0))\n",
    "    image.add_trace(go.Scatter(\n",
    "        x=[180, 180, 120, 260, 380, 380, 380, 490, 490, 490], y=[220, 360, 470, 470, 220, 360, 470, 470, 570, 720], mode='markers', customdata=[err for err in meanValues],\n",
    "        text=[area for area in areaChkpts], marker=dict(color=[err for err in meanValues], colorscale=\"YlOrRd\",\n",
    "            showscale=True, size=[35 for err in meanValues], cmin=1, cmax=3, \n",
    "            colorbar=dict(title=\"Mean Error\", tickvals=[1, 2, 3])),\n",
    "            hovertemplate=\n",
    "                \"Mean Error: %{customdata:.1f}<br>\" +\n",
    "                \"<extra></extra>\"\n",
    "            ))\n",
    "    return image\n",
    "\n",
    "def createFigure(legend_name):\n",
    "    fig = go.Figure()\n",
    "    fig.update_layout(legend=dict(orientation=\"v\", xanchor=\"left\"), barmode='group')\n",
    "    fig.update_layout(legend_title_text=legend_name)\n",
    "    fig.update_layout(title=\"Violin Plot of Error Distances\")\n",
    "    fig.update_xaxes(title_text=\"Checkpoints\")\n",
    "    fig.update_yaxes(range=[-1.5,7.5])\n",
    "    return fig\n",
    "\n",
    "def createFigureForDistances(legend_name):\n",
    "    fig = go.Figure()\n",
    "    fig.update_layout(legend_title_text=legend_name)\n",
    "    fig.update_layout(title=\"Error Distances Over Time\")\n",
    "    fig.update_xaxes(title_text=\"Time\")\n",
    "    fig.update_layout(\n",
    "    xaxis = dict(\n",
    "        tickmode = 'linear',\n",
    "        tick0 = 0,\n",
    "        dtick = 20\n",
    "    )\n",
    ")\n",
    "    return fig\n",
    "\n",
    "def createFigureForFilteredData():\n",
    "    fig = make_subplots(rows=1, cols=3, column_widths=[0.5, 0.5, 0.5], \n",
    "        subplot_titles=(\"Normal Filtering (alpha=0.2)\", \"Decreased Filtering (alpha=0.6)\", \n",
    "                        \"Increased Filtering (alpha=0.05)\"), shared_yaxes=True, shared_xaxes=True)\n",
    "    fig.update_xaxes(title_text=\"Time from Experiment Start Time (secs)\", row=1, col=2)\n",
    "    fig.update_yaxes(title_text=\"RSSI (dbM)\", row=1, col=1)\n",
    "    fig.update_layout(legend=dict(orientation=\"v\", xanchor=\"left\"), barmode='group')\n",
    "    fig.update_layout(hovermode=\"x unified\")\n",
    "    fig.update_xaxes(showspikes=True, spikecolor=\"purple\", spikesnap=\"cursor\", spikemode=\"across\", spikethickness=2)\n",
    "    fig.update_yaxes(showspikes=True, spikecolor=\"orange\", spikethickness=2)\n",
    "    return fig"
   ]
  },
  {
   "cell_type": "code",
   "execution_count": 570,
   "metadata": {},
   "outputs": [],
   "source": [
    "def plotValues(fig, result, fileName, mode):\n",
    "    name = 'Mean Error'\n",
    "    stdName='Standard Deviation'\n",
    "    for area in checkpointNum:\n",
    "        fig.add_trace(go.Violin(\n",
    "            name=area,\n",
    "            x=result[area]['checkpt'], y=result[area]['error'],\n",
    "            meanline_visible=True,\n",
    "            box_visible=True\n",
    "        ))\n",
    "    fig.update_traces(meanline_visible=True,\n",
    "                  points='all', # show all points\n",
    "                  jitter=0.05,  # add some jitter on points for better visibility\n",
    "                  scalemode='count') #scale violin plot area with total count\n",
    "    return fig\n",
    "\n",
    "def plotValuesForDistance(fig, result):\n",
    "    for area in checkpointNum:\n",
    "        fig.add_trace(go.Scatter(\n",
    "            name=area, x=result[area]['timestamp'], y=result[area]['error'], mode='lines+markers'))\n",
    "    return fig\n",
    "\n",
    "def plotValuesForFilteredData(fig, result, anchorName):\n",
    "    timeAxis=shiftTimeAxis(result.loc[anchorName].timestamp)\n",
    "    fig.add_trace(go.Scatter(\n",
    "        name=\"Raw RSSI\", x=timeAxis, y=result.loc[anchorName].RSSI, mode='lines', opacity=.5), row=1, col=1)\n",
    "    fig.add_trace(go.Scatter(\n",
    "        name=\"Raw RSSI\", x=timeAxis, y=result.loc[anchorName].RSSI, mode='lines', opacity=.5), row=1, col=2)\n",
    "    fig.add_trace(go.Scatter(\n",
    "        name=\"Raw RSSI\", x=timeAxis, y=result.loc[anchorName].RSSI, mode='lines', opacity=.5), row=1, col=3)\n",
    "    rssi_filtered = filterRSSI(result.loc[anchorName], 0.2)\n",
    "    fig.add_trace(go.Scatter(name=\"Filtered RSSI\", x=timeAxis, y=rssi_filtered['rssi'], mode='lines', line_color=\"black\"), row=1, col=1)\n",
    "    rssi_filtered = filterRSSI(result.loc[anchorName], 0.6)\n",
    "    fig.add_trace(go.Scatter(name=\"Filtered RSSI\", x=timeAxis, y=rssi_filtered['rssi'], mode='lines', line_color=\"black\"), row=1, col=2)\n",
    "    rssi_filtered = filterRSSI(result.loc[anchorName], 0.05)\n",
    "    fig.add_trace(go.Scatter(name=\"Filtered RSSI\", x=timeAxis, y=rssi_filtered['rssi'], mode='lines', line_color=\"black\"), row=1, col=3)\n",
    "    return fig"
   ]
  },
  {
   "cell_type": "code",
   "execution_count": 571,
   "metadata": {},
   "outputs": [],
   "source": [
    "### Run Filter Program ###\n",
    "def filter_visualise(fileName):\n",
    "    devlist = read_file(fileName)\n",
    "    RSSI_raw = prepareFilteredData(devlist)\n",
    "    return RSSI_raw"
   ]
  },
  {
   "cell_type": "code",
   "execution_count": 572,
   "metadata": {},
   "outputs": [],
   "source": [
    "### Main program ###\n",
    "def main(fileName):\n",
    "    # Steps to run this whole program is: \n",
    "    # Getting list of checkpoints and map scale from server\n",
    "    # Update the checkpoint list with its timings\n",
    "    # Export data into a list from the location file\n",
    "    # Getting map configuration\n",
    "    # Categorise Data into their respective checkpoints\n",
    "    # Calculate their error distance, standard deviation and standard error\n",
    "    # Sort the results\n",
    "    checkpointslist = actlab_POI()\n",
    "    mapScale = getScale('actlab')\n",
    "    checkpointslist = updateChkpt_timings(checkpointslist, checkpointNum, checkpointTimes)\n",
    "    devlist = read_file(fileName)\n",
    "    finallist, devicelist = prepareData(devlist)\n",
    "    dataInCategory = categoriseData(finallist, checkpointslist)\n",
    "    result = calculateBeaconErr(dataInCategory, checkpointslist, mapScale)\n",
    "    result = sortResults(result)\n",
    "    return result, checkpointslist, fileName"
   ]
  },
  {
   "cell_type": "code",
   "execution_count": 573,
   "metadata": {},
   "outputs": [
    {
     "data": {
      "application/vnd.plotly.v1+json": {
       "config": {
        "modeBarButtonsToAdd": [
         "drawline",
         "drawopenpath",
         "drawclosedpath",
         "drawcircle",
         "drawrect",
         "eraseshape"
        ],
        "plotlyServerURL": "https://plot.ly"
       },
       "data": [
        {
         "customdata": [
          2.828470484753498,
          1.3177296087654156,
          2.889734362913946,
          0.5882130897104415,
          2.375912839833546,
          1.6431765957370963,
          2.821388125904852,
          2.744692304517629,
          1.488908542450208,
          3.790833938271887
         ],
         "hovertemplate": "Mean Error: %{customdata:.1f}<br><extra></extra>",
         "marker": {
          "cmax": 3,
          "cmin": 1,
          "color": [
           2.828470484753498,
           1.3177296087654156,
           2.889734362913946,
           0.5882130897104415,
           2.375912839833546,
           1.6431765957370963,
           2.821388125904852,
           2.744692304517629,
           1.488908542450208,
           3.790833938271887
          ],
          "colorbar": {
           "tickvals": [
            1,
            2,
            3
           ],
           "title": {
            "text": "Mean Error"
           }
          },
          "colorscale": [
           [
            0,
            "rgb(255,255,204)"
           ],
           [
            0.125,
            "rgb(255,237,160)"
           ],
           [
            0.25,
            "rgb(254,217,118)"
           ],
           [
            0.375,
            "rgb(254,178,76)"
           ],
           [
            0.5,
            "rgb(253,141,60)"
           ],
           [
            0.625,
            "rgb(252,78,42)"
           ],
           [
            0.75,
            "rgb(227,26,28)"
           ],
           [
            0.875,
            "rgb(189,0,38)"
           ],
           [
            1,
            "rgb(128,0,38)"
           ]
          ],
          "showscale": true,
          "size": [
           35,
           35,
           35,
           35,
           35,
           35,
           35,
           35,
           35,
           35
          ]
         },
         "mode": "markers",
         "text": [
          "A1",
          "A2",
          "A3",
          "A4",
          "A5"
         ],
         "type": "scatter",
         "x": [
          180,
          180,
          120,
          260,
          380,
          380,
          380,
          490,
          490,
          490
         ],
         "y": [
          220,
          360,
          470,
          470,
          220,
          360,
          470,
          470,
          570,
          720
         ]
        }
       ],
       "layout": {
        "annotations": [
         {
          "font": {
           "color": "black",
           "size": 14
          },
          "showarrow": false,
          "text": "A1.1",
          "x": 180,
          "y": 220
         },
         {
          "font": {
           "color": "black",
           "size": 14
          },
          "showarrow": false,
          "text": "A1.2",
          "x": 180,
          "y": 360
         },
         {
          "font": {
           "color": "black",
           "size": 14
          },
          "showarrow": false,
          "text": "A2.1",
          "x": 120,
          "y": 470
         },
         {
          "font": {
           "color": "black",
           "size": 14
          },
          "showarrow": false,
          "text": "A2.2",
          "x": 260,
          "y": 470
         },
         {
          "font": {
           "color": "black",
           "size": 14
          },
          "showarrow": false,
          "text": "A3.1",
          "x": 380,
          "y": 220
         },
         {
          "font": {
           "color": "black",
           "size": 14
          },
          "showarrow": false,
          "text": "A3.2",
          "x": 380,
          "y": 360
         },
         {
          "font": {
           "color": "black",
           "size": 14
          },
          "showarrow": false,
          "text": "A4.1",
          "x": 380,
          "y": 470
         },
         {
          "font": {
           "color": "black",
           "size": 14
          },
          "showarrow": false,
          "text": "A4.2",
          "x": 490,
          "y": 470
         },
         {
          "font": {
           "color": "black",
           "size": 14
          },
          "showarrow": false,
          "text": "A5.1",
          "x": 490,
          "y": 570
         },
         {
          "font": {
           "color": "black",
           "size": 14
          },
          "showarrow": false,
          "text": "A5.2",
          "x": 490,
          "y": 720
         }
        ],
        "dragmode": "drawrect",
        "images": [
         {
          "layer": "below",
          "opacity": 1,
          "sizex": 1600,
          "sizey": 900,
          "source": "http://52.77.184.100:3000/api/Maps/actlab/image",
          "x": 0,
          "xref": "x",
          "y": 0,
          "yref": "y"
         }
        ],
        "newshape": {
         "line": {
          "color": "cyan"
         }
        },
        "shapes": [
         {
          "line": {
           "color": "darkblue"
          },
          "type": "rect",
          "x0": 100,
          "x1": 250,
          "xref": "x",
          "y0": 150,
          "y1": 300,
          "yref": "y"
         },
         {
          "line": {
           "color": "darkblue"
          },
          "type": "rect",
          "x0": 100,
          "x1": 250,
          "xref": "x",
          "y0": 300,
          "y1": 440,
          "yref": "y"
         },
         {
          "line": {
           "color": "red"
          },
          "type": "rect",
          "x0": 50,
          "x1": 190,
          "xref": "x",
          "y0": 440,
          "y1": 500,
          "yref": "y"
         },
         {
          "line": {
           "color": "red"
          },
          "type": "rect",
          "x0": 190,
          "x1": 330,
          "xref": "x",
          "y0": 440,
          "y1": 500,
          "yref": "y"
         },
         {
          "line": {
           "color": "brown"
          },
          "type": "rect",
          "x0": 330,
          "x1": 430,
          "xref": "x",
          "y0": 150,
          "y1": 300,
          "yref": "y"
         },
         {
          "line": {
           "color": "brown"
          },
          "type": "rect",
          "x0": 330,
          "x1": 430,
          "xref": "x",
          "y0": 300,
          "y1": 440,
          "yref": "y"
         },
         {
          "line": {
           "color": "green"
          },
          "type": "rect",
          "x0": 330,
          "x1": 440,
          "xref": "x",
          "y0": 440,
          "y1": 500,
          "yref": "y"
         },
         {
          "line": {
           "color": "green"
          },
          "type": "rect",
          "x0": 440,
          "x1": 550,
          "xref": "x",
          "y0": 440,
          "y1": 500,
          "yref": "y"
         },
         {
          "line": {
           "color": "violet"
          },
          "type": "rect",
          "x0": 420,
          "x1": 550,
          "xref": "x",
          "y0": 500,
          "y1": 650,
          "yref": "y"
         },
         {
          "line": {
           "color": "violet"
          },
          "type": "rect",
          "x0": 420,
          "x1": 550,
          "xref": "x",
          "y0": 650,
          "y1": 800,
          "yref": "y"
         }
        ],
        "template": {
         "data": {
          "bar": [
           {
            "error_x": {
             "color": "#2a3f5f"
            },
            "error_y": {
             "color": "#2a3f5f"
            },
            "marker": {
             "line": {
              "color": "#E5ECF6",
              "width": 0.5
             },
             "pattern": {
              "fillmode": "overlay",
              "size": 10,
              "solidity": 0.2
             }
            },
            "type": "bar"
           }
          ],
          "barpolar": [
           {
            "marker": {
             "line": {
              "color": "#E5ECF6",
              "width": 0.5
             },
             "pattern": {
              "fillmode": "overlay",
              "size": 10,
              "solidity": 0.2
             }
            },
            "type": "barpolar"
           }
          ],
          "carpet": [
           {
            "aaxis": {
             "endlinecolor": "#2a3f5f",
             "gridcolor": "white",
             "linecolor": "white",
             "minorgridcolor": "white",
             "startlinecolor": "#2a3f5f"
            },
            "baxis": {
             "endlinecolor": "#2a3f5f",
             "gridcolor": "white",
             "linecolor": "white",
             "minorgridcolor": "white",
             "startlinecolor": "#2a3f5f"
            },
            "type": "carpet"
           }
          ],
          "choropleth": [
           {
            "colorbar": {
             "outlinewidth": 0,
             "ticks": ""
            },
            "type": "choropleth"
           }
          ],
          "contour": [
           {
            "colorbar": {
             "outlinewidth": 0,
             "ticks": ""
            },
            "colorscale": [
             [
              0,
              "#0d0887"
             ],
             [
              0.1111111111111111,
              "#46039f"
             ],
             [
              0.2222222222222222,
              "#7201a8"
             ],
             [
              0.3333333333333333,
              "#9c179e"
             ],
             [
              0.4444444444444444,
              "#bd3786"
             ],
             [
              0.5555555555555556,
              "#d8576b"
             ],
             [
              0.6666666666666666,
              "#ed7953"
             ],
             [
              0.7777777777777778,
              "#fb9f3a"
             ],
             [
              0.8888888888888888,
              "#fdca26"
             ],
             [
              1,
              "#f0f921"
             ]
            ],
            "type": "contour"
           }
          ],
          "contourcarpet": [
           {
            "colorbar": {
             "outlinewidth": 0,
             "ticks": ""
            },
            "type": "contourcarpet"
           }
          ],
          "heatmap": [
           {
            "colorbar": {
             "outlinewidth": 0,
             "ticks": ""
            },
            "colorscale": [
             [
              0,
              "#0d0887"
             ],
             [
              0.1111111111111111,
              "#46039f"
             ],
             [
              0.2222222222222222,
              "#7201a8"
             ],
             [
              0.3333333333333333,
              "#9c179e"
             ],
             [
              0.4444444444444444,
              "#bd3786"
             ],
             [
              0.5555555555555556,
              "#d8576b"
             ],
             [
              0.6666666666666666,
              "#ed7953"
             ],
             [
              0.7777777777777778,
              "#fb9f3a"
             ],
             [
              0.8888888888888888,
              "#fdca26"
             ],
             [
              1,
              "#f0f921"
             ]
            ],
            "type": "heatmap"
           }
          ],
          "heatmapgl": [
           {
            "colorbar": {
             "outlinewidth": 0,
             "ticks": ""
            },
            "colorscale": [
             [
              0,
              "#0d0887"
             ],
             [
              0.1111111111111111,
              "#46039f"
             ],
             [
              0.2222222222222222,
              "#7201a8"
             ],
             [
              0.3333333333333333,
              "#9c179e"
             ],
             [
              0.4444444444444444,
              "#bd3786"
             ],
             [
              0.5555555555555556,
              "#d8576b"
             ],
             [
              0.6666666666666666,
              "#ed7953"
             ],
             [
              0.7777777777777778,
              "#fb9f3a"
             ],
             [
              0.8888888888888888,
              "#fdca26"
             ],
             [
              1,
              "#f0f921"
             ]
            ],
            "type": "heatmapgl"
           }
          ],
          "histogram": [
           {
            "marker": {
             "pattern": {
              "fillmode": "overlay",
              "size": 10,
              "solidity": 0.2
             }
            },
            "type": "histogram"
           }
          ],
          "histogram2d": [
           {
            "colorbar": {
             "outlinewidth": 0,
             "ticks": ""
            },
            "colorscale": [
             [
              0,
              "#0d0887"
             ],
             [
              0.1111111111111111,
              "#46039f"
             ],
             [
              0.2222222222222222,
              "#7201a8"
             ],
             [
              0.3333333333333333,
              "#9c179e"
             ],
             [
              0.4444444444444444,
              "#bd3786"
             ],
             [
              0.5555555555555556,
              "#d8576b"
             ],
             [
              0.6666666666666666,
              "#ed7953"
             ],
             [
              0.7777777777777778,
              "#fb9f3a"
             ],
             [
              0.8888888888888888,
              "#fdca26"
             ],
             [
              1,
              "#f0f921"
             ]
            ],
            "type": "histogram2d"
           }
          ],
          "histogram2dcontour": [
           {
            "colorbar": {
             "outlinewidth": 0,
             "ticks": ""
            },
            "colorscale": [
             [
              0,
              "#0d0887"
             ],
             [
              0.1111111111111111,
              "#46039f"
             ],
             [
              0.2222222222222222,
              "#7201a8"
             ],
             [
              0.3333333333333333,
              "#9c179e"
             ],
             [
              0.4444444444444444,
              "#bd3786"
             ],
             [
              0.5555555555555556,
              "#d8576b"
             ],
             [
              0.6666666666666666,
              "#ed7953"
             ],
             [
              0.7777777777777778,
              "#fb9f3a"
             ],
             [
              0.8888888888888888,
              "#fdca26"
             ],
             [
              1,
              "#f0f921"
             ]
            ],
            "type": "histogram2dcontour"
           }
          ],
          "mesh3d": [
           {
            "colorbar": {
             "outlinewidth": 0,
             "ticks": ""
            },
            "type": "mesh3d"
           }
          ],
          "parcoords": [
           {
            "line": {
             "colorbar": {
              "outlinewidth": 0,
              "ticks": ""
             }
            },
            "type": "parcoords"
           }
          ],
          "pie": [
           {
            "automargin": true,
            "type": "pie"
           }
          ],
          "scatter": [
           {
            "marker": {
             "colorbar": {
              "outlinewidth": 0,
              "ticks": ""
             }
            },
            "type": "scatter"
           }
          ],
          "scatter3d": [
           {
            "line": {
             "colorbar": {
              "outlinewidth": 0,
              "ticks": ""
             }
            },
            "marker": {
             "colorbar": {
              "outlinewidth": 0,
              "ticks": ""
             }
            },
            "type": "scatter3d"
           }
          ],
          "scattercarpet": [
           {
            "marker": {
             "colorbar": {
              "outlinewidth": 0,
              "ticks": ""
             }
            },
            "type": "scattercarpet"
           }
          ],
          "scattergeo": [
           {
            "marker": {
             "colorbar": {
              "outlinewidth": 0,
              "ticks": ""
             }
            },
            "type": "scattergeo"
           }
          ],
          "scattergl": [
           {
            "marker": {
             "colorbar": {
              "outlinewidth": 0,
              "ticks": ""
             }
            },
            "type": "scattergl"
           }
          ],
          "scattermapbox": [
           {
            "marker": {
             "colorbar": {
              "outlinewidth": 0,
              "ticks": ""
             }
            },
            "type": "scattermapbox"
           }
          ],
          "scatterpolar": [
           {
            "marker": {
             "colorbar": {
              "outlinewidth": 0,
              "ticks": ""
             }
            },
            "type": "scatterpolar"
           }
          ],
          "scatterpolargl": [
           {
            "marker": {
             "colorbar": {
              "outlinewidth": 0,
              "ticks": ""
             }
            },
            "type": "scatterpolargl"
           }
          ],
          "scatterternary": [
           {
            "marker": {
             "colorbar": {
              "outlinewidth": 0,
              "ticks": ""
             }
            },
            "type": "scatterternary"
           }
          ],
          "surface": [
           {
            "colorbar": {
             "outlinewidth": 0,
             "ticks": ""
            },
            "colorscale": [
             [
              0,
              "#0d0887"
             ],
             [
              0.1111111111111111,
              "#46039f"
             ],
             [
              0.2222222222222222,
              "#7201a8"
             ],
             [
              0.3333333333333333,
              "#9c179e"
             ],
             [
              0.4444444444444444,
              "#bd3786"
             ],
             [
              0.5555555555555556,
              "#d8576b"
             ],
             [
              0.6666666666666666,
              "#ed7953"
             ],
             [
              0.7777777777777778,
              "#fb9f3a"
             ],
             [
              0.8888888888888888,
              "#fdca26"
             ],
             [
              1,
              "#f0f921"
             ]
            ],
            "type": "surface"
           }
          ],
          "table": [
           {
            "cells": {
             "fill": {
              "color": "#EBF0F8"
             },
             "line": {
              "color": "white"
             }
            },
            "header": {
             "fill": {
              "color": "#C8D4E3"
             },
             "line": {
              "color": "white"
             }
            },
            "type": "table"
           }
          ]
         },
         "layout": {
          "annotationdefaults": {
           "arrowcolor": "#2a3f5f",
           "arrowhead": 0,
           "arrowwidth": 1
          },
          "autotypenumbers": "strict",
          "coloraxis": {
           "colorbar": {
            "outlinewidth": 0,
            "ticks": ""
           }
          },
          "colorscale": {
           "diverging": [
            [
             0,
             "#8e0152"
            ],
            [
             0.1,
             "#c51b7d"
            ],
            [
             0.2,
             "#de77ae"
            ],
            [
             0.3,
             "#f1b6da"
            ],
            [
             0.4,
             "#fde0ef"
            ],
            [
             0.5,
             "#f7f7f7"
            ],
            [
             0.6,
             "#e6f5d0"
            ],
            [
             0.7,
             "#b8e186"
            ],
            [
             0.8,
             "#7fbc41"
            ],
            [
             0.9,
             "#4d9221"
            ],
            [
             1,
             "#276419"
            ]
           ],
           "sequential": [
            [
             0,
             "#0d0887"
            ],
            [
             0.1111111111111111,
             "#46039f"
            ],
            [
             0.2222222222222222,
             "#7201a8"
            ],
            [
             0.3333333333333333,
             "#9c179e"
            ],
            [
             0.4444444444444444,
             "#bd3786"
            ],
            [
             0.5555555555555556,
             "#d8576b"
            ],
            [
             0.6666666666666666,
             "#ed7953"
            ],
            [
             0.7777777777777778,
             "#fb9f3a"
            ],
            [
             0.8888888888888888,
             "#fdca26"
            ],
            [
             1,
             "#f0f921"
            ]
           ],
           "sequentialminus": [
            [
             0,
             "#0d0887"
            ],
            [
             0.1111111111111111,
             "#46039f"
            ],
            [
             0.2222222222222222,
             "#7201a8"
            ],
            [
             0.3333333333333333,
             "#9c179e"
            ],
            [
             0.4444444444444444,
             "#bd3786"
            ],
            [
             0.5555555555555556,
             "#d8576b"
            ],
            [
             0.6666666666666666,
             "#ed7953"
            ],
            [
             0.7777777777777778,
             "#fb9f3a"
            ],
            [
             0.8888888888888888,
             "#fdca26"
            ],
            [
             1,
             "#f0f921"
            ]
           ]
          },
          "colorway": [
           "#636efa",
           "#EF553B",
           "#00cc96",
           "#ab63fa",
           "#FFA15A",
           "#19d3f3",
           "#FF6692",
           "#B6E880",
           "#FF97FF",
           "#FECB52"
          ],
          "font": {
           "color": "#2a3f5f"
          },
          "geo": {
           "bgcolor": "white",
           "lakecolor": "white",
           "landcolor": "#E5ECF6",
           "showlakes": true,
           "showland": true,
           "subunitcolor": "white"
          },
          "hoverlabel": {
           "align": "left"
          },
          "hovermode": "closest",
          "mapbox": {
           "style": "light"
          },
          "paper_bgcolor": "white",
          "plot_bgcolor": "#E5ECF6",
          "polar": {
           "angularaxis": {
            "gridcolor": "white",
            "linecolor": "white",
            "ticks": ""
           },
           "bgcolor": "#E5ECF6",
           "radialaxis": {
            "gridcolor": "white",
            "linecolor": "white",
            "ticks": ""
           }
          },
          "scene": {
           "xaxis": {
            "backgroundcolor": "#E5ECF6",
            "gridcolor": "white",
            "gridwidth": 2,
            "linecolor": "white",
            "showbackground": true,
            "ticks": "",
            "zerolinecolor": "white"
           },
           "yaxis": {
            "backgroundcolor": "#E5ECF6",
            "gridcolor": "white",
            "gridwidth": 2,
            "linecolor": "white",
            "showbackground": true,
            "ticks": "",
            "zerolinecolor": "white"
           },
           "zaxis": {
            "backgroundcolor": "#E5ECF6",
            "gridcolor": "white",
            "gridwidth": 2,
            "linecolor": "white",
            "showbackground": true,
            "ticks": "",
            "zerolinecolor": "white"
           }
          },
          "shapedefaults": {
           "line": {
            "color": "#2a3f5f"
           }
          },
          "ternary": {
           "aaxis": {
            "gridcolor": "white",
            "linecolor": "white",
            "ticks": ""
           },
           "baxis": {
            "gridcolor": "white",
            "linecolor": "white",
            "ticks": ""
           },
           "bgcolor": "#E5ECF6",
           "caxis": {
            "gridcolor": "white",
            "linecolor": "white",
            "ticks": ""
           }
          },
          "title": {
           "x": 0.05
          },
          "xaxis": {
           "automargin": true,
           "gridcolor": "white",
           "linecolor": "white",
           "ticks": "",
           "title": {
            "standoff": 15
           },
           "zerolinecolor": "white",
           "zerolinewidth": 2
          },
          "yaxis": {
           "automargin": true,
           "gridcolor": "white",
           "linecolor": "white",
           "ticks": "",
           "title": {
            "standoff": 15
           },
           "zerolinecolor": "white",
           "zerolinewidth": 2
          }
         }
        },
        "title": {
         "text": "Actlab Map Image with Mean Error (w/o calibration)"
        },
        "xaxis": {
         "range": [
          0,
          1600
         ],
         "showgrid": false,
         "visible": false
        },
        "yaxis": {
         "range": [
          900,
          0
         ],
         "scaleanchor": "x",
         "showgrid": false,
         "visible": false
        }
       }
      },
      "text/html": [
       "<div>                            <div id=\"b48ee7d9-bd9f-4c5e-a351-b2b650ccda91\" class=\"plotly-graph-div\" style=\"height:525px; width:100%;\"></div>            <script type=\"text/javascript\">                require([\"plotly\"], function(Plotly) {                    window.PLOTLYENV=window.PLOTLYENV || {};                                    if (document.getElementById(\"b48ee7d9-bd9f-4c5e-a351-b2b650ccda91\")) {                    Plotly.newPlot(                        \"b48ee7d9-bd9f-4c5e-a351-b2b650ccda91\",                        [{\"customdata\":[2.828470484753498,1.3177296087654156,2.889734362913946,0.5882130897104415,2.375912839833546,1.6431765957370963,2.821388125904852,2.744692304517629,1.488908542450208,3.790833938271887],\"hovertemplate\":\"Mean Error: %{customdata:.1f}<br><extra></extra>\",\"marker\":{\"cmax\":3,\"cmin\":1,\"color\":[2.828470484753498,1.3177296087654156,2.889734362913946,0.5882130897104415,2.375912839833546,1.6431765957370963,2.821388125904852,2.744692304517629,1.488908542450208,3.790833938271887],\"colorbar\":{\"tickvals\":[1,2,3],\"title\":{\"text\":\"Mean Error\"}},\"colorscale\":[[0.0,\"rgb(255,255,204)\"],[0.125,\"rgb(255,237,160)\"],[0.25,\"rgb(254,217,118)\"],[0.375,\"rgb(254,178,76)\"],[0.5,\"rgb(253,141,60)\"],[0.625,\"rgb(252,78,42)\"],[0.75,\"rgb(227,26,28)\"],[0.875,\"rgb(189,0,38)\"],[1.0,\"rgb(128,0,38)\"]],\"showscale\":true,\"size\":[35,35,35,35,35,35,35,35,35,35]},\"mode\":\"markers\",\"text\":[\"A1\",\"A2\",\"A3\",\"A4\",\"A5\"],\"type\":\"scatter\",\"x\":[180,180,120,260,380,380,380,490,490,490],\"y\":[220,360,470,470,220,360,470,470,570,720]}],                        {\"annotations\":[{\"font\":{\"color\":\"black\",\"size\":14},\"showarrow\":false,\"text\":\"A1.1\",\"x\":180,\"y\":220},{\"font\":{\"color\":\"black\",\"size\":14},\"showarrow\":false,\"text\":\"A1.2\",\"x\":180,\"y\":360},{\"font\":{\"color\":\"black\",\"size\":14},\"showarrow\":false,\"text\":\"A2.1\",\"x\":120,\"y\":470},{\"font\":{\"color\":\"black\",\"size\":14},\"showarrow\":false,\"text\":\"A2.2\",\"x\":260,\"y\":470},{\"font\":{\"color\":\"black\",\"size\":14},\"showarrow\":false,\"text\":\"A3.1\",\"x\":380,\"y\":220},{\"font\":{\"color\":\"black\",\"size\":14},\"showarrow\":false,\"text\":\"A3.2\",\"x\":380,\"y\":360},{\"font\":{\"color\":\"black\",\"size\":14},\"showarrow\":false,\"text\":\"A4.1\",\"x\":380,\"y\":470},{\"font\":{\"color\":\"black\",\"size\":14},\"showarrow\":false,\"text\":\"A4.2\",\"x\":490,\"y\":470},{\"font\":{\"color\":\"black\",\"size\":14},\"showarrow\":false,\"text\":\"A5.1\",\"x\":490,\"y\":570},{\"font\":{\"color\":\"black\",\"size\":14},\"showarrow\":false,\"text\":\"A5.2\",\"x\":490,\"y\":720}],\"dragmode\":\"drawrect\",\"images\":[{\"layer\":\"below\",\"opacity\":1.0,\"sizex\":1600,\"sizey\":900,\"source\":\"http://52.77.184.100:3000/api/Maps/actlab/image\",\"x\":0,\"xref\":\"x\",\"y\":0,\"yref\":\"y\"}],\"newshape\":{\"line\":{\"color\":\"cyan\"}},\"shapes\":[{\"line\":{\"color\":\"darkblue\"},\"type\":\"rect\",\"x0\":100,\"x1\":250,\"xref\":\"x\",\"y0\":150,\"y1\":300,\"yref\":\"y\"},{\"line\":{\"color\":\"darkblue\"},\"type\":\"rect\",\"x0\":100,\"x1\":250,\"xref\":\"x\",\"y0\":300,\"y1\":440,\"yref\":\"y\"},{\"line\":{\"color\":\"red\"},\"type\":\"rect\",\"x0\":50,\"x1\":190,\"xref\":\"x\",\"y0\":440,\"y1\":500,\"yref\":\"y\"},{\"line\":{\"color\":\"red\"},\"type\":\"rect\",\"x0\":190,\"x1\":330,\"xref\":\"x\",\"y0\":440,\"y1\":500,\"yref\":\"y\"},{\"line\":{\"color\":\"brown\"},\"type\":\"rect\",\"x0\":330,\"x1\":430,\"xref\":\"x\",\"y0\":150,\"y1\":300,\"yref\":\"y\"},{\"line\":{\"color\":\"brown\"},\"type\":\"rect\",\"x0\":330,\"x1\":430,\"xref\":\"x\",\"y0\":300,\"y1\":440,\"yref\":\"y\"},{\"line\":{\"color\":\"green\"},\"type\":\"rect\",\"x0\":330,\"x1\":440,\"xref\":\"x\",\"y0\":440,\"y1\":500,\"yref\":\"y\"},{\"line\":{\"color\":\"green\"},\"type\":\"rect\",\"x0\":440,\"x1\":550,\"xref\":\"x\",\"y0\":440,\"y1\":500,\"yref\":\"y\"},{\"line\":{\"color\":\"violet\"},\"type\":\"rect\",\"x0\":420,\"x1\":550,\"xref\":\"x\",\"y0\":500,\"y1\":650,\"yref\":\"y\"},{\"line\":{\"color\":\"violet\"},\"type\":\"rect\",\"x0\":420,\"x1\":550,\"xref\":\"x\",\"y0\":650,\"y1\":800,\"yref\":\"y\"}],\"template\":{\"data\":{\"bar\":[{\"error_x\":{\"color\":\"#2a3f5f\"},\"error_y\":{\"color\":\"#2a3f5f\"},\"marker\":{\"line\":{\"color\":\"#E5ECF6\",\"width\":0.5},\"pattern\":{\"fillmode\":\"overlay\",\"size\":10,\"solidity\":0.2}},\"type\":\"bar\"}],\"barpolar\":[{\"marker\":{\"line\":{\"color\":\"#E5ECF6\",\"width\":0.5},\"pattern\":{\"fillmode\":\"overlay\",\"size\":10,\"solidity\":0.2}},\"type\":\"barpolar\"}],\"carpet\":[{\"aaxis\":{\"endlinecolor\":\"#2a3f5f\",\"gridcolor\":\"white\",\"linecolor\":\"white\",\"minorgridcolor\":\"white\",\"startlinecolor\":\"#2a3f5f\"},\"baxis\":{\"endlinecolor\":\"#2a3f5f\",\"gridcolor\":\"white\",\"linecolor\":\"white\",\"minorgridcolor\":\"white\",\"startlinecolor\":\"#2a3f5f\"},\"type\":\"carpet\"}],\"choropleth\":[{\"colorbar\":{\"outlinewidth\":0,\"ticks\":\"\"},\"type\":\"choropleth\"}],\"contour\":[{\"colorbar\":{\"outlinewidth\":0,\"ticks\":\"\"},\"colorscale\":[[0.0,\"#0d0887\"],[0.1111111111111111,\"#46039f\"],[0.2222222222222222,\"#7201a8\"],[0.3333333333333333,\"#9c179e\"],[0.4444444444444444,\"#bd3786\"],[0.5555555555555556,\"#d8576b\"],[0.6666666666666666,\"#ed7953\"],[0.7777777777777778,\"#fb9f3a\"],[0.8888888888888888,\"#fdca26\"],[1.0,\"#f0f921\"]],\"type\":\"contour\"}],\"contourcarpet\":[{\"colorbar\":{\"outlinewidth\":0,\"ticks\":\"\"},\"type\":\"contourcarpet\"}],\"heatmap\":[{\"colorbar\":{\"outlinewidth\":0,\"ticks\":\"\"},\"colorscale\":[[0.0,\"#0d0887\"],[0.1111111111111111,\"#46039f\"],[0.2222222222222222,\"#7201a8\"],[0.3333333333333333,\"#9c179e\"],[0.4444444444444444,\"#bd3786\"],[0.5555555555555556,\"#d8576b\"],[0.6666666666666666,\"#ed7953\"],[0.7777777777777778,\"#fb9f3a\"],[0.8888888888888888,\"#fdca26\"],[1.0,\"#f0f921\"]],\"type\":\"heatmap\"}],\"heatmapgl\":[{\"colorbar\":{\"outlinewidth\":0,\"ticks\":\"\"},\"colorscale\":[[0.0,\"#0d0887\"],[0.1111111111111111,\"#46039f\"],[0.2222222222222222,\"#7201a8\"],[0.3333333333333333,\"#9c179e\"],[0.4444444444444444,\"#bd3786\"],[0.5555555555555556,\"#d8576b\"],[0.6666666666666666,\"#ed7953\"],[0.7777777777777778,\"#fb9f3a\"],[0.8888888888888888,\"#fdca26\"],[1.0,\"#f0f921\"]],\"type\":\"heatmapgl\"}],\"histogram\":[{\"marker\":{\"pattern\":{\"fillmode\":\"overlay\",\"size\":10,\"solidity\":0.2}},\"type\":\"histogram\"}],\"histogram2d\":[{\"colorbar\":{\"outlinewidth\":0,\"ticks\":\"\"},\"colorscale\":[[0.0,\"#0d0887\"],[0.1111111111111111,\"#46039f\"],[0.2222222222222222,\"#7201a8\"],[0.3333333333333333,\"#9c179e\"],[0.4444444444444444,\"#bd3786\"],[0.5555555555555556,\"#d8576b\"],[0.6666666666666666,\"#ed7953\"],[0.7777777777777778,\"#fb9f3a\"],[0.8888888888888888,\"#fdca26\"],[1.0,\"#f0f921\"]],\"type\":\"histogram2d\"}],\"histogram2dcontour\":[{\"colorbar\":{\"outlinewidth\":0,\"ticks\":\"\"},\"colorscale\":[[0.0,\"#0d0887\"],[0.1111111111111111,\"#46039f\"],[0.2222222222222222,\"#7201a8\"],[0.3333333333333333,\"#9c179e\"],[0.4444444444444444,\"#bd3786\"],[0.5555555555555556,\"#d8576b\"],[0.6666666666666666,\"#ed7953\"],[0.7777777777777778,\"#fb9f3a\"],[0.8888888888888888,\"#fdca26\"],[1.0,\"#f0f921\"]],\"type\":\"histogram2dcontour\"}],\"mesh3d\":[{\"colorbar\":{\"outlinewidth\":0,\"ticks\":\"\"},\"type\":\"mesh3d\"}],\"parcoords\":[{\"line\":{\"colorbar\":{\"outlinewidth\":0,\"ticks\":\"\"}},\"type\":\"parcoords\"}],\"pie\":[{\"automargin\":true,\"type\":\"pie\"}],\"scatter\":[{\"marker\":{\"colorbar\":{\"outlinewidth\":0,\"ticks\":\"\"}},\"type\":\"scatter\"}],\"scatter3d\":[{\"line\":{\"colorbar\":{\"outlinewidth\":0,\"ticks\":\"\"}},\"marker\":{\"colorbar\":{\"outlinewidth\":0,\"ticks\":\"\"}},\"type\":\"scatter3d\"}],\"scattercarpet\":[{\"marker\":{\"colorbar\":{\"outlinewidth\":0,\"ticks\":\"\"}},\"type\":\"scattercarpet\"}],\"scattergeo\":[{\"marker\":{\"colorbar\":{\"outlinewidth\":0,\"ticks\":\"\"}},\"type\":\"scattergeo\"}],\"scattergl\":[{\"marker\":{\"colorbar\":{\"outlinewidth\":0,\"ticks\":\"\"}},\"type\":\"scattergl\"}],\"scattermapbox\":[{\"marker\":{\"colorbar\":{\"outlinewidth\":0,\"ticks\":\"\"}},\"type\":\"scattermapbox\"}],\"scatterpolar\":[{\"marker\":{\"colorbar\":{\"outlinewidth\":0,\"ticks\":\"\"}},\"type\":\"scatterpolar\"}],\"scatterpolargl\":[{\"marker\":{\"colorbar\":{\"outlinewidth\":0,\"ticks\":\"\"}},\"type\":\"scatterpolargl\"}],\"scatterternary\":[{\"marker\":{\"colorbar\":{\"outlinewidth\":0,\"ticks\":\"\"}},\"type\":\"scatterternary\"}],\"surface\":[{\"colorbar\":{\"outlinewidth\":0,\"ticks\":\"\"},\"colorscale\":[[0.0,\"#0d0887\"],[0.1111111111111111,\"#46039f\"],[0.2222222222222222,\"#7201a8\"],[0.3333333333333333,\"#9c179e\"],[0.4444444444444444,\"#bd3786\"],[0.5555555555555556,\"#d8576b\"],[0.6666666666666666,\"#ed7953\"],[0.7777777777777778,\"#fb9f3a\"],[0.8888888888888888,\"#fdca26\"],[1.0,\"#f0f921\"]],\"type\":\"surface\"}],\"table\":[{\"cells\":{\"fill\":{\"color\":\"#EBF0F8\"},\"line\":{\"color\":\"white\"}},\"header\":{\"fill\":{\"color\":\"#C8D4E3\"},\"line\":{\"color\":\"white\"}},\"type\":\"table\"}]},\"layout\":{\"annotationdefaults\":{\"arrowcolor\":\"#2a3f5f\",\"arrowhead\":0,\"arrowwidth\":1},\"autotypenumbers\":\"strict\",\"coloraxis\":{\"colorbar\":{\"outlinewidth\":0,\"ticks\":\"\"}},\"colorscale\":{\"diverging\":[[0,\"#8e0152\"],[0.1,\"#c51b7d\"],[0.2,\"#de77ae\"],[0.3,\"#f1b6da\"],[0.4,\"#fde0ef\"],[0.5,\"#f7f7f7\"],[0.6,\"#e6f5d0\"],[0.7,\"#b8e186\"],[0.8,\"#7fbc41\"],[0.9,\"#4d9221\"],[1,\"#276419\"]],\"sequential\":[[0.0,\"#0d0887\"],[0.1111111111111111,\"#46039f\"],[0.2222222222222222,\"#7201a8\"],[0.3333333333333333,\"#9c179e\"],[0.4444444444444444,\"#bd3786\"],[0.5555555555555556,\"#d8576b\"],[0.6666666666666666,\"#ed7953\"],[0.7777777777777778,\"#fb9f3a\"],[0.8888888888888888,\"#fdca26\"],[1.0,\"#f0f921\"]],\"sequentialminus\":[[0.0,\"#0d0887\"],[0.1111111111111111,\"#46039f\"],[0.2222222222222222,\"#7201a8\"],[0.3333333333333333,\"#9c179e\"],[0.4444444444444444,\"#bd3786\"],[0.5555555555555556,\"#d8576b\"],[0.6666666666666666,\"#ed7953\"],[0.7777777777777778,\"#fb9f3a\"],[0.8888888888888888,\"#fdca26\"],[1.0,\"#f0f921\"]]},\"colorway\":[\"#636efa\",\"#EF553B\",\"#00cc96\",\"#ab63fa\",\"#FFA15A\",\"#19d3f3\",\"#FF6692\",\"#B6E880\",\"#FF97FF\",\"#FECB52\"],\"font\":{\"color\":\"#2a3f5f\"},\"geo\":{\"bgcolor\":\"white\",\"lakecolor\":\"white\",\"landcolor\":\"#E5ECF6\",\"showlakes\":true,\"showland\":true,\"subunitcolor\":\"white\"},\"hoverlabel\":{\"align\":\"left\"},\"hovermode\":\"closest\",\"mapbox\":{\"style\":\"light\"},\"paper_bgcolor\":\"white\",\"plot_bgcolor\":\"#E5ECF6\",\"polar\":{\"angularaxis\":{\"gridcolor\":\"white\",\"linecolor\":\"white\",\"ticks\":\"\"},\"bgcolor\":\"#E5ECF6\",\"radialaxis\":{\"gridcolor\":\"white\",\"linecolor\":\"white\",\"ticks\":\"\"}},\"scene\":{\"xaxis\":{\"backgroundcolor\":\"#E5ECF6\",\"gridcolor\":\"white\",\"gridwidth\":2,\"linecolor\":\"white\",\"showbackground\":true,\"ticks\":\"\",\"zerolinecolor\":\"white\"},\"yaxis\":{\"backgroundcolor\":\"#E5ECF6\",\"gridcolor\":\"white\",\"gridwidth\":2,\"linecolor\":\"white\",\"showbackground\":true,\"ticks\":\"\",\"zerolinecolor\":\"white\"},\"zaxis\":{\"backgroundcolor\":\"#E5ECF6\",\"gridcolor\":\"white\",\"gridwidth\":2,\"linecolor\":\"white\",\"showbackground\":true,\"ticks\":\"\",\"zerolinecolor\":\"white\"}},\"shapedefaults\":{\"line\":{\"color\":\"#2a3f5f\"}},\"ternary\":{\"aaxis\":{\"gridcolor\":\"white\",\"linecolor\":\"white\",\"ticks\":\"\"},\"baxis\":{\"gridcolor\":\"white\",\"linecolor\":\"white\",\"ticks\":\"\"},\"bgcolor\":\"#E5ECF6\",\"caxis\":{\"gridcolor\":\"white\",\"linecolor\":\"white\",\"ticks\":\"\"}},\"title\":{\"x\":0.05},\"xaxis\":{\"automargin\":true,\"gridcolor\":\"white\",\"linecolor\":\"white\",\"ticks\":\"\",\"title\":{\"standoff\":15},\"zerolinecolor\":\"white\",\"zerolinewidth\":2},\"yaxis\":{\"automargin\":true,\"gridcolor\":\"white\",\"linecolor\":\"white\",\"ticks\":\"\",\"title\":{\"standoff\":15},\"zerolinecolor\":\"white\",\"zerolinewidth\":2}}},\"title\":{\"text\":\"Actlab Map Image with Mean Error (w/o calibration)\"},\"xaxis\":{\"range\":[0,1600],\"showgrid\":false,\"visible\":false},\"yaxis\":{\"range\":[900,0],\"scaleanchor\":\"x\",\"showgrid\":false,\"visible\":false}},                        {\"modeBarButtonsToAdd\": [\"drawline\", \"drawopenpath\", \"drawclosedpath\", \"drawcircle\", \"drawrect\", \"eraseshape\"], \"responsive\": true}                    ).then(function(){\n",
       "                            \n",
       "var gd = document.getElementById('b48ee7d9-bd9f-4c5e-a351-b2b650ccda91');\n",
       "var x = new MutationObserver(function (mutations, observer) {{\n",
       "        var display = window.getComputedStyle(gd).display;\n",
       "        if (!display || display === 'none') {{\n",
       "            console.log([gd, 'removed!']);\n",
       "            Plotly.purge(gd);\n",
       "            observer.disconnect();\n",
       "        }}\n",
       "}});\n",
       "\n",
       "// Listen for the removal of the full notebook cells\n",
       "var notebookContainer = gd.closest('#notebook-container');\n",
       "if (notebookContainer) {{\n",
       "    x.observe(notebookContainer, {childList: true});\n",
       "}}\n",
       "\n",
       "// Listen for the clearing of the current output cell\n",
       "var outputEl = gd.closest('.output');\n",
       "if (outputEl) {{\n",
       "    x.observe(outputEl, {childList: true});\n",
       "}}\n",
       "\n",
       "                        })                };                });            </script>        </div>"
      ]
     },
     "metadata": {},
     "output_type": "display_data"
    }
   ],
   "source": [
    "### Below are execution of the main program to read and run from different files (normal filter, increased filter, calibration etc.) in order to see the different effects\n",
    "### Analysis data for normal filter ###\n",
    "fig1 = createFigure('Normal Filter')\n",
    "fig_dist = createFigureForDistances('Normal Filter')\n",
    "filtered_fig = createFigureForFilteredData()\n",
    "result, checkpointslist, fileName = main('./Filter_0.2/actlab_location_test1_08Jul.csv')\n",
    "RSSI_raw = filter_visualise('./raw-data/actlab_loc_08Jul.csv')\n",
    "fig1 = plotValues(fig1, result, fileName, 'mean')\n",
    "fig_dist = plotValuesForDistance(fig_dist, result)\n",
    "filtered_fig = plotValuesForFilteredData(filtered_fig, RSSI_raw, 'b827ebed958b')\n",
    "image = showMap(result)\n",
    "image.show(config={'modeBarButtonsToAdd':['drawline',\n",
    "                                        'drawopenpath',\n",
    "                                        'drawclosedpath',\n",
    "                                        'drawcircle',\n",
    "                                        'drawrect',\n",
    "                                        'eraseshape'\n",
    "                                       ]})\n",
    "# filtered_fig.show()\n",
    "# fig1.show()\n",
    "# fig_dist.show()"
   ]
  },
  {
   "cell_type": "code",
   "execution_count": 574,
   "metadata": {},
   "outputs": [
    {
     "data": {
      "application/vnd.plotly.v1+json": {
       "config": {
        "plotlyServerURL": "https://plot.ly"
       },
       "data": [
        {
         "mode": "lines",
         "name": "Raw RSSI",
         "opacity": 0.5,
         "type": "scatter",
         "x": [
          0.045,
          0.554,
          2.067,
          2.572,
          3.073,
          4.086,
          4.593,
          5.101,
          5.608,
          6.111,
          6.614,
          7.124,
          7.63,
          8.131,
          8.635,
          9.652,
          10.152,
          11.164,
          13.191,
          13.691,
          14.705,
          15.207,
          16.223,
          17.228,
          18.244,
          19.252,
          19.753,
          20.262,
          20.773,
          21.781,
          22.794,
          24.304,
          25.312,
          25.813,
          26.32,
          27.334,
          28.924,
          29.347,
          30.865,
          32.891,
          33.905,
          34.915,
          35.421,
          36.437,
          37.943,
          38.445,
          39.46,
          39.97,
          42.501,
          43.001,
          44.514,
          45.023,
          45.527,
          46.027,
          46.537,
          47.552,
          48.056,
          49.064,
          49.564,
          50.068,
          50.571,
          51.08,
          52.094,
          52.604,
          53.616,
          54.124,
          55.641,
          57.657,
          58.66,
          59.163,
          59.667,
          60.17,
          60.677,
          61.187,
          61.697,
          62.716,
          63.226,
          63.728,
          65.755,
          67.776,
          68.785,
          69.292,
          69.797,
          71.822,
          73.336,
          73.839,
          74.843,
          75.349,
          75.857,
          76.362,
          76.868,
          78.383,
          78.891,
          79.395,
          79.904,
          81.414,
          81.923,
          82.931,
          83.438,
          84.452,
          85.977,
          86.477,
          86.981,
          87.485,
          87.988,
          88.494,
          89.497,
          90.005,
          90.507,
          91.013,
          91.521,
          92.532,
          93.549,
          94.053,
          94.563,
          95.573,
          96.072,
          96.575,
          97.082,
          98.595,
          99.601,
          100.104,
          100.605,
          101.107,
          101.611,
          102.117,
          102.622,
          103.132,
          103.633,
          104.133,
          104.639,
          105.142,
          105.643,
          106.652,
          107.156,
          107.656,
          108.157,
          109.661,
          110.676,
          111.682,
          112.184,
          113.193,
          114.713,
          115.221,
          115.724,
          116.229,
          117.748,
          118.762,
          120.278,
          121.285,
          121.793,
          122.298,
          123.306,
          124.312,
          124.821,
          125.833,
          126.338,
          126.844,
          127.352,
          128.863,
          129.874,
          130.384,
          130.888,
          131.392,
          132.4,
          133.917,
          134.427,
          134.929,
          135.438,
          135.948,
          136.951,
          137.961,
          138.467,
          139.486,
          139.987,
          140.997,
          142.512,
          143.524,
          144.532,
          145.035,
          145.542,
          146.553,
          147.565,
          148.066,
          150.592,
          151.098,
          152.622,
          153.124,
          154.139,
          154.643,
          157.164,
          157.669,
          158.168,
          159.18,
          160.703,
          162.718,
          163.227,
          163.728,
          164.236,
          164.738,
          165.241,
          166.253,
          166.762,
          167.262,
          168.776,
          171.805,
          172.818,
          173.824,
          176.352,
          176.853,
          177.868,
          178.378,
          180.399,
          180.905,
          181.409,
          182.423,
          183.438,
          184.445,
          184.947,
          186.454,
          187.467,
          188.985,
          189.992,
          191.503,
          193.018,
          194.026,
          196.544,
          197.559,
          199.079,
          200.092,
          201.104,
          202.113,
          203.629,
          206.153,
          206.658,
          207.668,
          208.684,
          209.194,
          210.704,
          211.205,
          211.707,
          212.219,
          212.717,
          213.219,
          213.725,
          215.75,
          216.26,
          216.763,
          217.781,
          218.288,
          218.789,
          219.29,
          219.792,
          221.808,
          222.817,
          224.329,
          225.847,
          226.855,
          227.366,
          227.866,
          228.372,
          228.878,
          230.896,
          231.405,
          232.413,
          233.927,
          234.428,
          235.434,
          239.461,
          239.967,
          240.474,
          240.981,
          241.989,
          242.999,
          244.009,
          246.026,
          247.54,
          248.552,
          249.059,
          249.564,
          250.069,
          250.579,
          251.588,
          253.109,
          254.119,
          256.136,
          257.65,
          260.677,
          261.18,
          261.687,
          262.193,
          262.701,
          263.21,
          264.229,
          268.273,
          268.783,
          270.303,
          271.314,
          273.334,
          273.843,
          274.856,
          275.372,
          275.871,
          277.394,
          277.903,
          278.918,
          279.425,
          279.931,
          281.449,
          281.95,
          284.478,
          285.49,
          285.998,
          287.01,
          287.518,
          288.027,
          288.528,
          292.055,
          292.564,
          294.082,
          294.59,
          295.099,
          296.108,
          296.616,
          297.119,
          299.643,
          300.147,
          300.648,
          302.156,
          302.666,
          303.176,
          305.186,
          305.695,
          306.201,
          306.706,
          307.208,
          308.212,
          308.715,
          309.217,
          310.741,
          311.243,
          311.748,
          313.261,
          313.768,
          314.274,
          316.799,
          317.809,
          318.314,
          319.824,
          323.371,
          326.4,
          326.909,
          327.416,
          327.924,
          328.938,
          330.458,
          331.469,
          331.978,
          332.488,
          334.514,
          335.017,
          336.035,
          336.54,
          337.559,
          339.069,
          339.579,
          340.588,
          341.098,
          341.604,
          342.103,
          342.611,
          343.118,
          343.619,
          345.628,
          346.134,
          348.147,
          348.649,
          350.159,
          350.667,
          351.672,
          352.176,
          353.19,
          353.694,
          355.205,
          355.711,
          356.215,
          357.231,
          357.737,
          359.254,
          359.757,
          362.278,
          363.279,
          363.781,
          366.317,
          368.337,
          369.846,
          370.348,
          371.366,
          371.871,
          372.376,
          372.885,
          373.387,
          373.895,
          374.399,
          374.908,
          375.92,
          377.941,
          379.45,
          379.954,
          380.966,
          382.488,
          384.508,
          385.511,
          386.012,
          386.515,
          387.025,
          388.031,
          389.039,
          389.547,
          390.104,
          390.559,
          391.072,
          394.611
         ],
         "xaxis": "x",
         "y": [
          -72,
          -58,
          -75,
          -75,
          -72,
          -71,
          -72,
          -71,
          -60,
          -61,
          -75,
          -73,
          -73,
          -70,
          -74,
          -75,
          -74,
          -72,
          -60,
          -74,
          -76,
          -84,
          -61,
          -73,
          -72,
          -74,
          -80,
          -78,
          -84,
          -81,
          -79,
          -67,
          -69,
          -62,
          -63,
          -65,
          -62,
          -64,
          -63,
          -63,
          -67,
          -66,
          -64,
          -65,
          -65,
          -65,
          -53,
          -52,
          -46,
          -61,
          -61,
          -62,
          -65,
          -74,
          -73,
          -73,
          -63,
          -67,
          -74,
          -63,
          -63,
          -64,
          -67,
          -69,
          -75,
          -77,
          -64,
          -64,
          -69,
          -72,
          -47,
          -64,
          -68,
          -52,
          -65,
          -65,
          -51,
          -70,
          -66,
          -54,
          -69,
          -69,
          -73,
          -67,
          -64,
          -53,
          -77,
          -64,
          -64,
          -67,
          -69,
          -74,
          -73,
          -65,
          -52,
          -71,
          -66,
          -68,
          -69,
          -70,
          -62,
          -66,
          -69,
          -68,
          -75,
          -75,
          -69,
          -70,
          -81,
          -80,
          -69,
          -53,
          -71,
          -50,
          -64,
          -54,
          -69,
          -73,
          -60,
          -68,
          -72,
          -65,
          -73,
          -77,
          -60,
          -50,
          -67,
          -66,
          -73,
          -62,
          -68,
          -67,
          -71,
          -72,
          -68,
          -72,
          -71,
          -58,
          -70,
          -68,
          -56,
          -71,
          -68,
          -52,
          -58,
          -72,
          -52,
          -52,
          -73,
          -56,
          -51,
          -65,
          -75,
          -78,
          -56,
          -58,
          -64,
          -70,
          -74,
          -72,
          -81,
          -79,
          -83,
          -81,
          -82,
          -79,
          -67,
          -75,
          -76,
          -63,
          -80,
          -78,
          -75,
          -76,
          -77,
          -78,
          -68,
          -76,
          -77,
          -76,
          -78,
          -77,
          -79,
          -78,
          -81,
          -73,
          -80,
          -72,
          -76,
          -72,
          -77,
          -78,
          -88,
          -74,
          -78,
          -79,
          -79,
          -80,
          -80,
          -79,
          -79,
          -68,
          -80,
          -70,
          -71,
          -82,
          -83,
          -83,
          -86,
          -82,
          -81,
          -70,
          -83,
          -72,
          -71,
          -81,
          -74,
          -79,
          -71,
          -72,
          -80,
          -71,
          -86,
          -78,
          -83,
          -77,
          -88,
          -74,
          -75,
          -63,
          -77,
          -80,
          -90,
          -78,
          -70,
          -77,
          -77,
          -79,
          -72,
          -77,
          -77,
          -75,
          -73,
          -78,
          -76,
          -72,
          -75,
          -59,
          -66,
          -82,
          -66,
          -78,
          -60,
          -80,
          -75,
          -75,
          -63,
          -78,
          -80,
          -76,
          -79,
          -76,
          -84,
          -87,
          -75,
          -63,
          -77,
          -83,
          -68,
          -80,
          -80,
          -77,
          -74,
          -80,
          -79,
          -80,
          -60,
          -77,
          -77,
          -80,
          -75,
          -74,
          -78,
          -85,
          -84,
          -89,
          -80,
          -81,
          -77,
          -75,
          -74,
          -65,
          -68,
          -65,
          -78,
          -79,
          -80,
          -72,
          -81,
          -65,
          -90,
          -76,
          -78,
          -83,
          -82,
          -80,
          -82,
          -93,
          -92,
          -81,
          -84,
          -87,
          -87,
          -71,
          -93,
          -82,
          -82,
          -74,
          -74,
          -83,
          -73,
          -86,
          -77,
          -87,
          -84,
          -90,
          -83,
          -83,
          -83,
          -82,
          -82,
          -77,
          -80,
          -80,
          -85,
          -82,
          -87,
          -81,
          -80,
          -78,
          -76,
          -76,
          -82,
          -84,
          -84,
          -84,
          -77,
          -77,
          -82,
          -82,
          -84,
          -83,
          -85,
          -85,
          -79,
          -92,
          -78,
          -83,
          -82,
          -88,
          -81,
          -90,
          -77,
          -84,
          -83,
          -77,
          -86,
          -87,
          -90,
          -80,
          -81,
          -81,
          -86,
          -85,
          -86,
          -85,
          -89,
          -75,
          -87,
          -81,
          -80,
          -83,
          -85,
          -80,
          -86,
          -84,
          -78,
          -79,
          -82,
          -84,
          -84,
          -67,
          -90,
          -75,
          -82,
          -67,
          -85,
          -84,
          -66,
          -62,
          -68,
          -76,
          -81,
          -86,
          -78,
          -77,
          -80,
          -67,
          -82,
          -80,
          -82,
          -90,
          -80,
          -68,
          -83,
          -87,
          -81,
          -95,
          -94,
          -97,
          -81,
          -81,
          -81
         ],
         "yaxis": "y"
        },
        {
         "mode": "lines",
         "name": "Raw RSSI",
         "opacity": 0.5,
         "type": "scatter",
         "x": [
          0.045,
          0.554,
          2.067,
          2.572,
          3.073,
          4.086,
          4.593,
          5.101,
          5.608,
          6.111,
          6.614,
          7.124,
          7.63,
          8.131,
          8.635,
          9.652,
          10.152,
          11.164,
          13.191,
          13.691,
          14.705,
          15.207,
          16.223,
          17.228,
          18.244,
          19.252,
          19.753,
          20.262,
          20.773,
          21.781,
          22.794,
          24.304,
          25.312,
          25.813,
          26.32,
          27.334,
          28.924,
          29.347,
          30.865,
          32.891,
          33.905,
          34.915,
          35.421,
          36.437,
          37.943,
          38.445,
          39.46,
          39.97,
          42.501,
          43.001,
          44.514,
          45.023,
          45.527,
          46.027,
          46.537,
          47.552,
          48.056,
          49.064,
          49.564,
          50.068,
          50.571,
          51.08,
          52.094,
          52.604,
          53.616,
          54.124,
          55.641,
          57.657,
          58.66,
          59.163,
          59.667,
          60.17,
          60.677,
          61.187,
          61.697,
          62.716,
          63.226,
          63.728,
          65.755,
          67.776,
          68.785,
          69.292,
          69.797,
          71.822,
          73.336,
          73.839,
          74.843,
          75.349,
          75.857,
          76.362,
          76.868,
          78.383,
          78.891,
          79.395,
          79.904,
          81.414,
          81.923,
          82.931,
          83.438,
          84.452,
          85.977,
          86.477,
          86.981,
          87.485,
          87.988,
          88.494,
          89.497,
          90.005,
          90.507,
          91.013,
          91.521,
          92.532,
          93.549,
          94.053,
          94.563,
          95.573,
          96.072,
          96.575,
          97.082,
          98.595,
          99.601,
          100.104,
          100.605,
          101.107,
          101.611,
          102.117,
          102.622,
          103.132,
          103.633,
          104.133,
          104.639,
          105.142,
          105.643,
          106.652,
          107.156,
          107.656,
          108.157,
          109.661,
          110.676,
          111.682,
          112.184,
          113.193,
          114.713,
          115.221,
          115.724,
          116.229,
          117.748,
          118.762,
          120.278,
          121.285,
          121.793,
          122.298,
          123.306,
          124.312,
          124.821,
          125.833,
          126.338,
          126.844,
          127.352,
          128.863,
          129.874,
          130.384,
          130.888,
          131.392,
          132.4,
          133.917,
          134.427,
          134.929,
          135.438,
          135.948,
          136.951,
          137.961,
          138.467,
          139.486,
          139.987,
          140.997,
          142.512,
          143.524,
          144.532,
          145.035,
          145.542,
          146.553,
          147.565,
          148.066,
          150.592,
          151.098,
          152.622,
          153.124,
          154.139,
          154.643,
          157.164,
          157.669,
          158.168,
          159.18,
          160.703,
          162.718,
          163.227,
          163.728,
          164.236,
          164.738,
          165.241,
          166.253,
          166.762,
          167.262,
          168.776,
          171.805,
          172.818,
          173.824,
          176.352,
          176.853,
          177.868,
          178.378,
          180.399,
          180.905,
          181.409,
          182.423,
          183.438,
          184.445,
          184.947,
          186.454,
          187.467,
          188.985,
          189.992,
          191.503,
          193.018,
          194.026,
          196.544,
          197.559,
          199.079,
          200.092,
          201.104,
          202.113,
          203.629,
          206.153,
          206.658,
          207.668,
          208.684,
          209.194,
          210.704,
          211.205,
          211.707,
          212.219,
          212.717,
          213.219,
          213.725,
          215.75,
          216.26,
          216.763,
          217.781,
          218.288,
          218.789,
          219.29,
          219.792,
          221.808,
          222.817,
          224.329,
          225.847,
          226.855,
          227.366,
          227.866,
          228.372,
          228.878,
          230.896,
          231.405,
          232.413,
          233.927,
          234.428,
          235.434,
          239.461,
          239.967,
          240.474,
          240.981,
          241.989,
          242.999,
          244.009,
          246.026,
          247.54,
          248.552,
          249.059,
          249.564,
          250.069,
          250.579,
          251.588,
          253.109,
          254.119,
          256.136,
          257.65,
          260.677,
          261.18,
          261.687,
          262.193,
          262.701,
          263.21,
          264.229,
          268.273,
          268.783,
          270.303,
          271.314,
          273.334,
          273.843,
          274.856,
          275.372,
          275.871,
          277.394,
          277.903,
          278.918,
          279.425,
          279.931,
          281.449,
          281.95,
          284.478,
          285.49,
          285.998,
          287.01,
          287.518,
          288.027,
          288.528,
          292.055,
          292.564,
          294.082,
          294.59,
          295.099,
          296.108,
          296.616,
          297.119,
          299.643,
          300.147,
          300.648,
          302.156,
          302.666,
          303.176,
          305.186,
          305.695,
          306.201,
          306.706,
          307.208,
          308.212,
          308.715,
          309.217,
          310.741,
          311.243,
          311.748,
          313.261,
          313.768,
          314.274,
          316.799,
          317.809,
          318.314,
          319.824,
          323.371,
          326.4,
          326.909,
          327.416,
          327.924,
          328.938,
          330.458,
          331.469,
          331.978,
          332.488,
          334.514,
          335.017,
          336.035,
          336.54,
          337.559,
          339.069,
          339.579,
          340.588,
          341.098,
          341.604,
          342.103,
          342.611,
          343.118,
          343.619,
          345.628,
          346.134,
          348.147,
          348.649,
          350.159,
          350.667,
          351.672,
          352.176,
          353.19,
          353.694,
          355.205,
          355.711,
          356.215,
          357.231,
          357.737,
          359.254,
          359.757,
          362.278,
          363.279,
          363.781,
          366.317,
          368.337,
          369.846,
          370.348,
          371.366,
          371.871,
          372.376,
          372.885,
          373.387,
          373.895,
          374.399,
          374.908,
          375.92,
          377.941,
          379.45,
          379.954,
          380.966,
          382.488,
          384.508,
          385.511,
          386.012,
          386.515,
          387.025,
          388.031,
          389.039,
          389.547,
          390.104,
          390.559,
          391.072,
          394.611
         ],
         "xaxis": "x2",
         "y": [
          -72,
          -58,
          -75,
          -75,
          -72,
          -71,
          -72,
          -71,
          -60,
          -61,
          -75,
          -73,
          -73,
          -70,
          -74,
          -75,
          -74,
          -72,
          -60,
          -74,
          -76,
          -84,
          -61,
          -73,
          -72,
          -74,
          -80,
          -78,
          -84,
          -81,
          -79,
          -67,
          -69,
          -62,
          -63,
          -65,
          -62,
          -64,
          -63,
          -63,
          -67,
          -66,
          -64,
          -65,
          -65,
          -65,
          -53,
          -52,
          -46,
          -61,
          -61,
          -62,
          -65,
          -74,
          -73,
          -73,
          -63,
          -67,
          -74,
          -63,
          -63,
          -64,
          -67,
          -69,
          -75,
          -77,
          -64,
          -64,
          -69,
          -72,
          -47,
          -64,
          -68,
          -52,
          -65,
          -65,
          -51,
          -70,
          -66,
          -54,
          -69,
          -69,
          -73,
          -67,
          -64,
          -53,
          -77,
          -64,
          -64,
          -67,
          -69,
          -74,
          -73,
          -65,
          -52,
          -71,
          -66,
          -68,
          -69,
          -70,
          -62,
          -66,
          -69,
          -68,
          -75,
          -75,
          -69,
          -70,
          -81,
          -80,
          -69,
          -53,
          -71,
          -50,
          -64,
          -54,
          -69,
          -73,
          -60,
          -68,
          -72,
          -65,
          -73,
          -77,
          -60,
          -50,
          -67,
          -66,
          -73,
          -62,
          -68,
          -67,
          -71,
          -72,
          -68,
          -72,
          -71,
          -58,
          -70,
          -68,
          -56,
          -71,
          -68,
          -52,
          -58,
          -72,
          -52,
          -52,
          -73,
          -56,
          -51,
          -65,
          -75,
          -78,
          -56,
          -58,
          -64,
          -70,
          -74,
          -72,
          -81,
          -79,
          -83,
          -81,
          -82,
          -79,
          -67,
          -75,
          -76,
          -63,
          -80,
          -78,
          -75,
          -76,
          -77,
          -78,
          -68,
          -76,
          -77,
          -76,
          -78,
          -77,
          -79,
          -78,
          -81,
          -73,
          -80,
          -72,
          -76,
          -72,
          -77,
          -78,
          -88,
          -74,
          -78,
          -79,
          -79,
          -80,
          -80,
          -79,
          -79,
          -68,
          -80,
          -70,
          -71,
          -82,
          -83,
          -83,
          -86,
          -82,
          -81,
          -70,
          -83,
          -72,
          -71,
          -81,
          -74,
          -79,
          -71,
          -72,
          -80,
          -71,
          -86,
          -78,
          -83,
          -77,
          -88,
          -74,
          -75,
          -63,
          -77,
          -80,
          -90,
          -78,
          -70,
          -77,
          -77,
          -79,
          -72,
          -77,
          -77,
          -75,
          -73,
          -78,
          -76,
          -72,
          -75,
          -59,
          -66,
          -82,
          -66,
          -78,
          -60,
          -80,
          -75,
          -75,
          -63,
          -78,
          -80,
          -76,
          -79,
          -76,
          -84,
          -87,
          -75,
          -63,
          -77,
          -83,
          -68,
          -80,
          -80,
          -77,
          -74,
          -80,
          -79,
          -80,
          -60,
          -77,
          -77,
          -80,
          -75,
          -74,
          -78,
          -85,
          -84,
          -89,
          -80,
          -81,
          -77,
          -75,
          -74,
          -65,
          -68,
          -65,
          -78,
          -79,
          -80,
          -72,
          -81,
          -65,
          -90,
          -76,
          -78,
          -83,
          -82,
          -80,
          -82,
          -93,
          -92,
          -81,
          -84,
          -87,
          -87,
          -71,
          -93,
          -82,
          -82,
          -74,
          -74,
          -83,
          -73,
          -86,
          -77,
          -87,
          -84,
          -90,
          -83,
          -83,
          -83,
          -82,
          -82,
          -77,
          -80,
          -80,
          -85,
          -82,
          -87,
          -81,
          -80,
          -78,
          -76,
          -76,
          -82,
          -84,
          -84,
          -84,
          -77,
          -77,
          -82,
          -82,
          -84,
          -83,
          -85,
          -85,
          -79,
          -92,
          -78,
          -83,
          -82,
          -88,
          -81,
          -90,
          -77,
          -84,
          -83,
          -77,
          -86,
          -87,
          -90,
          -80,
          -81,
          -81,
          -86,
          -85,
          -86,
          -85,
          -89,
          -75,
          -87,
          -81,
          -80,
          -83,
          -85,
          -80,
          -86,
          -84,
          -78,
          -79,
          -82,
          -84,
          -84,
          -67,
          -90,
          -75,
          -82,
          -67,
          -85,
          -84,
          -66,
          -62,
          -68,
          -76,
          -81,
          -86,
          -78,
          -77,
          -80,
          -67,
          -82,
          -80,
          -82,
          -90,
          -80,
          -68,
          -83,
          -87,
          -81,
          -95,
          -94,
          -97,
          -81,
          -81,
          -81
         ],
         "yaxis": "y2"
        },
        {
         "mode": "lines",
         "name": "Raw RSSI",
         "opacity": 0.5,
         "type": "scatter",
         "x": [
          0.045,
          0.554,
          2.067,
          2.572,
          3.073,
          4.086,
          4.593,
          5.101,
          5.608,
          6.111,
          6.614,
          7.124,
          7.63,
          8.131,
          8.635,
          9.652,
          10.152,
          11.164,
          13.191,
          13.691,
          14.705,
          15.207,
          16.223,
          17.228,
          18.244,
          19.252,
          19.753,
          20.262,
          20.773,
          21.781,
          22.794,
          24.304,
          25.312,
          25.813,
          26.32,
          27.334,
          28.924,
          29.347,
          30.865,
          32.891,
          33.905,
          34.915,
          35.421,
          36.437,
          37.943,
          38.445,
          39.46,
          39.97,
          42.501,
          43.001,
          44.514,
          45.023,
          45.527,
          46.027,
          46.537,
          47.552,
          48.056,
          49.064,
          49.564,
          50.068,
          50.571,
          51.08,
          52.094,
          52.604,
          53.616,
          54.124,
          55.641,
          57.657,
          58.66,
          59.163,
          59.667,
          60.17,
          60.677,
          61.187,
          61.697,
          62.716,
          63.226,
          63.728,
          65.755,
          67.776,
          68.785,
          69.292,
          69.797,
          71.822,
          73.336,
          73.839,
          74.843,
          75.349,
          75.857,
          76.362,
          76.868,
          78.383,
          78.891,
          79.395,
          79.904,
          81.414,
          81.923,
          82.931,
          83.438,
          84.452,
          85.977,
          86.477,
          86.981,
          87.485,
          87.988,
          88.494,
          89.497,
          90.005,
          90.507,
          91.013,
          91.521,
          92.532,
          93.549,
          94.053,
          94.563,
          95.573,
          96.072,
          96.575,
          97.082,
          98.595,
          99.601,
          100.104,
          100.605,
          101.107,
          101.611,
          102.117,
          102.622,
          103.132,
          103.633,
          104.133,
          104.639,
          105.142,
          105.643,
          106.652,
          107.156,
          107.656,
          108.157,
          109.661,
          110.676,
          111.682,
          112.184,
          113.193,
          114.713,
          115.221,
          115.724,
          116.229,
          117.748,
          118.762,
          120.278,
          121.285,
          121.793,
          122.298,
          123.306,
          124.312,
          124.821,
          125.833,
          126.338,
          126.844,
          127.352,
          128.863,
          129.874,
          130.384,
          130.888,
          131.392,
          132.4,
          133.917,
          134.427,
          134.929,
          135.438,
          135.948,
          136.951,
          137.961,
          138.467,
          139.486,
          139.987,
          140.997,
          142.512,
          143.524,
          144.532,
          145.035,
          145.542,
          146.553,
          147.565,
          148.066,
          150.592,
          151.098,
          152.622,
          153.124,
          154.139,
          154.643,
          157.164,
          157.669,
          158.168,
          159.18,
          160.703,
          162.718,
          163.227,
          163.728,
          164.236,
          164.738,
          165.241,
          166.253,
          166.762,
          167.262,
          168.776,
          171.805,
          172.818,
          173.824,
          176.352,
          176.853,
          177.868,
          178.378,
          180.399,
          180.905,
          181.409,
          182.423,
          183.438,
          184.445,
          184.947,
          186.454,
          187.467,
          188.985,
          189.992,
          191.503,
          193.018,
          194.026,
          196.544,
          197.559,
          199.079,
          200.092,
          201.104,
          202.113,
          203.629,
          206.153,
          206.658,
          207.668,
          208.684,
          209.194,
          210.704,
          211.205,
          211.707,
          212.219,
          212.717,
          213.219,
          213.725,
          215.75,
          216.26,
          216.763,
          217.781,
          218.288,
          218.789,
          219.29,
          219.792,
          221.808,
          222.817,
          224.329,
          225.847,
          226.855,
          227.366,
          227.866,
          228.372,
          228.878,
          230.896,
          231.405,
          232.413,
          233.927,
          234.428,
          235.434,
          239.461,
          239.967,
          240.474,
          240.981,
          241.989,
          242.999,
          244.009,
          246.026,
          247.54,
          248.552,
          249.059,
          249.564,
          250.069,
          250.579,
          251.588,
          253.109,
          254.119,
          256.136,
          257.65,
          260.677,
          261.18,
          261.687,
          262.193,
          262.701,
          263.21,
          264.229,
          268.273,
          268.783,
          270.303,
          271.314,
          273.334,
          273.843,
          274.856,
          275.372,
          275.871,
          277.394,
          277.903,
          278.918,
          279.425,
          279.931,
          281.449,
          281.95,
          284.478,
          285.49,
          285.998,
          287.01,
          287.518,
          288.027,
          288.528,
          292.055,
          292.564,
          294.082,
          294.59,
          295.099,
          296.108,
          296.616,
          297.119,
          299.643,
          300.147,
          300.648,
          302.156,
          302.666,
          303.176,
          305.186,
          305.695,
          306.201,
          306.706,
          307.208,
          308.212,
          308.715,
          309.217,
          310.741,
          311.243,
          311.748,
          313.261,
          313.768,
          314.274,
          316.799,
          317.809,
          318.314,
          319.824,
          323.371,
          326.4,
          326.909,
          327.416,
          327.924,
          328.938,
          330.458,
          331.469,
          331.978,
          332.488,
          334.514,
          335.017,
          336.035,
          336.54,
          337.559,
          339.069,
          339.579,
          340.588,
          341.098,
          341.604,
          342.103,
          342.611,
          343.118,
          343.619,
          345.628,
          346.134,
          348.147,
          348.649,
          350.159,
          350.667,
          351.672,
          352.176,
          353.19,
          353.694,
          355.205,
          355.711,
          356.215,
          357.231,
          357.737,
          359.254,
          359.757,
          362.278,
          363.279,
          363.781,
          366.317,
          368.337,
          369.846,
          370.348,
          371.366,
          371.871,
          372.376,
          372.885,
          373.387,
          373.895,
          374.399,
          374.908,
          375.92,
          377.941,
          379.45,
          379.954,
          380.966,
          382.488,
          384.508,
          385.511,
          386.012,
          386.515,
          387.025,
          388.031,
          389.039,
          389.547,
          390.104,
          390.559,
          391.072,
          394.611
         ],
         "xaxis": "x3",
         "y": [
          -72,
          -58,
          -75,
          -75,
          -72,
          -71,
          -72,
          -71,
          -60,
          -61,
          -75,
          -73,
          -73,
          -70,
          -74,
          -75,
          -74,
          -72,
          -60,
          -74,
          -76,
          -84,
          -61,
          -73,
          -72,
          -74,
          -80,
          -78,
          -84,
          -81,
          -79,
          -67,
          -69,
          -62,
          -63,
          -65,
          -62,
          -64,
          -63,
          -63,
          -67,
          -66,
          -64,
          -65,
          -65,
          -65,
          -53,
          -52,
          -46,
          -61,
          -61,
          -62,
          -65,
          -74,
          -73,
          -73,
          -63,
          -67,
          -74,
          -63,
          -63,
          -64,
          -67,
          -69,
          -75,
          -77,
          -64,
          -64,
          -69,
          -72,
          -47,
          -64,
          -68,
          -52,
          -65,
          -65,
          -51,
          -70,
          -66,
          -54,
          -69,
          -69,
          -73,
          -67,
          -64,
          -53,
          -77,
          -64,
          -64,
          -67,
          -69,
          -74,
          -73,
          -65,
          -52,
          -71,
          -66,
          -68,
          -69,
          -70,
          -62,
          -66,
          -69,
          -68,
          -75,
          -75,
          -69,
          -70,
          -81,
          -80,
          -69,
          -53,
          -71,
          -50,
          -64,
          -54,
          -69,
          -73,
          -60,
          -68,
          -72,
          -65,
          -73,
          -77,
          -60,
          -50,
          -67,
          -66,
          -73,
          -62,
          -68,
          -67,
          -71,
          -72,
          -68,
          -72,
          -71,
          -58,
          -70,
          -68,
          -56,
          -71,
          -68,
          -52,
          -58,
          -72,
          -52,
          -52,
          -73,
          -56,
          -51,
          -65,
          -75,
          -78,
          -56,
          -58,
          -64,
          -70,
          -74,
          -72,
          -81,
          -79,
          -83,
          -81,
          -82,
          -79,
          -67,
          -75,
          -76,
          -63,
          -80,
          -78,
          -75,
          -76,
          -77,
          -78,
          -68,
          -76,
          -77,
          -76,
          -78,
          -77,
          -79,
          -78,
          -81,
          -73,
          -80,
          -72,
          -76,
          -72,
          -77,
          -78,
          -88,
          -74,
          -78,
          -79,
          -79,
          -80,
          -80,
          -79,
          -79,
          -68,
          -80,
          -70,
          -71,
          -82,
          -83,
          -83,
          -86,
          -82,
          -81,
          -70,
          -83,
          -72,
          -71,
          -81,
          -74,
          -79,
          -71,
          -72,
          -80,
          -71,
          -86,
          -78,
          -83,
          -77,
          -88,
          -74,
          -75,
          -63,
          -77,
          -80,
          -90,
          -78,
          -70,
          -77,
          -77,
          -79,
          -72,
          -77,
          -77,
          -75,
          -73,
          -78,
          -76,
          -72,
          -75,
          -59,
          -66,
          -82,
          -66,
          -78,
          -60,
          -80,
          -75,
          -75,
          -63,
          -78,
          -80,
          -76,
          -79,
          -76,
          -84,
          -87,
          -75,
          -63,
          -77,
          -83,
          -68,
          -80,
          -80,
          -77,
          -74,
          -80,
          -79,
          -80,
          -60,
          -77,
          -77,
          -80,
          -75,
          -74,
          -78,
          -85,
          -84,
          -89,
          -80,
          -81,
          -77,
          -75,
          -74,
          -65,
          -68,
          -65,
          -78,
          -79,
          -80,
          -72,
          -81,
          -65,
          -90,
          -76,
          -78,
          -83,
          -82,
          -80,
          -82,
          -93,
          -92,
          -81,
          -84,
          -87,
          -87,
          -71,
          -93,
          -82,
          -82,
          -74,
          -74,
          -83,
          -73,
          -86,
          -77,
          -87,
          -84,
          -90,
          -83,
          -83,
          -83,
          -82,
          -82,
          -77,
          -80,
          -80,
          -85,
          -82,
          -87,
          -81,
          -80,
          -78,
          -76,
          -76,
          -82,
          -84,
          -84,
          -84,
          -77,
          -77,
          -82,
          -82,
          -84,
          -83,
          -85,
          -85,
          -79,
          -92,
          -78,
          -83,
          -82,
          -88,
          -81,
          -90,
          -77,
          -84,
          -83,
          -77,
          -86,
          -87,
          -90,
          -80,
          -81,
          -81,
          -86,
          -85,
          -86,
          -85,
          -89,
          -75,
          -87,
          -81,
          -80,
          -83,
          -85,
          -80,
          -86,
          -84,
          -78,
          -79,
          -82,
          -84,
          -84,
          -67,
          -90,
          -75,
          -82,
          -67,
          -85,
          -84,
          -66,
          -62,
          -68,
          -76,
          -81,
          -86,
          -78,
          -77,
          -80,
          -67,
          -82,
          -80,
          -82,
          -90,
          -80,
          -68,
          -83,
          -87,
          -81,
          -95,
          -94,
          -97,
          -81,
          -81,
          -81
         ],
         "yaxis": "y3"
        },
        {
         "line": {
          "color": "black"
         },
         "mode": "lines",
         "name": "Filtered RSSI",
         "type": "scatter",
         "x": [
          0.045,
          0.554,
          2.067,
          2.572,
          3.073,
          4.086,
          4.593,
          5.101,
          5.608,
          6.111,
          6.614,
          7.124,
          7.63,
          8.131,
          8.635,
          9.652,
          10.152,
          11.164,
          13.191,
          13.691,
          14.705,
          15.207,
          16.223,
          17.228,
          18.244,
          19.252,
          19.753,
          20.262,
          20.773,
          21.781,
          22.794,
          24.304,
          25.312,
          25.813,
          26.32,
          27.334,
          28.924,
          29.347,
          30.865,
          32.891,
          33.905,
          34.915,
          35.421,
          36.437,
          37.943,
          38.445,
          39.46,
          39.97,
          42.501,
          43.001,
          44.514,
          45.023,
          45.527,
          46.027,
          46.537,
          47.552,
          48.056,
          49.064,
          49.564,
          50.068,
          50.571,
          51.08,
          52.094,
          52.604,
          53.616,
          54.124,
          55.641,
          57.657,
          58.66,
          59.163,
          59.667,
          60.17,
          60.677,
          61.187,
          61.697,
          62.716,
          63.226,
          63.728,
          65.755,
          67.776,
          68.785,
          69.292,
          69.797,
          71.822,
          73.336,
          73.839,
          74.843,
          75.349,
          75.857,
          76.362,
          76.868,
          78.383,
          78.891,
          79.395,
          79.904,
          81.414,
          81.923,
          82.931,
          83.438,
          84.452,
          85.977,
          86.477,
          86.981,
          87.485,
          87.988,
          88.494,
          89.497,
          90.005,
          90.507,
          91.013,
          91.521,
          92.532,
          93.549,
          94.053,
          94.563,
          95.573,
          96.072,
          96.575,
          97.082,
          98.595,
          99.601,
          100.104,
          100.605,
          101.107,
          101.611,
          102.117,
          102.622,
          103.132,
          103.633,
          104.133,
          104.639,
          105.142,
          105.643,
          106.652,
          107.156,
          107.656,
          108.157,
          109.661,
          110.676,
          111.682,
          112.184,
          113.193,
          114.713,
          115.221,
          115.724,
          116.229,
          117.748,
          118.762,
          120.278,
          121.285,
          121.793,
          122.298,
          123.306,
          124.312,
          124.821,
          125.833,
          126.338,
          126.844,
          127.352,
          128.863,
          129.874,
          130.384,
          130.888,
          131.392,
          132.4,
          133.917,
          134.427,
          134.929,
          135.438,
          135.948,
          136.951,
          137.961,
          138.467,
          139.486,
          139.987,
          140.997,
          142.512,
          143.524,
          144.532,
          145.035,
          145.542,
          146.553,
          147.565,
          148.066,
          150.592,
          151.098,
          152.622,
          153.124,
          154.139,
          154.643,
          157.164,
          157.669,
          158.168,
          159.18,
          160.703,
          162.718,
          163.227,
          163.728,
          164.236,
          164.738,
          165.241,
          166.253,
          166.762,
          167.262,
          168.776,
          171.805,
          172.818,
          173.824,
          176.352,
          176.853,
          177.868,
          178.378,
          180.399,
          180.905,
          181.409,
          182.423,
          183.438,
          184.445,
          184.947,
          186.454,
          187.467,
          188.985,
          189.992,
          191.503,
          193.018,
          194.026,
          196.544,
          197.559,
          199.079,
          200.092,
          201.104,
          202.113,
          203.629,
          206.153,
          206.658,
          207.668,
          208.684,
          209.194,
          210.704,
          211.205,
          211.707,
          212.219,
          212.717,
          213.219,
          213.725,
          215.75,
          216.26,
          216.763,
          217.781,
          218.288,
          218.789,
          219.29,
          219.792,
          221.808,
          222.817,
          224.329,
          225.847,
          226.855,
          227.366,
          227.866,
          228.372,
          228.878,
          230.896,
          231.405,
          232.413,
          233.927,
          234.428,
          235.434,
          239.461,
          239.967,
          240.474,
          240.981,
          241.989,
          242.999,
          244.009,
          246.026,
          247.54,
          248.552,
          249.059,
          249.564,
          250.069,
          250.579,
          251.588,
          253.109,
          254.119,
          256.136,
          257.65,
          260.677,
          261.18,
          261.687,
          262.193,
          262.701,
          263.21,
          264.229,
          268.273,
          268.783,
          270.303,
          271.314,
          273.334,
          273.843,
          274.856,
          275.372,
          275.871,
          277.394,
          277.903,
          278.918,
          279.425,
          279.931,
          281.449,
          281.95,
          284.478,
          285.49,
          285.998,
          287.01,
          287.518,
          288.027,
          288.528,
          292.055,
          292.564,
          294.082,
          294.59,
          295.099,
          296.108,
          296.616,
          297.119,
          299.643,
          300.147,
          300.648,
          302.156,
          302.666,
          303.176,
          305.186,
          305.695,
          306.201,
          306.706,
          307.208,
          308.212,
          308.715,
          309.217,
          310.741,
          311.243,
          311.748,
          313.261,
          313.768,
          314.274,
          316.799,
          317.809,
          318.314,
          319.824,
          323.371,
          326.4,
          326.909,
          327.416,
          327.924,
          328.938,
          330.458,
          331.469,
          331.978,
          332.488,
          334.514,
          335.017,
          336.035,
          336.54,
          337.559,
          339.069,
          339.579,
          340.588,
          341.098,
          341.604,
          342.103,
          342.611,
          343.118,
          343.619,
          345.628,
          346.134,
          348.147,
          348.649,
          350.159,
          350.667,
          351.672,
          352.176,
          353.19,
          353.694,
          355.205,
          355.711,
          356.215,
          357.231,
          357.737,
          359.254,
          359.757,
          362.278,
          363.279,
          363.781,
          366.317,
          368.337,
          369.846,
          370.348,
          371.366,
          371.871,
          372.376,
          372.885,
          373.387,
          373.895,
          374.399,
          374.908,
          375.92,
          377.941,
          379.45,
          379.954,
          380.966,
          382.488,
          384.508,
          385.511,
          386.012,
          386.515,
          387.025,
          388.031,
          389.039,
          389.547,
          390.104,
          390.559,
          391.072,
          394.611
         ],
         "xaxis": "x",
         "y": [
          -72,
          -71.3027538,
          -72.04220304,
          -72.633762432,
          -72.5070099456,
          -72.20560795648001,
          -72.164486365184,
          -71.9315890921472,
          -69.54527127371776,
          -67.83621701897421,
          -69.26897361517936,
          -70.0151788921435,
          -70.6121431137148,
          -70.48971449097183,
          -71.19177159277747,
          -71.95341727422198,
          -72.36273381937758,
          -72.29018705550206,
          -69.83214964440165,
          -70.66571971552132,
          -71.73257577241705,
          -74.18606061793363,
          -71.54884849434691,
          -71.83907879547753,
          -71.87126303638203,
          -72.29701042910563,
          -73.8376083432845,
          -74.6700866746276,
          -76.53606933970208,
          -77.42885547176166,
          -77.74308437740933,
          -75.59446750192747,
          -74.27557400154197,
          -71.82045920123358,
          -70.05636736098685,
          -69.04509388878948,
          -67.63607511103159,
          -66.90886008882526,
          -66.12708807106021,
          -65.50167045684817,
          -65.80133636547853,
          -65.84106909238282,
          -65.47285527390626,
          -65.378284219125,
          -65.3026273753,
          -65.24210190024,
          -62.793681520192,
          -60.634945216153604,
          -57.707956172922884,
          -58.36636493833831,
          -58.893091950670645,
          -59.514473560536516,
          -60.61157884842921,
          -63.28926307874337,
          -65.23141046299469,
          -66.78512837039575,
          -66.02810269631661,
          -66.22248215705329,
          -67.77798572564264,
          -66.82238858051412,
          -66.0579108644113,
          -65.64632869152904,
          -65.91706295322322,
          -66.53365036257858,
          -68.22692029006286,
          -69.98153623205029,
          -68.78522898564023,
          -67.82818318851218,
          -68.06254655080974,
          -68.8500372406478,
          -64.48002979251824,
          -64.38402383401458,
          -65.10721906721167,
          -62.48577525376934,
          -62.98862020301547,
          -63.390896162412375,
          -60.9127169299299,
          -62.73017354394392,
          -63.384138835155134,
          -61.50731106812411,
          -63.00584885449929,
          -64.20467908359943,
          -65.96374326687955,
          -66.17099461350364,
          -65.73679569080291,
          -63.18943655264233,
          -65.95154924211386,
          -65.56123939369108,
          -65.24899151495286,
          -65.59919321196229,
          -66.27935456956983,
          -67.82348365565586,
          -68.8587869245247,
          -68.08702953961975,
          -64.8696236316958,
          -66.09569890535664,
          -66.07655912428531,
          -66.46124729942825,
          -66.9689978395426,
          -67.57519827163408,
          -66.46015861730726,
          -66.36812689384581,
          -66.89450151507666,
          -67.11560121206132,
          -68.69248096964905,
          -69.95398477571925,
          -69.7631878205754,
          -69.81055025646032,
          -72.04844020516825,
          -73.6387521641346,
          -72.71100173130768,
          -68.76880138504615,
          -69.21504110803691,
          -65.37203288642954,
          -65.09762630914364,
          -62.87810104731491,
          -64.10248083785193,
          -65.88198467028154,
          -64.70558773622523,
          -65.36447018898018,
          -66.69157615118414,
          -66.3532609209473,
          -67.68260873675784,
          -69.54608698940628,
          -67.63686959152503,
          -64.10949567322002,
          -64.68759653857602,
          -64.95007723086081,
          -66.56006178468866,
          -65.64804942775092,
          -66.11843954220073,
          -66.29475163376058,
          -67.23580130700847,
          -68.18864104560677,
          -68.15091283648542,
          -68.92073026918834,
          -69.33658421535067,
          -67.06926737228054,
          -67.65541389782443,
          -67.72433111825954,
          -65.37946489460764,
          -66.50357191568611,
          -66.80285753254888,
          -63.842286026039105,
          -62.67382882083128,
          -64.53906305666503,
          -62.03125044533202,
          -60.025000356265615,
          -62.620000285012495,
          -61.296000228009994,
          -59.236800182408,
          -60.3894401459264,
          -63.31155211674112,
          -66.24924169339289,
          -64.19939335471432,
          -62.95951468377145,
          -63.16761174701716,
          -64.53408939761373,
          -66.42727151809098,
          -67.54181721447279,
          -70.23345377157823,
          -71.98676301726258,
          -74.18941041381007,
          -75.55152833104805,
          -76.84122266483844,
          -77.27297813187076,
          -75.2183825054966,
          -75.17470600439728,
          -75.33976480351782,
          -72.87181184281425,
          -74.29744947425141,
          -75.03795957940113,
          -75.0303676635209,
          -75.22429413081673,
          -75.57943530465339,
          -76.0635482437227,
          -74.45083859497817,
          -74.76067087598253,
          -75.20853670078603,
          -75.36682936062883,
          -75.89346348850306,
          -76.11477079080245,
          -76.69181663264196,
          -76.95345330611357,
          -77.76276264489086,
          -76.81021011591268,
          -77.44816809273014,
          -76.35853447418411,
          -76.28682757934729,
          -75.42946206347783,
          -75.74356965078226,
          -76.19485572062581,
          -78.55588457650065,
          -77.64470766120051,
          -77.71576612896041,
          -77.97261290316833,
          -78.17809032253466,
          -78.54247225802773,
          -78.83397780642218,
          -78.86718224513774,
          -78.8937457961102,
          -76.71499663688816,
          -77.37199730951053,
          -75.89759784760842,
          -74.91807827808674,
          -76.33446262246939,
          -77.66757009797551,
          -78.7340560783804,
          -80.18724486270432,
          -80.54979589016345,
          -80.63983671213076,
          -78.51186936970461,
          -79.4094954957637,
          -77.92759639661095,
          -76.54207711728876,
          -77.433661693831,
          -76.7469293550648,
          -77.19754348405183,
          -75.95803478724147,
          -75.16642782979318,
          -76.13314226383454,
          -75.10651381106763,
          -77.28521104885411,
          -77.42816883908328,
          -78.54253507126663,
          -78.2340280570133,
          -80.18722244561064,
          -78.94977795648852,
          -78.15982236519082,
          -75.12785789215266,
          -75.50228631372212,
          -76.4018290509777,
          -79.12146324078216,
          -78.89717059262573,
          -77.11773647410058,
          -77.09418917928046,
          -77.07535134342437,
          -77.4602810747395,
          -76.3682248597916,
          -76.49457988783328,
          -76.59566391026662,
          -76.27653112821329,
          -75.62122490257063,
          -76.0969799220565,
          -76.0775839376452,
          -75.26206715011617,
          -75.20965372009293,
          -71.96772297607434,
          -70.77417838085947,
          -73.01934270468757,
          -71.61547416375006,
          -72.89237933100006,
          -70.31390346480005,
          -72.25112277184004,
          -72.80089821747204,
          -73.24071857397763,
          -71.1925748591821,
          -72.55405988734569,
          -74.04324790987656,
          -74.43459832790124,
          -75.34767866232099,
          -75.47814292985679,
          -77.18251434388543,
          -79.14601147510834,
          -78.31680918008666,
          -75.25344734406933,
          -75.60275787525546,
          -77.08220630020438,
          -75.2657650401635,
          -76.2126120321308,
          -76.97008962570465,
          -76.97607170056372,
          -76.38085736045097,
          -77.10468588836078,
          -77.48374871068862,
          -77.98699896855089,
          -74.38959917484071,
          -74.91167933987256,
          -75.32934347189806,
          -76.26347477751844,
          -76.01077982201475,
          -75.6086238576118,
          -76.08689908608945,
          -77.86951926887156,
          -79.09561541509724,
          -81.07649233207779,
          -80.86119386566223,
          -80.88895509252978,
          -80.11116407402383,
          -79.08893125921907,
          -78.07114500737525,
          -75.4569160059002,
          -73.96553280472016,
          -72.17242624377613,
          -73.3379409950209,
          -74.47035279601673,
          -75.57628223681338,
          -74.86102578945071,
          -76.08882063156057,
          -73.87105650524845,
          -77.09684520419876,
          -76.877476163359,
          -77.1019809306872,
          -78.28158474454976,
          -79.0252677956398,
          -79.22021423651185,
          -79.77617138920948,
          -82.42093711136758,
          -84.33674968909406,
          -83.66939975127525,
          -83.7355198010202,
          -84.38841584081617,
          -84.91073267265293,
          -82.12858613812234,
          -84.30286891049788,
          -83.8422951283983,
          -83.47383610271865,
          -81.57906888217492,
          -80.06325510573994,
          -80.65060408459195,
          -79.12048326767356,
          -80.49638661413886,
          -79.79710929131109,
          -81.23768743304888,
          -81.7901499464391,
          -83.43211995715129,
          -83.34569596572103,
          -83.27655677257682,
          -83.22124541806146,
          -82.97699633444917,
          -82.78159706755933,
          -81.62527765404747,
          -81.30022212323797,
          -81.04017769859038,
          -81.8321421588723,
          -81.86571372709784,
          -82.89257098167828,
          -82.51405678534262,
          -82.0112454282741,
          -81.20899634261927,
          -80.16719707409541,
          -79.33375765927633,
          -79.86700612742106,
          -80.69360490193685,
          -81.35488392154949,
          -81.88390713723959,
          -80.90712570979167,
          -80.12570056783333,
          -80.50056045426666,
          -80.80044836341332,
          -81.44035869073066,
          -81.75228695258453,
          -82.40182956206762,
          -82.9214636496541,
          -82.13717091972327,
          -84.10973673577863,
          -82.8877893886229,
          -82.91023151089833,
          -82.72818520871866,
          -83.78254816697492,
          -83.22603853357994,
          -84.58083082686395,
          -83.06466466149115,
          -83.25173172919293,
          -83.20138538335434,
          -81.96110830668347,
          -82.76888664534678,
          -83.61510931627743,
          -84.89208745302194,
          -83.91366996241756,
          -83.33093596993405,
          -82.86474877594723,
          -83.49179902075778,
          -83.79343921660623,
          -84.23475137328498,
          -84.38780109862799,
          -85.31024087890239,
          -83.24819270312192,
          -83.99855416249753,
          -83.39884332999802,
          -82.71907466399841,
          -82.77525973119873,
          -83.22020778495899,
          -82.57616622796719,
          -83.26093298237376,
          -83.40874638589901,
          -82.32699710871921,
          -81.66159768697537,
          -81.7292781495803,
          -82.18342251966423,
          -82.54673801573139,
          -79.43739041258512,
          -81.5499123300681,
          -80.23992986405447,
          -80.59194389124357,
          -77.87355511299486,
          -79.29884409039589,
          -80.23907527231671,
          -77.39126021785337,
          -74.3130081742827,
          -73.05040653942616,
          -73.64032523154093,
          -75.11226018523274,
          -77.2898081481862,
          -77.43184651854895,
          -77.34547721483916,
          -77.87638177187134,
          -75.70110541749708,
          -76.96088433399765,
          -77.56870746719812,
          -78.4549659737585,
          -80.7639727790068,
          -80.61117822320544,
          -78.08894257856436,
          -79.07115406285149,
          -80.6569232502812,
          -80.72553860022495,
          -83.58043088017996,
          -85.66434470414397,
          -87.93147576331518,
          -86.54518061065214,
          -85.4361444885217,
          -84.54891559081736
         ],
         "yaxis": "y"
        },
        {
         "line": {
          "color": "black"
         },
         "mode": "lines",
         "name": "Filtered RSSI",
         "type": "scatter",
         "x": [
          0.045,
          0.554,
          2.067,
          2.572,
          3.073,
          4.086,
          4.593,
          5.101,
          5.608,
          6.111,
          6.614,
          7.124,
          7.63,
          8.131,
          8.635,
          9.652,
          10.152,
          11.164,
          13.191,
          13.691,
          14.705,
          15.207,
          16.223,
          17.228,
          18.244,
          19.252,
          19.753,
          20.262,
          20.773,
          21.781,
          22.794,
          24.304,
          25.312,
          25.813,
          26.32,
          27.334,
          28.924,
          29.347,
          30.865,
          32.891,
          33.905,
          34.915,
          35.421,
          36.437,
          37.943,
          38.445,
          39.46,
          39.97,
          42.501,
          43.001,
          44.514,
          45.023,
          45.527,
          46.027,
          46.537,
          47.552,
          48.056,
          49.064,
          49.564,
          50.068,
          50.571,
          51.08,
          52.094,
          52.604,
          53.616,
          54.124,
          55.641,
          57.657,
          58.66,
          59.163,
          59.667,
          60.17,
          60.677,
          61.187,
          61.697,
          62.716,
          63.226,
          63.728,
          65.755,
          67.776,
          68.785,
          69.292,
          69.797,
          71.822,
          73.336,
          73.839,
          74.843,
          75.349,
          75.857,
          76.362,
          76.868,
          78.383,
          78.891,
          79.395,
          79.904,
          81.414,
          81.923,
          82.931,
          83.438,
          84.452,
          85.977,
          86.477,
          86.981,
          87.485,
          87.988,
          88.494,
          89.497,
          90.005,
          90.507,
          91.013,
          91.521,
          92.532,
          93.549,
          94.053,
          94.563,
          95.573,
          96.072,
          96.575,
          97.082,
          98.595,
          99.601,
          100.104,
          100.605,
          101.107,
          101.611,
          102.117,
          102.622,
          103.132,
          103.633,
          104.133,
          104.639,
          105.142,
          105.643,
          106.652,
          107.156,
          107.656,
          108.157,
          109.661,
          110.676,
          111.682,
          112.184,
          113.193,
          114.713,
          115.221,
          115.724,
          116.229,
          117.748,
          118.762,
          120.278,
          121.285,
          121.793,
          122.298,
          123.306,
          124.312,
          124.821,
          125.833,
          126.338,
          126.844,
          127.352,
          128.863,
          129.874,
          130.384,
          130.888,
          131.392,
          132.4,
          133.917,
          134.427,
          134.929,
          135.438,
          135.948,
          136.951,
          137.961,
          138.467,
          139.486,
          139.987,
          140.997,
          142.512,
          143.524,
          144.532,
          145.035,
          145.542,
          146.553,
          147.565,
          148.066,
          150.592,
          151.098,
          152.622,
          153.124,
          154.139,
          154.643,
          157.164,
          157.669,
          158.168,
          159.18,
          160.703,
          162.718,
          163.227,
          163.728,
          164.236,
          164.738,
          165.241,
          166.253,
          166.762,
          167.262,
          168.776,
          171.805,
          172.818,
          173.824,
          176.352,
          176.853,
          177.868,
          178.378,
          180.399,
          180.905,
          181.409,
          182.423,
          183.438,
          184.445,
          184.947,
          186.454,
          187.467,
          188.985,
          189.992,
          191.503,
          193.018,
          194.026,
          196.544,
          197.559,
          199.079,
          200.092,
          201.104,
          202.113,
          203.629,
          206.153,
          206.658,
          207.668,
          208.684,
          209.194,
          210.704,
          211.205,
          211.707,
          212.219,
          212.717,
          213.219,
          213.725,
          215.75,
          216.26,
          216.763,
          217.781,
          218.288,
          218.789,
          219.29,
          219.792,
          221.808,
          222.817,
          224.329,
          225.847,
          226.855,
          227.366,
          227.866,
          228.372,
          228.878,
          230.896,
          231.405,
          232.413,
          233.927,
          234.428,
          235.434,
          239.461,
          239.967,
          240.474,
          240.981,
          241.989,
          242.999,
          244.009,
          246.026,
          247.54,
          248.552,
          249.059,
          249.564,
          250.069,
          250.579,
          251.588,
          253.109,
          254.119,
          256.136,
          257.65,
          260.677,
          261.18,
          261.687,
          262.193,
          262.701,
          263.21,
          264.229,
          268.273,
          268.783,
          270.303,
          271.314,
          273.334,
          273.843,
          274.856,
          275.372,
          275.871,
          277.394,
          277.903,
          278.918,
          279.425,
          279.931,
          281.449,
          281.95,
          284.478,
          285.49,
          285.998,
          287.01,
          287.518,
          288.027,
          288.528,
          292.055,
          292.564,
          294.082,
          294.59,
          295.099,
          296.108,
          296.616,
          297.119,
          299.643,
          300.147,
          300.648,
          302.156,
          302.666,
          303.176,
          305.186,
          305.695,
          306.201,
          306.706,
          307.208,
          308.212,
          308.715,
          309.217,
          310.741,
          311.243,
          311.748,
          313.261,
          313.768,
          314.274,
          316.799,
          317.809,
          318.314,
          319.824,
          323.371,
          326.4,
          326.909,
          327.416,
          327.924,
          328.938,
          330.458,
          331.469,
          331.978,
          332.488,
          334.514,
          335.017,
          336.035,
          336.54,
          337.559,
          339.069,
          339.579,
          340.588,
          341.098,
          341.604,
          342.103,
          342.611,
          343.118,
          343.619,
          345.628,
          346.134,
          348.147,
          348.649,
          350.159,
          350.667,
          351.672,
          352.176,
          353.19,
          353.694,
          355.205,
          355.711,
          356.215,
          357.231,
          357.737,
          359.254,
          359.757,
          362.278,
          363.279,
          363.781,
          366.317,
          368.337,
          369.846,
          370.348,
          371.366,
          371.871,
          372.376,
          372.885,
          373.387,
          373.895,
          374.399,
          374.908,
          375.92,
          377.941,
          379.45,
          379.954,
          380.966,
          382.488,
          384.508,
          385.511,
          386.012,
          386.515,
          387.025,
          388.031,
          389.039,
          389.547,
          390.104,
          390.559,
          391.072,
          394.611
         ],
         "xaxis": "x2",
         "y": [
          -72,
          -71.3027538,
          -73.52110152,
          -74.408440608,
          -72.9633762432,
          -71.78535049728,
          -71.91414019891201,
          -71.3656560795648,
          -64.54626243182592,
          -62.41850497273037,
          -69.96740198909215,
          -71.78696079563686,
          -72.51478431825474,
          -71.0059137273019,
          -72.80236549092076,
          -74.12094619636831,
          -74.04837847854732,
          -72.81935139141893,
          -65.12774055656757,
          -70.45109622262703,
          -73.78043848905081,
          -79.91217539562032,
          -68.56487015824813,
          -71.22594806329926,
          -71.6903792253197,
          -73.07615169012789,
          -77.23046067605115,
          -77.69218427042046,
          -81.47687370816818,
          -81.19074948326727,
          -79.87629979330691,
          -72.15051991732277,
          -70.2602079669291,
          -65.30408318677163,
          -63.921633274708654,
          -64.56865330988346,
          -63.02746132395338,
          -63.61098452958135,
          -63.24439381183254,
          -63.09775752473301,
          -65.4391030098932,
          -65.77564120395728,
          -64.71025648158292,
          -64.88410259263317,
          -64.95364103705327,
          -64.98145641482131,
          -57.79258256592853,
          -54.31703302637141,
          -49.326813210548565,
          -56.330725284219426,
          -59.13229011368777,
          -60.85291604547511,
          -63.34116641819004,
          -69.73646656727601,
          -71.69458662691041,
          -72.47783465076417,
          -66.79113386030566,
          -66.91645354412226,
          -71.1665814176489,
          -66.26663256705956,
          -64.30665302682382,
          -64.12266121072953,
          -65.84906448429182,
          -67.73962579371673,
          -72.0958503174867,
          -75.03834012699468,
          -68.41533605079788,
          -65.76613442031915,
          -67.70645376812766,
          -70.28258150725107,
          -56.31303260290043,
          -60.92521304116017,
          -65.17008521646407,
          -57.26803408658563,
          -61.90721363463425,
          -63.7628854538537,
          -56.10515418154148,
          -64.44206167261659,
          -65.37682466904664,
          -58.55072986761866,
          -64.82029194704747,
          -67.32811677881898,
          -70.73124671152759,
          -68.49249868461104,
          -65.79699947384441,
          -58.11879978953776,
          -69.4475199158151,
          -66.17900796632604,
          -64.87160318653042,
          -66.14864127461217,
          -67.85945650984488,
          -71.54378260393796,
          -72.41751304157518,
          -67.96700521663007,
          -58.386802086652025,
          -65.9547208346608,
          -65.98188833386432,
          -67.19275533354573,
          -68.2771021334183,
          -69.31084085336732,
          -64.92433634134693,
          -65.56973453653877,
          -67.6278938146155,
          -67.8511575258462,
          -72.14046301033848,
          -73.85618520413539,
          -70.94247408165415,
          -70.37698963266166,
          -76.75079585306466,
          -78.70031834122587,
          -72.88012733649035,
          -60.95205093459614,
          -66.98082037383845,
          -56.79232814953538,
          -61.11693125981415,
          -56.84677250392566,
          -64.13870900157026,
          -69.4554836006281,
          -63.78219344025124,
          -66.3128773761005,
          -69.7251509504402,
          -66.89006038017608,
          -70.55602415207044,
          -74.42240966082818,
          -65.76896386433127,
          -56.30758554573251,
          -62.723034218293,
          -64.6892136873172,
          -69.67568547492688,
          -65.07027418997075,
          -66.8281096759883,
          -66.93124387039532,
          -69.37249754815812,
          -70.94899901926325,
          -69.1795996077053,
          -70.87183984308211,
          -70.94873593723284,
          -63.17949437489314,
          -67.27179774995726,
          -67.7087190999829,
          -60.68348763999316,
          -66.87339505599726,
          -67.5493580223989,
          -58.219743208959564,
          -58.08789728358383,
          -66.43515891343353,
          -57.77406356537341,
          -54.30962542614937,
          -65.52385017045975,
          -59.8095400681839,
          -54.52381602727356,
          -60.80952641090943,
          -69.32381056436377,
          -74.5295242257455,
          -63.4118096902982,
          -60.16472387611928,
          -62.46588955044771,
          -66.98635582017909,
          -71.19454232807163,
          -71.67781693122865,
          -77.27112677249146,
          -78.30845070899659,
          -81.12338028359864,
          -81.04935211343945,
          -81.61974084537579,
          -80.04789633815031,
          -72.21915853526012,
          -73.88766341410405,
          -75.15506536564162,
          -67.86202614625665,
          -75.14481045850266,
          -76.85792418340107,
          -75.74316967336043,
          -75.89726786934418,
          -76.55890714773767,
          -77.42356285909507,
          -71.76942514363803,
          -74.30777005745522,
          -75.92310802298209,
          -75.96924320919284,
          -77.18769728367714,
          -77.07507891347086,
          -78.23003156538834,
          -78.09201262615534,
          -79.83680505046213,
          -75.73472202018485,
          -78.29388880807394,
          -74.51755552322957,
          -75.40702220929182,
          -73.36280888371672,
          -75.54512355348669,
          -77.01804942139468,
          -83.60721976855787,
          -77.84288790742315,
          -77.93715516296926,
          -78.5748620651877,
          -78.82994482607508,
          -79.53197793043003,
          -79.81279117217201,
          -79.3251164688688,
          -79.13004658754753,
          -72.45201863501902,
          -76.9808074540076,
          -72.79232298160304,
          -71.71692919264122,
          -77.88677167705649,
          -80.9547086708226,
          -82.18188346832903,
          -84.47275338733161,
          -82.98910135493264,
          -81.79564054197306,
          -74.71825621678923,
          -79.6873024867157,
          -75.07492099468628,
          -72.6299683978745,
          -77.6519873591498,
          -75.46079494365992,
          -77.58431797746397,
          -73.63372719098558,
          -72.65349087639423,
          -77.06139635055769,
          -73.42455854022307,
          -80.96982341608923,
          -79.1879293664357,
          -81.47517174657428,
          -78.79006869862971,
          -84.31602747945189,
          -78.12641099178076,
          -76.2505643967123,
          -68.30022575868492,
          -73.52009030347396,
          -77.40803612138959,
          -84.96321444855583,
          -80.78528577942234,
          -74.31411431176893,
          -75.92564572470758,
          -76.57025828988303,
          -78.02810331595322,
          -74.41124132638129,
          -75.96449653055251,
          -76.585798612221,
          -75.6343194448884,
          -74.05372777795536,
          -76.42149111118215,
          -76.16859644447285,
          -73.66743857778914,
          -74.46697543111566,
          -65.18679017244627,
          -65.67471606897851,
          -75.4698864275914,
          -69.78795457103656,
          -74.71518182841463,
          -65.88607273136586,
          -74.35442909254634,
          -74.74177163701853,
          -74.89670865480741,
          -67.75868346192297,
          -73.90347338476919,
          -77.56138935390767,
          -76.62455574156307,
          -78.04982229662522,
          -76.81992891865009,
          -81.12797156746004,
          -84.65118862698401,
          -78.8604754507936,
          -69.34419018031744,
          -73.93767607212698,
          -79.37507042885079,
          -72.55002817154032,
          -77.02001126861613,
          -78.80800450744646,
          -77.72320180297858,
          -75.48928072119143,
          -78.19571228847657,
          -78.67828491539063,
          -79.47131396615626,
          -67.7885255864625,
          -73.315410234585,
          -75.526164093834,
          -78.2104656375336,
          -76.28418625501344,
          -74.91367450200538,
          -76.76546980080215,
          -81.70618792032086,
          -83.08247516812834,
          -86.63299006725134,
          -82.65319602690053,
          -81.66127841076022,
          -78.8645113643041,
          -76.54580454572164,
          -75.01832181828865,
          -69.00732872731547,
          -68.40293149092619,
          -66.36117259637048,
          -73.3444690385482,
          -76.73778761541928,
          -78.69511504616771,
          -74.67804601846709,
          -78.47121840738683,
          -70.38848736295473,
          -82.1553949451819,
          -78.46215797807275,
          -78.1848631912291,
          -81.07394527649164,
          -81.62957811059665,
          -80.65183124423866,
          -81.46073249769546,
          -88.38429299907818,
          -90.55371719963128,
          -84.82148687985251,
          -84.32859475194101,
          -85.9314379007764,
          -86.57257516031056,
          -77.22903006412423,
          -86.69161202564969,
          -83.87664481025988,
          -82.75065792410395,
          -77.50026316964158,
          -75.40010526785663,
          -79.96004210714266,
          -75.78401684285706,
          -81.91360673714283,
          -78.96544269485713,
          -83.78617707794285,
          -83.91447083117714,
          -87.56578833247086,
          -84.82631533298834,
          -83.73052613319534,
          -83.29221045327813,
          -82.51688418131126,
          -82.2067536725245,
          -79.0827014690098,
          -79.63308058760393,
          -79.85323223504157,
          -82.94129289401663,
          -82.37651715760666,
          -85.15060686304267,
          -82.66024274521706,
          -81.06409709808682,
          -79.22563883923473,
          -77.29025553569389,
          -76.51610221427755,
          -79.80644088571103,
          -82.32257635428441,
          -83.32903054171376,
          -83.7316122166855,
          -79.6926448866742,
          -78.07705795466968,
          -80.43082318186788,
          -81.37232927274715,
          -82.94893170909886,
          -82.97957268363955,
          -84.19182907345582,
          -84.67673162938233,
          -81.27069265175294,
          -87.70827706070118,
          -81.88331082428047,
          -82.55332432971218,
          -82.22132973188488,
          -85.68853189275396,
          -82.87541275710159,
          -87.15016510284063,
          -81.06006604113625,
          -82.8240264164545,
          -82.9296105665818,
          -79.37184422663272,
          -83.34873769065308,
          -85.53949507626123,
          -88.21579803050449,
          -83.28631921220179,
          -81.91452768488071,
          -81.36581107395229,
          -84.14632442958091,
          -84.65852977183236,
          -85.46341190873295,
          -85.18536476349318,
          -87.47414590539728,
          -79.9896583621589,
          -84.19586334486357,
          -82.27834533794542,
          -80.91133813517817,
          -82.16453525407127,
          -83.8658141016285,
          -81.5463256406514,
          -84.21853025626056,
          -84.08741210250423,
          -80.43496484100169,
          -79.57398593640067,
          -81.02959437456028,
          -82.81183774982411,
          -83.52473509992964,
          -73.60989403997186,
          -83.44395761598875,
          -78.3775830463955,
          -80.5510332185582,
          -72.42041328742329,
          -79.96816531496931,
          -82.38726612598772,
          -72.5549064503951,
          -66.22196258015803,
          -67.28878503206322,
          -72.51551401282529,
          -77.60620560513011,
          -82.64248224205204,
          -79.85699289682081,
          -78.14279715872833,
          -79.25711886349133,
          -71.90284754539653,
          -77.9611390181586,
          -79.18445560726344,
          -80.87378224290538,
          -86.34951289716216,
          -82.53980515886487,
          -73.81592206354594,
          -79.32636882541837,
          -83.93054753016735,
          -82.17221901206693,
          -89.86888760482677,
          -92.3475550419307,
          -95.13902201677229,
          -86.65560880670891,
          -83.26224352268356,
          -81.90489740907343
         ],
         "yaxis": "y2"
        },
        {
         "line": {
          "color": "black"
         },
         "mode": "lines",
         "name": "Filtered RSSI",
         "type": "scatter",
         "x": [
          0.045,
          0.554,
          2.067,
          2.572,
          3.073,
          4.086,
          4.593,
          5.101,
          5.608,
          6.111,
          6.614,
          7.124,
          7.63,
          8.131,
          8.635,
          9.652,
          10.152,
          11.164,
          13.191,
          13.691,
          14.705,
          15.207,
          16.223,
          17.228,
          18.244,
          19.252,
          19.753,
          20.262,
          20.773,
          21.781,
          22.794,
          24.304,
          25.312,
          25.813,
          26.32,
          27.334,
          28.924,
          29.347,
          30.865,
          32.891,
          33.905,
          34.915,
          35.421,
          36.437,
          37.943,
          38.445,
          39.46,
          39.97,
          42.501,
          43.001,
          44.514,
          45.023,
          45.527,
          46.027,
          46.537,
          47.552,
          48.056,
          49.064,
          49.564,
          50.068,
          50.571,
          51.08,
          52.094,
          52.604,
          53.616,
          54.124,
          55.641,
          57.657,
          58.66,
          59.163,
          59.667,
          60.17,
          60.677,
          61.187,
          61.697,
          62.716,
          63.226,
          63.728,
          65.755,
          67.776,
          68.785,
          69.292,
          69.797,
          71.822,
          73.336,
          73.839,
          74.843,
          75.349,
          75.857,
          76.362,
          76.868,
          78.383,
          78.891,
          79.395,
          79.904,
          81.414,
          81.923,
          82.931,
          83.438,
          84.452,
          85.977,
          86.477,
          86.981,
          87.485,
          87.988,
          88.494,
          89.497,
          90.005,
          90.507,
          91.013,
          91.521,
          92.532,
          93.549,
          94.053,
          94.563,
          95.573,
          96.072,
          96.575,
          97.082,
          98.595,
          99.601,
          100.104,
          100.605,
          101.107,
          101.611,
          102.117,
          102.622,
          103.132,
          103.633,
          104.133,
          104.639,
          105.142,
          105.643,
          106.652,
          107.156,
          107.656,
          108.157,
          109.661,
          110.676,
          111.682,
          112.184,
          113.193,
          114.713,
          115.221,
          115.724,
          116.229,
          117.748,
          118.762,
          120.278,
          121.285,
          121.793,
          122.298,
          123.306,
          124.312,
          124.821,
          125.833,
          126.338,
          126.844,
          127.352,
          128.863,
          129.874,
          130.384,
          130.888,
          131.392,
          132.4,
          133.917,
          134.427,
          134.929,
          135.438,
          135.948,
          136.951,
          137.961,
          138.467,
          139.486,
          139.987,
          140.997,
          142.512,
          143.524,
          144.532,
          145.035,
          145.542,
          146.553,
          147.565,
          148.066,
          150.592,
          151.098,
          152.622,
          153.124,
          154.139,
          154.643,
          157.164,
          157.669,
          158.168,
          159.18,
          160.703,
          162.718,
          163.227,
          163.728,
          164.236,
          164.738,
          165.241,
          166.253,
          166.762,
          167.262,
          168.776,
          171.805,
          172.818,
          173.824,
          176.352,
          176.853,
          177.868,
          178.378,
          180.399,
          180.905,
          181.409,
          182.423,
          183.438,
          184.445,
          184.947,
          186.454,
          187.467,
          188.985,
          189.992,
          191.503,
          193.018,
          194.026,
          196.544,
          197.559,
          199.079,
          200.092,
          201.104,
          202.113,
          203.629,
          206.153,
          206.658,
          207.668,
          208.684,
          209.194,
          210.704,
          211.205,
          211.707,
          212.219,
          212.717,
          213.219,
          213.725,
          215.75,
          216.26,
          216.763,
          217.781,
          218.288,
          218.789,
          219.29,
          219.792,
          221.808,
          222.817,
          224.329,
          225.847,
          226.855,
          227.366,
          227.866,
          228.372,
          228.878,
          230.896,
          231.405,
          232.413,
          233.927,
          234.428,
          235.434,
          239.461,
          239.967,
          240.474,
          240.981,
          241.989,
          242.999,
          244.009,
          246.026,
          247.54,
          248.552,
          249.059,
          249.564,
          250.069,
          250.579,
          251.588,
          253.109,
          254.119,
          256.136,
          257.65,
          260.677,
          261.18,
          261.687,
          262.193,
          262.701,
          263.21,
          264.229,
          268.273,
          268.783,
          270.303,
          271.314,
          273.334,
          273.843,
          274.856,
          275.372,
          275.871,
          277.394,
          277.903,
          278.918,
          279.425,
          279.931,
          281.449,
          281.95,
          284.478,
          285.49,
          285.998,
          287.01,
          287.518,
          288.027,
          288.528,
          292.055,
          292.564,
          294.082,
          294.59,
          295.099,
          296.108,
          296.616,
          297.119,
          299.643,
          300.147,
          300.648,
          302.156,
          302.666,
          303.176,
          305.186,
          305.695,
          306.201,
          306.706,
          307.208,
          308.212,
          308.715,
          309.217,
          310.741,
          311.243,
          311.748,
          313.261,
          313.768,
          314.274,
          316.799,
          317.809,
          318.314,
          319.824,
          323.371,
          326.4,
          326.909,
          327.416,
          327.924,
          328.938,
          330.458,
          331.469,
          331.978,
          332.488,
          334.514,
          335.017,
          336.035,
          336.54,
          337.559,
          339.069,
          339.579,
          340.588,
          341.098,
          341.604,
          342.103,
          342.611,
          343.118,
          343.619,
          345.628,
          346.134,
          348.147,
          348.649,
          350.159,
          350.667,
          351.672,
          352.176,
          353.19,
          353.694,
          355.205,
          355.711,
          356.215,
          357.231,
          357.737,
          359.254,
          359.757,
          362.278,
          363.279,
          363.781,
          366.317,
          368.337,
          369.846,
          370.348,
          371.366,
          371.871,
          372.376,
          372.885,
          373.387,
          373.895,
          374.399,
          374.908,
          375.92,
          377.941,
          379.45,
          379.954,
          380.966,
          382.488,
          384.508,
          385.511,
          386.012,
          386.515,
          387.025,
          388.031,
          389.039,
          389.547,
          390.104,
          390.559,
          391.072,
          394.611
         ],
         "xaxis": "x3",
         "y": [
          -72,
          -71.3027538,
          -71.48761611,
          -71.6632353045,
          -71.680073539275,
          -71.64606986231125,
          -71.66376636919568,
          -71.6305780507359,
          -71.04904914819912,
          -70.54659669078916,
          -70.7692668562497,
          -70.88080351343721,
          -70.98676333776535,
          -70.93742517087709,
          -71.09055391233323,
          -71.28602621671658,
          -71.42172490588075,
          -71.45063866058672,
          -70.87810672755738,
          -71.03420139117951,
          -71.28249132162053,
          -71.9183667555395,
          -71.37244841776251,
          -71.45382599687439,
          -71.48113469703067,
          -71.60707796217913,
          -72.02672406407018,
          -72.32538786086667,
          -72.90911846782333,
          -73.31366254443216,
          -73.59797941721055,
          -73.26808044635003,
          -73.05467642403252,
          -72.5019426028309,
          -72.02684547268935,
          -71.67550319905487,
          -71.19172803910213,
          -70.83214163714702,
          -70.44053455528967,
          -70.0685078275252,
          -69.91508243614894,
          -69.71932831434148,
          -69.43336189862441,
          -69.2116938036932,
          -69.00110911350853,
          -68.80105365783311,
          -68.01100097494145,
          -67.21045092619438,
          -66.14992837988467,
          -65.89243196089043,
          -65.64781036284592,
          -65.46541984470362,
          -65.44214885246843,
          -65.87004140984502,
          -66.22653933935277,
          -66.56521237238513,
          -66.38695175376587,
          -66.41760416607758,
          -66.79672395777371,
          -66.60688775988503,
          -66.42654337189077,
          -66.30521620329624,
          -66.33995539313143,
          -66.47295762347485,
          -66.89930974230111,
          -67.40434425518606,
          -67.23412704242676,
          -67.07242069030542,
          -67.16879965579015,
          -67.41035967300064,
          -66.3898416893506,
          -66.27034960488308,
          -66.35683212463893,
          -65.63899051840698,
          -65.60704099248663,
          -65.5766889428623,
          -64.84785449571919,
          -65.10546177093323,
          -65.15018868238657,
          -64.59267924826725,
          -64.81304528585389,
          -65.0223930215612,
          -65.42127337048314,
          -65.50020970195898,
          -65.42519921686103,
          -64.80393925601798,
          -65.41374229321708,
          -65.34305517855623,
          -65.27590241962841,
          -65.36210729864699,
          -65.54400193371464,
          -65.96680183702891,
          -66.31846174517746,
          -66.25253865791859,
          -65.53991172502266,
          -65.81291613877153,
          -65.82227033183295,
          -65.93115681524131,
          -66.08459897447925,
          -66.28036902575529,
          -66.06635057446752,
          -66.06303304574415,
          -66.20988139345694,
          -66.29938732378409,
          -66.73441795759489,
          -67.14769705971514,
          -67.24031220672939,
          -67.37829659639291,
          -68.05938176657327,
          -68.6564126782446,
          -68.67359204433238,
          -67.88991244211576,
          -68.04541682000998,
          -67.14314597900947,
          -66.985988680059,
          -66.33668924605604,
          -66.46985478375323,
          -66.79636204456557,
          -66.45654394233729,
          -66.53371674522043,
          -66.80703090795942,
          -66.71667936256145,
          -67.03084539443338,
          -67.52930312471172,
          -67.15283796847613,
          -66.29519607005233,
          -66.33043626654971,
          -66.31391445322222,
          -66.64821873056111,
          -66.41580779403306,
          -66.4950174043314,
          -66.52026653411484,
          -66.7442532074091,
          -67.00704054703864,
          -67.05668851968672,
          -67.30385409370238,
          -67.48866138901727,
          -67.0142283195664,
          -67.16351690358808,
          -67.20534105840868,
          -66.64507400548824,
          -66.86282030521383,
          -66.91967928995314,
          -66.17369532545548,
          -65.76501055918271,
          -66.07676003122357,
          -65.37292202966239,
          -64.70427592817927,
          -65.1190621317703,
          -64.6631090251818,
          -63.97995357392271,
          -64.03095589522657,
          -64.57940810046524,
          -65.25043769544199,
          -64.78791581066989,
          -64.44852002013639,
          -64.42609401912956,
          -64.70478931817308,
          -65.16954985226442,
          -65.51107235965121,
          -66.28551874166865,
          -66.92124280458522,
          -67.72518066435596,
          -68.38892163113816,
          -69.06947554958126,
          -69.5660017721022,
          -69.43770168349708,
          -69.71581659932222,
          -70.03002576935612,
          -69.67852448088831,
          -70.1945982568439,
          -70.5848683440017,
          -70.80562492680161,
          -71.06534368046154,
          -71.36207649643846,
          -71.69397267161654,
          -71.50927403803571,
          -71.73381033613393,
          -71.99711981932722,
          -72.19726382836086,
          -72.48740063694282,
          -72.71303060509568,
          -73.0273790748409,
          -73.27601012109885,
          -73.6622096150439,
          -73.6290991342917,
          -73.94764417757712,
          -73.85026196869826,
          -73.95774887026334,
          -73.85986142675017,
          -74.01686835541267,
          -74.21602493764203,
          -74.90522369075993,
          -74.85996250622193,
          -75.01696438091084,
          -75.21611616186529,
          -75.40531035377202,
          -75.63504483608342,
          -75.85329259427925,
          -76.01062796456529,
          -76.16009656633702,
          -75.75209173802017,
          -75.96448715111916,
          -75.6662627935632,
          -75.43294965388505,
          -75.76130217119079,
          -76.12323706263125,
          -76.46707520949968,
          -76.9437214490247,
          -77.19653537657346,
          -77.3867086077448,
          -77.01737317735756,
          -77.31650451848968,
          -77.05067929256519,
          -76.74814532793694,
          -76.9607380615401,
          -76.8127011584631,
          -76.92206610053995,
          -76.62596279551295,
          -76.3946646557373,
          -76.57493142295044,
          -76.29618485180292,
          -76.78137560921277,
          -76.84230682875213,
          -77.15019148731452,
          -77.14268191294879,
          -77.68554781730136,
          -77.50127042643629,
          -77.37620690511447,
          -76.65739655985875,
          -76.67452673186581,
          -76.84080039527252,
          -77.4987603755089,
          -77.52382235673345,
          -77.14763123889678,
          -77.14024967695194,
          -77.13323719310434,
          -77.22657533344912,
          -76.96524656677667,
          -76.96698423843783,
          -76.96863502651594,
          -76.87020327519015,
          -76.67669311143064,
          -76.7428584558591,
          -76.70571553306615,
          -76.47042975641284,
          -76.3969082685922,
          -75.52706285516258,
          -75.05070971240445,
          -75.39817422678423,
          -74.92826551544502,
          -75.08185223967277,
          -74.32775962768913,
          -74.61137164630468,
          -74.63080306398945,
          -74.64926291078997,
          -74.06679976525048,
          -74.26345977698796,
          -74.55028678813856,
          -74.62277244873164,
          -74.84163382629505,
          -74.8995521349803,
          -75.35457452823128,
          -75.93684580181971,
          -75.89000351172874,
          -75.24550333614229,
          -75.33322816933517,
          -75.71656676086842,
          -75.330738422825,
          -75.56420150168374,
          -75.78599142659955,
          -75.84669185526957,
          -75.75435726250609,
          -75.96663939938078,
          -76.11830742941174,
          -76.31239205794115,
          -75.4967724550441,
          -75.57193383229189,
          -75.64333714067729,
          -75.86117028364342,
          -75.81811176946124,
          -75.72720618098818,
          -75.84084587193877,
          -76.29880357834183,
          -76.68386339942474,
          -77.2996702294535,
          -77.43468671798082,
          -77.61295238208179,
          -77.5823047629777,
          -77.45318952482882,
          -77.28053004858738,
          -76.66650354615801,
          -76.2331783688501,
          -75.6715194504076,
          -75.78794347788723,
          -75.94854630399287,
          -76.15111898879323,
          -75.94356303935356,
          -76.19638488738589,
          -75.6365656430166,
          -76.35473736086577,
          -76.33700049282248,
          -76.42015046818136,
          -76.74914294477229,
          -77.01168579753367,
          -77.161101507657,
          -77.40304643227414,
          -78.18289411066043,
          -78.87374940512741,
          -78.98006193487105,
          -79.2310588381275,
          -79.61950589622111,
          -79.98853060141006,
          -79.53910407133957,
          -80.21214886777258,
          -80.30154142438396,
          -80.38646435316475,
          -80.06714113550652,
          -79.76378407873119,
          -79.92559487479463,
          -79.5793151310549,
          -79.90034937450216,
          -79.75533190577704,
          -80.11756531048819,
          -80.31168704496378,
          -80.79610269271559,
          -80.90629755807981,
          -81.01098268017583,
          -81.11043354616703,
          -81.15491186885868,
          -81.19716627541574,
          -80.98730796164496,
          -80.93794256356271,
          -80.89104543538458,
          -81.09649316361535,
          -81.14166850543458,
          -81.43458508016285,
          -81.41285582615471,
          -81.34221303484698,
          -81.17510238310463,
          -80.9163472639494,
          -80.67052990075193,
          -80.73700340571433,
          -80.90015323542862,
          -81.05514557365719,
          -81.20238829497433,
          -80.99226888022561,
          -80.79265543621433,
          -80.85302266440361,
          -80.91037153118343,
          -81.06485295462426,
          -81.16161030689304,
          -81.35352979154838,
          -81.53585330197096,
          -81.40906063687241,
          -81.93860760502879,
          -81.74167722477735,
          -81.80459336353849,
          -81.81436369536156,
          -82.12364551059349,
          -82.06746323506381,
          -82.46409007331062,
          -82.19088556964509,
          -82.28134129116283,
          -82.3172742266047,
          -82.05141051527445,
          -82.24883998951073,
          -82.48639799003519,
          -82.86207809053343,
          -82.71897418600676,
          -82.63302547670642,
          -82.5513742028711,
          -82.72380549272755,
          -82.83761521809117,
          -82.99573445718661,
          -83.09594773432728,
          -83.39115034761092,
          -82.97159283023038,
          -83.17301318871885,
          -83.06436252928292,
          -82.91114440281878,
          -82.91558718267784,
          -83.01980782354394,
          -82.86881743236674,
          -83.0253765607484,
          -83.07410773271098,
          -82.82040234607544,
          -82.62938222877168,
          -82.59791311733309,
          -82.66801746146643,
          -82.73461658839311,
          -81.94788575897346,
          -82.35049147102478,
          -81.98296689747355,
          -81.98381855259987,
          -81.23462762496987,
          -81.42289624372138,
          -81.55175143153531,
          -80.77416385995855,
          -79.83545566696063,
          -79.24368288361259,
          -79.08149873943196,
          -79.17742380246037,
          -79.51855261233734,
          -79.44262498172048,
          -79.32049373263446,
          -79.35446904600273,
          -78.7367455937026,
          -78.89990831401747,
          -78.95491289831659,
          -79.10716725340076,
          -79.65180889073072,
          -79.66921844619418,
          -79.08575752388447,
          -79.28146964769024,
          -79.66739616530573,
          -79.73402635704045,
          -80.49732503918842,
          -81.172458787229,
          -81.96383584786756,
          -81.91564405547417,
          -81.86986185270047,
          -81.82636876006545
         ],
         "yaxis": "y3"
        }
       ],
       "layout": {
        "annotations": [
         {
          "font": {
           "size": 16
          },
          "showarrow": false,
          "text": "Normal Filtering (alpha=0.2)",
          "x": 0.14444444444444443,
          "xanchor": "center",
          "xref": "paper",
          "y": 1,
          "yanchor": "bottom",
          "yref": "paper"
         },
         {
          "font": {
           "size": 16
          },
          "showarrow": false,
          "text": "Decreased Filtering (alpha=0.6)",
          "x": 0.49999999999999994,
          "xanchor": "center",
          "xref": "paper",
          "y": 1,
          "yanchor": "bottom",
          "yref": "paper"
         },
         {
          "font": {
           "size": 16
          },
          "showarrow": false,
          "text": "Increased Filtering (alpha=0.05)",
          "x": 0.8555555555555554,
          "xanchor": "center",
          "xref": "paper",
          "y": 1,
          "yanchor": "bottom",
          "yref": "paper"
         }
        ],
        "barmode": "group",
        "hovermode": "x unified",
        "legend": {
         "orientation": "v",
         "xanchor": "left"
        },
        "template": {
         "data": {
          "bar": [
           {
            "error_x": {
             "color": "#2a3f5f"
            },
            "error_y": {
             "color": "#2a3f5f"
            },
            "marker": {
             "line": {
              "color": "#E5ECF6",
              "width": 0.5
             },
             "pattern": {
              "fillmode": "overlay",
              "size": 10,
              "solidity": 0.2
             }
            },
            "type": "bar"
           }
          ],
          "barpolar": [
           {
            "marker": {
             "line": {
              "color": "#E5ECF6",
              "width": 0.5
             },
             "pattern": {
              "fillmode": "overlay",
              "size": 10,
              "solidity": 0.2
             }
            },
            "type": "barpolar"
           }
          ],
          "carpet": [
           {
            "aaxis": {
             "endlinecolor": "#2a3f5f",
             "gridcolor": "white",
             "linecolor": "white",
             "minorgridcolor": "white",
             "startlinecolor": "#2a3f5f"
            },
            "baxis": {
             "endlinecolor": "#2a3f5f",
             "gridcolor": "white",
             "linecolor": "white",
             "minorgridcolor": "white",
             "startlinecolor": "#2a3f5f"
            },
            "type": "carpet"
           }
          ],
          "choropleth": [
           {
            "colorbar": {
             "outlinewidth": 0,
             "ticks": ""
            },
            "type": "choropleth"
           }
          ],
          "contour": [
           {
            "colorbar": {
             "outlinewidth": 0,
             "ticks": ""
            },
            "colorscale": [
             [
              0,
              "#0d0887"
             ],
             [
              0.1111111111111111,
              "#46039f"
             ],
             [
              0.2222222222222222,
              "#7201a8"
             ],
             [
              0.3333333333333333,
              "#9c179e"
             ],
             [
              0.4444444444444444,
              "#bd3786"
             ],
             [
              0.5555555555555556,
              "#d8576b"
             ],
             [
              0.6666666666666666,
              "#ed7953"
             ],
             [
              0.7777777777777778,
              "#fb9f3a"
             ],
             [
              0.8888888888888888,
              "#fdca26"
             ],
             [
              1,
              "#f0f921"
             ]
            ],
            "type": "contour"
           }
          ],
          "contourcarpet": [
           {
            "colorbar": {
             "outlinewidth": 0,
             "ticks": ""
            },
            "type": "contourcarpet"
           }
          ],
          "heatmap": [
           {
            "colorbar": {
             "outlinewidth": 0,
             "ticks": ""
            },
            "colorscale": [
             [
              0,
              "#0d0887"
             ],
             [
              0.1111111111111111,
              "#46039f"
             ],
             [
              0.2222222222222222,
              "#7201a8"
             ],
             [
              0.3333333333333333,
              "#9c179e"
             ],
             [
              0.4444444444444444,
              "#bd3786"
             ],
             [
              0.5555555555555556,
              "#d8576b"
             ],
             [
              0.6666666666666666,
              "#ed7953"
             ],
             [
              0.7777777777777778,
              "#fb9f3a"
             ],
             [
              0.8888888888888888,
              "#fdca26"
             ],
             [
              1,
              "#f0f921"
             ]
            ],
            "type": "heatmap"
           }
          ],
          "heatmapgl": [
           {
            "colorbar": {
             "outlinewidth": 0,
             "ticks": ""
            },
            "colorscale": [
             [
              0,
              "#0d0887"
             ],
             [
              0.1111111111111111,
              "#46039f"
             ],
             [
              0.2222222222222222,
              "#7201a8"
             ],
             [
              0.3333333333333333,
              "#9c179e"
             ],
             [
              0.4444444444444444,
              "#bd3786"
             ],
             [
              0.5555555555555556,
              "#d8576b"
             ],
             [
              0.6666666666666666,
              "#ed7953"
             ],
             [
              0.7777777777777778,
              "#fb9f3a"
             ],
             [
              0.8888888888888888,
              "#fdca26"
             ],
             [
              1,
              "#f0f921"
             ]
            ],
            "type": "heatmapgl"
           }
          ],
          "histogram": [
           {
            "marker": {
             "pattern": {
              "fillmode": "overlay",
              "size": 10,
              "solidity": 0.2
             }
            },
            "type": "histogram"
           }
          ],
          "histogram2d": [
           {
            "colorbar": {
             "outlinewidth": 0,
             "ticks": ""
            },
            "colorscale": [
             [
              0,
              "#0d0887"
             ],
             [
              0.1111111111111111,
              "#46039f"
             ],
             [
              0.2222222222222222,
              "#7201a8"
             ],
             [
              0.3333333333333333,
              "#9c179e"
             ],
             [
              0.4444444444444444,
              "#bd3786"
             ],
             [
              0.5555555555555556,
              "#d8576b"
             ],
             [
              0.6666666666666666,
              "#ed7953"
             ],
             [
              0.7777777777777778,
              "#fb9f3a"
             ],
             [
              0.8888888888888888,
              "#fdca26"
             ],
             [
              1,
              "#f0f921"
             ]
            ],
            "type": "histogram2d"
           }
          ],
          "histogram2dcontour": [
           {
            "colorbar": {
             "outlinewidth": 0,
             "ticks": ""
            },
            "colorscale": [
             [
              0,
              "#0d0887"
             ],
             [
              0.1111111111111111,
              "#46039f"
             ],
             [
              0.2222222222222222,
              "#7201a8"
             ],
             [
              0.3333333333333333,
              "#9c179e"
             ],
             [
              0.4444444444444444,
              "#bd3786"
             ],
             [
              0.5555555555555556,
              "#d8576b"
             ],
             [
              0.6666666666666666,
              "#ed7953"
             ],
             [
              0.7777777777777778,
              "#fb9f3a"
             ],
             [
              0.8888888888888888,
              "#fdca26"
             ],
             [
              1,
              "#f0f921"
             ]
            ],
            "type": "histogram2dcontour"
           }
          ],
          "mesh3d": [
           {
            "colorbar": {
             "outlinewidth": 0,
             "ticks": ""
            },
            "type": "mesh3d"
           }
          ],
          "parcoords": [
           {
            "line": {
             "colorbar": {
              "outlinewidth": 0,
              "ticks": ""
             }
            },
            "type": "parcoords"
           }
          ],
          "pie": [
           {
            "automargin": true,
            "type": "pie"
           }
          ],
          "scatter": [
           {
            "marker": {
             "colorbar": {
              "outlinewidth": 0,
              "ticks": ""
             }
            },
            "type": "scatter"
           }
          ],
          "scatter3d": [
           {
            "line": {
             "colorbar": {
              "outlinewidth": 0,
              "ticks": ""
             }
            },
            "marker": {
             "colorbar": {
              "outlinewidth": 0,
              "ticks": ""
             }
            },
            "type": "scatter3d"
           }
          ],
          "scattercarpet": [
           {
            "marker": {
             "colorbar": {
              "outlinewidth": 0,
              "ticks": ""
             }
            },
            "type": "scattercarpet"
           }
          ],
          "scattergeo": [
           {
            "marker": {
             "colorbar": {
              "outlinewidth": 0,
              "ticks": ""
             }
            },
            "type": "scattergeo"
           }
          ],
          "scattergl": [
           {
            "marker": {
             "colorbar": {
              "outlinewidth": 0,
              "ticks": ""
             }
            },
            "type": "scattergl"
           }
          ],
          "scattermapbox": [
           {
            "marker": {
             "colorbar": {
              "outlinewidth": 0,
              "ticks": ""
             }
            },
            "type": "scattermapbox"
           }
          ],
          "scatterpolar": [
           {
            "marker": {
             "colorbar": {
              "outlinewidth": 0,
              "ticks": ""
             }
            },
            "type": "scatterpolar"
           }
          ],
          "scatterpolargl": [
           {
            "marker": {
             "colorbar": {
              "outlinewidth": 0,
              "ticks": ""
             }
            },
            "type": "scatterpolargl"
           }
          ],
          "scatterternary": [
           {
            "marker": {
             "colorbar": {
              "outlinewidth": 0,
              "ticks": ""
             }
            },
            "type": "scatterternary"
           }
          ],
          "surface": [
           {
            "colorbar": {
             "outlinewidth": 0,
             "ticks": ""
            },
            "colorscale": [
             [
              0,
              "#0d0887"
             ],
             [
              0.1111111111111111,
              "#46039f"
             ],
             [
              0.2222222222222222,
              "#7201a8"
             ],
             [
              0.3333333333333333,
              "#9c179e"
             ],
             [
              0.4444444444444444,
              "#bd3786"
             ],
             [
              0.5555555555555556,
              "#d8576b"
             ],
             [
              0.6666666666666666,
              "#ed7953"
             ],
             [
              0.7777777777777778,
              "#fb9f3a"
             ],
             [
              0.8888888888888888,
              "#fdca26"
             ],
             [
              1,
              "#f0f921"
             ]
            ],
            "type": "surface"
           }
          ],
          "table": [
           {
            "cells": {
             "fill": {
              "color": "#EBF0F8"
             },
             "line": {
              "color": "white"
             }
            },
            "header": {
             "fill": {
              "color": "#C8D4E3"
             },
             "line": {
              "color": "white"
             }
            },
            "type": "table"
           }
          ]
         },
         "layout": {
          "annotationdefaults": {
           "arrowcolor": "#2a3f5f",
           "arrowhead": 0,
           "arrowwidth": 1
          },
          "autotypenumbers": "strict",
          "coloraxis": {
           "colorbar": {
            "outlinewidth": 0,
            "ticks": ""
           }
          },
          "colorscale": {
           "diverging": [
            [
             0,
             "#8e0152"
            ],
            [
             0.1,
             "#c51b7d"
            ],
            [
             0.2,
             "#de77ae"
            ],
            [
             0.3,
             "#f1b6da"
            ],
            [
             0.4,
             "#fde0ef"
            ],
            [
             0.5,
             "#f7f7f7"
            ],
            [
             0.6,
             "#e6f5d0"
            ],
            [
             0.7,
             "#b8e186"
            ],
            [
             0.8,
             "#7fbc41"
            ],
            [
             0.9,
             "#4d9221"
            ],
            [
             1,
             "#276419"
            ]
           ],
           "sequential": [
            [
             0,
             "#0d0887"
            ],
            [
             0.1111111111111111,
             "#46039f"
            ],
            [
             0.2222222222222222,
             "#7201a8"
            ],
            [
             0.3333333333333333,
             "#9c179e"
            ],
            [
             0.4444444444444444,
             "#bd3786"
            ],
            [
             0.5555555555555556,
             "#d8576b"
            ],
            [
             0.6666666666666666,
             "#ed7953"
            ],
            [
             0.7777777777777778,
             "#fb9f3a"
            ],
            [
             0.8888888888888888,
             "#fdca26"
            ],
            [
             1,
             "#f0f921"
            ]
           ],
           "sequentialminus": [
            [
             0,
             "#0d0887"
            ],
            [
             0.1111111111111111,
             "#46039f"
            ],
            [
             0.2222222222222222,
             "#7201a8"
            ],
            [
             0.3333333333333333,
             "#9c179e"
            ],
            [
             0.4444444444444444,
             "#bd3786"
            ],
            [
             0.5555555555555556,
             "#d8576b"
            ],
            [
             0.6666666666666666,
             "#ed7953"
            ],
            [
             0.7777777777777778,
             "#fb9f3a"
            ],
            [
             0.8888888888888888,
             "#fdca26"
            ],
            [
             1,
             "#f0f921"
            ]
           ]
          },
          "colorway": [
           "#636efa",
           "#EF553B",
           "#00cc96",
           "#ab63fa",
           "#FFA15A",
           "#19d3f3",
           "#FF6692",
           "#B6E880",
           "#FF97FF",
           "#FECB52"
          ],
          "font": {
           "color": "#2a3f5f"
          },
          "geo": {
           "bgcolor": "white",
           "lakecolor": "white",
           "landcolor": "#E5ECF6",
           "showlakes": true,
           "showland": true,
           "subunitcolor": "white"
          },
          "hoverlabel": {
           "align": "left"
          },
          "hovermode": "closest",
          "mapbox": {
           "style": "light"
          },
          "paper_bgcolor": "white",
          "plot_bgcolor": "#E5ECF6",
          "polar": {
           "angularaxis": {
            "gridcolor": "white",
            "linecolor": "white",
            "ticks": ""
           },
           "bgcolor": "#E5ECF6",
           "radialaxis": {
            "gridcolor": "white",
            "linecolor": "white",
            "ticks": ""
           }
          },
          "scene": {
           "xaxis": {
            "backgroundcolor": "#E5ECF6",
            "gridcolor": "white",
            "gridwidth": 2,
            "linecolor": "white",
            "showbackground": true,
            "ticks": "",
            "zerolinecolor": "white"
           },
           "yaxis": {
            "backgroundcolor": "#E5ECF6",
            "gridcolor": "white",
            "gridwidth": 2,
            "linecolor": "white",
            "showbackground": true,
            "ticks": "",
            "zerolinecolor": "white"
           },
           "zaxis": {
            "backgroundcolor": "#E5ECF6",
            "gridcolor": "white",
            "gridwidth": 2,
            "linecolor": "white",
            "showbackground": true,
            "ticks": "",
            "zerolinecolor": "white"
           }
          },
          "shapedefaults": {
           "line": {
            "color": "#2a3f5f"
           }
          },
          "ternary": {
           "aaxis": {
            "gridcolor": "white",
            "linecolor": "white",
            "ticks": ""
           },
           "baxis": {
            "gridcolor": "white",
            "linecolor": "white",
            "ticks": ""
           },
           "bgcolor": "#E5ECF6",
           "caxis": {
            "gridcolor": "white",
            "linecolor": "white",
            "ticks": ""
           }
          },
          "title": {
           "x": 0.05
          },
          "xaxis": {
           "automargin": true,
           "gridcolor": "white",
           "linecolor": "white",
           "ticks": "",
           "title": {
            "standoff": 15
           },
           "zerolinecolor": "white",
           "zerolinewidth": 2
          },
          "yaxis": {
           "automargin": true,
           "gridcolor": "white",
           "linecolor": "white",
           "ticks": "",
           "title": {
            "standoff": 15
           },
           "zerolinecolor": "white",
           "zerolinewidth": 2
          }
         }
        },
        "xaxis": {
         "anchor": "y",
         "domain": [
          0,
          0.28888888888888886
         ],
         "showspikes": true,
         "spikecolor": "purple",
         "spikemode": "across",
         "spikesnap": "cursor",
         "spikethickness": 2
        },
        "xaxis2": {
         "anchor": "y2",
         "domain": [
          0.3555555555555555,
          0.6444444444444444
         ],
         "showspikes": true,
         "spikecolor": "purple",
         "spikemode": "across",
         "spikesnap": "cursor",
         "spikethickness": 2,
         "title": {
          "text": "Time from Experiment Start Time (secs)"
         }
        },
        "xaxis3": {
         "anchor": "y3",
         "domain": [
          0.711111111111111,
          0.9999999999999999
         ],
         "showspikes": true,
         "spikecolor": "purple",
         "spikemode": "across",
         "spikesnap": "cursor",
         "spikethickness": 2
        },
        "yaxis": {
         "anchor": "x",
         "domain": [
          0,
          1
         ],
         "showspikes": true,
         "spikecolor": "orange",
         "spikethickness": 2,
         "title": {
          "text": "RSSI (dbM)"
         }
        },
        "yaxis2": {
         "anchor": "x2",
         "domain": [
          0,
          1
         ],
         "matches": "y",
         "showspikes": true,
         "showticklabels": false,
         "spikecolor": "orange",
         "spikethickness": 2
        },
        "yaxis3": {
         "anchor": "x3",
         "domain": [
          0,
          1
         ],
         "matches": "y",
         "showspikes": true,
         "showticklabels": false,
         "spikecolor": "orange",
         "spikethickness": 2
        }
       }
      },
      "text/html": [
       "<div>                            <div id=\"619f93fa-450f-4ea0-8a05-ad4b144a5a97\" class=\"plotly-graph-div\" style=\"height:525px; width:100%;\"></div>            <script type=\"text/javascript\">                require([\"plotly\"], function(Plotly) {                    window.PLOTLYENV=window.PLOTLYENV || {};                                    if (document.getElementById(\"619f93fa-450f-4ea0-8a05-ad4b144a5a97\")) {                    Plotly.newPlot(                        \"619f93fa-450f-4ea0-8a05-ad4b144a5a97\",                        [{\"mode\":\"lines\",\"name\":\"Raw RSSI\",\"opacity\":0.5,\"type\":\"scatter\",\"x\":[0.045,0.554,2.067,2.572,3.073,4.086,4.593,5.101,5.608,6.111,6.614,7.124,7.63,8.131,8.635,9.652,10.152,11.164,13.191,13.691,14.705,15.207,16.223,17.228,18.244,19.252,19.753,20.262,20.773,21.781,22.794,24.304,25.312,25.813,26.32,27.334,28.924,29.347,30.865,32.891,33.905,34.915,35.421,36.437,37.943,38.445,39.46,39.97,42.501,43.001,44.514,45.023,45.527,46.027,46.537,47.552,48.056,49.064,49.564,50.068,50.571,51.08,52.094,52.604,53.616,54.124,55.641,57.657,58.66,59.163,59.667,60.17,60.677,61.187,61.697,62.716,63.226,63.728,65.755,67.776,68.785,69.292,69.797,71.822,73.336,73.839,74.843,75.349,75.857,76.362,76.868,78.383,78.891,79.395,79.904,81.414,81.923,82.931,83.438,84.452,85.977,86.477,86.981,87.485,87.988,88.494,89.497,90.005,90.507,91.013,91.521,92.532,93.549,94.053,94.563,95.573,96.072,96.575,97.082,98.595,99.601,100.104,100.605,101.107,101.611,102.117,102.622,103.132,103.633,104.133,104.639,105.142,105.643,106.652,107.156,107.656,108.157,109.661,110.676,111.682,112.184,113.193,114.713,115.221,115.724,116.229,117.748,118.762,120.278,121.285,121.793,122.298,123.306,124.312,124.821,125.833,126.338,126.844,127.352,128.863,129.874,130.384,130.888,131.392,132.4,133.917,134.427,134.929,135.438,135.948,136.951,137.961,138.467,139.486,139.987,140.997,142.512,143.524,144.532,145.035,145.542,146.553,147.565,148.066,150.592,151.098,152.622,153.124,154.139,154.643,157.164,157.669,158.168,159.18,160.703,162.718,163.227,163.728,164.236,164.738,165.241,166.253,166.762,167.262,168.776,171.805,172.818,173.824,176.352,176.853,177.868,178.378,180.399,180.905,181.409,182.423,183.438,184.445,184.947,186.454,187.467,188.985,189.992,191.503,193.018,194.026,196.544,197.559,199.079,200.092,201.104,202.113,203.629,206.153,206.658,207.668,208.684,209.194,210.704,211.205,211.707,212.219,212.717,213.219,213.725,215.75,216.26,216.763,217.781,218.288,218.789,219.29,219.792,221.808,222.817,224.329,225.847,226.855,227.366,227.866,228.372,228.878,230.896,231.405,232.413,233.927,234.428,235.434,239.461,239.967,240.474,240.981,241.989,242.999,244.009,246.026,247.54,248.552,249.059,249.564,250.069,250.579,251.588,253.109,254.119,256.136,257.65,260.677,261.18,261.687,262.193,262.701,263.21,264.229,268.273,268.783,270.303,271.314,273.334,273.843,274.856,275.372,275.871,277.394,277.903,278.918,279.425,279.931,281.449,281.95,284.478,285.49,285.998,287.01,287.518,288.027,288.528,292.055,292.564,294.082,294.59,295.099,296.108,296.616,297.119,299.643,300.147,300.648,302.156,302.666,303.176,305.186,305.695,306.201,306.706,307.208,308.212,308.715,309.217,310.741,311.243,311.748,313.261,313.768,314.274,316.799,317.809,318.314,319.824,323.371,326.4,326.909,327.416,327.924,328.938,330.458,331.469,331.978,332.488,334.514,335.017,336.035,336.54,337.559,339.069,339.579,340.588,341.098,341.604,342.103,342.611,343.118,343.619,345.628,346.134,348.147,348.649,350.159,350.667,351.672,352.176,353.19,353.694,355.205,355.711,356.215,357.231,357.737,359.254,359.757,362.278,363.279,363.781,366.317,368.337,369.846,370.348,371.366,371.871,372.376,372.885,373.387,373.895,374.399,374.908,375.92,377.941,379.45,379.954,380.966,382.488,384.508,385.511,386.012,386.515,387.025,388.031,389.039,389.547,390.104,390.559,391.072,394.611],\"xaxis\":\"x\",\"y\":[-72.0,-58.0,-75.0,-75.0,-72.0,-71.0,-72.0,-71.0,-60.0,-61.0,-75.0,-73.0,-73.0,-70.0,-74.0,-75.0,-74.0,-72.0,-60.0,-74.0,-76.0,-84.0,-61.0,-73.0,-72.0,-74.0,-80.0,-78.0,-84.0,-81.0,-79.0,-67.0,-69.0,-62.0,-63.0,-65.0,-62.0,-64.0,-63.0,-63.0,-67.0,-66.0,-64.0,-65.0,-65.0,-65.0,-53.0,-52.0,-46.0,-61.0,-61.0,-62.0,-65.0,-74.0,-73.0,-73.0,-63.0,-67.0,-74.0,-63.0,-63.0,-64.0,-67.0,-69.0,-75.0,-77.0,-64.0,-64.0,-69.0,-72.0,-47.0,-64.0,-68.0,-52.0,-65.0,-65.0,-51.0,-70.0,-66.0,-54.0,-69.0,-69.0,-73.0,-67.0,-64.0,-53.0,-77.0,-64.0,-64.0,-67.0,-69.0,-74.0,-73.0,-65.0,-52.0,-71.0,-66.0,-68.0,-69.0,-70.0,-62.0,-66.0,-69.0,-68.0,-75.0,-75.0,-69.0,-70.0,-81.0,-80.0,-69.0,-53.0,-71.0,-50.0,-64.0,-54.0,-69.0,-73.0,-60.0,-68.0,-72.0,-65.0,-73.0,-77.0,-60.0,-50.0,-67.0,-66.0,-73.0,-62.0,-68.0,-67.0,-71.0,-72.0,-68.0,-72.0,-71.0,-58.0,-70.0,-68.0,-56.0,-71.0,-68.0,-52.0,-58.0,-72.0,-52.0,-52.0,-73.0,-56.0,-51.0,-65.0,-75.0,-78.0,-56.0,-58.0,-64.0,-70.0,-74.0,-72.0,-81.0,-79.0,-83.0,-81.0,-82.0,-79.0,-67.0,-75.0,-76.0,-63.0,-80.0,-78.0,-75.0,-76.0,-77.0,-78.0,-68.0,-76.0,-77.0,-76.0,-78.0,-77.0,-79.0,-78.0,-81.0,-73.0,-80.0,-72.0,-76.0,-72.0,-77.0,-78.0,-88.0,-74.0,-78.0,-79.0,-79.0,-80.0,-80.0,-79.0,-79.0,-68.0,-80.0,-70.0,-71.0,-82.0,-83.0,-83.0,-86.0,-82.0,-81.0,-70.0,-83.0,-72.0,-71.0,-81.0,-74.0,-79.0,-71.0,-72.0,-80.0,-71.0,-86.0,-78.0,-83.0,-77.0,-88.0,-74.0,-75.0,-63.0,-77.0,-80.0,-90.0,-78.0,-70.0,-77.0,-77.0,-79.0,-72.0,-77.0,-77.0,-75.0,-73.0,-78.0,-76.0,-72.0,-75.0,-59.0,-66.0,-82.0,-66.0,-78.0,-60.0,-80.0,-75.0,-75.0,-63.0,-78.0,-80.0,-76.0,-79.0,-76.0,-84.0,-87.0,-75.0,-63.0,-77.0,-83.0,-68.0,-80.0,-80.0,-77.0,-74.0,-80.0,-79.0,-80.0,-60.0,-77.0,-77.0,-80.0,-75.0,-74.0,-78.0,-85.0,-84.0,-89.0,-80.0,-81.0,-77.0,-75.0,-74.0,-65.0,-68.0,-65.0,-78.0,-79.0,-80.0,-72.0,-81.0,-65.0,-90.0,-76.0,-78.0,-83.0,-82.0,-80.0,-82.0,-93.0,-92.0,-81.0,-84.0,-87.0,-87.0,-71.0,-93.0,-82.0,-82.0,-74.0,-74.0,-83.0,-73.0,-86.0,-77.0,-87.0,-84.0,-90.0,-83.0,-83.0,-83.0,-82.0,-82.0,-77.0,-80.0,-80.0,-85.0,-82.0,-87.0,-81.0,-80.0,-78.0,-76.0,-76.0,-82.0,-84.0,-84.0,-84.0,-77.0,-77.0,-82.0,-82.0,-84.0,-83.0,-85.0,-85.0,-79.0,-92.0,-78.0,-83.0,-82.0,-88.0,-81.0,-90.0,-77.0,-84.0,-83.0,-77.0,-86.0,-87.0,-90.0,-80.0,-81.0,-81.0,-86.0,-85.0,-86.0,-85.0,-89.0,-75.0,-87.0,-81.0,-80.0,-83.0,-85.0,-80.0,-86.0,-84.0,-78.0,-79.0,-82.0,-84.0,-84.0,-67.0,-90.0,-75.0,-82.0,-67.0,-85.0,-84.0,-66.0,-62.0,-68.0,-76.0,-81.0,-86.0,-78.0,-77.0,-80.0,-67.0,-82.0,-80.0,-82.0,-90.0,-80.0,-68.0,-83.0,-87.0,-81.0,-95.0,-94.0,-97.0,-81.0,-81.0,-81.0],\"yaxis\":\"y\"},{\"mode\":\"lines\",\"name\":\"Raw RSSI\",\"opacity\":0.5,\"type\":\"scatter\",\"x\":[0.045,0.554,2.067,2.572,3.073,4.086,4.593,5.101,5.608,6.111,6.614,7.124,7.63,8.131,8.635,9.652,10.152,11.164,13.191,13.691,14.705,15.207,16.223,17.228,18.244,19.252,19.753,20.262,20.773,21.781,22.794,24.304,25.312,25.813,26.32,27.334,28.924,29.347,30.865,32.891,33.905,34.915,35.421,36.437,37.943,38.445,39.46,39.97,42.501,43.001,44.514,45.023,45.527,46.027,46.537,47.552,48.056,49.064,49.564,50.068,50.571,51.08,52.094,52.604,53.616,54.124,55.641,57.657,58.66,59.163,59.667,60.17,60.677,61.187,61.697,62.716,63.226,63.728,65.755,67.776,68.785,69.292,69.797,71.822,73.336,73.839,74.843,75.349,75.857,76.362,76.868,78.383,78.891,79.395,79.904,81.414,81.923,82.931,83.438,84.452,85.977,86.477,86.981,87.485,87.988,88.494,89.497,90.005,90.507,91.013,91.521,92.532,93.549,94.053,94.563,95.573,96.072,96.575,97.082,98.595,99.601,100.104,100.605,101.107,101.611,102.117,102.622,103.132,103.633,104.133,104.639,105.142,105.643,106.652,107.156,107.656,108.157,109.661,110.676,111.682,112.184,113.193,114.713,115.221,115.724,116.229,117.748,118.762,120.278,121.285,121.793,122.298,123.306,124.312,124.821,125.833,126.338,126.844,127.352,128.863,129.874,130.384,130.888,131.392,132.4,133.917,134.427,134.929,135.438,135.948,136.951,137.961,138.467,139.486,139.987,140.997,142.512,143.524,144.532,145.035,145.542,146.553,147.565,148.066,150.592,151.098,152.622,153.124,154.139,154.643,157.164,157.669,158.168,159.18,160.703,162.718,163.227,163.728,164.236,164.738,165.241,166.253,166.762,167.262,168.776,171.805,172.818,173.824,176.352,176.853,177.868,178.378,180.399,180.905,181.409,182.423,183.438,184.445,184.947,186.454,187.467,188.985,189.992,191.503,193.018,194.026,196.544,197.559,199.079,200.092,201.104,202.113,203.629,206.153,206.658,207.668,208.684,209.194,210.704,211.205,211.707,212.219,212.717,213.219,213.725,215.75,216.26,216.763,217.781,218.288,218.789,219.29,219.792,221.808,222.817,224.329,225.847,226.855,227.366,227.866,228.372,228.878,230.896,231.405,232.413,233.927,234.428,235.434,239.461,239.967,240.474,240.981,241.989,242.999,244.009,246.026,247.54,248.552,249.059,249.564,250.069,250.579,251.588,253.109,254.119,256.136,257.65,260.677,261.18,261.687,262.193,262.701,263.21,264.229,268.273,268.783,270.303,271.314,273.334,273.843,274.856,275.372,275.871,277.394,277.903,278.918,279.425,279.931,281.449,281.95,284.478,285.49,285.998,287.01,287.518,288.027,288.528,292.055,292.564,294.082,294.59,295.099,296.108,296.616,297.119,299.643,300.147,300.648,302.156,302.666,303.176,305.186,305.695,306.201,306.706,307.208,308.212,308.715,309.217,310.741,311.243,311.748,313.261,313.768,314.274,316.799,317.809,318.314,319.824,323.371,326.4,326.909,327.416,327.924,328.938,330.458,331.469,331.978,332.488,334.514,335.017,336.035,336.54,337.559,339.069,339.579,340.588,341.098,341.604,342.103,342.611,343.118,343.619,345.628,346.134,348.147,348.649,350.159,350.667,351.672,352.176,353.19,353.694,355.205,355.711,356.215,357.231,357.737,359.254,359.757,362.278,363.279,363.781,366.317,368.337,369.846,370.348,371.366,371.871,372.376,372.885,373.387,373.895,374.399,374.908,375.92,377.941,379.45,379.954,380.966,382.488,384.508,385.511,386.012,386.515,387.025,388.031,389.039,389.547,390.104,390.559,391.072,394.611],\"xaxis\":\"x2\",\"y\":[-72.0,-58.0,-75.0,-75.0,-72.0,-71.0,-72.0,-71.0,-60.0,-61.0,-75.0,-73.0,-73.0,-70.0,-74.0,-75.0,-74.0,-72.0,-60.0,-74.0,-76.0,-84.0,-61.0,-73.0,-72.0,-74.0,-80.0,-78.0,-84.0,-81.0,-79.0,-67.0,-69.0,-62.0,-63.0,-65.0,-62.0,-64.0,-63.0,-63.0,-67.0,-66.0,-64.0,-65.0,-65.0,-65.0,-53.0,-52.0,-46.0,-61.0,-61.0,-62.0,-65.0,-74.0,-73.0,-73.0,-63.0,-67.0,-74.0,-63.0,-63.0,-64.0,-67.0,-69.0,-75.0,-77.0,-64.0,-64.0,-69.0,-72.0,-47.0,-64.0,-68.0,-52.0,-65.0,-65.0,-51.0,-70.0,-66.0,-54.0,-69.0,-69.0,-73.0,-67.0,-64.0,-53.0,-77.0,-64.0,-64.0,-67.0,-69.0,-74.0,-73.0,-65.0,-52.0,-71.0,-66.0,-68.0,-69.0,-70.0,-62.0,-66.0,-69.0,-68.0,-75.0,-75.0,-69.0,-70.0,-81.0,-80.0,-69.0,-53.0,-71.0,-50.0,-64.0,-54.0,-69.0,-73.0,-60.0,-68.0,-72.0,-65.0,-73.0,-77.0,-60.0,-50.0,-67.0,-66.0,-73.0,-62.0,-68.0,-67.0,-71.0,-72.0,-68.0,-72.0,-71.0,-58.0,-70.0,-68.0,-56.0,-71.0,-68.0,-52.0,-58.0,-72.0,-52.0,-52.0,-73.0,-56.0,-51.0,-65.0,-75.0,-78.0,-56.0,-58.0,-64.0,-70.0,-74.0,-72.0,-81.0,-79.0,-83.0,-81.0,-82.0,-79.0,-67.0,-75.0,-76.0,-63.0,-80.0,-78.0,-75.0,-76.0,-77.0,-78.0,-68.0,-76.0,-77.0,-76.0,-78.0,-77.0,-79.0,-78.0,-81.0,-73.0,-80.0,-72.0,-76.0,-72.0,-77.0,-78.0,-88.0,-74.0,-78.0,-79.0,-79.0,-80.0,-80.0,-79.0,-79.0,-68.0,-80.0,-70.0,-71.0,-82.0,-83.0,-83.0,-86.0,-82.0,-81.0,-70.0,-83.0,-72.0,-71.0,-81.0,-74.0,-79.0,-71.0,-72.0,-80.0,-71.0,-86.0,-78.0,-83.0,-77.0,-88.0,-74.0,-75.0,-63.0,-77.0,-80.0,-90.0,-78.0,-70.0,-77.0,-77.0,-79.0,-72.0,-77.0,-77.0,-75.0,-73.0,-78.0,-76.0,-72.0,-75.0,-59.0,-66.0,-82.0,-66.0,-78.0,-60.0,-80.0,-75.0,-75.0,-63.0,-78.0,-80.0,-76.0,-79.0,-76.0,-84.0,-87.0,-75.0,-63.0,-77.0,-83.0,-68.0,-80.0,-80.0,-77.0,-74.0,-80.0,-79.0,-80.0,-60.0,-77.0,-77.0,-80.0,-75.0,-74.0,-78.0,-85.0,-84.0,-89.0,-80.0,-81.0,-77.0,-75.0,-74.0,-65.0,-68.0,-65.0,-78.0,-79.0,-80.0,-72.0,-81.0,-65.0,-90.0,-76.0,-78.0,-83.0,-82.0,-80.0,-82.0,-93.0,-92.0,-81.0,-84.0,-87.0,-87.0,-71.0,-93.0,-82.0,-82.0,-74.0,-74.0,-83.0,-73.0,-86.0,-77.0,-87.0,-84.0,-90.0,-83.0,-83.0,-83.0,-82.0,-82.0,-77.0,-80.0,-80.0,-85.0,-82.0,-87.0,-81.0,-80.0,-78.0,-76.0,-76.0,-82.0,-84.0,-84.0,-84.0,-77.0,-77.0,-82.0,-82.0,-84.0,-83.0,-85.0,-85.0,-79.0,-92.0,-78.0,-83.0,-82.0,-88.0,-81.0,-90.0,-77.0,-84.0,-83.0,-77.0,-86.0,-87.0,-90.0,-80.0,-81.0,-81.0,-86.0,-85.0,-86.0,-85.0,-89.0,-75.0,-87.0,-81.0,-80.0,-83.0,-85.0,-80.0,-86.0,-84.0,-78.0,-79.0,-82.0,-84.0,-84.0,-67.0,-90.0,-75.0,-82.0,-67.0,-85.0,-84.0,-66.0,-62.0,-68.0,-76.0,-81.0,-86.0,-78.0,-77.0,-80.0,-67.0,-82.0,-80.0,-82.0,-90.0,-80.0,-68.0,-83.0,-87.0,-81.0,-95.0,-94.0,-97.0,-81.0,-81.0,-81.0],\"yaxis\":\"y2\"},{\"mode\":\"lines\",\"name\":\"Raw RSSI\",\"opacity\":0.5,\"type\":\"scatter\",\"x\":[0.045,0.554,2.067,2.572,3.073,4.086,4.593,5.101,5.608,6.111,6.614,7.124,7.63,8.131,8.635,9.652,10.152,11.164,13.191,13.691,14.705,15.207,16.223,17.228,18.244,19.252,19.753,20.262,20.773,21.781,22.794,24.304,25.312,25.813,26.32,27.334,28.924,29.347,30.865,32.891,33.905,34.915,35.421,36.437,37.943,38.445,39.46,39.97,42.501,43.001,44.514,45.023,45.527,46.027,46.537,47.552,48.056,49.064,49.564,50.068,50.571,51.08,52.094,52.604,53.616,54.124,55.641,57.657,58.66,59.163,59.667,60.17,60.677,61.187,61.697,62.716,63.226,63.728,65.755,67.776,68.785,69.292,69.797,71.822,73.336,73.839,74.843,75.349,75.857,76.362,76.868,78.383,78.891,79.395,79.904,81.414,81.923,82.931,83.438,84.452,85.977,86.477,86.981,87.485,87.988,88.494,89.497,90.005,90.507,91.013,91.521,92.532,93.549,94.053,94.563,95.573,96.072,96.575,97.082,98.595,99.601,100.104,100.605,101.107,101.611,102.117,102.622,103.132,103.633,104.133,104.639,105.142,105.643,106.652,107.156,107.656,108.157,109.661,110.676,111.682,112.184,113.193,114.713,115.221,115.724,116.229,117.748,118.762,120.278,121.285,121.793,122.298,123.306,124.312,124.821,125.833,126.338,126.844,127.352,128.863,129.874,130.384,130.888,131.392,132.4,133.917,134.427,134.929,135.438,135.948,136.951,137.961,138.467,139.486,139.987,140.997,142.512,143.524,144.532,145.035,145.542,146.553,147.565,148.066,150.592,151.098,152.622,153.124,154.139,154.643,157.164,157.669,158.168,159.18,160.703,162.718,163.227,163.728,164.236,164.738,165.241,166.253,166.762,167.262,168.776,171.805,172.818,173.824,176.352,176.853,177.868,178.378,180.399,180.905,181.409,182.423,183.438,184.445,184.947,186.454,187.467,188.985,189.992,191.503,193.018,194.026,196.544,197.559,199.079,200.092,201.104,202.113,203.629,206.153,206.658,207.668,208.684,209.194,210.704,211.205,211.707,212.219,212.717,213.219,213.725,215.75,216.26,216.763,217.781,218.288,218.789,219.29,219.792,221.808,222.817,224.329,225.847,226.855,227.366,227.866,228.372,228.878,230.896,231.405,232.413,233.927,234.428,235.434,239.461,239.967,240.474,240.981,241.989,242.999,244.009,246.026,247.54,248.552,249.059,249.564,250.069,250.579,251.588,253.109,254.119,256.136,257.65,260.677,261.18,261.687,262.193,262.701,263.21,264.229,268.273,268.783,270.303,271.314,273.334,273.843,274.856,275.372,275.871,277.394,277.903,278.918,279.425,279.931,281.449,281.95,284.478,285.49,285.998,287.01,287.518,288.027,288.528,292.055,292.564,294.082,294.59,295.099,296.108,296.616,297.119,299.643,300.147,300.648,302.156,302.666,303.176,305.186,305.695,306.201,306.706,307.208,308.212,308.715,309.217,310.741,311.243,311.748,313.261,313.768,314.274,316.799,317.809,318.314,319.824,323.371,326.4,326.909,327.416,327.924,328.938,330.458,331.469,331.978,332.488,334.514,335.017,336.035,336.54,337.559,339.069,339.579,340.588,341.098,341.604,342.103,342.611,343.118,343.619,345.628,346.134,348.147,348.649,350.159,350.667,351.672,352.176,353.19,353.694,355.205,355.711,356.215,357.231,357.737,359.254,359.757,362.278,363.279,363.781,366.317,368.337,369.846,370.348,371.366,371.871,372.376,372.885,373.387,373.895,374.399,374.908,375.92,377.941,379.45,379.954,380.966,382.488,384.508,385.511,386.012,386.515,387.025,388.031,389.039,389.547,390.104,390.559,391.072,394.611],\"xaxis\":\"x3\",\"y\":[-72.0,-58.0,-75.0,-75.0,-72.0,-71.0,-72.0,-71.0,-60.0,-61.0,-75.0,-73.0,-73.0,-70.0,-74.0,-75.0,-74.0,-72.0,-60.0,-74.0,-76.0,-84.0,-61.0,-73.0,-72.0,-74.0,-80.0,-78.0,-84.0,-81.0,-79.0,-67.0,-69.0,-62.0,-63.0,-65.0,-62.0,-64.0,-63.0,-63.0,-67.0,-66.0,-64.0,-65.0,-65.0,-65.0,-53.0,-52.0,-46.0,-61.0,-61.0,-62.0,-65.0,-74.0,-73.0,-73.0,-63.0,-67.0,-74.0,-63.0,-63.0,-64.0,-67.0,-69.0,-75.0,-77.0,-64.0,-64.0,-69.0,-72.0,-47.0,-64.0,-68.0,-52.0,-65.0,-65.0,-51.0,-70.0,-66.0,-54.0,-69.0,-69.0,-73.0,-67.0,-64.0,-53.0,-77.0,-64.0,-64.0,-67.0,-69.0,-74.0,-73.0,-65.0,-52.0,-71.0,-66.0,-68.0,-69.0,-70.0,-62.0,-66.0,-69.0,-68.0,-75.0,-75.0,-69.0,-70.0,-81.0,-80.0,-69.0,-53.0,-71.0,-50.0,-64.0,-54.0,-69.0,-73.0,-60.0,-68.0,-72.0,-65.0,-73.0,-77.0,-60.0,-50.0,-67.0,-66.0,-73.0,-62.0,-68.0,-67.0,-71.0,-72.0,-68.0,-72.0,-71.0,-58.0,-70.0,-68.0,-56.0,-71.0,-68.0,-52.0,-58.0,-72.0,-52.0,-52.0,-73.0,-56.0,-51.0,-65.0,-75.0,-78.0,-56.0,-58.0,-64.0,-70.0,-74.0,-72.0,-81.0,-79.0,-83.0,-81.0,-82.0,-79.0,-67.0,-75.0,-76.0,-63.0,-80.0,-78.0,-75.0,-76.0,-77.0,-78.0,-68.0,-76.0,-77.0,-76.0,-78.0,-77.0,-79.0,-78.0,-81.0,-73.0,-80.0,-72.0,-76.0,-72.0,-77.0,-78.0,-88.0,-74.0,-78.0,-79.0,-79.0,-80.0,-80.0,-79.0,-79.0,-68.0,-80.0,-70.0,-71.0,-82.0,-83.0,-83.0,-86.0,-82.0,-81.0,-70.0,-83.0,-72.0,-71.0,-81.0,-74.0,-79.0,-71.0,-72.0,-80.0,-71.0,-86.0,-78.0,-83.0,-77.0,-88.0,-74.0,-75.0,-63.0,-77.0,-80.0,-90.0,-78.0,-70.0,-77.0,-77.0,-79.0,-72.0,-77.0,-77.0,-75.0,-73.0,-78.0,-76.0,-72.0,-75.0,-59.0,-66.0,-82.0,-66.0,-78.0,-60.0,-80.0,-75.0,-75.0,-63.0,-78.0,-80.0,-76.0,-79.0,-76.0,-84.0,-87.0,-75.0,-63.0,-77.0,-83.0,-68.0,-80.0,-80.0,-77.0,-74.0,-80.0,-79.0,-80.0,-60.0,-77.0,-77.0,-80.0,-75.0,-74.0,-78.0,-85.0,-84.0,-89.0,-80.0,-81.0,-77.0,-75.0,-74.0,-65.0,-68.0,-65.0,-78.0,-79.0,-80.0,-72.0,-81.0,-65.0,-90.0,-76.0,-78.0,-83.0,-82.0,-80.0,-82.0,-93.0,-92.0,-81.0,-84.0,-87.0,-87.0,-71.0,-93.0,-82.0,-82.0,-74.0,-74.0,-83.0,-73.0,-86.0,-77.0,-87.0,-84.0,-90.0,-83.0,-83.0,-83.0,-82.0,-82.0,-77.0,-80.0,-80.0,-85.0,-82.0,-87.0,-81.0,-80.0,-78.0,-76.0,-76.0,-82.0,-84.0,-84.0,-84.0,-77.0,-77.0,-82.0,-82.0,-84.0,-83.0,-85.0,-85.0,-79.0,-92.0,-78.0,-83.0,-82.0,-88.0,-81.0,-90.0,-77.0,-84.0,-83.0,-77.0,-86.0,-87.0,-90.0,-80.0,-81.0,-81.0,-86.0,-85.0,-86.0,-85.0,-89.0,-75.0,-87.0,-81.0,-80.0,-83.0,-85.0,-80.0,-86.0,-84.0,-78.0,-79.0,-82.0,-84.0,-84.0,-67.0,-90.0,-75.0,-82.0,-67.0,-85.0,-84.0,-66.0,-62.0,-68.0,-76.0,-81.0,-86.0,-78.0,-77.0,-80.0,-67.0,-82.0,-80.0,-82.0,-90.0,-80.0,-68.0,-83.0,-87.0,-81.0,-95.0,-94.0,-97.0,-81.0,-81.0,-81.0],\"yaxis\":\"y3\"},{\"line\":{\"color\":\"black\"},\"mode\":\"lines\",\"name\":\"Filtered RSSI\",\"type\":\"scatter\",\"x\":[0.045,0.554,2.067,2.572,3.073,4.086,4.593,5.101,5.608,6.111,6.614,7.124,7.63,8.131,8.635,9.652,10.152,11.164,13.191,13.691,14.705,15.207,16.223,17.228,18.244,19.252,19.753,20.262,20.773,21.781,22.794,24.304,25.312,25.813,26.32,27.334,28.924,29.347,30.865,32.891,33.905,34.915,35.421,36.437,37.943,38.445,39.46,39.97,42.501,43.001,44.514,45.023,45.527,46.027,46.537,47.552,48.056,49.064,49.564,50.068,50.571,51.08,52.094,52.604,53.616,54.124,55.641,57.657,58.66,59.163,59.667,60.17,60.677,61.187,61.697,62.716,63.226,63.728,65.755,67.776,68.785,69.292,69.797,71.822,73.336,73.839,74.843,75.349,75.857,76.362,76.868,78.383,78.891,79.395,79.904,81.414,81.923,82.931,83.438,84.452,85.977,86.477,86.981,87.485,87.988,88.494,89.497,90.005,90.507,91.013,91.521,92.532,93.549,94.053,94.563,95.573,96.072,96.575,97.082,98.595,99.601,100.104,100.605,101.107,101.611,102.117,102.622,103.132,103.633,104.133,104.639,105.142,105.643,106.652,107.156,107.656,108.157,109.661,110.676,111.682,112.184,113.193,114.713,115.221,115.724,116.229,117.748,118.762,120.278,121.285,121.793,122.298,123.306,124.312,124.821,125.833,126.338,126.844,127.352,128.863,129.874,130.384,130.888,131.392,132.4,133.917,134.427,134.929,135.438,135.948,136.951,137.961,138.467,139.486,139.987,140.997,142.512,143.524,144.532,145.035,145.542,146.553,147.565,148.066,150.592,151.098,152.622,153.124,154.139,154.643,157.164,157.669,158.168,159.18,160.703,162.718,163.227,163.728,164.236,164.738,165.241,166.253,166.762,167.262,168.776,171.805,172.818,173.824,176.352,176.853,177.868,178.378,180.399,180.905,181.409,182.423,183.438,184.445,184.947,186.454,187.467,188.985,189.992,191.503,193.018,194.026,196.544,197.559,199.079,200.092,201.104,202.113,203.629,206.153,206.658,207.668,208.684,209.194,210.704,211.205,211.707,212.219,212.717,213.219,213.725,215.75,216.26,216.763,217.781,218.288,218.789,219.29,219.792,221.808,222.817,224.329,225.847,226.855,227.366,227.866,228.372,228.878,230.896,231.405,232.413,233.927,234.428,235.434,239.461,239.967,240.474,240.981,241.989,242.999,244.009,246.026,247.54,248.552,249.059,249.564,250.069,250.579,251.588,253.109,254.119,256.136,257.65,260.677,261.18,261.687,262.193,262.701,263.21,264.229,268.273,268.783,270.303,271.314,273.334,273.843,274.856,275.372,275.871,277.394,277.903,278.918,279.425,279.931,281.449,281.95,284.478,285.49,285.998,287.01,287.518,288.027,288.528,292.055,292.564,294.082,294.59,295.099,296.108,296.616,297.119,299.643,300.147,300.648,302.156,302.666,303.176,305.186,305.695,306.201,306.706,307.208,308.212,308.715,309.217,310.741,311.243,311.748,313.261,313.768,314.274,316.799,317.809,318.314,319.824,323.371,326.4,326.909,327.416,327.924,328.938,330.458,331.469,331.978,332.488,334.514,335.017,336.035,336.54,337.559,339.069,339.579,340.588,341.098,341.604,342.103,342.611,343.118,343.619,345.628,346.134,348.147,348.649,350.159,350.667,351.672,352.176,353.19,353.694,355.205,355.711,356.215,357.231,357.737,359.254,359.757,362.278,363.279,363.781,366.317,368.337,369.846,370.348,371.366,371.871,372.376,372.885,373.387,373.895,374.399,374.908,375.92,377.941,379.45,379.954,380.966,382.488,384.508,385.511,386.012,386.515,387.025,388.031,389.039,389.547,390.104,390.559,391.072,394.611],\"xaxis\":\"x\",\"y\":[-72.0,-71.3027538,-72.04220304,-72.633762432,-72.5070099456,-72.20560795648001,-72.164486365184,-71.9315890921472,-69.54527127371776,-67.83621701897421,-69.26897361517936,-70.0151788921435,-70.6121431137148,-70.48971449097183,-71.19177159277747,-71.95341727422198,-72.36273381937758,-72.29018705550206,-69.83214964440165,-70.66571971552132,-71.73257577241705,-74.18606061793363,-71.54884849434691,-71.83907879547753,-71.87126303638203,-72.29701042910563,-73.8376083432845,-74.6700866746276,-76.53606933970208,-77.42885547176166,-77.74308437740933,-75.59446750192747,-74.27557400154197,-71.82045920123358,-70.05636736098685,-69.04509388878948,-67.63607511103159,-66.90886008882526,-66.12708807106021,-65.50167045684817,-65.80133636547853,-65.84106909238282,-65.47285527390626,-65.378284219125,-65.3026273753,-65.24210190024,-62.793681520192,-60.634945216153604,-57.707956172922884,-58.36636493833831,-58.893091950670645,-59.514473560536516,-60.61157884842921,-63.28926307874337,-65.23141046299469,-66.78512837039575,-66.02810269631661,-66.22248215705329,-67.77798572564264,-66.82238858051412,-66.0579108644113,-65.64632869152904,-65.91706295322322,-66.53365036257858,-68.22692029006286,-69.98153623205029,-68.78522898564023,-67.82818318851218,-68.06254655080974,-68.8500372406478,-64.48002979251824,-64.38402383401458,-65.10721906721167,-62.48577525376934,-62.98862020301547,-63.390896162412375,-60.9127169299299,-62.73017354394392,-63.384138835155134,-61.50731106812411,-63.00584885449929,-64.20467908359943,-65.96374326687955,-66.17099461350364,-65.73679569080291,-63.18943655264233,-65.95154924211386,-65.56123939369108,-65.24899151495286,-65.59919321196229,-66.27935456956983,-67.82348365565586,-68.8587869245247,-68.08702953961975,-64.8696236316958,-66.09569890535664,-66.07655912428531,-66.46124729942825,-66.9689978395426,-67.57519827163408,-66.46015861730726,-66.36812689384581,-66.89450151507666,-67.11560121206132,-68.69248096964905,-69.95398477571925,-69.7631878205754,-69.81055025646032,-72.04844020516825,-73.6387521641346,-72.71100173130768,-68.76880138504615,-69.21504110803691,-65.37203288642954,-65.09762630914364,-62.87810104731491,-64.10248083785193,-65.88198467028154,-64.70558773622523,-65.36447018898018,-66.69157615118414,-66.3532609209473,-67.68260873675784,-69.54608698940628,-67.63686959152503,-64.10949567322002,-64.68759653857602,-64.95007723086081,-66.56006178468866,-65.64804942775092,-66.11843954220073,-66.29475163376058,-67.23580130700847,-68.18864104560677,-68.15091283648542,-68.92073026918834,-69.33658421535067,-67.06926737228054,-67.65541389782443,-67.72433111825954,-65.37946489460764,-66.50357191568611,-66.80285753254888,-63.842286026039105,-62.67382882083128,-64.53906305666503,-62.03125044533202,-60.025000356265615,-62.620000285012495,-61.296000228009994,-59.236800182408,-60.3894401459264,-63.31155211674112,-66.24924169339289,-64.19939335471432,-62.95951468377145,-63.16761174701716,-64.53408939761373,-66.42727151809098,-67.54181721447279,-70.23345377157823,-71.98676301726258,-74.18941041381007,-75.55152833104805,-76.84122266483844,-77.27297813187076,-75.2183825054966,-75.17470600439728,-75.33976480351782,-72.87181184281425,-74.29744947425141,-75.03795957940113,-75.0303676635209,-75.22429413081673,-75.57943530465339,-76.0635482437227,-74.45083859497817,-74.76067087598253,-75.20853670078603,-75.36682936062883,-75.89346348850306,-76.11477079080245,-76.69181663264196,-76.95345330611357,-77.76276264489086,-76.81021011591268,-77.44816809273014,-76.35853447418411,-76.28682757934729,-75.42946206347783,-75.74356965078226,-76.19485572062581,-78.55588457650065,-77.64470766120051,-77.71576612896041,-77.97261290316833,-78.17809032253466,-78.54247225802773,-78.83397780642218,-78.86718224513774,-78.8937457961102,-76.71499663688816,-77.37199730951053,-75.89759784760842,-74.91807827808674,-76.33446262246939,-77.66757009797551,-78.7340560783804,-80.18724486270432,-80.54979589016345,-80.63983671213076,-78.51186936970461,-79.4094954957637,-77.92759639661095,-76.54207711728876,-77.433661693831,-76.7469293550648,-77.19754348405183,-75.95803478724147,-75.16642782979318,-76.13314226383454,-75.10651381106763,-77.28521104885411,-77.42816883908328,-78.54253507126663,-78.2340280570133,-80.18722244561064,-78.94977795648852,-78.15982236519082,-75.12785789215266,-75.50228631372212,-76.4018290509777,-79.12146324078216,-78.89717059262573,-77.11773647410058,-77.09418917928046,-77.07535134342437,-77.4602810747395,-76.3682248597916,-76.49457988783328,-76.59566391026662,-76.27653112821329,-75.62122490257063,-76.0969799220565,-76.0775839376452,-75.26206715011617,-75.20965372009293,-71.96772297607434,-70.77417838085947,-73.01934270468757,-71.61547416375006,-72.89237933100006,-70.31390346480005,-72.25112277184004,-72.80089821747204,-73.24071857397763,-71.1925748591821,-72.55405988734569,-74.04324790987656,-74.43459832790124,-75.34767866232099,-75.47814292985679,-77.18251434388543,-79.14601147510834,-78.31680918008666,-75.25344734406933,-75.60275787525546,-77.08220630020438,-75.2657650401635,-76.2126120321308,-76.97008962570465,-76.97607170056372,-76.38085736045097,-77.10468588836078,-77.48374871068862,-77.98699896855089,-74.38959917484071,-74.91167933987256,-75.32934347189806,-76.26347477751844,-76.01077982201475,-75.6086238576118,-76.08689908608945,-77.86951926887156,-79.09561541509724,-81.07649233207779,-80.86119386566223,-80.88895509252978,-80.11116407402383,-79.08893125921907,-78.07114500737525,-75.4569160059002,-73.96553280472016,-72.17242624377613,-73.3379409950209,-74.47035279601673,-75.57628223681338,-74.86102578945071,-76.08882063156057,-73.87105650524845,-77.09684520419876,-76.877476163359,-77.1019809306872,-78.28158474454976,-79.0252677956398,-79.22021423651185,-79.77617138920948,-82.42093711136758,-84.33674968909406,-83.66939975127525,-83.7355198010202,-84.38841584081617,-84.91073267265293,-82.12858613812234,-84.30286891049788,-83.8422951283983,-83.47383610271865,-81.57906888217492,-80.06325510573994,-80.65060408459195,-79.12048326767356,-80.49638661413886,-79.79710929131109,-81.23768743304888,-81.7901499464391,-83.43211995715129,-83.34569596572103,-83.27655677257682,-83.22124541806146,-82.97699633444917,-82.78159706755933,-81.62527765404747,-81.30022212323797,-81.04017769859038,-81.8321421588723,-81.86571372709784,-82.89257098167828,-82.51405678534262,-82.0112454282741,-81.20899634261927,-80.16719707409541,-79.33375765927633,-79.86700612742106,-80.69360490193685,-81.35488392154949,-81.88390713723959,-80.90712570979167,-80.12570056783333,-80.50056045426666,-80.80044836341332,-81.44035869073066,-81.75228695258453,-82.40182956206762,-82.9214636496541,-82.13717091972327,-84.10973673577863,-82.8877893886229,-82.91023151089833,-82.72818520871866,-83.78254816697492,-83.22603853357994,-84.58083082686395,-83.06466466149115,-83.25173172919293,-83.20138538335434,-81.96110830668347,-82.76888664534678,-83.61510931627743,-84.89208745302194,-83.91366996241756,-83.33093596993405,-82.86474877594723,-83.49179902075778,-83.79343921660623,-84.23475137328498,-84.38780109862799,-85.31024087890239,-83.24819270312192,-83.99855416249753,-83.39884332999802,-82.71907466399841,-82.77525973119873,-83.22020778495899,-82.57616622796719,-83.26093298237376,-83.40874638589901,-82.32699710871921,-81.66159768697537,-81.7292781495803,-82.18342251966423,-82.54673801573139,-79.43739041258512,-81.5499123300681,-80.23992986405447,-80.59194389124357,-77.87355511299486,-79.29884409039589,-80.23907527231671,-77.39126021785337,-74.3130081742827,-73.05040653942616,-73.64032523154093,-75.11226018523274,-77.2898081481862,-77.43184651854895,-77.34547721483916,-77.87638177187134,-75.70110541749708,-76.96088433399765,-77.56870746719812,-78.4549659737585,-80.7639727790068,-80.61117822320544,-78.08894257856436,-79.07115406285149,-80.6569232502812,-80.72553860022495,-83.58043088017996,-85.66434470414397,-87.93147576331518,-86.54518061065214,-85.4361444885217,-84.54891559081736],\"yaxis\":\"y\"},{\"line\":{\"color\":\"black\"},\"mode\":\"lines\",\"name\":\"Filtered RSSI\",\"type\":\"scatter\",\"x\":[0.045,0.554,2.067,2.572,3.073,4.086,4.593,5.101,5.608,6.111,6.614,7.124,7.63,8.131,8.635,9.652,10.152,11.164,13.191,13.691,14.705,15.207,16.223,17.228,18.244,19.252,19.753,20.262,20.773,21.781,22.794,24.304,25.312,25.813,26.32,27.334,28.924,29.347,30.865,32.891,33.905,34.915,35.421,36.437,37.943,38.445,39.46,39.97,42.501,43.001,44.514,45.023,45.527,46.027,46.537,47.552,48.056,49.064,49.564,50.068,50.571,51.08,52.094,52.604,53.616,54.124,55.641,57.657,58.66,59.163,59.667,60.17,60.677,61.187,61.697,62.716,63.226,63.728,65.755,67.776,68.785,69.292,69.797,71.822,73.336,73.839,74.843,75.349,75.857,76.362,76.868,78.383,78.891,79.395,79.904,81.414,81.923,82.931,83.438,84.452,85.977,86.477,86.981,87.485,87.988,88.494,89.497,90.005,90.507,91.013,91.521,92.532,93.549,94.053,94.563,95.573,96.072,96.575,97.082,98.595,99.601,100.104,100.605,101.107,101.611,102.117,102.622,103.132,103.633,104.133,104.639,105.142,105.643,106.652,107.156,107.656,108.157,109.661,110.676,111.682,112.184,113.193,114.713,115.221,115.724,116.229,117.748,118.762,120.278,121.285,121.793,122.298,123.306,124.312,124.821,125.833,126.338,126.844,127.352,128.863,129.874,130.384,130.888,131.392,132.4,133.917,134.427,134.929,135.438,135.948,136.951,137.961,138.467,139.486,139.987,140.997,142.512,143.524,144.532,145.035,145.542,146.553,147.565,148.066,150.592,151.098,152.622,153.124,154.139,154.643,157.164,157.669,158.168,159.18,160.703,162.718,163.227,163.728,164.236,164.738,165.241,166.253,166.762,167.262,168.776,171.805,172.818,173.824,176.352,176.853,177.868,178.378,180.399,180.905,181.409,182.423,183.438,184.445,184.947,186.454,187.467,188.985,189.992,191.503,193.018,194.026,196.544,197.559,199.079,200.092,201.104,202.113,203.629,206.153,206.658,207.668,208.684,209.194,210.704,211.205,211.707,212.219,212.717,213.219,213.725,215.75,216.26,216.763,217.781,218.288,218.789,219.29,219.792,221.808,222.817,224.329,225.847,226.855,227.366,227.866,228.372,228.878,230.896,231.405,232.413,233.927,234.428,235.434,239.461,239.967,240.474,240.981,241.989,242.999,244.009,246.026,247.54,248.552,249.059,249.564,250.069,250.579,251.588,253.109,254.119,256.136,257.65,260.677,261.18,261.687,262.193,262.701,263.21,264.229,268.273,268.783,270.303,271.314,273.334,273.843,274.856,275.372,275.871,277.394,277.903,278.918,279.425,279.931,281.449,281.95,284.478,285.49,285.998,287.01,287.518,288.027,288.528,292.055,292.564,294.082,294.59,295.099,296.108,296.616,297.119,299.643,300.147,300.648,302.156,302.666,303.176,305.186,305.695,306.201,306.706,307.208,308.212,308.715,309.217,310.741,311.243,311.748,313.261,313.768,314.274,316.799,317.809,318.314,319.824,323.371,326.4,326.909,327.416,327.924,328.938,330.458,331.469,331.978,332.488,334.514,335.017,336.035,336.54,337.559,339.069,339.579,340.588,341.098,341.604,342.103,342.611,343.118,343.619,345.628,346.134,348.147,348.649,350.159,350.667,351.672,352.176,353.19,353.694,355.205,355.711,356.215,357.231,357.737,359.254,359.757,362.278,363.279,363.781,366.317,368.337,369.846,370.348,371.366,371.871,372.376,372.885,373.387,373.895,374.399,374.908,375.92,377.941,379.45,379.954,380.966,382.488,384.508,385.511,386.012,386.515,387.025,388.031,389.039,389.547,390.104,390.559,391.072,394.611],\"xaxis\":\"x2\",\"y\":[-72.0,-71.3027538,-73.52110152,-74.408440608,-72.9633762432,-71.78535049728,-71.91414019891201,-71.3656560795648,-64.54626243182592,-62.41850497273037,-69.96740198909215,-71.78696079563686,-72.51478431825474,-71.0059137273019,-72.80236549092076,-74.12094619636831,-74.04837847854732,-72.81935139141893,-65.12774055656757,-70.45109622262703,-73.78043848905081,-79.91217539562032,-68.56487015824813,-71.22594806329926,-71.6903792253197,-73.07615169012789,-77.23046067605115,-77.69218427042046,-81.47687370816818,-81.19074948326727,-79.87629979330691,-72.15051991732277,-70.2602079669291,-65.30408318677163,-63.921633274708654,-64.56865330988346,-63.02746132395338,-63.61098452958135,-63.24439381183254,-63.09775752473301,-65.4391030098932,-65.77564120395728,-64.71025648158292,-64.88410259263317,-64.95364103705327,-64.98145641482131,-57.79258256592853,-54.31703302637141,-49.326813210548565,-56.330725284219426,-59.13229011368777,-60.85291604547511,-63.34116641819004,-69.73646656727601,-71.69458662691041,-72.47783465076417,-66.79113386030566,-66.91645354412226,-71.1665814176489,-66.26663256705956,-64.30665302682382,-64.12266121072953,-65.84906448429182,-67.73962579371673,-72.0958503174867,-75.03834012699468,-68.41533605079788,-65.76613442031915,-67.70645376812766,-70.28258150725107,-56.31303260290043,-60.92521304116017,-65.17008521646407,-57.26803408658563,-61.90721363463425,-63.7628854538537,-56.10515418154148,-64.44206167261659,-65.37682466904664,-58.55072986761866,-64.82029194704747,-67.32811677881898,-70.73124671152759,-68.49249868461104,-65.79699947384441,-58.11879978953776,-69.4475199158151,-66.17900796632604,-64.87160318653042,-66.14864127461217,-67.85945650984488,-71.54378260393796,-72.41751304157518,-67.96700521663007,-58.386802086652025,-65.9547208346608,-65.98188833386432,-67.19275533354573,-68.2771021334183,-69.31084085336732,-64.92433634134693,-65.56973453653877,-67.6278938146155,-67.8511575258462,-72.14046301033848,-73.85618520413539,-70.94247408165415,-70.37698963266166,-76.75079585306466,-78.70031834122587,-72.88012733649035,-60.95205093459614,-66.98082037383845,-56.79232814953538,-61.11693125981415,-56.84677250392566,-64.13870900157026,-69.4554836006281,-63.78219344025124,-66.3128773761005,-69.7251509504402,-66.89006038017608,-70.55602415207044,-74.42240966082818,-65.76896386433127,-56.30758554573251,-62.723034218293,-64.6892136873172,-69.67568547492688,-65.07027418997075,-66.8281096759883,-66.93124387039532,-69.37249754815812,-70.94899901926325,-69.1795996077053,-70.87183984308211,-70.94873593723284,-63.17949437489314,-67.27179774995726,-67.7087190999829,-60.68348763999316,-66.87339505599726,-67.5493580223989,-58.219743208959564,-58.08789728358383,-66.43515891343353,-57.77406356537341,-54.30962542614937,-65.52385017045975,-59.8095400681839,-54.52381602727356,-60.80952641090943,-69.32381056436377,-74.5295242257455,-63.4118096902982,-60.16472387611928,-62.46588955044771,-66.98635582017909,-71.19454232807163,-71.67781693122865,-77.27112677249146,-78.30845070899659,-81.12338028359864,-81.04935211343945,-81.61974084537579,-80.04789633815031,-72.21915853526012,-73.88766341410405,-75.15506536564162,-67.86202614625665,-75.14481045850266,-76.85792418340107,-75.74316967336043,-75.89726786934418,-76.55890714773767,-77.42356285909507,-71.76942514363803,-74.30777005745522,-75.92310802298209,-75.96924320919284,-77.18769728367714,-77.07507891347086,-78.23003156538834,-78.09201262615534,-79.83680505046213,-75.73472202018485,-78.29388880807394,-74.51755552322957,-75.40702220929182,-73.36280888371672,-75.54512355348669,-77.01804942139468,-83.60721976855787,-77.84288790742315,-77.93715516296926,-78.5748620651877,-78.82994482607508,-79.53197793043003,-79.81279117217201,-79.3251164688688,-79.13004658754753,-72.45201863501902,-76.9808074540076,-72.79232298160304,-71.71692919264122,-77.88677167705649,-80.9547086708226,-82.18188346832903,-84.47275338733161,-82.98910135493264,-81.79564054197306,-74.71825621678923,-79.6873024867157,-75.07492099468628,-72.6299683978745,-77.6519873591498,-75.46079494365992,-77.58431797746397,-73.63372719098558,-72.65349087639423,-77.06139635055769,-73.42455854022307,-80.96982341608923,-79.1879293664357,-81.47517174657428,-78.79006869862971,-84.31602747945189,-78.12641099178076,-76.2505643967123,-68.30022575868492,-73.52009030347396,-77.40803612138959,-84.96321444855583,-80.78528577942234,-74.31411431176893,-75.92564572470758,-76.57025828988303,-78.02810331595322,-74.41124132638129,-75.96449653055251,-76.585798612221,-75.6343194448884,-74.05372777795536,-76.42149111118215,-76.16859644447285,-73.66743857778914,-74.46697543111566,-65.18679017244627,-65.67471606897851,-75.4698864275914,-69.78795457103656,-74.71518182841463,-65.88607273136586,-74.35442909254634,-74.74177163701853,-74.89670865480741,-67.75868346192297,-73.90347338476919,-77.56138935390767,-76.62455574156307,-78.04982229662522,-76.81992891865009,-81.12797156746004,-84.65118862698401,-78.8604754507936,-69.34419018031744,-73.93767607212698,-79.37507042885079,-72.55002817154032,-77.02001126861613,-78.80800450744646,-77.72320180297858,-75.48928072119143,-78.19571228847657,-78.67828491539063,-79.47131396615626,-67.7885255864625,-73.315410234585,-75.526164093834,-78.2104656375336,-76.28418625501344,-74.91367450200538,-76.76546980080215,-81.70618792032086,-83.08247516812834,-86.63299006725134,-82.65319602690053,-81.66127841076022,-78.8645113643041,-76.54580454572164,-75.01832181828865,-69.00732872731547,-68.40293149092619,-66.36117259637048,-73.3444690385482,-76.73778761541928,-78.69511504616771,-74.67804601846709,-78.47121840738683,-70.38848736295473,-82.1553949451819,-78.46215797807275,-78.1848631912291,-81.07394527649164,-81.62957811059665,-80.65183124423866,-81.46073249769546,-88.38429299907818,-90.55371719963128,-84.82148687985251,-84.32859475194101,-85.9314379007764,-86.57257516031056,-77.22903006412423,-86.69161202564969,-83.87664481025988,-82.75065792410395,-77.50026316964158,-75.40010526785663,-79.96004210714266,-75.78401684285706,-81.91360673714283,-78.96544269485713,-83.78617707794285,-83.91447083117714,-87.56578833247086,-84.82631533298834,-83.73052613319534,-83.29221045327813,-82.51688418131126,-82.2067536725245,-79.0827014690098,-79.63308058760393,-79.85323223504157,-82.94129289401663,-82.37651715760666,-85.15060686304267,-82.66024274521706,-81.06409709808682,-79.22563883923473,-77.29025553569389,-76.51610221427755,-79.80644088571103,-82.32257635428441,-83.32903054171376,-83.7316122166855,-79.6926448866742,-78.07705795466968,-80.43082318186788,-81.37232927274715,-82.94893170909886,-82.97957268363955,-84.19182907345582,-84.67673162938233,-81.27069265175294,-87.70827706070118,-81.88331082428047,-82.55332432971218,-82.22132973188488,-85.68853189275396,-82.87541275710159,-87.15016510284063,-81.06006604113625,-82.8240264164545,-82.9296105665818,-79.37184422663272,-83.34873769065308,-85.53949507626123,-88.21579803050449,-83.28631921220179,-81.91452768488071,-81.36581107395229,-84.14632442958091,-84.65852977183236,-85.46341190873295,-85.18536476349318,-87.47414590539728,-79.9896583621589,-84.19586334486357,-82.27834533794542,-80.91133813517817,-82.16453525407127,-83.8658141016285,-81.5463256406514,-84.21853025626056,-84.08741210250423,-80.43496484100169,-79.57398593640067,-81.02959437456028,-82.81183774982411,-83.52473509992964,-73.60989403997186,-83.44395761598875,-78.3775830463955,-80.5510332185582,-72.42041328742329,-79.96816531496931,-82.38726612598772,-72.5549064503951,-66.22196258015803,-67.28878503206322,-72.51551401282529,-77.60620560513011,-82.64248224205204,-79.85699289682081,-78.14279715872833,-79.25711886349133,-71.90284754539653,-77.9611390181586,-79.18445560726344,-80.87378224290538,-86.34951289716216,-82.53980515886487,-73.81592206354594,-79.32636882541837,-83.93054753016735,-82.17221901206693,-89.86888760482677,-92.3475550419307,-95.13902201677229,-86.65560880670891,-83.26224352268356,-81.90489740907343],\"yaxis\":\"y2\"},{\"line\":{\"color\":\"black\"},\"mode\":\"lines\",\"name\":\"Filtered RSSI\",\"type\":\"scatter\",\"x\":[0.045,0.554,2.067,2.572,3.073,4.086,4.593,5.101,5.608,6.111,6.614,7.124,7.63,8.131,8.635,9.652,10.152,11.164,13.191,13.691,14.705,15.207,16.223,17.228,18.244,19.252,19.753,20.262,20.773,21.781,22.794,24.304,25.312,25.813,26.32,27.334,28.924,29.347,30.865,32.891,33.905,34.915,35.421,36.437,37.943,38.445,39.46,39.97,42.501,43.001,44.514,45.023,45.527,46.027,46.537,47.552,48.056,49.064,49.564,50.068,50.571,51.08,52.094,52.604,53.616,54.124,55.641,57.657,58.66,59.163,59.667,60.17,60.677,61.187,61.697,62.716,63.226,63.728,65.755,67.776,68.785,69.292,69.797,71.822,73.336,73.839,74.843,75.349,75.857,76.362,76.868,78.383,78.891,79.395,79.904,81.414,81.923,82.931,83.438,84.452,85.977,86.477,86.981,87.485,87.988,88.494,89.497,90.005,90.507,91.013,91.521,92.532,93.549,94.053,94.563,95.573,96.072,96.575,97.082,98.595,99.601,100.104,100.605,101.107,101.611,102.117,102.622,103.132,103.633,104.133,104.639,105.142,105.643,106.652,107.156,107.656,108.157,109.661,110.676,111.682,112.184,113.193,114.713,115.221,115.724,116.229,117.748,118.762,120.278,121.285,121.793,122.298,123.306,124.312,124.821,125.833,126.338,126.844,127.352,128.863,129.874,130.384,130.888,131.392,132.4,133.917,134.427,134.929,135.438,135.948,136.951,137.961,138.467,139.486,139.987,140.997,142.512,143.524,144.532,145.035,145.542,146.553,147.565,148.066,150.592,151.098,152.622,153.124,154.139,154.643,157.164,157.669,158.168,159.18,160.703,162.718,163.227,163.728,164.236,164.738,165.241,166.253,166.762,167.262,168.776,171.805,172.818,173.824,176.352,176.853,177.868,178.378,180.399,180.905,181.409,182.423,183.438,184.445,184.947,186.454,187.467,188.985,189.992,191.503,193.018,194.026,196.544,197.559,199.079,200.092,201.104,202.113,203.629,206.153,206.658,207.668,208.684,209.194,210.704,211.205,211.707,212.219,212.717,213.219,213.725,215.75,216.26,216.763,217.781,218.288,218.789,219.29,219.792,221.808,222.817,224.329,225.847,226.855,227.366,227.866,228.372,228.878,230.896,231.405,232.413,233.927,234.428,235.434,239.461,239.967,240.474,240.981,241.989,242.999,244.009,246.026,247.54,248.552,249.059,249.564,250.069,250.579,251.588,253.109,254.119,256.136,257.65,260.677,261.18,261.687,262.193,262.701,263.21,264.229,268.273,268.783,270.303,271.314,273.334,273.843,274.856,275.372,275.871,277.394,277.903,278.918,279.425,279.931,281.449,281.95,284.478,285.49,285.998,287.01,287.518,288.027,288.528,292.055,292.564,294.082,294.59,295.099,296.108,296.616,297.119,299.643,300.147,300.648,302.156,302.666,303.176,305.186,305.695,306.201,306.706,307.208,308.212,308.715,309.217,310.741,311.243,311.748,313.261,313.768,314.274,316.799,317.809,318.314,319.824,323.371,326.4,326.909,327.416,327.924,328.938,330.458,331.469,331.978,332.488,334.514,335.017,336.035,336.54,337.559,339.069,339.579,340.588,341.098,341.604,342.103,342.611,343.118,343.619,345.628,346.134,348.147,348.649,350.159,350.667,351.672,352.176,353.19,353.694,355.205,355.711,356.215,357.231,357.737,359.254,359.757,362.278,363.279,363.781,366.317,368.337,369.846,370.348,371.366,371.871,372.376,372.885,373.387,373.895,374.399,374.908,375.92,377.941,379.45,379.954,380.966,382.488,384.508,385.511,386.012,386.515,387.025,388.031,389.039,389.547,390.104,390.559,391.072,394.611],\"xaxis\":\"x3\",\"y\":[-72.0,-71.3027538,-71.48761611,-71.6632353045,-71.680073539275,-71.64606986231125,-71.66376636919568,-71.6305780507359,-71.04904914819912,-70.54659669078916,-70.7692668562497,-70.88080351343721,-70.98676333776535,-70.93742517087709,-71.09055391233323,-71.28602621671658,-71.42172490588075,-71.45063866058672,-70.87810672755738,-71.03420139117951,-71.28249132162053,-71.9183667555395,-71.37244841776251,-71.45382599687439,-71.48113469703067,-71.60707796217913,-72.02672406407018,-72.32538786086667,-72.90911846782333,-73.31366254443216,-73.59797941721055,-73.26808044635003,-73.05467642403252,-72.5019426028309,-72.02684547268935,-71.67550319905487,-71.19172803910213,-70.83214163714702,-70.44053455528967,-70.0685078275252,-69.91508243614894,-69.71932831434148,-69.43336189862441,-69.2116938036932,-69.00110911350853,-68.80105365783311,-68.01100097494145,-67.21045092619438,-66.14992837988467,-65.89243196089043,-65.64781036284592,-65.46541984470362,-65.44214885246843,-65.87004140984502,-66.22653933935277,-66.56521237238513,-66.38695175376587,-66.41760416607758,-66.79672395777371,-66.60688775988503,-66.42654337189077,-66.30521620329624,-66.33995539313143,-66.47295762347485,-66.89930974230111,-67.40434425518606,-67.23412704242676,-67.07242069030542,-67.16879965579015,-67.41035967300064,-66.3898416893506,-66.27034960488308,-66.35683212463893,-65.63899051840698,-65.60704099248663,-65.5766889428623,-64.84785449571919,-65.10546177093323,-65.15018868238657,-64.59267924826725,-64.81304528585389,-65.0223930215612,-65.42127337048314,-65.50020970195898,-65.42519921686103,-64.80393925601798,-65.41374229321708,-65.34305517855623,-65.27590241962841,-65.36210729864699,-65.54400193371464,-65.96680183702891,-66.31846174517746,-66.25253865791859,-65.53991172502266,-65.81291613877153,-65.82227033183295,-65.93115681524131,-66.08459897447925,-66.28036902575529,-66.06635057446752,-66.06303304574415,-66.20988139345694,-66.29938732378409,-66.73441795759489,-67.14769705971514,-67.24031220672939,-67.37829659639291,-68.05938176657327,-68.6564126782446,-68.67359204433238,-67.88991244211576,-68.04541682000998,-67.14314597900947,-66.985988680059,-66.33668924605604,-66.46985478375323,-66.79636204456557,-66.45654394233729,-66.53371674522043,-66.80703090795942,-66.71667936256145,-67.03084539443338,-67.52930312471172,-67.15283796847613,-66.29519607005233,-66.33043626654971,-66.31391445322222,-66.64821873056111,-66.41580779403306,-66.4950174043314,-66.52026653411484,-66.7442532074091,-67.00704054703864,-67.05668851968672,-67.30385409370238,-67.48866138901727,-67.0142283195664,-67.16351690358808,-67.20534105840868,-66.64507400548824,-66.86282030521383,-66.91967928995314,-66.17369532545548,-65.76501055918271,-66.07676003122357,-65.37292202966239,-64.70427592817927,-65.1190621317703,-64.6631090251818,-63.97995357392271,-64.03095589522657,-64.57940810046524,-65.25043769544199,-64.78791581066989,-64.44852002013639,-64.42609401912956,-64.70478931817308,-65.16954985226442,-65.51107235965121,-66.28551874166865,-66.92124280458522,-67.72518066435596,-68.38892163113816,-69.06947554958126,-69.5660017721022,-69.43770168349708,-69.71581659932222,-70.03002576935612,-69.67852448088831,-70.1945982568439,-70.5848683440017,-70.80562492680161,-71.06534368046154,-71.36207649643846,-71.69397267161654,-71.50927403803571,-71.73381033613393,-71.99711981932722,-72.19726382836086,-72.48740063694282,-72.71303060509568,-73.0273790748409,-73.27601012109885,-73.6622096150439,-73.6290991342917,-73.94764417757712,-73.85026196869826,-73.95774887026334,-73.85986142675017,-74.01686835541267,-74.21602493764203,-74.90522369075993,-74.85996250622193,-75.01696438091084,-75.21611616186529,-75.40531035377202,-75.63504483608342,-75.85329259427925,-76.01062796456529,-76.16009656633702,-75.75209173802017,-75.96448715111916,-75.6662627935632,-75.43294965388505,-75.76130217119079,-76.12323706263125,-76.46707520949968,-76.9437214490247,-77.19653537657346,-77.3867086077448,-77.01737317735756,-77.31650451848968,-77.05067929256519,-76.74814532793694,-76.9607380615401,-76.8127011584631,-76.92206610053995,-76.62596279551295,-76.3946646557373,-76.57493142295044,-76.29618485180292,-76.78137560921277,-76.84230682875213,-77.15019148731452,-77.14268191294879,-77.68554781730136,-77.50127042643629,-77.37620690511447,-76.65739655985875,-76.67452673186581,-76.84080039527252,-77.4987603755089,-77.52382235673345,-77.14763123889678,-77.14024967695194,-77.13323719310434,-77.22657533344912,-76.96524656677667,-76.96698423843783,-76.96863502651594,-76.87020327519015,-76.67669311143064,-76.7428584558591,-76.70571553306615,-76.47042975641284,-76.3969082685922,-75.52706285516258,-75.05070971240445,-75.39817422678423,-74.92826551544502,-75.08185223967277,-74.32775962768913,-74.61137164630468,-74.63080306398945,-74.64926291078997,-74.06679976525048,-74.26345977698796,-74.55028678813856,-74.62277244873164,-74.84163382629505,-74.8995521349803,-75.35457452823128,-75.93684580181971,-75.89000351172874,-75.24550333614229,-75.33322816933517,-75.71656676086842,-75.330738422825,-75.56420150168374,-75.78599142659955,-75.84669185526957,-75.75435726250609,-75.96663939938078,-76.11830742941174,-76.31239205794115,-75.4967724550441,-75.57193383229189,-75.64333714067729,-75.86117028364342,-75.81811176946124,-75.72720618098818,-75.84084587193877,-76.29880357834183,-76.68386339942474,-77.2996702294535,-77.43468671798082,-77.61295238208179,-77.5823047629777,-77.45318952482882,-77.28053004858738,-76.66650354615801,-76.2331783688501,-75.6715194504076,-75.78794347788723,-75.94854630399287,-76.15111898879323,-75.94356303935356,-76.19638488738589,-75.6365656430166,-76.35473736086577,-76.33700049282248,-76.42015046818136,-76.74914294477229,-77.01168579753367,-77.161101507657,-77.40304643227414,-78.18289411066043,-78.87374940512741,-78.98006193487105,-79.2310588381275,-79.61950589622111,-79.98853060141006,-79.53910407133957,-80.21214886777258,-80.30154142438396,-80.38646435316475,-80.06714113550652,-79.76378407873119,-79.92559487479463,-79.5793151310549,-79.90034937450216,-79.75533190577704,-80.11756531048819,-80.31168704496378,-80.79610269271559,-80.90629755807981,-81.01098268017583,-81.11043354616703,-81.15491186885868,-81.19716627541574,-80.98730796164496,-80.93794256356271,-80.89104543538458,-81.09649316361535,-81.14166850543458,-81.43458508016285,-81.41285582615471,-81.34221303484698,-81.17510238310463,-80.9163472639494,-80.67052990075193,-80.73700340571433,-80.90015323542862,-81.05514557365719,-81.20238829497433,-80.99226888022561,-80.79265543621433,-80.85302266440361,-80.91037153118343,-81.06485295462426,-81.16161030689304,-81.35352979154838,-81.53585330197096,-81.40906063687241,-81.93860760502879,-81.74167722477735,-81.80459336353849,-81.81436369536156,-82.12364551059349,-82.06746323506381,-82.46409007331062,-82.19088556964509,-82.28134129116283,-82.3172742266047,-82.05141051527445,-82.24883998951073,-82.48639799003519,-82.86207809053343,-82.71897418600676,-82.63302547670642,-82.5513742028711,-82.72380549272755,-82.83761521809117,-82.99573445718661,-83.09594773432728,-83.39115034761092,-82.97159283023038,-83.17301318871885,-83.06436252928292,-82.91114440281878,-82.91558718267784,-83.01980782354394,-82.86881743236674,-83.0253765607484,-83.07410773271098,-82.82040234607544,-82.62938222877168,-82.59791311733309,-82.66801746146643,-82.73461658839311,-81.94788575897346,-82.35049147102478,-81.98296689747355,-81.98381855259987,-81.23462762496987,-81.42289624372138,-81.55175143153531,-80.77416385995855,-79.83545566696063,-79.24368288361259,-79.08149873943196,-79.17742380246037,-79.51855261233734,-79.44262498172048,-79.32049373263446,-79.35446904600273,-78.7367455937026,-78.89990831401747,-78.95491289831659,-79.10716725340076,-79.65180889073072,-79.66921844619418,-79.08575752388447,-79.28146964769024,-79.66739616530573,-79.73402635704045,-80.49732503918842,-81.172458787229,-81.96383584786756,-81.91564405547417,-81.86986185270047,-81.82636876006545],\"yaxis\":\"y3\"}],                        {\"annotations\":[{\"font\":{\"size\":16},\"showarrow\":false,\"text\":\"Normal Filtering (alpha=0.2)\",\"x\":0.14444444444444443,\"xanchor\":\"center\",\"xref\":\"paper\",\"y\":1.0,\"yanchor\":\"bottom\",\"yref\":\"paper\"},{\"font\":{\"size\":16},\"showarrow\":false,\"text\":\"Decreased Filtering (alpha=0.6)\",\"x\":0.49999999999999994,\"xanchor\":\"center\",\"xref\":\"paper\",\"y\":1.0,\"yanchor\":\"bottom\",\"yref\":\"paper\"},{\"font\":{\"size\":16},\"showarrow\":false,\"text\":\"Increased Filtering (alpha=0.05)\",\"x\":0.8555555555555554,\"xanchor\":\"center\",\"xref\":\"paper\",\"y\":1.0,\"yanchor\":\"bottom\",\"yref\":\"paper\"}],\"barmode\":\"group\",\"hovermode\":\"x unified\",\"legend\":{\"orientation\":\"v\",\"xanchor\":\"left\"},\"template\":{\"data\":{\"bar\":[{\"error_x\":{\"color\":\"#2a3f5f\"},\"error_y\":{\"color\":\"#2a3f5f\"},\"marker\":{\"line\":{\"color\":\"#E5ECF6\",\"width\":0.5},\"pattern\":{\"fillmode\":\"overlay\",\"size\":10,\"solidity\":0.2}},\"type\":\"bar\"}],\"barpolar\":[{\"marker\":{\"line\":{\"color\":\"#E5ECF6\",\"width\":0.5},\"pattern\":{\"fillmode\":\"overlay\",\"size\":10,\"solidity\":0.2}},\"type\":\"barpolar\"}],\"carpet\":[{\"aaxis\":{\"endlinecolor\":\"#2a3f5f\",\"gridcolor\":\"white\",\"linecolor\":\"white\",\"minorgridcolor\":\"white\",\"startlinecolor\":\"#2a3f5f\"},\"baxis\":{\"endlinecolor\":\"#2a3f5f\",\"gridcolor\":\"white\",\"linecolor\":\"white\",\"minorgridcolor\":\"white\",\"startlinecolor\":\"#2a3f5f\"},\"type\":\"carpet\"}],\"choropleth\":[{\"colorbar\":{\"outlinewidth\":0,\"ticks\":\"\"},\"type\":\"choropleth\"}],\"contour\":[{\"colorbar\":{\"outlinewidth\":0,\"ticks\":\"\"},\"colorscale\":[[0.0,\"#0d0887\"],[0.1111111111111111,\"#46039f\"],[0.2222222222222222,\"#7201a8\"],[0.3333333333333333,\"#9c179e\"],[0.4444444444444444,\"#bd3786\"],[0.5555555555555556,\"#d8576b\"],[0.6666666666666666,\"#ed7953\"],[0.7777777777777778,\"#fb9f3a\"],[0.8888888888888888,\"#fdca26\"],[1.0,\"#f0f921\"]],\"type\":\"contour\"}],\"contourcarpet\":[{\"colorbar\":{\"outlinewidth\":0,\"ticks\":\"\"},\"type\":\"contourcarpet\"}],\"heatmap\":[{\"colorbar\":{\"outlinewidth\":0,\"ticks\":\"\"},\"colorscale\":[[0.0,\"#0d0887\"],[0.1111111111111111,\"#46039f\"],[0.2222222222222222,\"#7201a8\"],[0.3333333333333333,\"#9c179e\"],[0.4444444444444444,\"#bd3786\"],[0.5555555555555556,\"#d8576b\"],[0.6666666666666666,\"#ed7953\"],[0.7777777777777778,\"#fb9f3a\"],[0.8888888888888888,\"#fdca26\"],[1.0,\"#f0f921\"]],\"type\":\"heatmap\"}],\"heatmapgl\":[{\"colorbar\":{\"outlinewidth\":0,\"ticks\":\"\"},\"colorscale\":[[0.0,\"#0d0887\"],[0.1111111111111111,\"#46039f\"],[0.2222222222222222,\"#7201a8\"],[0.3333333333333333,\"#9c179e\"],[0.4444444444444444,\"#bd3786\"],[0.5555555555555556,\"#d8576b\"],[0.6666666666666666,\"#ed7953\"],[0.7777777777777778,\"#fb9f3a\"],[0.8888888888888888,\"#fdca26\"],[1.0,\"#f0f921\"]],\"type\":\"heatmapgl\"}],\"histogram\":[{\"marker\":{\"pattern\":{\"fillmode\":\"overlay\",\"size\":10,\"solidity\":0.2}},\"type\":\"histogram\"}],\"histogram2d\":[{\"colorbar\":{\"outlinewidth\":0,\"ticks\":\"\"},\"colorscale\":[[0.0,\"#0d0887\"],[0.1111111111111111,\"#46039f\"],[0.2222222222222222,\"#7201a8\"],[0.3333333333333333,\"#9c179e\"],[0.4444444444444444,\"#bd3786\"],[0.5555555555555556,\"#d8576b\"],[0.6666666666666666,\"#ed7953\"],[0.7777777777777778,\"#fb9f3a\"],[0.8888888888888888,\"#fdca26\"],[1.0,\"#f0f921\"]],\"type\":\"histogram2d\"}],\"histogram2dcontour\":[{\"colorbar\":{\"outlinewidth\":0,\"ticks\":\"\"},\"colorscale\":[[0.0,\"#0d0887\"],[0.1111111111111111,\"#46039f\"],[0.2222222222222222,\"#7201a8\"],[0.3333333333333333,\"#9c179e\"],[0.4444444444444444,\"#bd3786\"],[0.5555555555555556,\"#d8576b\"],[0.6666666666666666,\"#ed7953\"],[0.7777777777777778,\"#fb9f3a\"],[0.8888888888888888,\"#fdca26\"],[1.0,\"#f0f921\"]],\"type\":\"histogram2dcontour\"}],\"mesh3d\":[{\"colorbar\":{\"outlinewidth\":0,\"ticks\":\"\"},\"type\":\"mesh3d\"}],\"parcoords\":[{\"line\":{\"colorbar\":{\"outlinewidth\":0,\"ticks\":\"\"}},\"type\":\"parcoords\"}],\"pie\":[{\"automargin\":true,\"type\":\"pie\"}],\"scatter\":[{\"marker\":{\"colorbar\":{\"outlinewidth\":0,\"ticks\":\"\"}},\"type\":\"scatter\"}],\"scatter3d\":[{\"line\":{\"colorbar\":{\"outlinewidth\":0,\"ticks\":\"\"}},\"marker\":{\"colorbar\":{\"outlinewidth\":0,\"ticks\":\"\"}},\"type\":\"scatter3d\"}],\"scattercarpet\":[{\"marker\":{\"colorbar\":{\"outlinewidth\":0,\"ticks\":\"\"}},\"type\":\"scattercarpet\"}],\"scattergeo\":[{\"marker\":{\"colorbar\":{\"outlinewidth\":0,\"ticks\":\"\"}},\"type\":\"scattergeo\"}],\"scattergl\":[{\"marker\":{\"colorbar\":{\"outlinewidth\":0,\"ticks\":\"\"}},\"type\":\"scattergl\"}],\"scattermapbox\":[{\"marker\":{\"colorbar\":{\"outlinewidth\":0,\"ticks\":\"\"}},\"type\":\"scattermapbox\"}],\"scatterpolar\":[{\"marker\":{\"colorbar\":{\"outlinewidth\":0,\"ticks\":\"\"}},\"type\":\"scatterpolar\"}],\"scatterpolargl\":[{\"marker\":{\"colorbar\":{\"outlinewidth\":0,\"ticks\":\"\"}},\"type\":\"scatterpolargl\"}],\"scatterternary\":[{\"marker\":{\"colorbar\":{\"outlinewidth\":0,\"ticks\":\"\"}},\"type\":\"scatterternary\"}],\"surface\":[{\"colorbar\":{\"outlinewidth\":0,\"ticks\":\"\"},\"colorscale\":[[0.0,\"#0d0887\"],[0.1111111111111111,\"#46039f\"],[0.2222222222222222,\"#7201a8\"],[0.3333333333333333,\"#9c179e\"],[0.4444444444444444,\"#bd3786\"],[0.5555555555555556,\"#d8576b\"],[0.6666666666666666,\"#ed7953\"],[0.7777777777777778,\"#fb9f3a\"],[0.8888888888888888,\"#fdca26\"],[1.0,\"#f0f921\"]],\"type\":\"surface\"}],\"table\":[{\"cells\":{\"fill\":{\"color\":\"#EBF0F8\"},\"line\":{\"color\":\"white\"}},\"header\":{\"fill\":{\"color\":\"#C8D4E3\"},\"line\":{\"color\":\"white\"}},\"type\":\"table\"}]},\"layout\":{\"annotationdefaults\":{\"arrowcolor\":\"#2a3f5f\",\"arrowhead\":0,\"arrowwidth\":1},\"autotypenumbers\":\"strict\",\"coloraxis\":{\"colorbar\":{\"outlinewidth\":0,\"ticks\":\"\"}},\"colorscale\":{\"diverging\":[[0,\"#8e0152\"],[0.1,\"#c51b7d\"],[0.2,\"#de77ae\"],[0.3,\"#f1b6da\"],[0.4,\"#fde0ef\"],[0.5,\"#f7f7f7\"],[0.6,\"#e6f5d0\"],[0.7,\"#b8e186\"],[0.8,\"#7fbc41\"],[0.9,\"#4d9221\"],[1,\"#276419\"]],\"sequential\":[[0.0,\"#0d0887\"],[0.1111111111111111,\"#46039f\"],[0.2222222222222222,\"#7201a8\"],[0.3333333333333333,\"#9c179e\"],[0.4444444444444444,\"#bd3786\"],[0.5555555555555556,\"#d8576b\"],[0.6666666666666666,\"#ed7953\"],[0.7777777777777778,\"#fb9f3a\"],[0.8888888888888888,\"#fdca26\"],[1.0,\"#f0f921\"]],\"sequentialminus\":[[0.0,\"#0d0887\"],[0.1111111111111111,\"#46039f\"],[0.2222222222222222,\"#7201a8\"],[0.3333333333333333,\"#9c179e\"],[0.4444444444444444,\"#bd3786\"],[0.5555555555555556,\"#d8576b\"],[0.6666666666666666,\"#ed7953\"],[0.7777777777777778,\"#fb9f3a\"],[0.8888888888888888,\"#fdca26\"],[1.0,\"#f0f921\"]]},\"colorway\":[\"#636efa\",\"#EF553B\",\"#00cc96\",\"#ab63fa\",\"#FFA15A\",\"#19d3f3\",\"#FF6692\",\"#B6E880\",\"#FF97FF\",\"#FECB52\"],\"font\":{\"color\":\"#2a3f5f\"},\"geo\":{\"bgcolor\":\"white\",\"lakecolor\":\"white\",\"landcolor\":\"#E5ECF6\",\"showlakes\":true,\"showland\":true,\"subunitcolor\":\"white\"},\"hoverlabel\":{\"align\":\"left\"},\"hovermode\":\"closest\",\"mapbox\":{\"style\":\"light\"},\"paper_bgcolor\":\"white\",\"plot_bgcolor\":\"#E5ECF6\",\"polar\":{\"angularaxis\":{\"gridcolor\":\"white\",\"linecolor\":\"white\",\"ticks\":\"\"},\"bgcolor\":\"#E5ECF6\",\"radialaxis\":{\"gridcolor\":\"white\",\"linecolor\":\"white\",\"ticks\":\"\"}},\"scene\":{\"xaxis\":{\"backgroundcolor\":\"#E5ECF6\",\"gridcolor\":\"white\",\"gridwidth\":2,\"linecolor\":\"white\",\"showbackground\":true,\"ticks\":\"\",\"zerolinecolor\":\"white\"},\"yaxis\":{\"backgroundcolor\":\"#E5ECF6\",\"gridcolor\":\"white\",\"gridwidth\":2,\"linecolor\":\"white\",\"showbackground\":true,\"ticks\":\"\",\"zerolinecolor\":\"white\"},\"zaxis\":{\"backgroundcolor\":\"#E5ECF6\",\"gridcolor\":\"white\",\"gridwidth\":2,\"linecolor\":\"white\",\"showbackground\":true,\"ticks\":\"\",\"zerolinecolor\":\"white\"}},\"shapedefaults\":{\"line\":{\"color\":\"#2a3f5f\"}},\"ternary\":{\"aaxis\":{\"gridcolor\":\"white\",\"linecolor\":\"white\",\"ticks\":\"\"},\"baxis\":{\"gridcolor\":\"white\",\"linecolor\":\"white\",\"ticks\":\"\"},\"bgcolor\":\"#E5ECF6\",\"caxis\":{\"gridcolor\":\"white\",\"linecolor\":\"white\",\"ticks\":\"\"}},\"title\":{\"x\":0.05},\"xaxis\":{\"automargin\":true,\"gridcolor\":\"white\",\"linecolor\":\"white\",\"ticks\":\"\",\"title\":{\"standoff\":15},\"zerolinecolor\":\"white\",\"zerolinewidth\":2},\"yaxis\":{\"automargin\":true,\"gridcolor\":\"white\",\"linecolor\":\"white\",\"ticks\":\"\",\"title\":{\"standoff\":15},\"zerolinecolor\":\"white\",\"zerolinewidth\":2}}},\"xaxis\":{\"anchor\":\"y\",\"domain\":[0.0,0.28888888888888886],\"showspikes\":true,\"spikecolor\":\"purple\",\"spikemode\":\"across\",\"spikesnap\":\"cursor\",\"spikethickness\":2},\"xaxis2\":{\"anchor\":\"y2\",\"domain\":[0.3555555555555555,0.6444444444444444],\"showspikes\":true,\"spikecolor\":\"purple\",\"spikemode\":\"across\",\"spikesnap\":\"cursor\",\"spikethickness\":2,\"title\":{\"text\":\"Time from Experiment Start Time (secs)\"}},\"xaxis3\":{\"anchor\":\"y3\",\"domain\":[0.711111111111111,0.9999999999999999],\"showspikes\":true,\"spikecolor\":\"purple\",\"spikemode\":\"across\",\"spikesnap\":\"cursor\",\"spikethickness\":2},\"yaxis\":{\"anchor\":\"x\",\"domain\":[0.0,1.0],\"showspikes\":true,\"spikecolor\":\"orange\",\"spikethickness\":2,\"title\":{\"text\":\"RSSI (dbM)\"}},\"yaxis2\":{\"anchor\":\"x2\",\"domain\":[0.0,1.0],\"matches\":\"y\",\"showspikes\":true,\"showticklabels\":false,\"spikecolor\":\"orange\",\"spikethickness\":2},\"yaxis3\":{\"anchor\":\"x3\",\"domain\":[0.0,1.0],\"matches\":\"y\",\"showspikes\":true,\"showticklabels\":false,\"spikecolor\":\"orange\",\"spikethickness\":2}},                        {\"responsive\": true}                    ).then(function(){\n",
       "                            \n",
       "var gd = document.getElementById('619f93fa-450f-4ea0-8a05-ad4b144a5a97');\n",
       "var x = new MutationObserver(function (mutations, observer) {{\n",
       "        var display = window.getComputedStyle(gd).display;\n",
       "        if (!display || display === 'none') {{\n",
       "            console.log([gd, 'removed!']);\n",
       "            Plotly.purge(gd);\n",
       "            observer.disconnect();\n",
       "        }}\n",
       "}});\n",
       "\n",
       "// Listen for the removal of the full notebook cells\n",
       "var notebookContainer = gd.closest('#notebook-container');\n",
       "if (notebookContainer) {{\n",
       "    x.observe(notebookContainer, {childList: true});\n",
       "}}\n",
       "\n",
       "// Listen for the clearing of the current output cell\n",
       "var outputEl = gd.closest('.output');\n",
       "if (outputEl) {{\n",
       "    x.observe(outputEl, {childList: true});\n",
       "}}\n",
       "\n",
       "                        })                };                });            </script>        </div>"
      ]
     },
     "metadata": {},
     "output_type": "display_data"
    },
    {
     "data": {
      "application/vnd.plotly.v1+json": {
       "config": {
        "plotlyServerURL": "https://plot.ly"
       },
       "data": [
        {
         "box": {
          "visible": true
         },
         "jitter": 0.05,
         "meanline": {
          "visible": true
         },
         "name": "A-1.1",
         "points": "all",
         "scalemode": "count",
         "type": "violin",
         "x": [
          "A-1.1",
          "A-1.1",
          "A-1.1",
          "A-1.1",
          "A-1.1",
          "A-1.1",
          "A-1.1",
          "A-1.1",
          "A-1.1",
          "A-1.1",
          "A-1.1",
          "A-1.1",
          "A-1.1",
          "A-1.1",
          "A-1.1",
          "A-1.1",
          "A-1.1",
          "A-1.1",
          "A-1.1",
          "A-1.1",
          "A-1.1"
         ],
         "y": [
          2.8154674276063134,
          2.8670667197923967,
          2.9794718427886915,
          2.6537733128718193,
          2.8837206316186172,
          3.0503416864921338,
          2.902931034474105,
          2.912819218049041,
          2.977817324594219,
          2.6498741668110792,
          2.7161565943834596,
          2.664104930116565,
          2.870911245202287,
          2.912719890761736,
          2.984251821514638,
          2.9624705705154524,
          2.8795278469637124,
          2.6934648249779283,
          2.720556485636722,
          2.715215330642915,
          2.5852172740096266
         ]
        },
        {
         "box": {
          "visible": true
         },
         "jitter": 0.05,
         "meanline": {
          "visible": true
         },
         "name": "A-1.2",
         "points": "all",
         "scalemode": "count",
         "type": "violin",
         "x": [
          "A-1.2",
          "A-1.2",
          "A-1.2",
          "A-1.2",
          "A-1.2",
          "A-1.2",
          "A-1.2",
          "A-1.2",
          "A-1.2",
          "A-1.2",
          "A-1.2",
          "A-1.2",
          "A-1.2",
          "A-1.2",
          "A-1.2",
          "A-1.2",
          "A-1.2",
          "A-1.2",
          "A-1.2",
          "A-1.2",
          "A-1.2"
         ],
         "y": [
          1.1702964816330268,
          1.210811794281137,
          1.1584761619864472,
          1.2278994352126924,
          1.226692576597554,
          1.1407749923957868,
          1.267858104338129,
          1.416731927503574,
          1.3697823561502758,
          1.4105830459947648,
          1.3183520070756438,
          1.4678047222213368,
          1.298826227150325,
          1.3203837412930903,
          1.2605749882531578,
          1.4454148887321305,
          1.6615535800790695,
          1.428429150575825,
          1.4038609589815307,
          1.2340641941657375,
          1.233150449452491
         ]
        },
        {
         "box": {
          "visible": true
         },
         "jitter": 0.05,
         "meanline": {
          "visible": true
         },
         "name": "A-2.1",
         "points": "all",
         "scalemode": "count",
         "type": "violin",
         "x": [
          "A-2.1",
          "A-2.1",
          "A-2.1",
          "A-2.1",
          "A-2.1",
          "A-2.1",
          "A-2.1",
          "A-2.1",
          "A-2.1",
          "A-2.1",
          "A-2.1",
          "A-2.1",
          "A-2.1",
          "A-2.1",
          "A-2.1",
          "A-2.1",
          "A-2.1",
          "A-2.1",
          "A-2.1",
          "A-2.1",
          "A-2.1"
         ],
         "y": [
          3.186731611995357,
          3.1316011071074232,
          3.100882843596098,
          3.087305012337341,
          3.110285221977248,
          3.0993750975202023,
          3.0008080590486212,
          3.1451809805139126,
          3.0551236122319003,
          3.1013198346480655,
          3.0760725189286564,
          2.898235417451749,
          2.8725782159112696,
          2.8284895493052233,
          2.658277410440489,
          2.6104420665682686,
          2.4527737069180473,
          2.652826612449095,
          2.6615334026234616,
          2.419671445632747,
          2.534907893987686
         ]
        },
        {
         "box": {
          "visible": true
         },
         "jitter": 0.05,
         "meanline": {
          "visible": true
         },
         "name": "A-2.2",
         "points": "all",
         "scalemode": "count",
         "type": "violin",
         "x": [
          "A-2.2",
          "A-2.2",
          "A-2.2",
          "A-2.2",
          "A-2.2",
          "A-2.2",
          "A-2.2",
          "A-2.2",
          "A-2.2",
          "A-2.2",
          "A-2.2",
          "A-2.2",
          "A-2.2",
          "A-2.2",
          "A-2.2",
          "A-2.2",
          "A-2.2",
          "A-2.2",
          "A-2.2",
          "A-2.2",
          "A-2.2"
         ],
         "y": [
          0.5577657100556437,
          0.6619619926265685,
          0.4658581407020442,
          0.5290044101087256,
          0.5904157407556974,
          0.6443289273609417,
          0.4416329655834477,
          0.49310719000877173,
          0.34823595880290065,
          0.32733165829963856,
          0.5773946552292627,
          0.5222493572818271,
          0.5653503558394983,
          0.5683857439217364,
          0.8924384541234209,
          0.7745638389941708,
          0.7194334495810659,
          0.7728595723449524,
          0.7176122815763267,
          0.4992997147518135,
          0.6832447659708162
         ]
        },
        {
         "box": {
          "visible": true
         },
         "jitter": 0.05,
         "meanline": {
          "visible": true
         },
         "name": "A-3.1",
         "points": "all",
         "scalemode": "count",
         "type": "violin",
         "x": [
          "A-3.1",
          "A-3.1",
          "A-3.1",
          "A-3.1",
          "A-3.1",
          "A-3.1",
          "A-3.1",
          "A-3.1",
          "A-3.1",
          "A-3.1",
          "A-3.1",
          "A-3.1",
          "A-3.1",
          "A-3.1",
          "A-3.1",
          "A-3.1",
          "A-3.1",
          "A-3.1",
          "A-3.1",
          "A-3.1",
          "A-3.1"
         ],
         "y": [
          2.03615955436313,
          2.1285179690852227,
          2.060877104145287,
          2.0580143208900323,
          2.4030490913482527,
          2.453913143493165,
          2.4916242667303488,
          2.558574800448655,
          2.411600695614369,
          2.397664380515252,
          2.193625071250377,
          2.194711142644253,
          2.1646246725308225,
          2.3298432671214115,
          2.3057489059258405,
          2.1686122160579044,
          2.0890236946190757,
          2.3824945313225734,
          3.0162035982495117,
          2.9509297850390586,
          3.0983574251099206
         ]
        },
        {
         "box": {
          "visible": true
         },
         "jitter": 0.05,
         "meanline": {
          "visible": true
         },
         "name": "A-3.2",
         "points": "all",
         "scalemode": "count",
         "type": "violin",
         "x": [
          "A-3.2",
          "A-3.2",
          "A-3.2",
          "A-3.2",
          "A-3.2",
          "A-3.2",
          "A-3.2",
          "A-3.2",
          "A-3.2",
          "A-3.2",
          "A-3.2",
          "A-3.2",
          "A-3.2",
          "A-3.2",
          "A-3.2",
          "A-3.2",
          "A-3.2",
          "A-3.2",
          "A-3.2",
          "A-3.2",
          "A-3.2"
         ],
         "y": [
          1.3260960500724575,
          1.3424077202552,
          1.0843569302785858,
          1.3976758984342859,
          1.4062042750043933,
          1.3298326393578053,
          1.6881742711411147,
          1.6023756858318876,
          1.7244567489067681,
          1.8447940645450962,
          1.898265066838003,
          1.9289498224855028,
          1.6957517628940582,
          1.7885568947459525,
          1.859066582292204,
          1.8130619269488326,
          1.934507499325027,
          1.9756275852956615,
          1.8859810697061954,
          1.5628431592376513,
          1.4177228568823395
         ]
        },
        {
         "box": {
          "visible": true
         },
         "jitter": 0.05,
         "meanline": {
          "visible": true
         },
         "name": "A-4.1",
         "points": "all",
         "scalemode": "count",
         "type": "violin",
         "x": [
          "A-4.1",
          "A-4.1",
          "A-4.1",
          "A-4.1",
          "A-4.1",
          "A-4.1",
          "A-4.1",
          "A-4.1",
          "A-4.1",
          "A-4.1",
          "A-4.1",
          "A-4.1",
          "A-4.1",
          "A-4.1",
          "A-4.1",
          "A-4.1",
          "A-4.1",
          "A-4.1",
          "A-4.1",
          "A-4.1",
          "A-4.1"
         ],
         "y": [
          2.2827278447274395,
          2.79923321928349,
          2.9708062794443357,
          2.9479968683838207,
          2.881830068174113,
          2.9897953931714802,
          2.8209937248199344,
          3.174184291025474,
          3.0883312065218025,
          2.946411890358503,
          3.019789602541986,
          3.0880819392966816,
          2.9456031282931194,
          3.1066786004269136,
          2.551270057977344,
          2.362533364646902,
          2.603062389108797,
          2.5714783153817193,
          2.775676144731467,
          2.8686117799279525,
          2.45405453575862
         ]
        },
        {
         "box": {
          "visible": true
         },
         "jitter": 0.05,
         "meanline": {
          "visible": true
         },
         "name": "A-4.2",
         "points": "all",
         "scalemode": "count",
         "type": "violin",
         "x": [
          "A-4.2",
          "A-4.2",
          "A-4.2",
          "A-4.2",
          "A-4.2",
          "A-4.2",
          "A-4.2",
          "A-4.2",
          "A-4.2",
          "A-4.2",
          "A-4.2",
          "A-4.2",
          "A-4.2",
          "A-4.2",
          "A-4.2",
          "A-4.2",
          "A-4.2",
          "A-4.2",
          "A-4.2",
          "A-4.2",
          "A-4.2"
         ],
         "y": [
          4.387847500676733,
          4.262410968267325,
          4.105809149114372,
          3.6051414441980656,
          3.591087773993143,
          3.2554795640955945,
          2.8146484217339247,
          2.7995174191691663,
          2.4698443409697983,
          2.197782248785932,
          2.261632658059073,
          2.1458016337748265,
          2.268758305239174,
          2.37098019867016,
          2.244838678868753,
          2.1326915706694876,
          2.1092383969557615,
          2.1228260506918923,
          2.0369466300589365,
          2.2044356508962615,
          2.2508197899818247
         ]
        },
        {
         "box": {
          "visible": true
         },
         "jitter": 0.05,
         "meanline": {
          "visible": true
         },
         "name": "A-5.1",
         "points": "all",
         "scalemode": "count",
         "type": "violin",
         "x": [
          "A-5.1",
          "A-5.1",
          "A-5.1",
          "A-5.1",
          "A-5.1",
          "A-5.1",
          "A-5.1",
          "A-5.1",
          "A-5.1",
          "A-5.1",
          "A-5.1",
          "A-5.1",
          "A-5.1",
          "A-5.1",
          "A-5.1",
          "A-5.1",
          "A-5.1",
          "A-5.1",
          "A-5.1",
          "A-5.1",
          "A-5.1"
         ],
         "y": [
          1.5120629669946541,
          1.5885291374913364,
          1.4540971939672498,
          1.4992249522122048,
          1.287031665582786,
          1.7139399161555013,
          1.4442011840287046,
          1.274334543110968,
          1.3189403926990413,
          1.138991598114486,
          1.199009980629751,
          1.0421911070984828,
          1.066342997058645,
          1.4085211781438882,
          1.5603415909338896,
          1.5282084277798478,
          1.8271196549058677,
          1.7964938970681967,
          2.1022526533529886,
          1.6431046847053887,
          1.8621396694204868
         ]
        },
        {
         "box": {
          "visible": true
         },
         "jitter": 0.05,
         "meanline": {
          "visible": true
         },
         "name": "A-5.2",
         "points": "all",
         "scalemode": "count",
         "type": "violin",
         "x": [
          "A-5.2",
          "A-5.2",
          "A-5.2",
          "A-5.2",
          "A-5.2",
          "A-5.2",
          "A-5.2",
          "A-5.2",
          "A-5.2",
          "A-5.2",
          "A-5.2",
          "A-5.2",
          "A-5.2",
          "A-5.2",
          "A-5.2",
          "A-5.2",
          "A-5.2",
          "A-5.2",
          "A-5.2",
          "A-5.2",
          "A-5.2"
         ],
         "y": [
          4.06448309291657,
          4.062238906213829,
          4.250815237763596,
          4.193439146755879,
          4.196304550443041,
          3.997843922764133,
          3.9820466960789203,
          4.454400336031485,
          4.415375403200481,
          4.0413765713940615,
          3.4415048839598317,
          3.5860829394170173,
          3.3598553734741454,
          3.7617925203263876,
          3.4148827229453422,
          3.5774172664418042,
          3.502590148558937,
          3.290170088278646,
          3.58766144274227,
          3.06314382891456,
          3.36408762508869
         ]
        }
       ],
       "layout": {
        "barmode": "group",
        "legend": {
         "orientation": "v",
         "title": {
          "text": "Normal Filter"
         },
         "xanchor": "left"
        },
        "template": {
         "data": {
          "bar": [
           {
            "error_x": {
             "color": "#2a3f5f"
            },
            "error_y": {
             "color": "#2a3f5f"
            },
            "marker": {
             "line": {
              "color": "#E5ECF6",
              "width": 0.5
             },
             "pattern": {
              "fillmode": "overlay",
              "size": 10,
              "solidity": 0.2
             }
            },
            "type": "bar"
           }
          ],
          "barpolar": [
           {
            "marker": {
             "line": {
              "color": "#E5ECF6",
              "width": 0.5
             },
             "pattern": {
              "fillmode": "overlay",
              "size": 10,
              "solidity": 0.2
             }
            },
            "type": "barpolar"
           }
          ],
          "carpet": [
           {
            "aaxis": {
             "endlinecolor": "#2a3f5f",
             "gridcolor": "white",
             "linecolor": "white",
             "minorgridcolor": "white",
             "startlinecolor": "#2a3f5f"
            },
            "baxis": {
             "endlinecolor": "#2a3f5f",
             "gridcolor": "white",
             "linecolor": "white",
             "minorgridcolor": "white",
             "startlinecolor": "#2a3f5f"
            },
            "type": "carpet"
           }
          ],
          "choropleth": [
           {
            "colorbar": {
             "outlinewidth": 0,
             "ticks": ""
            },
            "type": "choropleth"
           }
          ],
          "contour": [
           {
            "colorbar": {
             "outlinewidth": 0,
             "ticks": ""
            },
            "colorscale": [
             [
              0,
              "#0d0887"
             ],
             [
              0.1111111111111111,
              "#46039f"
             ],
             [
              0.2222222222222222,
              "#7201a8"
             ],
             [
              0.3333333333333333,
              "#9c179e"
             ],
             [
              0.4444444444444444,
              "#bd3786"
             ],
             [
              0.5555555555555556,
              "#d8576b"
             ],
             [
              0.6666666666666666,
              "#ed7953"
             ],
             [
              0.7777777777777778,
              "#fb9f3a"
             ],
             [
              0.8888888888888888,
              "#fdca26"
             ],
             [
              1,
              "#f0f921"
             ]
            ],
            "type": "contour"
           }
          ],
          "contourcarpet": [
           {
            "colorbar": {
             "outlinewidth": 0,
             "ticks": ""
            },
            "type": "contourcarpet"
           }
          ],
          "heatmap": [
           {
            "colorbar": {
             "outlinewidth": 0,
             "ticks": ""
            },
            "colorscale": [
             [
              0,
              "#0d0887"
             ],
             [
              0.1111111111111111,
              "#46039f"
             ],
             [
              0.2222222222222222,
              "#7201a8"
             ],
             [
              0.3333333333333333,
              "#9c179e"
             ],
             [
              0.4444444444444444,
              "#bd3786"
             ],
             [
              0.5555555555555556,
              "#d8576b"
             ],
             [
              0.6666666666666666,
              "#ed7953"
             ],
             [
              0.7777777777777778,
              "#fb9f3a"
             ],
             [
              0.8888888888888888,
              "#fdca26"
             ],
             [
              1,
              "#f0f921"
             ]
            ],
            "type": "heatmap"
           }
          ],
          "heatmapgl": [
           {
            "colorbar": {
             "outlinewidth": 0,
             "ticks": ""
            },
            "colorscale": [
             [
              0,
              "#0d0887"
             ],
             [
              0.1111111111111111,
              "#46039f"
             ],
             [
              0.2222222222222222,
              "#7201a8"
             ],
             [
              0.3333333333333333,
              "#9c179e"
             ],
             [
              0.4444444444444444,
              "#bd3786"
             ],
             [
              0.5555555555555556,
              "#d8576b"
             ],
             [
              0.6666666666666666,
              "#ed7953"
             ],
             [
              0.7777777777777778,
              "#fb9f3a"
             ],
             [
              0.8888888888888888,
              "#fdca26"
             ],
             [
              1,
              "#f0f921"
             ]
            ],
            "type": "heatmapgl"
           }
          ],
          "histogram": [
           {
            "marker": {
             "pattern": {
              "fillmode": "overlay",
              "size": 10,
              "solidity": 0.2
             }
            },
            "type": "histogram"
           }
          ],
          "histogram2d": [
           {
            "colorbar": {
             "outlinewidth": 0,
             "ticks": ""
            },
            "colorscale": [
             [
              0,
              "#0d0887"
             ],
             [
              0.1111111111111111,
              "#46039f"
             ],
             [
              0.2222222222222222,
              "#7201a8"
             ],
             [
              0.3333333333333333,
              "#9c179e"
             ],
             [
              0.4444444444444444,
              "#bd3786"
             ],
             [
              0.5555555555555556,
              "#d8576b"
             ],
             [
              0.6666666666666666,
              "#ed7953"
             ],
             [
              0.7777777777777778,
              "#fb9f3a"
             ],
             [
              0.8888888888888888,
              "#fdca26"
             ],
             [
              1,
              "#f0f921"
             ]
            ],
            "type": "histogram2d"
           }
          ],
          "histogram2dcontour": [
           {
            "colorbar": {
             "outlinewidth": 0,
             "ticks": ""
            },
            "colorscale": [
             [
              0,
              "#0d0887"
             ],
             [
              0.1111111111111111,
              "#46039f"
             ],
             [
              0.2222222222222222,
              "#7201a8"
             ],
             [
              0.3333333333333333,
              "#9c179e"
             ],
             [
              0.4444444444444444,
              "#bd3786"
             ],
             [
              0.5555555555555556,
              "#d8576b"
             ],
             [
              0.6666666666666666,
              "#ed7953"
             ],
             [
              0.7777777777777778,
              "#fb9f3a"
             ],
             [
              0.8888888888888888,
              "#fdca26"
             ],
             [
              1,
              "#f0f921"
             ]
            ],
            "type": "histogram2dcontour"
           }
          ],
          "mesh3d": [
           {
            "colorbar": {
             "outlinewidth": 0,
             "ticks": ""
            },
            "type": "mesh3d"
           }
          ],
          "parcoords": [
           {
            "line": {
             "colorbar": {
              "outlinewidth": 0,
              "ticks": ""
             }
            },
            "type": "parcoords"
           }
          ],
          "pie": [
           {
            "automargin": true,
            "type": "pie"
           }
          ],
          "scatter": [
           {
            "marker": {
             "colorbar": {
              "outlinewidth": 0,
              "ticks": ""
             }
            },
            "type": "scatter"
           }
          ],
          "scatter3d": [
           {
            "line": {
             "colorbar": {
              "outlinewidth": 0,
              "ticks": ""
             }
            },
            "marker": {
             "colorbar": {
              "outlinewidth": 0,
              "ticks": ""
             }
            },
            "type": "scatter3d"
           }
          ],
          "scattercarpet": [
           {
            "marker": {
             "colorbar": {
              "outlinewidth": 0,
              "ticks": ""
             }
            },
            "type": "scattercarpet"
           }
          ],
          "scattergeo": [
           {
            "marker": {
             "colorbar": {
              "outlinewidth": 0,
              "ticks": ""
             }
            },
            "type": "scattergeo"
           }
          ],
          "scattergl": [
           {
            "marker": {
             "colorbar": {
              "outlinewidth": 0,
              "ticks": ""
             }
            },
            "type": "scattergl"
           }
          ],
          "scattermapbox": [
           {
            "marker": {
             "colorbar": {
              "outlinewidth": 0,
              "ticks": ""
             }
            },
            "type": "scattermapbox"
           }
          ],
          "scatterpolar": [
           {
            "marker": {
             "colorbar": {
              "outlinewidth": 0,
              "ticks": ""
             }
            },
            "type": "scatterpolar"
           }
          ],
          "scatterpolargl": [
           {
            "marker": {
             "colorbar": {
              "outlinewidth": 0,
              "ticks": ""
             }
            },
            "type": "scatterpolargl"
           }
          ],
          "scatterternary": [
           {
            "marker": {
             "colorbar": {
              "outlinewidth": 0,
              "ticks": ""
             }
            },
            "type": "scatterternary"
           }
          ],
          "surface": [
           {
            "colorbar": {
             "outlinewidth": 0,
             "ticks": ""
            },
            "colorscale": [
             [
              0,
              "#0d0887"
             ],
             [
              0.1111111111111111,
              "#46039f"
             ],
             [
              0.2222222222222222,
              "#7201a8"
             ],
             [
              0.3333333333333333,
              "#9c179e"
             ],
             [
              0.4444444444444444,
              "#bd3786"
             ],
             [
              0.5555555555555556,
              "#d8576b"
             ],
             [
              0.6666666666666666,
              "#ed7953"
             ],
             [
              0.7777777777777778,
              "#fb9f3a"
             ],
             [
              0.8888888888888888,
              "#fdca26"
             ],
             [
              1,
              "#f0f921"
             ]
            ],
            "type": "surface"
           }
          ],
          "table": [
           {
            "cells": {
             "fill": {
              "color": "#EBF0F8"
             },
             "line": {
              "color": "white"
             }
            },
            "header": {
             "fill": {
              "color": "#C8D4E3"
             },
             "line": {
              "color": "white"
             }
            },
            "type": "table"
           }
          ]
         },
         "layout": {
          "annotationdefaults": {
           "arrowcolor": "#2a3f5f",
           "arrowhead": 0,
           "arrowwidth": 1
          },
          "autotypenumbers": "strict",
          "coloraxis": {
           "colorbar": {
            "outlinewidth": 0,
            "ticks": ""
           }
          },
          "colorscale": {
           "diverging": [
            [
             0,
             "#8e0152"
            ],
            [
             0.1,
             "#c51b7d"
            ],
            [
             0.2,
             "#de77ae"
            ],
            [
             0.3,
             "#f1b6da"
            ],
            [
             0.4,
             "#fde0ef"
            ],
            [
             0.5,
             "#f7f7f7"
            ],
            [
             0.6,
             "#e6f5d0"
            ],
            [
             0.7,
             "#b8e186"
            ],
            [
             0.8,
             "#7fbc41"
            ],
            [
             0.9,
             "#4d9221"
            ],
            [
             1,
             "#276419"
            ]
           ],
           "sequential": [
            [
             0,
             "#0d0887"
            ],
            [
             0.1111111111111111,
             "#46039f"
            ],
            [
             0.2222222222222222,
             "#7201a8"
            ],
            [
             0.3333333333333333,
             "#9c179e"
            ],
            [
             0.4444444444444444,
             "#bd3786"
            ],
            [
             0.5555555555555556,
             "#d8576b"
            ],
            [
             0.6666666666666666,
             "#ed7953"
            ],
            [
             0.7777777777777778,
             "#fb9f3a"
            ],
            [
             0.8888888888888888,
             "#fdca26"
            ],
            [
             1,
             "#f0f921"
            ]
           ],
           "sequentialminus": [
            [
             0,
             "#0d0887"
            ],
            [
             0.1111111111111111,
             "#46039f"
            ],
            [
             0.2222222222222222,
             "#7201a8"
            ],
            [
             0.3333333333333333,
             "#9c179e"
            ],
            [
             0.4444444444444444,
             "#bd3786"
            ],
            [
             0.5555555555555556,
             "#d8576b"
            ],
            [
             0.6666666666666666,
             "#ed7953"
            ],
            [
             0.7777777777777778,
             "#fb9f3a"
            ],
            [
             0.8888888888888888,
             "#fdca26"
            ],
            [
             1,
             "#f0f921"
            ]
           ]
          },
          "colorway": [
           "#636efa",
           "#EF553B",
           "#00cc96",
           "#ab63fa",
           "#FFA15A",
           "#19d3f3",
           "#FF6692",
           "#B6E880",
           "#FF97FF",
           "#FECB52"
          ],
          "font": {
           "color": "#2a3f5f"
          },
          "geo": {
           "bgcolor": "white",
           "lakecolor": "white",
           "landcolor": "#E5ECF6",
           "showlakes": true,
           "showland": true,
           "subunitcolor": "white"
          },
          "hoverlabel": {
           "align": "left"
          },
          "hovermode": "closest",
          "mapbox": {
           "style": "light"
          },
          "paper_bgcolor": "white",
          "plot_bgcolor": "#E5ECF6",
          "polar": {
           "angularaxis": {
            "gridcolor": "white",
            "linecolor": "white",
            "ticks": ""
           },
           "bgcolor": "#E5ECF6",
           "radialaxis": {
            "gridcolor": "white",
            "linecolor": "white",
            "ticks": ""
           }
          },
          "scene": {
           "xaxis": {
            "backgroundcolor": "#E5ECF6",
            "gridcolor": "white",
            "gridwidth": 2,
            "linecolor": "white",
            "showbackground": true,
            "ticks": "",
            "zerolinecolor": "white"
           },
           "yaxis": {
            "backgroundcolor": "#E5ECF6",
            "gridcolor": "white",
            "gridwidth": 2,
            "linecolor": "white",
            "showbackground": true,
            "ticks": "",
            "zerolinecolor": "white"
           },
           "zaxis": {
            "backgroundcolor": "#E5ECF6",
            "gridcolor": "white",
            "gridwidth": 2,
            "linecolor": "white",
            "showbackground": true,
            "ticks": "",
            "zerolinecolor": "white"
           }
          },
          "shapedefaults": {
           "line": {
            "color": "#2a3f5f"
           }
          },
          "ternary": {
           "aaxis": {
            "gridcolor": "white",
            "linecolor": "white",
            "ticks": ""
           },
           "baxis": {
            "gridcolor": "white",
            "linecolor": "white",
            "ticks": ""
           },
           "bgcolor": "#E5ECF6",
           "caxis": {
            "gridcolor": "white",
            "linecolor": "white",
            "ticks": ""
           }
          },
          "title": {
           "x": 0.05
          },
          "xaxis": {
           "automargin": true,
           "gridcolor": "white",
           "linecolor": "white",
           "ticks": "",
           "title": {
            "standoff": 15
           },
           "zerolinecolor": "white",
           "zerolinewidth": 2
          },
          "yaxis": {
           "automargin": true,
           "gridcolor": "white",
           "linecolor": "white",
           "ticks": "",
           "title": {
            "standoff": 15
           },
           "zerolinecolor": "white",
           "zerolinewidth": 2
          }
         }
        },
        "title": {
         "text": "Violin Plot of Error Distances"
        },
        "xaxis": {
         "title": {
          "text": "Checkpoints"
         }
        },
        "yaxis": {
         "range": [
          -1.5,
          7.5
         ]
        }
       }
      },
      "text/html": [
       "<div>                            <div id=\"bda05796-3d07-4d9b-af1b-ebdd8c28f067\" class=\"plotly-graph-div\" style=\"height:525px; width:100%;\"></div>            <script type=\"text/javascript\">                require([\"plotly\"], function(Plotly) {                    window.PLOTLYENV=window.PLOTLYENV || {};                                    if (document.getElementById(\"bda05796-3d07-4d9b-af1b-ebdd8c28f067\")) {                    Plotly.newPlot(                        \"bda05796-3d07-4d9b-af1b-ebdd8c28f067\",                        [{\"box\":{\"visible\":true},\"jitter\":0.05,\"meanline\":{\"visible\":true},\"name\":\"A-1.1\",\"points\":\"all\",\"scalemode\":\"count\",\"type\":\"violin\",\"x\":[\"A-1.1\",\"A-1.1\",\"A-1.1\",\"A-1.1\",\"A-1.1\",\"A-1.1\",\"A-1.1\",\"A-1.1\",\"A-1.1\",\"A-1.1\",\"A-1.1\",\"A-1.1\",\"A-1.1\",\"A-1.1\",\"A-1.1\",\"A-1.1\",\"A-1.1\",\"A-1.1\",\"A-1.1\",\"A-1.1\",\"A-1.1\"],\"y\":[2.8154674276063134,2.8670667197923967,2.9794718427886915,2.6537733128718193,2.8837206316186172,3.0503416864921338,2.902931034474105,2.912819218049041,2.977817324594219,2.6498741668110792,2.7161565943834596,2.664104930116565,2.870911245202287,2.912719890761736,2.984251821514638,2.9624705705154524,2.8795278469637124,2.6934648249779283,2.720556485636722,2.715215330642915,2.5852172740096266]},{\"box\":{\"visible\":true},\"jitter\":0.05,\"meanline\":{\"visible\":true},\"name\":\"A-1.2\",\"points\":\"all\",\"scalemode\":\"count\",\"type\":\"violin\",\"x\":[\"A-1.2\",\"A-1.2\",\"A-1.2\",\"A-1.2\",\"A-1.2\",\"A-1.2\",\"A-1.2\",\"A-1.2\",\"A-1.2\",\"A-1.2\",\"A-1.2\",\"A-1.2\",\"A-1.2\",\"A-1.2\",\"A-1.2\",\"A-1.2\",\"A-1.2\",\"A-1.2\",\"A-1.2\",\"A-1.2\",\"A-1.2\"],\"y\":[1.1702964816330268,1.210811794281137,1.1584761619864472,1.2278994352126924,1.226692576597554,1.1407749923957868,1.267858104338129,1.416731927503574,1.3697823561502758,1.4105830459947648,1.3183520070756438,1.4678047222213368,1.298826227150325,1.3203837412930903,1.2605749882531578,1.4454148887321305,1.6615535800790695,1.428429150575825,1.4038609589815307,1.2340641941657375,1.233150449452491]},{\"box\":{\"visible\":true},\"jitter\":0.05,\"meanline\":{\"visible\":true},\"name\":\"A-2.1\",\"points\":\"all\",\"scalemode\":\"count\",\"type\":\"violin\",\"x\":[\"A-2.1\",\"A-2.1\",\"A-2.1\",\"A-2.1\",\"A-2.1\",\"A-2.1\",\"A-2.1\",\"A-2.1\",\"A-2.1\",\"A-2.1\",\"A-2.1\",\"A-2.1\",\"A-2.1\",\"A-2.1\",\"A-2.1\",\"A-2.1\",\"A-2.1\",\"A-2.1\",\"A-2.1\",\"A-2.1\",\"A-2.1\"],\"y\":[3.186731611995357,3.1316011071074232,3.100882843596098,3.087305012337341,3.110285221977248,3.0993750975202023,3.0008080590486212,3.1451809805139126,3.0551236122319003,3.1013198346480655,3.0760725189286564,2.898235417451749,2.8725782159112696,2.8284895493052233,2.658277410440489,2.6104420665682686,2.4527737069180473,2.652826612449095,2.6615334026234616,2.419671445632747,2.534907893987686]},{\"box\":{\"visible\":true},\"jitter\":0.05,\"meanline\":{\"visible\":true},\"name\":\"A-2.2\",\"points\":\"all\",\"scalemode\":\"count\",\"type\":\"violin\",\"x\":[\"A-2.2\",\"A-2.2\",\"A-2.2\",\"A-2.2\",\"A-2.2\",\"A-2.2\",\"A-2.2\",\"A-2.2\",\"A-2.2\",\"A-2.2\",\"A-2.2\",\"A-2.2\",\"A-2.2\",\"A-2.2\",\"A-2.2\",\"A-2.2\",\"A-2.2\",\"A-2.2\",\"A-2.2\",\"A-2.2\",\"A-2.2\"],\"y\":[0.5577657100556437,0.6619619926265685,0.4658581407020442,0.5290044101087256,0.5904157407556974,0.6443289273609417,0.4416329655834477,0.49310719000877173,0.34823595880290065,0.32733165829963856,0.5773946552292627,0.5222493572818271,0.5653503558394983,0.5683857439217364,0.8924384541234209,0.7745638389941708,0.7194334495810659,0.7728595723449524,0.7176122815763267,0.4992997147518135,0.6832447659708162]},{\"box\":{\"visible\":true},\"jitter\":0.05,\"meanline\":{\"visible\":true},\"name\":\"A-3.1\",\"points\":\"all\",\"scalemode\":\"count\",\"type\":\"violin\",\"x\":[\"A-3.1\",\"A-3.1\",\"A-3.1\",\"A-3.1\",\"A-3.1\",\"A-3.1\",\"A-3.1\",\"A-3.1\",\"A-3.1\",\"A-3.1\",\"A-3.1\",\"A-3.1\",\"A-3.1\",\"A-3.1\",\"A-3.1\",\"A-3.1\",\"A-3.1\",\"A-3.1\",\"A-3.1\",\"A-3.1\",\"A-3.1\"],\"y\":[2.03615955436313,2.1285179690852227,2.060877104145287,2.0580143208900323,2.4030490913482527,2.453913143493165,2.4916242667303488,2.558574800448655,2.411600695614369,2.397664380515252,2.193625071250377,2.194711142644253,2.1646246725308225,2.3298432671214115,2.3057489059258405,2.1686122160579044,2.0890236946190757,2.3824945313225734,3.0162035982495117,2.9509297850390586,3.0983574251099206]},{\"box\":{\"visible\":true},\"jitter\":0.05,\"meanline\":{\"visible\":true},\"name\":\"A-3.2\",\"points\":\"all\",\"scalemode\":\"count\",\"type\":\"violin\",\"x\":[\"A-3.2\",\"A-3.2\",\"A-3.2\",\"A-3.2\",\"A-3.2\",\"A-3.2\",\"A-3.2\",\"A-3.2\",\"A-3.2\",\"A-3.2\",\"A-3.2\",\"A-3.2\",\"A-3.2\",\"A-3.2\",\"A-3.2\",\"A-3.2\",\"A-3.2\",\"A-3.2\",\"A-3.2\",\"A-3.2\",\"A-3.2\"],\"y\":[1.3260960500724575,1.3424077202552,1.0843569302785858,1.3976758984342859,1.4062042750043933,1.3298326393578053,1.6881742711411147,1.6023756858318876,1.7244567489067681,1.8447940645450962,1.898265066838003,1.9289498224855028,1.6957517628940582,1.7885568947459525,1.859066582292204,1.8130619269488326,1.934507499325027,1.9756275852956615,1.8859810697061954,1.5628431592376513,1.4177228568823395]},{\"box\":{\"visible\":true},\"jitter\":0.05,\"meanline\":{\"visible\":true},\"name\":\"A-4.1\",\"points\":\"all\",\"scalemode\":\"count\",\"type\":\"violin\",\"x\":[\"A-4.1\",\"A-4.1\",\"A-4.1\",\"A-4.1\",\"A-4.1\",\"A-4.1\",\"A-4.1\",\"A-4.1\",\"A-4.1\",\"A-4.1\",\"A-4.1\",\"A-4.1\",\"A-4.1\",\"A-4.1\",\"A-4.1\",\"A-4.1\",\"A-4.1\",\"A-4.1\",\"A-4.1\",\"A-4.1\",\"A-4.1\"],\"y\":[2.2827278447274395,2.79923321928349,2.9708062794443357,2.9479968683838207,2.881830068174113,2.9897953931714802,2.8209937248199344,3.174184291025474,3.0883312065218025,2.946411890358503,3.019789602541986,3.0880819392966816,2.9456031282931194,3.1066786004269136,2.551270057977344,2.362533364646902,2.603062389108797,2.5714783153817193,2.775676144731467,2.8686117799279525,2.45405453575862]},{\"box\":{\"visible\":true},\"jitter\":0.05,\"meanline\":{\"visible\":true},\"name\":\"A-4.2\",\"points\":\"all\",\"scalemode\":\"count\",\"type\":\"violin\",\"x\":[\"A-4.2\",\"A-4.2\",\"A-4.2\",\"A-4.2\",\"A-4.2\",\"A-4.2\",\"A-4.2\",\"A-4.2\",\"A-4.2\",\"A-4.2\",\"A-4.2\",\"A-4.2\",\"A-4.2\",\"A-4.2\",\"A-4.2\",\"A-4.2\",\"A-4.2\",\"A-4.2\",\"A-4.2\",\"A-4.2\",\"A-4.2\"],\"y\":[4.387847500676733,4.262410968267325,4.105809149114372,3.6051414441980656,3.591087773993143,3.2554795640955945,2.8146484217339247,2.7995174191691663,2.4698443409697983,2.197782248785932,2.261632658059073,2.1458016337748265,2.268758305239174,2.37098019867016,2.244838678868753,2.1326915706694876,2.1092383969557615,2.1228260506918923,2.0369466300589365,2.2044356508962615,2.2508197899818247]},{\"box\":{\"visible\":true},\"jitter\":0.05,\"meanline\":{\"visible\":true},\"name\":\"A-5.1\",\"points\":\"all\",\"scalemode\":\"count\",\"type\":\"violin\",\"x\":[\"A-5.1\",\"A-5.1\",\"A-5.1\",\"A-5.1\",\"A-5.1\",\"A-5.1\",\"A-5.1\",\"A-5.1\",\"A-5.1\",\"A-5.1\",\"A-5.1\",\"A-5.1\",\"A-5.1\",\"A-5.1\",\"A-5.1\",\"A-5.1\",\"A-5.1\",\"A-5.1\",\"A-5.1\",\"A-5.1\",\"A-5.1\"],\"y\":[1.5120629669946541,1.5885291374913364,1.4540971939672498,1.4992249522122048,1.287031665582786,1.7139399161555013,1.4442011840287046,1.274334543110968,1.3189403926990413,1.138991598114486,1.199009980629751,1.0421911070984828,1.066342997058645,1.4085211781438882,1.5603415909338896,1.5282084277798478,1.8271196549058677,1.7964938970681967,2.1022526533529886,1.6431046847053887,1.8621396694204868]},{\"box\":{\"visible\":true},\"jitter\":0.05,\"meanline\":{\"visible\":true},\"name\":\"A-5.2\",\"points\":\"all\",\"scalemode\":\"count\",\"type\":\"violin\",\"x\":[\"A-5.2\",\"A-5.2\",\"A-5.2\",\"A-5.2\",\"A-5.2\",\"A-5.2\",\"A-5.2\",\"A-5.2\",\"A-5.2\",\"A-5.2\",\"A-5.2\",\"A-5.2\",\"A-5.2\",\"A-5.2\",\"A-5.2\",\"A-5.2\",\"A-5.2\",\"A-5.2\",\"A-5.2\",\"A-5.2\",\"A-5.2\"],\"y\":[4.06448309291657,4.062238906213829,4.250815237763596,4.193439146755879,4.196304550443041,3.997843922764133,3.9820466960789203,4.454400336031485,4.415375403200481,4.0413765713940615,3.4415048839598317,3.5860829394170173,3.3598553734741454,3.7617925203263876,3.4148827229453422,3.5774172664418042,3.502590148558937,3.290170088278646,3.58766144274227,3.06314382891456,3.36408762508869]}],                        {\"barmode\":\"group\",\"legend\":{\"orientation\":\"v\",\"title\":{\"text\":\"Normal Filter\"},\"xanchor\":\"left\"},\"template\":{\"data\":{\"bar\":[{\"error_x\":{\"color\":\"#2a3f5f\"},\"error_y\":{\"color\":\"#2a3f5f\"},\"marker\":{\"line\":{\"color\":\"#E5ECF6\",\"width\":0.5},\"pattern\":{\"fillmode\":\"overlay\",\"size\":10,\"solidity\":0.2}},\"type\":\"bar\"}],\"barpolar\":[{\"marker\":{\"line\":{\"color\":\"#E5ECF6\",\"width\":0.5},\"pattern\":{\"fillmode\":\"overlay\",\"size\":10,\"solidity\":0.2}},\"type\":\"barpolar\"}],\"carpet\":[{\"aaxis\":{\"endlinecolor\":\"#2a3f5f\",\"gridcolor\":\"white\",\"linecolor\":\"white\",\"minorgridcolor\":\"white\",\"startlinecolor\":\"#2a3f5f\"},\"baxis\":{\"endlinecolor\":\"#2a3f5f\",\"gridcolor\":\"white\",\"linecolor\":\"white\",\"minorgridcolor\":\"white\",\"startlinecolor\":\"#2a3f5f\"},\"type\":\"carpet\"}],\"choropleth\":[{\"colorbar\":{\"outlinewidth\":0,\"ticks\":\"\"},\"type\":\"choropleth\"}],\"contour\":[{\"colorbar\":{\"outlinewidth\":0,\"ticks\":\"\"},\"colorscale\":[[0.0,\"#0d0887\"],[0.1111111111111111,\"#46039f\"],[0.2222222222222222,\"#7201a8\"],[0.3333333333333333,\"#9c179e\"],[0.4444444444444444,\"#bd3786\"],[0.5555555555555556,\"#d8576b\"],[0.6666666666666666,\"#ed7953\"],[0.7777777777777778,\"#fb9f3a\"],[0.8888888888888888,\"#fdca26\"],[1.0,\"#f0f921\"]],\"type\":\"contour\"}],\"contourcarpet\":[{\"colorbar\":{\"outlinewidth\":0,\"ticks\":\"\"},\"type\":\"contourcarpet\"}],\"heatmap\":[{\"colorbar\":{\"outlinewidth\":0,\"ticks\":\"\"},\"colorscale\":[[0.0,\"#0d0887\"],[0.1111111111111111,\"#46039f\"],[0.2222222222222222,\"#7201a8\"],[0.3333333333333333,\"#9c179e\"],[0.4444444444444444,\"#bd3786\"],[0.5555555555555556,\"#d8576b\"],[0.6666666666666666,\"#ed7953\"],[0.7777777777777778,\"#fb9f3a\"],[0.8888888888888888,\"#fdca26\"],[1.0,\"#f0f921\"]],\"type\":\"heatmap\"}],\"heatmapgl\":[{\"colorbar\":{\"outlinewidth\":0,\"ticks\":\"\"},\"colorscale\":[[0.0,\"#0d0887\"],[0.1111111111111111,\"#46039f\"],[0.2222222222222222,\"#7201a8\"],[0.3333333333333333,\"#9c179e\"],[0.4444444444444444,\"#bd3786\"],[0.5555555555555556,\"#d8576b\"],[0.6666666666666666,\"#ed7953\"],[0.7777777777777778,\"#fb9f3a\"],[0.8888888888888888,\"#fdca26\"],[1.0,\"#f0f921\"]],\"type\":\"heatmapgl\"}],\"histogram\":[{\"marker\":{\"pattern\":{\"fillmode\":\"overlay\",\"size\":10,\"solidity\":0.2}},\"type\":\"histogram\"}],\"histogram2d\":[{\"colorbar\":{\"outlinewidth\":0,\"ticks\":\"\"},\"colorscale\":[[0.0,\"#0d0887\"],[0.1111111111111111,\"#46039f\"],[0.2222222222222222,\"#7201a8\"],[0.3333333333333333,\"#9c179e\"],[0.4444444444444444,\"#bd3786\"],[0.5555555555555556,\"#d8576b\"],[0.6666666666666666,\"#ed7953\"],[0.7777777777777778,\"#fb9f3a\"],[0.8888888888888888,\"#fdca26\"],[1.0,\"#f0f921\"]],\"type\":\"histogram2d\"}],\"histogram2dcontour\":[{\"colorbar\":{\"outlinewidth\":0,\"ticks\":\"\"},\"colorscale\":[[0.0,\"#0d0887\"],[0.1111111111111111,\"#46039f\"],[0.2222222222222222,\"#7201a8\"],[0.3333333333333333,\"#9c179e\"],[0.4444444444444444,\"#bd3786\"],[0.5555555555555556,\"#d8576b\"],[0.6666666666666666,\"#ed7953\"],[0.7777777777777778,\"#fb9f3a\"],[0.8888888888888888,\"#fdca26\"],[1.0,\"#f0f921\"]],\"type\":\"histogram2dcontour\"}],\"mesh3d\":[{\"colorbar\":{\"outlinewidth\":0,\"ticks\":\"\"},\"type\":\"mesh3d\"}],\"parcoords\":[{\"line\":{\"colorbar\":{\"outlinewidth\":0,\"ticks\":\"\"}},\"type\":\"parcoords\"}],\"pie\":[{\"automargin\":true,\"type\":\"pie\"}],\"scatter\":[{\"marker\":{\"colorbar\":{\"outlinewidth\":0,\"ticks\":\"\"}},\"type\":\"scatter\"}],\"scatter3d\":[{\"line\":{\"colorbar\":{\"outlinewidth\":0,\"ticks\":\"\"}},\"marker\":{\"colorbar\":{\"outlinewidth\":0,\"ticks\":\"\"}},\"type\":\"scatter3d\"}],\"scattercarpet\":[{\"marker\":{\"colorbar\":{\"outlinewidth\":0,\"ticks\":\"\"}},\"type\":\"scattercarpet\"}],\"scattergeo\":[{\"marker\":{\"colorbar\":{\"outlinewidth\":0,\"ticks\":\"\"}},\"type\":\"scattergeo\"}],\"scattergl\":[{\"marker\":{\"colorbar\":{\"outlinewidth\":0,\"ticks\":\"\"}},\"type\":\"scattergl\"}],\"scattermapbox\":[{\"marker\":{\"colorbar\":{\"outlinewidth\":0,\"ticks\":\"\"}},\"type\":\"scattermapbox\"}],\"scatterpolar\":[{\"marker\":{\"colorbar\":{\"outlinewidth\":0,\"ticks\":\"\"}},\"type\":\"scatterpolar\"}],\"scatterpolargl\":[{\"marker\":{\"colorbar\":{\"outlinewidth\":0,\"ticks\":\"\"}},\"type\":\"scatterpolargl\"}],\"scatterternary\":[{\"marker\":{\"colorbar\":{\"outlinewidth\":0,\"ticks\":\"\"}},\"type\":\"scatterternary\"}],\"surface\":[{\"colorbar\":{\"outlinewidth\":0,\"ticks\":\"\"},\"colorscale\":[[0.0,\"#0d0887\"],[0.1111111111111111,\"#46039f\"],[0.2222222222222222,\"#7201a8\"],[0.3333333333333333,\"#9c179e\"],[0.4444444444444444,\"#bd3786\"],[0.5555555555555556,\"#d8576b\"],[0.6666666666666666,\"#ed7953\"],[0.7777777777777778,\"#fb9f3a\"],[0.8888888888888888,\"#fdca26\"],[1.0,\"#f0f921\"]],\"type\":\"surface\"}],\"table\":[{\"cells\":{\"fill\":{\"color\":\"#EBF0F8\"},\"line\":{\"color\":\"white\"}},\"header\":{\"fill\":{\"color\":\"#C8D4E3\"},\"line\":{\"color\":\"white\"}},\"type\":\"table\"}]},\"layout\":{\"annotationdefaults\":{\"arrowcolor\":\"#2a3f5f\",\"arrowhead\":0,\"arrowwidth\":1},\"autotypenumbers\":\"strict\",\"coloraxis\":{\"colorbar\":{\"outlinewidth\":0,\"ticks\":\"\"}},\"colorscale\":{\"diverging\":[[0,\"#8e0152\"],[0.1,\"#c51b7d\"],[0.2,\"#de77ae\"],[0.3,\"#f1b6da\"],[0.4,\"#fde0ef\"],[0.5,\"#f7f7f7\"],[0.6,\"#e6f5d0\"],[0.7,\"#b8e186\"],[0.8,\"#7fbc41\"],[0.9,\"#4d9221\"],[1,\"#276419\"]],\"sequential\":[[0.0,\"#0d0887\"],[0.1111111111111111,\"#46039f\"],[0.2222222222222222,\"#7201a8\"],[0.3333333333333333,\"#9c179e\"],[0.4444444444444444,\"#bd3786\"],[0.5555555555555556,\"#d8576b\"],[0.6666666666666666,\"#ed7953\"],[0.7777777777777778,\"#fb9f3a\"],[0.8888888888888888,\"#fdca26\"],[1.0,\"#f0f921\"]],\"sequentialminus\":[[0.0,\"#0d0887\"],[0.1111111111111111,\"#46039f\"],[0.2222222222222222,\"#7201a8\"],[0.3333333333333333,\"#9c179e\"],[0.4444444444444444,\"#bd3786\"],[0.5555555555555556,\"#d8576b\"],[0.6666666666666666,\"#ed7953\"],[0.7777777777777778,\"#fb9f3a\"],[0.8888888888888888,\"#fdca26\"],[1.0,\"#f0f921\"]]},\"colorway\":[\"#636efa\",\"#EF553B\",\"#00cc96\",\"#ab63fa\",\"#FFA15A\",\"#19d3f3\",\"#FF6692\",\"#B6E880\",\"#FF97FF\",\"#FECB52\"],\"font\":{\"color\":\"#2a3f5f\"},\"geo\":{\"bgcolor\":\"white\",\"lakecolor\":\"white\",\"landcolor\":\"#E5ECF6\",\"showlakes\":true,\"showland\":true,\"subunitcolor\":\"white\"},\"hoverlabel\":{\"align\":\"left\"},\"hovermode\":\"closest\",\"mapbox\":{\"style\":\"light\"},\"paper_bgcolor\":\"white\",\"plot_bgcolor\":\"#E5ECF6\",\"polar\":{\"angularaxis\":{\"gridcolor\":\"white\",\"linecolor\":\"white\",\"ticks\":\"\"},\"bgcolor\":\"#E5ECF6\",\"radialaxis\":{\"gridcolor\":\"white\",\"linecolor\":\"white\",\"ticks\":\"\"}},\"scene\":{\"xaxis\":{\"backgroundcolor\":\"#E5ECF6\",\"gridcolor\":\"white\",\"gridwidth\":2,\"linecolor\":\"white\",\"showbackground\":true,\"ticks\":\"\",\"zerolinecolor\":\"white\"},\"yaxis\":{\"backgroundcolor\":\"#E5ECF6\",\"gridcolor\":\"white\",\"gridwidth\":2,\"linecolor\":\"white\",\"showbackground\":true,\"ticks\":\"\",\"zerolinecolor\":\"white\"},\"zaxis\":{\"backgroundcolor\":\"#E5ECF6\",\"gridcolor\":\"white\",\"gridwidth\":2,\"linecolor\":\"white\",\"showbackground\":true,\"ticks\":\"\",\"zerolinecolor\":\"white\"}},\"shapedefaults\":{\"line\":{\"color\":\"#2a3f5f\"}},\"ternary\":{\"aaxis\":{\"gridcolor\":\"white\",\"linecolor\":\"white\",\"ticks\":\"\"},\"baxis\":{\"gridcolor\":\"white\",\"linecolor\":\"white\",\"ticks\":\"\"},\"bgcolor\":\"#E5ECF6\",\"caxis\":{\"gridcolor\":\"white\",\"linecolor\":\"white\",\"ticks\":\"\"}},\"title\":{\"x\":0.05},\"xaxis\":{\"automargin\":true,\"gridcolor\":\"white\",\"linecolor\":\"white\",\"ticks\":\"\",\"title\":{\"standoff\":15},\"zerolinecolor\":\"white\",\"zerolinewidth\":2},\"yaxis\":{\"automargin\":true,\"gridcolor\":\"white\",\"linecolor\":\"white\",\"ticks\":\"\",\"title\":{\"standoff\":15},\"zerolinecolor\":\"white\",\"zerolinewidth\":2}}},\"title\":{\"text\":\"Violin Plot of Error Distances\"},\"xaxis\":{\"title\":{\"text\":\"Checkpoints\"}},\"yaxis\":{\"range\":[-1.5,7.5]}},                        {\"responsive\": true}                    ).then(function(){\n",
       "                            \n",
       "var gd = document.getElementById('bda05796-3d07-4d9b-af1b-ebdd8c28f067');\n",
       "var x = new MutationObserver(function (mutations, observer) {{\n",
       "        var display = window.getComputedStyle(gd).display;\n",
       "        if (!display || display === 'none') {{\n",
       "            console.log([gd, 'removed!']);\n",
       "            Plotly.purge(gd);\n",
       "            observer.disconnect();\n",
       "        }}\n",
       "}});\n",
       "\n",
       "// Listen for the removal of the full notebook cells\n",
       "var notebookContainer = gd.closest('#notebook-container');\n",
       "if (notebookContainer) {{\n",
       "    x.observe(notebookContainer, {childList: true});\n",
       "}}\n",
       "\n",
       "// Listen for the clearing of the current output cell\n",
       "var outputEl = gd.closest('.output');\n",
       "if (outputEl) {{\n",
       "    x.observe(outputEl, {childList: true});\n",
       "}}\n",
       "\n",
       "                        })                };                });            </script>        </div>"
      ]
     },
     "metadata": {},
     "output_type": "display_data"
    },
    {
     "data": {
      "application/vnd.plotly.v1+json": {
       "config": {
        "plotlyServerURL": "https://plot.ly"
       },
       "data": [
        {
         "mode": "lines+markers",
         "name": "A-1.1",
         "type": "scatter",
         "x": [
          7,
          8,
          9,
          10,
          11,
          12,
          13,
          14,
          15,
          16,
          17,
          18,
          19,
          20,
          21,
          22,
          23,
          24,
          25,
          26,
          27
         ],
         "y": [
          2.8154674276063134,
          2.8670667197923967,
          2.9794718427886915,
          2.6537733128718193,
          2.8837206316186172,
          3.0503416864921338,
          2.902931034474105,
          2.912819218049041,
          2.977817324594219,
          2.6498741668110792,
          2.7161565943834596,
          2.664104930116565,
          2.870911245202287,
          2.912719890761736,
          2.984251821514638,
          2.9624705705154524,
          2.8795278469637124,
          2.6934648249779283,
          2.720556485636722,
          2.715215330642915,
          2.5852172740096266
         ]
        },
        {
         "mode": "lines+markers",
         "name": "A-1.2",
         "type": "scatter",
         "x": [
          35,
          36,
          37,
          38,
          39,
          40,
          41,
          42,
          43,
          44,
          45,
          46,
          47,
          48,
          49,
          50,
          51,
          52,
          53,
          54,
          55
         ],
         "y": [
          1.1702964816330268,
          1.210811794281137,
          1.1584761619864472,
          1.2278994352126924,
          1.226692576597554,
          1.1407749923957868,
          1.267858104338129,
          1.416731927503574,
          1.3697823561502758,
          1.4105830459947648,
          1.3183520070756438,
          1.4678047222213368,
          1.298826227150325,
          1.3203837412930903,
          1.2605749882531578,
          1.4454148887321305,
          1.6615535800790695,
          1.428429150575825,
          1.4038609589815307,
          1.2340641941657375,
          1.233150449452491
         ]
        },
        {
         "mode": "lines+markers",
         "name": "A-2.1",
         "type": "scatter",
         "x": [
          67,
          68,
          69,
          70,
          71,
          72,
          73,
          74,
          75,
          76,
          77,
          78,
          79,
          80,
          81,
          82,
          83,
          84,
          85,
          86,
          87
         ],
         "y": [
          3.186731611995357,
          3.1316011071074232,
          3.100882843596098,
          3.087305012337341,
          3.110285221977248,
          3.0993750975202023,
          3.0008080590486212,
          3.1451809805139126,
          3.0551236122319003,
          3.1013198346480655,
          3.0760725189286564,
          2.898235417451749,
          2.8725782159112696,
          2.8284895493052233,
          2.658277410440489,
          2.6104420665682686,
          2.4527737069180473,
          2.652826612449095,
          2.6615334026234616,
          2.419671445632747,
          2.534907893987686
         ]
        },
        {
         "mode": "lines+markers",
         "name": "A-2.2",
         "type": "scatter",
         "x": [
          98,
          99,
          100,
          101,
          102,
          103,
          104,
          105,
          106,
          107,
          108,
          109,
          110,
          111,
          112,
          113,
          114,
          115,
          116,
          117,
          118
         ],
         "y": [
          0.5577657100556437,
          0.6619619926265685,
          0.4658581407020442,
          0.5290044101087256,
          0.5904157407556974,
          0.6443289273609417,
          0.4416329655834477,
          0.49310719000877173,
          0.34823595880290065,
          0.32733165829963856,
          0.5773946552292627,
          0.5222493572818271,
          0.5653503558394983,
          0.5683857439217364,
          0.8924384541234209,
          0.7745638389941708,
          0.7194334495810659,
          0.7728595723449524,
          0.7176122815763267,
          0.4992997147518135,
          0.6832447659708162
         ]
        },
        {
         "mode": "lines+markers",
         "name": "A-3.1",
         "type": "scatter",
         "x": [
          136,
          137,
          138,
          139,
          140,
          141,
          142,
          143,
          144,
          145,
          146,
          147,
          148,
          149,
          150,
          151,
          152,
          153,
          154,
          155,
          156
         ],
         "y": [
          2.03615955436313,
          2.1285179690852227,
          2.060877104145287,
          2.0580143208900323,
          2.4030490913482527,
          2.453913143493165,
          2.4916242667303488,
          2.558574800448655,
          2.411600695614369,
          2.397664380515252,
          2.193625071250377,
          2.194711142644253,
          2.1646246725308225,
          2.3298432671214115,
          2.3057489059258405,
          2.1686122160579044,
          2.0890236946190757,
          2.3824945313225734,
          3.0162035982495117,
          2.9509297850390586,
          3.0983574251099206
         ]
        },
        {
         "mode": "lines+markers",
         "name": "A-3.2",
         "type": "scatter",
         "x": [
          164,
          165,
          166,
          167,
          168,
          169,
          170,
          171,
          172,
          173,
          174,
          175,
          176,
          177,
          178,
          179,
          180,
          181,
          182,
          183,
          184
         ],
         "y": [
          1.3260960500724575,
          1.3424077202552,
          1.0843569302785858,
          1.3976758984342859,
          1.4062042750043933,
          1.3298326393578053,
          1.6881742711411147,
          1.6023756858318876,
          1.7244567489067681,
          1.8447940645450962,
          1.898265066838003,
          1.9289498224855028,
          1.6957517628940582,
          1.7885568947459525,
          1.859066582292204,
          1.8130619269488326,
          1.934507499325027,
          1.9756275852956615,
          1.8859810697061954,
          1.5628431592376513,
          1.4177228568823395
         ]
        },
        {
         "mode": "lines+markers",
         "name": "A-4.1",
         "type": "scatter",
         "x": [
          193,
          194,
          195,
          196,
          197,
          198,
          199,
          200,
          201,
          202,
          203,
          204,
          205,
          206,
          207,
          208,
          209,
          210,
          211,
          212,
          213
         ],
         "y": [
          2.2827278447274395,
          2.79923321928349,
          2.9708062794443357,
          2.9479968683838207,
          2.881830068174113,
          2.9897953931714802,
          2.8209937248199344,
          3.174184291025474,
          3.0883312065218025,
          2.946411890358503,
          3.019789602541986,
          3.0880819392966816,
          2.9456031282931194,
          3.1066786004269136,
          2.551270057977344,
          2.362533364646902,
          2.603062389108797,
          2.5714783153817193,
          2.775676144731467,
          2.8686117799279525,
          2.45405453575862
         ]
        },
        {
         "mode": "lines+markers",
         "name": "A-4.2",
         "type": "scatter",
         "x": [
          220,
          221,
          222,
          223,
          224,
          225,
          226,
          227,
          228,
          229,
          230,
          231,
          232,
          233,
          234,
          235,
          236,
          237,
          238,
          239,
          240
         ],
         "y": [
          4.387847500676733,
          4.262410968267325,
          4.105809149114372,
          3.6051414441980656,
          3.591087773993143,
          3.2554795640955945,
          2.8146484217339247,
          2.7995174191691663,
          2.4698443409697983,
          2.197782248785932,
          2.261632658059073,
          2.1458016337748265,
          2.268758305239174,
          2.37098019867016,
          2.244838678868753,
          2.1326915706694876,
          2.1092383969557615,
          2.1228260506918923,
          2.0369466300589365,
          2.2044356508962615,
          2.2508197899818247
         ]
        },
        {
         "mode": "lines+markers",
         "name": "A-5.1",
         "type": "scatter",
         "x": [
          248,
          249,
          250,
          251,
          252,
          253,
          254,
          255,
          256,
          257,
          258,
          259,
          260,
          261,
          262,
          263,
          264,
          265,
          266,
          267,
          268
         ],
         "y": [
          1.5120629669946541,
          1.5885291374913364,
          1.4540971939672498,
          1.4992249522122048,
          1.287031665582786,
          1.7139399161555013,
          1.4442011840287046,
          1.274334543110968,
          1.3189403926990413,
          1.138991598114486,
          1.199009980629751,
          1.0421911070984828,
          1.066342997058645,
          1.4085211781438882,
          1.5603415909338896,
          1.5282084277798478,
          1.8271196549058677,
          1.7964938970681967,
          2.1022526533529886,
          1.6431046847053887,
          1.8621396694204868
         ]
        },
        {
         "mode": "lines+markers",
         "name": "A-5.2",
         "type": "scatter",
         "x": [
          278,
          279,
          280,
          281,
          282,
          283,
          284,
          285,
          286,
          287,
          288,
          289,
          290,
          291,
          292,
          293,
          294,
          295,
          296,
          297,
          298
         ],
         "y": [
          4.06448309291657,
          4.062238906213829,
          4.250815237763596,
          4.193439146755879,
          4.196304550443041,
          3.997843922764133,
          3.9820466960789203,
          4.454400336031485,
          4.415375403200481,
          4.0413765713940615,
          3.4415048839598317,
          3.5860829394170173,
          3.3598553734741454,
          3.7617925203263876,
          3.4148827229453422,
          3.5774172664418042,
          3.502590148558937,
          3.290170088278646,
          3.58766144274227,
          3.06314382891456,
          3.36408762508869
         ]
        }
       ],
       "layout": {
        "legend": {
         "title": {
          "text": "Normal Filter"
         }
        },
        "template": {
         "data": {
          "bar": [
           {
            "error_x": {
             "color": "#2a3f5f"
            },
            "error_y": {
             "color": "#2a3f5f"
            },
            "marker": {
             "line": {
              "color": "#E5ECF6",
              "width": 0.5
             },
             "pattern": {
              "fillmode": "overlay",
              "size": 10,
              "solidity": 0.2
             }
            },
            "type": "bar"
           }
          ],
          "barpolar": [
           {
            "marker": {
             "line": {
              "color": "#E5ECF6",
              "width": 0.5
             },
             "pattern": {
              "fillmode": "overlay",
              "size": 10,
              "solidity": 0.2
             }
            },
            "type": "barpolar"
           }
          ],
          "carpet": [
           {
            "aaxis": {
             "endlinecolor": "#2a3f5f",
             "gridcolor": "white",
             "linecolor": "white",
             "minorgridcolor": "white",
             "startlinecolor": "#2a3f5f"
            },
            "baxis": {
             "endlinecolor": "#2a3f5f",
             "gridcolor": "white",
             "linecolor": "white",
             "minorgridcolor": "white",
             "startlinecolor": "#2a3f5f"
            },
            "type": "carpet"
           }
          ],
          "choropleth": [
           {
            "colorbar": {
             "outlinewidth": 0,
             "ticks": ""
            },
            "type": "choropleth"
           }
          ],
          "contour": [
           {
            "colorbar": {
             "outlinewidth": 0,
             "ticks": ""
            },
            "colorscale": [
             [
              0,
              "#0d0887"
             ],
             [
              0.1111111111111111,
              "#46039f"
             ],
             [
              0.2222222222222222,
              "#7201a8"
             ],
             [
              0.3333333333333333,
              "#9c179e"
             ],
             [
              0.4444444444444444,
              "#bd3786"
             ],
             [
              0.5555555555555556,
              "#d8576b"
             ],
             [
              0.6666666666666666,
              "#ed7953"
             ],
             [
              0.7777777777777778,
              "#fb9f3a"
             ],
             [
              0.8888888888888888,
              "#fdca26"
             ],
             [
              1,
              "#f0f921"
             ]
            ],
            "type": "contour"
           }
          ],
          "contourcarpet": [
           {
            "colorbar": {
             "outlinewidth": 0,
             "ticks": ""
            },
            "type": "contourcarpet"
           }
          ],
          "heatmap": [
           {
            "colorbar": {
             "outlinewidth": 0,
             "ticks": ""
            },
            "colorscale": [
             [
              0,
              "#0d0887"
             ],
             [
              0.1111111111111111,
              "#46039f"
             ],
             [
              0.2222222222222222,
              "#7201a8"
             ],
             [
              0.3333333333333333,
              "#9c179e"
             ],
             [
              0.4444444444444444,
              "#bd3786"
             ],
             [
              0.5555555555555556,
              "#d8576b"
             ],
             [
              0.6666666666666666,
              "#ed7953"
             ],
             [
              0.7777777777777778,
              "#fb9f3a"
             ],
             [
              0.8888888888888888,
              "#fdca26"
             ],
             [
              1,
              "#f0f921"
             ]
            ],
            "type": "heatmap"
           }
          ],
          "heatmapgl": [
           {
            "colorbar": {
             "outlinewidth": 0,
             "ticks": ""
            },
            "colorscale": [
             [
              0,
              "#0d0887"
             ],
             [
              0.1111111111111111,
              "#46039f"
             ],
             [
              0.2222222222222222,
              "#7201a8"
             ],
             [
              0.3333333333333333,
              "#9c179e"
             ],
             [
              0.4444444444444444,
              "#bd3786"
             ],
             [
              0.5555555555555556,
              "#d8576b"
             ],
             [
              0.6666666666666666,
              "#ed7953"
             ],
             [
              0.7777777777777778,
              "#fb9f3a"
             ],
             [
              0.8888888888888888,
              "#fdca26"
             ],
             [
              1,
              "#f0f921"
             ]
            ],
            "type": "heatmapgl"
           }
          ],
          "histogram": [
           {
            "marker": {
             "pattern": {
              "fillmode": "overlay",
              "size": 10,
              "solidity": 0.2
             }
            },
            "type": "histogram"
           }
          ],
          "histogram2d": [
           {
            "colorbar": {
             "outlinewidth": 0,
             "ticks": ""
            },
            "colorscale": [
             [
              0,
              "#0d0887"
             ],
             [
              0.1111111111111111,
              "#46039f"
             ],
             [
              0.2222222222222222,
              "#7201a8"
             ],
             [
              0.3333333333333333,
              "#9c179e"
             ],
             [
              0.4444444444444444,
              "#bd3786"
             ],
             [
              0.5555555555555556,
              "#d8576b"
             ],
             [
              0.6666666666666666,
              "#ed7953"
             ],
             [
              0.7777777777777778,
              "#fb9f3a"
             ],
             [
              0.8888888888888888,
              "#fdca26"
             ],
             [
              1,
              "#f0f921"
             ]
            ],
            "type": "histogram2d"
           }
          ],
          "histogram2dcontour": [
           {
            "colorbar": {
             "outlinewidth": 0,
             "ticks": ""
            },
            "colorscale": [
             [
              0,
              "#0d0887"
             ],
             [
              0.1111111111111111,
              "#46039f"
             ],
             [
              0.2222222222222222,
              "#7201a8"
             ],
             [
              0.3333333333333333,
              "#9c179e"
             ],
             [
              0.4444444444444444,
              "#bd3786"
             ],
             [
              0.5555555555555556,
              "#d8576b"
             ],
             [
              0.6666666666666666,
              "#ed7953"
             ],
             [
              0.7777777777777778,
              "#fb9f3a"
             ],
             [
              0.8888888888888888,
              "#fdca26"
             ],
             [
              1,
              "#f0f921"
             ]
            ],
            "type": "histogram2dcontour"
           }
          ],
          "mesh3d": [
           {
            "colorbar": {
             "outlinewidth": 0,
             "ticks": ""
            },
            "type": "mesh3d"
           }
          ],
          "parcoords": [
           {
            "line": {
             "colorbar": {
              "outlinewidth": 0,
              "ticks": ""
             }
            },
            "type": "parcoords"
           }
          ],
          "pie": [
           {
            "automargin": true,
            "type": "pie"
           }
          ],
          "scatter": [
           {
            "marker": {
             "colorbar": {
              "outlinewidth": 0,
              "ticks": ""
             }
            },
            "type": "scatter"
           }
          ],
          "scatter3d": [
           {
            "line": {
             "colorbar": {
              "outlinewidth": 0,
              "ticks": ""
             }
            },
            "marker": {
             "colorbar": {
              "outlinewidth": 0,
              "ticks": ""
             }
            },
            "type": "scatter3d"
           }
          ],
          "scattercarpet": [
           {
            "marker": {
             "colorbar": {
              "outlinewidth": 0,
              "ticks": ""
             }
            },
            "type": "scattercarpet"
           }
          ],
          "scattergeo": [
           {
            "marker": {
             "colorbar": {
              "outlinewidth": 0,
              "ticks": ""
             }
            },
            "type": "scattergeo"
           }
          ],
          "scattergl": [
           {
            "marker": {
             "colorbar": {
              "outlinewidth": 0,
              "ticks": ""
             }
            },
            "type": "scattergl"
           }
          ],
          "scattermapbox": [
           {
            "marker": {
             "colorbar": {
              "outlinewidth": 0,
              "ticks": ""
             }
            },
            "type": "scattermapbox"
           }
          ],
          "scatterpolar": [
           {
            "marker": {
             "colorbar": {
              "outlinewidth": 0,
              "ticks": ""
             }
            },
            "type": "scatterpolar"
           }
          ],
          "scatterpolargl": [
           {
            "marker": {
             "colorbar": {
              "outlinewidth": 0,
              "ticks": ""
             }
            },
            "type": "scatterpolargl"
           }
          ],
          "scatterternary": [
           {
            "marker": {
             "colorbar": {
              "outlinewidth": 0,
              "ticks": ""
             }
            },
            "type": "scatterternary"
           }
          ],
          "surface": [
           {
            "colorbar": {
             "outlinewidth": 0,
             "ticks": ""
            },
            "colorscale": [
             [
              0,
              "#0d0887"
             ],
             [
              0.1111111111111111,
              "#46039f"
             ],
             [
              0.2222222222222222,
              "#7201a8"
             ],
             [
              0.3333333333333333,
              "#9c179e"
             ],
             [
              0.4444444444444444,
              "#bd3786"
             ],
             [
              0.5555555555555556,
              "#d8576b"
             ],
             [
              0.6666666666666666,
              "#ed7953"
             ],
             [
              0.7777777777777778,
              "#fb9f3a"
             ],
             [
              0.8888888888888888,
              "#fdca26"
             ],
             [
              1,
              "#f0f921"
             ]
            ],
            "type": "surface"
           }
          ],
          "table": [
           {
            "cells": {
             "fill": {
              "color": "#EBF0F8"
             },
             "line": {
              "color": "white"
             }
            },
            "header": {
             "fill": {
              "color": "#C8D4E3"
             },
             "line": {
              "color": "white"
             }
            },
            "type": "table"
           }
          ]
         },
         "layout": {
          "annotationdefaults": {
           "arrowcolor": "#2a3f5f",
           "arrowhead": 0,
           "arrowwidth": 1
          },
          "autotypenumbers": "strict",
          "coloraxis": {
           "colorbar": {
            "outlinewidth": 0,
            "ticks": ""
           }
          },
          "colorscale": {
           "diverging": [
            [
             0,
             "#8e0152"
            ],
            [
             0.1,
             "#c51b7d"
            ],
            [
             0.2,
             "#de77ae"
            ],
            [
             0.3,
             "#f1b6da"
            ],
            [
             0.4,
             "#fde0ef"
            ],
            [
             0.5,
             "#f7f7f7"
            ],
            [
             0.6,
             "#e6f5d0"
            ],
            [
             0.7,
             "#b8e186"
            ],
            [
             0.8,
             "#7fbc41"
            ],
            [
             0.9,
             "#4d9221"
            ],
            [
             1,
             "#276419"
            ]
           ],
           "sequential": [
            [
             0,
             "#0d0887"
            ],
            [
             0.1111111111111111,
             "#46039f"
            ],
            [
             0.2222222222222222,
             "#7201a8"
            ],
            [
             0.3333333333333333,
             "#9c179e"
            ],
            [
             0.4444444444444444,
             "#bd3786"
            ],
            [
             0.5555555555555556,
             "#d8576b"
            ],
            [
             0.6666666666666666,
             "#ed7953"
            ],
            [
             0.7777777777777778,
             "#fb9f3a"
            ],
            [
             0.8888888888888888,
             "#fdca26"
            ],
            [
             1,
             "#f0f921"
            ]
           ],
           "sequentialminus": [
            [
             0,
             "#0d0887"
            ],
            [
             0.1111111111111111,
             "#46039f"
            ],
            [
             0.2222222222222222,
             "#7201a8"
            ],
            [
             0.3333333333333333,
             "#9c179e"
            ],
            [
             0.4444444444444444,
             "#bd3786"
            ],
            [
             0.5555555555555556,
             "#d8576b"
            ],
            [
             0.6666666666666666,
             "#ed7953"
            ],
            [
             0.7777777777777778,
             "#fb9f3a"
            ],
            [
             0.8888888888888888,
             "#fdca26"
            ],
            [
             1,
             "#f0f921"
            ]
           ]
          },
          "colorway": [
           "#636efa",
           "#EF553B",
           "#00cc96",
           "#ab63fa",
           "#FFA15A",
           "#19d3f3",
           "#FF6692",
           "#B6E880",
           "#FF97FF",
           "#FECB52"
          ],
          "font": {
           "color": "#2a3f5f"
          },
          "geo": {
           "bgcolor": "white",
           "lakecolor": "white",
           "landcolor": "#E5ECF6",
           "showlakes": true,
           "showland": true,
           "subunitcolor": "white"
          },
          "hoverlabel": {
           "align": "left"
          },
          "hovermode": "closest",
          "mapbox": {
           "style": "light"
          },
          "paper_bgcolor": "white",
          "plot_bgcolor": "#E5ECF6",
          "polar": {
           "angularaxis": {
            "gridcolor": "white",
            "linecolor": "white",
            "ticks": ""
           },
           "bgcolor": "#E5ECF6",
           "radialaxis": {
            "gridcolor": "white",
            "linecolor": "white",
            "ticks": ""
           }
          },
          "scene": {
           "xaxis": {
            "backgroundcolor": "#E5ECF6",
            "gridcolor": "white",
            "gridwidth": 2,
            "linecolor": "white",
            "showbackground": true,
            "ticks": "",
            "zerolinecolor": "white"
           },
           "yaxis": {
            "backgroundcolor": "#E5ECF6",
            "gridcolor": "white",
            "gridwidth": 2,
            "linecolor": "white",
            "showbackground": true,
            "ticks": "",
            "zerolinecolor": "white"
           },
           "zaxis": {
            "backgroundcolor": "#E5ECF6",
            "gridcolor": "white",
            "gridwidth": 2,
            "linecolor": "white",
            "showbackground": true,
            "ticks": "",
            "zerolinecolor": "white"
           }
          },
          "shapedefaults": {
           "line": {
            "color": "#2a3f5f"
           }
          },
          "ternary": {
           "aaxis": {
            "gridcolor": "white",
            "linecolor": "white",
            "ticks": ""
           },
           "baxis": {
            "gridcolor": "white",
            "linecolor": "white",
            "ticks": ""
           },
           "bgcolor": "#E5ECF6",
           "caxis": {
            "gridcolor": "white",
            "linecolor": "white",
            "ticks": ""
           }
          },
          "title": {
           "x": 0.05
          },
          "xaxis": {
           "automargin": true,
           "gridcolor": "white",
           "linecolor": "white",
           "ticks": "",
           "title": {
            "standoff": 15
           },
           "zerolinecolor": "white",
           "zerolinewidth": 2
          },
          "yaxis": {
           "automargin": true,
           "gridcolor": "white",
           "linecolor": "white",
           "ticks": "",
           "title": {
            "standoff": 15
           },
           "zerolinecolor": "white",
           "zerolinewidth": 2
          }
         }
        },
        "title": {
         "text": "Error Distances Over Time"
        },
        "xaxis": {
         "dtick": 20,
         "tick0": 0,
         "tickmode": "linear",
         "title": {
          "text": "Time"
         }
        }
       }
      },
      "text/html": [
       "<div>                            <div id=\"306f918c-c35e-462a-b65d-058f0cf1bda2\" class=\"plotly-graph-div\" style=\"height:525px; width:100%;\"></div>            <script type=\"text/javascript\">                require([\"plotly\"], function(Plotly) {                    window.PLOTLYENV=window.PLOTLYENV || {};                                    if (document.getElementById(\"306f918c-c35e-462a-b65d-058f0cf1bda2\")) {                    Plotly.newPlot(                        \"306f918c-c35e-462a-b65d-058f0cf1bda2\",                        [{\"mode\":\"lines+markers\",\"name\":\"A-1.1\",\"type\":\"scatter\",\"x\":[7.0,8.0,9.0,10.0,11.0,12.0,13.0,14.0,15.0,16.0,17.0,18.0,19.0,20.0,21.0,22.0,23.0,24.0,25.0,26.0,27.0],\"y\":[2.8154674276063134,2.8670667197923967,2.9794718427886915,2.6537733128718193,2.8837206316186172,3.0503416864921338,2.902931034474105,2.912819218049041,2.977817324594219,2.6498741668110792,2.7161565943834596,2.664104930116565,2.870911245202287,2.912719890761736,2.984251821514638,2.9624705705154524,2.8795278469637124,2.6934648249779283,2.720556485636722,2.715215330642915,2.5852172740096266]},{\"mode\":\"lines+markers\",\"name\":\"A-1.2\",\"type\":\"scatter\",\"x\":[35.0,36.0,37.0,38.0,39.0,40.0,41.0,42.0,43.0,44.0,45.0,46.0,47.0,48.0,49.0,50.0,51.0,52.0,53.0,54.0,55.0],\"y\":[1.1702964816330268,1.210811794281137,1.1584761619864472,1.2278994352126924,1.226692576597554,1.1407749923957868,1.267858104338129,1.416731927503574,1.3697823561502758,1.4105830459947648,1.3183520070756438,1.4678047222213368,1.298826227150325,1.3203837412930903,1.2605749882531578,1.4454148887321305,1.6615535800790695,1.428429150575825,1.4038609589815307,1.2340641941657375,1.233150449452491]},{\"mode\":\"lines+markers\",\"name\":\"A-2.1\",\"type\":\"scatter\",\"x\":[67.0,68.0,69.0,70.0,71.0,72.0,73.0,74.0,75.0,76.0,77.0,78.0,79.0,80.0,81.0,82.0,83.0,84.0,85.0,86.0,87.0],\"y\":[3.186731611995357,3.1316011071074232,3.100882843596098,3.087305012337341,3.110285221977248,3.0993750975202023,3.0008080590486212,3.1451809805139126,3.0551236122319003,3.1013198346480655,3.0760725189286564,2.898235417451749,2.8725782159112696,2.8284895493052233,2.658277410440489,2.6104420665682686,2.4527737069180473,2.652826612449095,2.6615334026234616,2.419671445632747,2.534907893987686]},{\"mode\":\"lines+markers\",\"name\":\"A-2.2\",\"type\":\"scatter\",\"x\":[98.0,99.0,100.0,101.0,102.0,103.0,104.0,105.0,106.0,107.0,108.0,109.0,110.0,111.0,112.0,113.0,114.0,115.0,116.0,117.0,118.0],\"y\":[0.5577657100556437,0.6619619926265685,0.4658581407020442,0.5290044101087256,0.5904157407556974,0.6443289273609417,0.4416329655834477,0.49310719000877173,0.34823595880290065,0.32733165829963856,0.5773946552292627,0.5222493572818271,0.5653503558394983,0.5683857439217364,0.8924384541234209,0.7745638389941708,0.7194334495810659,0.7728595723449524,0.7176122815763267,0.4992997147518135,0.6832447659708162]},{\"mode\":\"lines+markers\",\"name\":\"A-3.1\",\"type\":\"scatter\",\"x\":[136.0,137.0,138.0,139.0,140.0,141.0,142.0,143.0,144.0,145.0,146.0,147.0,148.0,149.0,150.0,151.0,152.0,153.0,154.0,155.0,156.0],\"y\":[2.03615955436313,2.1285179690852227,2.060877104145287,2.0580143208900323,2.4030490913482527,2.453913143493165,2.4916242667303488,2.558574800448655,2.411600695614369,2.397664380515252,2.193625071250377,2.194711142644253,2.1646246725308225,2.3298432671214115,2.3057489059258405,2.1686122160579044,2.0890236946190757,2.3824945313225734,3.0162035982495117,2.9509297850390586,3.0983574251099206]},{\"mode\":\"lines+markers\",\"name\":\"A-3.2\",\"type\":\"scatter\",\"x\":[164.0,165.0,166.0,167.0,168.0,169.0,170.0,171.0,172.0,173.0,174.0,175.0,176.0,177.0,178.0,179.0,180.0,181.0,182.0,183.0,184.0],\"y\":[1.3260960500724575,1.3424077202552,1.0843569302785858,1.3976758984342859,1.4062042750043933,1.3298326393578053,1.6881742711411147,1.6023756858318876,1.7244567489067681,1.8447940645450962,1.898265066838003,1.9289498224855028,1.6957517628940582,1.7885568947459525,1.859066582292204,1.8130619269488326,1.934507499325027,1.9756275852956615,1.8859810697061954,1.5628431592376513,1.4177228568823395]},{\"mode\":\"lines+markers\",\"name\":\"A-4.1\",\"type\":\"scatter\",\"x\":[193.0,194.0,195.0,196.0,197.0,198.0,199.0,200.0,201.0,202.0,203.0,204.0,205.0,206.0,207.0,208.0,209.0,210.0,211.0,212.0,213.0],\"y\":[2.2827278447274395,2.79923321928349,2.9708062794443357,2.9479968683838207,2.881830068174113,2.9897953931714802,2.8209937248199344,3.174184291025474,3.0883312065218025,2.946411890358503,3.019789602541986,3.0880819392966816,2.9456031282931194,3.1066786004269136,2.551270057977344,2.362533364646902,2.603062389108797,2.5714783153817193,2.775676144731467,2.8686117799279525,2.45405453575862]},{\"mode\":\"lines+markers\",\"name\":\"A-4.2\",\"type\":\"scatter\",\"x\":[220.0,221.0,222.0,223.0,224.0,225.0,226.0,227.0,228.0,229.0,230.0,231.0,232.0,233.0,234.0,235.0,236.0,237.0,238.0,239.0,240.0],\"y\":[4.387847500676733,4.262410968267325,4.105809149114372,3.6051414441980656,3.591087773993143,3.2554795640955945,2.8146484217339247,2.7995174191691663,2.4698443409697983,2.197782248785932,2.261632658059073,2.1458016337748265,2.268758305239174,2.37098019867016,2.244838678868753,2.1326915706694876,2.1092383969557615,2.1228260506918923,2.0369466300589365,2.2044356508962615,2.2508197899818247]},{\"mode\":\"lines+markers\",\"name\":\"A-5.1\",\"type\":\"scatter\",\"x\":[248.0,249.0,250.0,251.0,252.0,253.0,254.0,255.0,256.0,257.0,258.0,259.0,260.0,261.0,262.0,263.0,264.0,265.0,266.0,267.0,268.0],\"y\":[1.5120629669946541,1.5885291374913364,1.4540971939672498,1.4992249522122048,1.287031665582786,1.7139399161555013,1.4442011840287046,1.274334543110968,1.3189403926990413,1.138991598114486,1.199009980629751,1.0421911070984828,1.066342997058645,1.4085211781438882,1.5603415909338896,1.5282084277798478,1.8271196549058677,1.7964938970681967,2.1022526533529886,1.6431046847053887,1.8621396694204868]},{\"mode\":\"lines+markers\",\"name\":\"A-5.2\",\"type\":\"scatter\",\"x\":[278.0,279.0,280.0,281.0,282.0,283.0,284.0,285.0,286.0,287.0,288.0,289.0,290.0,291.0,292.0,293.0,294.0,295.0,296.0,297.0,298.0],\"y\":[4.06448309291657,4.062238906213829,4.250815237763596,4.193439146755879,4.196304550443041,3.997843922764133,3.9820466960789203,4.454400336031485,4.415375403200481,4.0413765713940615,3.4415048839598317,3.5860829394170173,3.3598553734741454,3.7617925203263876,3.4148827229453422,3.5774172664418042,3.502590148558937,3.290170088278646,3.58766144274227,3.06314382891456,3.36408762508869]}],                        {\"legend\":{\"title\":{\"text\":\"Normal Filter\"}},\"template\":{\"data\":{\"bar\":[{\"error_x\":{\"color\":\"#2a3f5f\"},\"error_y\":{\"color\":\"#2a3f5f\"},\"marker\":{\"line\":{\"color\":\"#E5ECF6\",\"width\":0.5},\"pattern\":{\"fillmode\":\"overlay\",\"size\":10,\"solidity\":0.2}},\"type\":\"bar\"}],\"barpolar\":[{\"marker\":{\"line\":{\"color\":\"#E5ECF6\",\"width\":0.5},\"pattern\":{\"fillmode\":\"overlay\",\"size\":10,\"solidity\":0.2}},\"type\":\"barpolar\"}],\"carpet\":[{\"aaxis\":{\"endlinecolor\":\"#2a3f5f\",\"gridcolor\":\"white\",\"linecolor\":\"white\",\"minorgridcolor\":\"white\",\"startlinecolor\":\"#2a3f5f\"},\"baxis\":{\"endlinecolor\":\"#2a3f5f\",\"gridcolor\":\"white\",\"linecolor\":\"white\",\"minorgridcolor\":\"white\",\"startlinecolor\":\"#2a3f5f\"},\"type\":\"carpet\"}],\"choropleth\":[{\"colorbar\":{\"outlinewidth\":0,\"ticks\":\"\"},\"type\":\"choropleth\"}],\"contour\":[{\"colorbar\":{\"outlinewidth\":0,\"ticks\":\"\"},\"colorscale\":[[0.0,\"#0d0887\"],[0.1111111111111111,\"#46039f\"],[0.2222222222222222,\"#7201a8\"],[0.3333333333333333,\"#9c179e\"],[0.4444444444444444,\"#bd3786\"],[0.5555555555555556,\"#d8576b\"],[0.6666666666666666,\"#ed7953\"],[0.7777777777777778,\"#fb9f3a\"],[0.8888888888888888,\"#fdca26\"],[1.0,\"#f0f921\"]],\"type\":\"contour\"}],\"contourcarpet\":[{\"colorbar\":{\"outlinewidth\":0,\"ticks\":\"\"},\"type\":\"contourcarpet\"}],\"heatmap\":[{\"colorbar\":{\"outlinewidth\":0,\"ticks\":\"\"},\"colorscale\":[[0.0,\"#0d0887\"],[0.1111111111111111,\"#46039f\"],[0.2222222222222222,\"#7201a8\"],[0.3333333333333333,\"#9c179e\"],[0.4444444444444444,\"#bd3786\"],[0.5555555555555556,\"#d8576b\"],[0.6666666666666666,\"#ed7953\"],[0.7777777777777778,\"#fb9f3a\"],[0.8888888888888888,\"#fdca26\"],[1.0,\"#f0f921\"]],\"type\":\"heatmap\"}],\"heatmapgl\":[{\"colorbar\":{\"outlinewidth\":0,\"ticks\":\"\"},\"colorscale\":[[0.0,\"#0d0887\"],[0.1111111111111111,\"#46039f\"],[0.2222222222222222,\"#7201a8\"],[0.3333333333333333,\"#9c179e\"],[0.4444444444444444,\"#bd3786\"],[0.5555555555555556,\"#d8576b\"],[0.6666666666666666,\"#ed7953\"],[0.7777777777777778,\"#fb9f3a\"],[0.8888888888888888,\"#fdca26\"],[1.0,\"#f0f921\"]],\"type\":\"heatmapgl\"}],\"histogram\":[{\"marker\":{\"pattern\":{\"fillmode\":\"overlay\",\"size\":10,\"solidity\":0.2}},\"type\":\"histogram\"}],\"histogram2d\":[{\"colorbar\":{\"outlinewidth\":0,\"ticks\":\"\"},\"colorscale\":[[0.0,\"#0d0887\"],[0.1111111111111111,\"#46039f\"],[0.2222222222222222,\"#7201a8\"],[0.3333333333333333,\"#9c179e\"],[0.4444444444444444,\"#bd3786\"],[0.5555555555555556,\"#d8576b\"],[0.6666666666666666,\"#ed7953\"],[0.7777777777777778,\"#fb9f3a\"],[0.8888888888888888,\"#fdca26\"],[1.0,\"#f0f921\"]],\"type\":\"histogram2d\"}],\"histogram2dcontour\":[{\"colorbar\":{\"outlinewidth\":0,\"ticks\":\"\"},\"colorscale\":[[0.0,\"#0d0887\"],[0.1111111111111111,\"#46039f\"],[0.2222222222222222,\"#7201a8\"],[0.3333333333333333,\"#9c179e\"],[0.4444444444444444,\"#bd3786\"],[0.5555555555555556,\"#d8576b\"],[0.6666666666666666,\"#ed7953\"],[0.7777777777777778,\"#fb9f3a\"],[0.8888888888888888,\"#fdca26\"],[1.0,\"#f0f921\"]],\"type\":\"histogram2dcontour\"}],\"mesh3d\":[{\"colorbar\":{\"outlinewidth\":0,\"ticks\":\"\"},\"type\":\"mesh3d\"}],\"parcoords\":[{\"line\":{\"colorbar\":{\"outlinewidth\":0,\"ticks\":\"\"}},\"type\":\"parcoords\"}],\"pie\":[{\"automargin\":true,\"type\":\"pie\"}],\"scatter\":[{\"marker\":{\"colorbar\":{\"outlinewidth\":0,\"ticks\":\"\"}},\"type\":\"scatter\"}],\"scatter3d\":[{\"line\":{\"colorbar\":{\"outlinewidth\":0,\"ticks\":\"\"}},\"marker\":{\"colorbar\":{\"outlinewidth\":0,\"ticks\":\"\"}},\"type\":\"scatter3d\"}],\"scattercarpet\":[{\"marker\":{\"colorbar\":{\"outlinewidth\":0,\"ticks\":\"\"}},\"type\":\"scattercarpet\"}],\"scattergeo\":[{\"marker\":{\"colorbar\":{\"outlinewidth\":0,\"ticks\":\"\"}},\"type\":\"scattergeo\"}],\"scattergl\":[{\"marker\":{\"colorbar\":{\"outlinewidth\":0,\"ticks\":\"\"}},\"type\":\"scattergl\"}],\"scattermapbox\":[{\"marker\":{\"colorbar\":{\"outlinewidth\":0,\"ticks\":\"\"}},\"type\":\"scattermapbox\"}],\"scatterpolar\":[{\"marker\":{\"colorbar\":{\"outlinewidth\":0,\"ticks\":\"\"}},\"type\":\"scatterpolar\"}],\"scatterpolargl\":[{\"marker\":{\"colorbar\":{\"outlinewidth\":0,\"ticks\":\"\"}},\"type\":\"scatterpolargl\"}],\"scatterternary\":[{\"marker\":{\"colorbar\":{\"outlinewidth\":0,\"ticks\":\"\"}},\"type\":\"scatterternary\"}],\"surface\":[{\"colorbar\":{\"outlinewidth\":0,\"ticks\":\"\"},\"colorscale\":[[0.0,\"#0d0887\"],[0.1111111111111111,\"#46039f\"],[0.2222222222222222,\"#7201a8\"],[0.3333333333333333,\"#9c179e\"],[0.4444444444444444,\"#bd3786\"],[0.5555555555555556,\"#d8576b\"],[0.6666666666666666,\"#ed7953\"],[0.7777777777777778,\"#fb9f3a\"],[0.8888888888888888,\"#fdca26\"],[1.0,\"#f0f921\"]],\"type\":\"surface\"}],\"table\":[{\"cells\":{\"fill\":{\"color\":\"#EBF0F8\"},\"line\":{\"color\":\"white\"}},\"header\":{\"fill\":{\"color\":\"#C8D4E3\"},\"line\":{\"color\":\"white\"}},\"type\":\"table\"}]},\"layout\":{\"annotationdefaults\":{\"arrowcolor\":\"#2a3f5f\",\"arrowhead\":0,\"arrowwidth\":1},\"autotypenumbers\":\"strict\",\"coloraxis\":{\"colorbar\":{\"outlinewidth\":0,\"ticks\":\"\"}},\"colorscale\":{\"diverging\":[[0,\"#8e0152\"],[0.1,\"#c51b7d\"],[0.2,\"#de77ae\"],[0.3,\"#f1b6da\"],[0.4,\"#fde0ef\"],[0.5,\"#f7f7f7\"],[0.6,\"#e6f5d0\"],[0.7,\"#b8e186\"],[0.8,\"#7fbc41\"],[0.9,\"#4d9221\"],[1,\"#276419\"]],\"sequential\":[[0.0,\"#0d0887\"],[0.1111111111111111,\"#46039f\"],[0.2222222222222222,\"#7201a8\"],[0.3333333333333333,\"#9c179e\"],[0.4444444444444444,\"#bd3786\"],[0.5555555555555556,\"#d8576b\"],[0.6666666666666666,\"#ed7953\"],[0.7777777777777778,\"#fb9f3a\"],[0.8888888888888888,\"#fdca26\"],[1.0,\"#f0f921\"]],\"sequentialminus\":[[0.0,\"#0d0887\"],[0.1111111111111111,\"#46039f\"],[0.2222222222222222,\"#7201a8\"],[0.3333333333333333,\"#9c179e\"],[0.4444444444444444,\"#bd3786\"],[0.5555555555555556,\"#d8576b\"],[0.6666666666666666,\"#ed7953\"],[0.7777777777777778,\"#fb9f3a\"],[0.8888888888888888,\"#fdca26\"],[1.0,\"#f0f921\"]]},\"colorway\":[\"#636efa\",\"#EF553B\",\"#00cc96\",\"#ab63fa\",\"#FFA15A\",\"#19d3f3\",\"#FF6692\",\"#B6E880\",\"#FF97FF\",\"#FECB52\"],\"font\":{\"color\":\"#2a3f5f\"},\"geo\":{\"bgcolor\":\"white\",\"lakecolor\":\"white\",\"landcolor\":\"#E5ECF6\",\"showlakes\":true,\"showland\":true,\"subunitcolor\":\"white\"},\"hoverlabel\":{\"align\":\"left\"},\"hovermode\":\"closest\",\"mapbox\":{\"style\":\"light\"},\"paper_bgcolor\":\"white\",\"plot_bgcolor\":\"#E5ECF6\",\"polar\":{\"angularaxis\":{\"gridcolor\":\"white\",\"linecolor\":\"white\",\"ticks\":\"\"},\"bgcolor\":\"#E5ECF6\",\"radialaxis\":{\"gridcolor\":\"white\",\"linecolor\":\"white\",\"ticks\":\"\"}},\"scene\":{\"xaxis\":{\"backgroundcolor\":\"#E5ECF6\",\"gridcolor\":\"white\",\"gridwidth\":2,\"linecolor\":\"white\",\"showbackground\":true,\"ticks\":\"\",\"zerolinecolor\":\"white\"},\"yaxis\":{\"backgroundcolor\":\"#E5ECF6\",\"gridcolor\":\"white\",\"gridwidth\":2,\"linecolor\":\"white\",\"showbackground\":true,\"ticks\":\"\",\"zerolinecolor\":\"white\"},\"zaxis\":{\"backgroundcolor\":\"#E5ECF6\",\"gridcolor\":\"white\",\"gridwidth\":2,\"linecolor\":\"white\",\"showbackground\":true,\"ticks\":\"\",\"zerolinecolor\":\"white\"}},\"shapedefaults\":{\"line\":{\"color\":\"#2a3f5f\"}},\"ternary\":{\"aaxis\":{\"gridcolor\":\"white\",\"linecolor\":\"white\",\"ticks\":\"\"},\"baxis\":{\"gridcolor\":\"white\",\"linecolor\":\"white\",\"ticks\":\"\"},\"bgcolor\":\"#E5ECF6\",\"caxis\":{\"gridcolor\":\"white\",\"linecolor\":\"white\",\"ticks\":\"\"}},\"title\":{\"x\":0.05},\"xaxis\":{\"automargin\":true,\"gridcolor\":\"white\",\"linecolor\":\"white\",\"ticks\":\"\",\"title\":{\"standoff\":15},\"zerolinecolor\":\"white\",\"zerolinewidth\":2},\"yaxis\":{\"automargin\":true,\"gridcolor\":\"white\",\"linecolor\":\"white\",\"ticks\":\"\",\"title\":{\"standoff\":15},\"zerolinecolor\":\"white\",\"zerolinewidth\":2}}},\"title\":{\"text\":\"Error Distances Over Time\"},\"xaxis\":{\"dtick\":20,\"tick0\":0,\"tickmode\":\"linear\",\"title\":{\"text\":\"Time\"}}},                        {\"responsive\": true}                    ).then(function(){\n",
       "                            \n",
       "var gd = document.getElementById('306f918c-c35e-462a-b65d-058f0cf1bda2');\n",
       "var x = new MutationObserver(function (mutations, observer) {{\n",
       "        var display = window.getComputedStyle(gd).display;\n",
       "        if (!display || display === 'none') {{\n",
       "            console.log([gd, 'removed!']);\n",
       "            Plotly.purge(gd);\n",
       "            observer.disconnect();\n",
       "        }}\n",
       "}});\n",
       "\n",
       "// Listen for the removal of the full notebook cells\n",
       "var notebookContainer = gd.closest('#notebook-container');\n",
       "if (notebookContainer) {{\n",
       "    x.observe(notebookContainer, {childList: true});\n",
       "}}\n",
       "\n",
       "// Listen for the clearing of the current output cell\n",
       "var outputEl = gd.closest('.output');\n",
       "if (outputEl) {{\n",
       "    x.observe(outputEl, {childList: true});\n",
       "}}\n",
       "\n",
       "                        })                };                });            </script>        </div>"
      ]
     },
     "metadata": {},
     "output_type": "display_data"
    }
   ],
   "source": [
    "filtered_fig.show()\n",
    "fig1.show()\n",
    "fig_dist.show()"
   ]
  },
  {
   "cell_type": "code",
   "execution_count": 575,
   "metadata": {},
   "outputs": [
    {
     "data": {
      "application/vnd.plotly.v1+json": {
       "config": {
        "plotlyServerURL": "https://plot.ly"
       },
       "data": [
        {
         "box": {
          "visible": true
         },
         "jitter": 0.05,
         "meanline": {
          "visible": true
         },
         "name": "A-1.1",
         "points": "all",
         "scalemode": "count",
         "type": "violin",
         "x": [
          "A-1.1",
          "A-1.1",
          "A-1.1",
          "A-1.1",
          "A-1.1",
          "A-1.1",
          "A-1.1",
          "A-1.1",
          "A-1.1",
          "A-1.1",
          "A-1.1",
          "A-1.1",
          "A-1.1",
          "A-1.1",
          "A-1.1",
          "A-1.1",
          "A-1.1",
          "A-1.1",
          "A-1.1",
          "A-1.1",
          "A-1.1"
         ],
         "y": [
          2.834838990382368,
          2.834838990382368,
          2.834838990382368,
          2.834838990382368,
          2.834838990382368,
          2.834838990382368,
          2.834838990382368,
          2.834838990382368,
          2.834838990382368,
          2.834838990382368,
          2.834838990382368,
          2.834838990382368,
          2.834838990382368,
          2.834838990382368,
          2.834838990382368,
          2.834838990382368,
          2.834838990382368,
          2.834838990382368,
          2.834838990382368,
          2.834838990382368,
          2.834838990382368
         ]
        },
        {
         "box": {
          "visible": true
         },
         "jitter": 0.05,
         "meanline": {
          "visible": true
         },
         "name": "A-1.2",
         "points": "all",
         "scalemode": "count",
         "type": "violin",
         "x": [
          "A-1.2",
          "A-1.2",
          "A-1.2",
          "A-1.2",
          "A-1.2",
          "A-1.2",
          "A-1.2",
          "A-1.2",
          "A-1.2",
          "A-1.2",
          "A-1.2",
          "A-1.2",
          "A-1.2",
          "A-1.2",
          "A-1.2",
          "A-1.2",
          "A-1.2",
          "A-1.2",
          "A-1.2",
          "A-1.2",
          "A-1.2"
         ],
         "y": [
          2.1403725059072136,
          2.1403725059072136,
          2.1403725059072136,
          2.1403725059072136,
          2.1403725059072136,
          2.1403725059072136,
          2.1403725059072136,
          2.1403725059072136,
          2.1403725059072136,
          2.1403725059072136,
          2.1403725059072136,
          2.1403725059072136,
          2.1403725059072136,
          2.1403725059072136,
          2.1403725059072136,
          2.1403725059072136,
          2.1403725059072136,
          2.1403725059072136,
          2.1403725059072136,
          2.1403725059072136,
          2.1403725059072136
         ]
        },
        {
         "box": {
          "visible": true
         },
         "jitter": 0.05,
         "meanline": {
          "visible": true
         },
         "name": "A-2.1",
         "points": "all",
         "scalemode": "count",
         "type": "violin",
         "x": [
          "A-2.1",
          "A-2.1",
          "A-2.1",
          "A-2.1",
          "A-2.1",
          "A-2.1",
          "A-2.1",
          "A-2.1",
          "A-2.1",
          "A-2.1",
          "A-2.1",
          "A-2.1",
          "A-2.1",
          "A-2.1",
          "A-2.1",
          "A-2.1",
          "A-2.1",
          "A-2.1",
          "A-2.1",
          "A-2.1",
          "A-2.1"
         ],
         "y": [
          3.6288466315365637,
          3.6288466315365637,
          3.6288466315365637,
          3.6288466315365637,
          3.6288466315365637,
          3.6288466315365637,
          3.6288466315365637,
          3.6288466315365637,
          3.6288466315365637,
          3.6288466315365637,
          3.6288466315365637,
          3.6288466315365637,
          3.6288466315365637,
          3.6288466315365637,
          3.6288466315365637,
          3.6288466315365637,
          3.6288466315365637,
          3.6288466315365637,
          3.6288466315365637,
          3.6288466315365637,
          3.6288466315365637
         ]
        },
        {
         "box": {
          "visible": true
         },
         "jitter": 0.05,
         "meanline": {
          "visible": true
         },
         "name": "A-2.2",
         "points": "all",
         "scalemode": "count",
         "type": "violin",
         "x": [
          "A-2.2",
          "A-2.2",
          "A-2.2",
          "A-2.2",
          "A-2.2",
          "A-2.2",
          "A-2.2",
          "A-2.2",
          "A-2.2",
          "A-2.2",
          "A-2.2",
          "A-2.2",
          "A-2.2",
          "A-2.2",
          "A-2.2",
          "A-2.2",
          "A-2.2",
          "A-2.2",
          "A-2.2",
          "A-2.2",
          "A-2.2"
         ],
         "y": [
          1.6575540861540672,
          1.6575540861540672,
          1.6575540861540672,
          1.6575540861540672,
          1.6575540861540672,
          1.6575540861540672,
          1.6575540861540672,
          1.6575540861540672,
          1.6575540861540672,
          1.6575540861540672,
          1.6575540861540672,
          1.6575540861540672,
          1.6575540861540672,
          1.6575540861540672,
          1.6575540861540672,
          1.6575540861540672,
          1.6575540861540672,
          1.6575540861540672,
          1.6575540861540672,
          1.6575540861540672,
          1.6575540861540672
         ]
        },
        {
         "box": {
          "visible": true
         },
         "jitter": 0.05,
         "meanline": {
          "visible": true
         },
         "name": "A-3.1",
         "points": "all",
         "scalemode": "count",
         "type": "violin",
         "x": [
          "A-3.1",
          "A-3.1",
          "A-3.1",
          "A-3.1",
          "A-3.1",
          "A-3.1",
          "A-3.1",
          "A-3.1",
          "A-3.1",
          "A-3.1",
          "A-3.1",
          "A-3.1",
          "A-3.1",
          "A-3.1",
          "A-3.1",
          "A-3.1",
          "A-3.1",
          "A-3.1",
          "A-3.1",
          "A-3.1",
          "A-3.1"
         ],
         "y": [
          2.1779344178652735,
          2.1779344178652735,
          2.1779344178652735,
          2.1779344178652735,
          2.1779344178652735,
          2.1779344178652735,
          2.1779344178652735,
          2.1779344178652735,
          2.1779344178652735,
          2.1779344178652735,
          2.1779344178652735,
          2.1779344178652735,
          2.1779344178652735,
          2.1779344178652735,
          2.1779344178652735,
          2.1779344178652735,
          2.1779344178652735,
          2.1779344178652735,
          2.1779344178652735,
          2.1779344178652735,
          2.1779344178652735
         ]
        },
        {
         "box": {
          "visible": true
         },
         "jitter": 0.05,
         "meanline": {
          "visible": true
         },
         "name": "A-3.2",
         "points": "all",
         "scalemode": "count",
         "type": "violin",
         "x": [
          "A-3.2",
          "A-3.2",
          "A-3.2",
          "A-3.2",
          "A-3.2",
          "A-3.2",
          "A-3.2",
          "A-3.2",
          "A-3.2",
          "A-3.2",
          "A-3.2",
          "A-3.2",
          "A-3.2",
          "A-3.2",
          "A-3.2",
          "A-3.2",
          "A-3.2",
          "A-3.2",
          "A-3.2",
          "A-3.2",
          "A-3.2"
         ],
         "y": [
          1.1288406211820998,
          1.1288406211820998,
          1.1288406211820998,
          1.1288406211820998,
          1.1288406211820998,
          1.1288406211820998,
          1.1288406211820998,
          1.1288406211820998,
          1.1288406211820998,
          1.1288406211820998,
          1.1288406211820998,
          1.1288406211820998,
          1.1288406211820998,
          1.1288406211820998,
          1.1288406211820998,
          1.1288406211820998,
          1.1288406211820998,
          1.1288406211820998,
          1.1288406211820998,
          1.1288406211820998,
          1.1288406211820998
         ]
        },
        {
         "box": {
          "visible": true
         },
         "jitter": 0.05,
         "meanline": {
          "visible": true
         },
         "name": "A-4.1",
         "points": "all",
         "scalemode": "count",
         "type": "violin",
         "x": [
          "A-4.1",
          "A-4.1",
          "A-4.1",
          "A-4.1",
          "A-4.1",
          "A-4.1",
          "A-4.1",
          "A-4.1",
          "A-4.1",
          "A-4.1",
          "A-4.1",
          "A-4.1",
          "A-4.1",
          "A-4.1",
          "A-4.1",
          "A-4.1",
          "A-4.1",
          "A-4.1",
          "A-4.1",
          "A-4.1",
          "A-4.1"
         ],
         "y": [
          2.476432817479202,
          2.476432817479202,
          2.476432817479202,
          2.476432817479202,
          2.476432817479202,
          2.476432817479202,
          2.476432817479202,
          2.476432817479202,
          2.476432817479202,
          2.476432817479202,
          2.476432817479202,
          2.476432817479202,
          2.476432817479202,
          2.476432817479202,
          2.476432817479202,
          2.476432817479202,
          2.476432817479202,
          2.476432817479202,
          2.476432817479202,
          2.476432817479202,
          2.476432817479202
         ]
        },
        {
         "box": {
          "visible": true
         },
         "jitter": 0.05,
         "meanline": {
          "visible": true
         },
         "name": "A-4.2",
         "points": "all",
         "scalemode": "count",
         "type": "violin",
         "x": [
          "A-4.2",
          "A-4.2",
          "A-4.2",
          "A-4.2",
          "A-4.2",
          "A-4.2",
          "A-4.2",
          "A-4.2",
          "A-4.2",
          "A-4.2",
          "A-4.2",
          "A-4.2",
          "A-4.2",
          "A-4.2",
          "A-4.2",
          "A-4.2",
          "A-4.2",
          "A-4.2",
          "A-4.2",
          "A-4.2",
          "A-4.2"
         ],
         "y": [
          4.284437974685646,
          4.284437974685646,
          4.284437974685646,
          4.284437974685646,
          4.284437974685646,
          4.284437974685646,
          4.284437974685646,
          4.284437974685646,
          4.284437974685646,
          4.284437974685646,
          4.284437974685646,
          4.284437974685646,
          4.284437974685646,
          4.284437974685646,
          4.284437974685646,
          4.284437974685646,
          4.284437974685646,
          4.284437974685646,
          4.284437974685646,
          4.284437974685646,
          4.284437974685646
         ]
        },
        {
         "box": {
          "visible": true
         },
         "jitter": 0.05,
         "meanline": {
          "visible": true
         },
         "name": "A-5.1",
         "points": "all",
         "scalemode": "count",
         "type": "violin",
         "x": [
          "A-5.1",
          "A-5.1",
          "A-5.1",
          "A-5.1",
          "A-5.1",
          "A-5.1",
          "A-5.1",
          "A-5.1",
          "A-5.1",
          "A-5.1",
          "A-5.1",
          "A-5.1",
          "A-5.1",
          "A-5.1",
          "A-5.1",
          "A-5.1",
          "A-5.1",
          "A-5.1",
          "A-5.1",
          "A-5.1",
          "A-5.1"
         ],
         "y": [
          4.244675055449898,
          4.244675055449898,
          4.244675055449898,
          4.244675055449898,
          4.244675055449898,
          4.244675055449898,
          4.244675055449898,
          4.244675055449898,
          4.244675055449898,
          4.244675055449898,
          4.244675055449898,
          4.244675055449898,
          4.244675055449898,
          4.244675055449898,
          4.244675055449898,
          4.244675055449898,
          4.244675055449898,
          4.244675055449898,
          4.244675055449898,
          4.244675055449898,
          4.244675055449898
         ]
        },
        {
         "box": {
          "visible": true
         },
         "jitter": 0.05,
         "meanline": {
          "visible": true
         },
         "name": "A-5.2",
         "points": "all",
         "scalemode": "count",
         "type": "violin",
         "x": [
          "A-5.2",
          "A-5.2",
          "A-5.2",
          "A-5.2",
          "A-5.2",
          "A-5.2",
          "A-5.2",
          "A-5.2",
          "A-5.2",
          "A-5.2",
          "A-5.2",
          "A-5.2",
          "A-5.2",
          "A-5.2",
          "A-5.2",
          "A-5.2",
          "A-5.2",
          "A-5.2",
          "A-5.2",
          "A-5.2",
          "A-5.2"
         ],
         "y": [
          6.045059615668613,
          6.045059615668613,
          6.045059615668613,
          6.045059615668613,
          6.045059615668613,
          6.045059615668613,
          6.045059615668613,
          6.045059615668613,
          6.045059615668613,
          6.045059615668613,
          6.045059615668613,
          6.045059615668613,
          6.045059615668613,
          6.045059615668613,
          6.045059615668613,
          6.045059615668613,
          6.045059615668613,
          6.045059615668613,
          6.045059615668613,
          6.045059615668613,
          6.045059615668613
         ]
        }
       ],
       "layout": {
        "barmode": "group",
        "legend": {
         "orientation": "v",
         "title": {
          "text": "No Filter"
         },
         "xanchor": "left"
        },
        "template": {
         "data": {
          "bar": [
           {
            "error_x": {
             "color": "#2a3f5f"
            },
            "error_y": {
             "color": "#2a3f5f"
            },
            "marker": {
             "line": {
              "color": "#E5ECF6",
              "width": 0.5
             },
             "pattern": {
              "fillmode": "overlay",
              "size": 10,
              "solidity": 0.2
             }
            },
            "type": "bar"
           }
          ],
          "barpolar": [
           {
            "marker": {
             "line": {
              "color": "#E5ECF6",
              "width": 0.5
             },
             "pattern": {
              "fillmode": "overlay",
              "size": 10,
              "solidity": 0.2
             }
            },
            "type": "barpolar"
           }
          ],
          "carpet": [
           {
            "aaxis": {
             "endlinecolor": "#2a3f5f",
             "gridcolor": "white",
             "linecolor": "white",
             "minorgridcolor": "white",
             "startlinecolor": "#2a3f5f"
            },
            "baxis": {
             "endlinecolor": "#2a3f5f",
             "gridcolor": "white",
             "linecolor": "white",
             "minorgridcolor": "white",
             "startlinecolor": "#2a3f5f"
            },
            "type": "carpet"
           }
          ],
          "choropleth": [
           {
            "colorbar": {
             "outlinewidth": 0,
             "ticks": ""
            },
            "type": "choropleth"
           }
          ],
          "contour": [
           {
            "colorbar": {
             "outlinewidth": 0,
             "ticks": ""
            },
            "colorscale": [
             [
              0,
              "#0d0887"
             ],
             [
              0.1111111111111111,
              "#46039f"
             ],
             [
              0.2222222222222222,
              "#7201a8"
             ],
             [
              0.3333333333333333,
              "#9c179e"
             ],
             [
              0.4444444444444444,
              "#bd3786"
             ],
             [
              0.5555555555555556,
              "#d8576b"
             ],
             [
              0.6666666666666666,
              "#ed7953"
             ],
             [
              0.7777777777777778,
              "#fb9f3a"
             ],
             [
              0.8888888888888888,
              "#fdca26"
             ],
             [
              1,
              "#f0f921"
             ]
            ],
            "type": "contour"
           }
          ],
          "contourcarpet": [
           {
            "colorbar": {
             "outlinewidth": 0,
             "ticks": ""
            },
            "type": "contourcarpet"
           }
          ],
          "heatmap": [
           {
            "colorbar": {
             "outlinewidth": 0,
             "ticks": ""
            },
            "colorscale": [
             [
              0,
              "#0d0887"
             ],
             [
              0.1111111111111111,
              "#46039f"
             ],
             [
              0.2222222222222222,
              "#7201a8"
             ],
             [
              0.3333333333333333,
              "#9c179e"
             ],
             [
              0.4444444444444444,
              "#bd3786"
             ],
             [
              0.5555555555555556,
              "#d8576b"
             ],
             [
              0.6666666666666666,
              "#ed7953"
             ],
             [
              0.7777777777777778,
              "#fb9f3a"
             ],
             [
              0.8888888888888888,
              "#fdca26"
             ],
             [
              1,
              "#f0f921"
             ]
            ],
            "type": "heatmap"
           }
          ],
          "heatmapgl": [
           {
            "colorbar": {
             "outlinewidth": 0,
             "ticks": ""
            },
            "colorscale": [
             [
              0,
              "#0d0887"
             ],
             [
              0.1111111111111111,
              "#46039f"
             ],
             [
              0.2222222222222222,
              "#7201a8"
             ],
             [
              0.3333333333333333,
              "#9c179e"
             ],
             [
              0.4444444444444444,
              "#bd3786"
             ],
             [
              0.5555555555555556,
              "#d8576b"
             ],
             [
              0.6666666666666666,
              "#ed7953"
             ],
             [
              0.7777777777777778,
              "#fb9f3a"
             ],
             [
              0.8888888888888888,
              "#fdca26"
             ],
             [
              1,
              "#f0f921"
             ]
            ],
            "type": "heatmapgl"
           }
          ],
          "histogram": [
           {
            "marker": {
             "pattern": {
              "fillmode": "overlay",
              "size": 10,
              "solidity": 0.2
             }
            },
            "type": "histogram"
           }
          ],
          "histogram2d": [
           {
            "colorbar": {
             "outlinewidth": 0,
             "ticks": ""
            },
            "colorscale": [
             [
              0,
              "#0d0887"
             ],
             [
              0.1111111111111111,
              "#46039f"
             ],
             [
              0.2222222222222222,
              "#7201a8"
             ],
             [
              0.3333333333333333,
              "#9c179e"
             ],
             [
              0.4444444444444444,
              "#bd3786"
             ],
             [
              0.5555555555555556,
              "#d8576b"
             ],
             [
              0.6666666666666666,
              "#ed7953"
             ],
             [
              0.7777777777777778,
              "#fb9f3a"
             ],
             [
              0.8888888888888888,
              "#fdca26"
             ],
             [
              1,
              "#f0f921"
             ]
            ],
            "type": "histogram2d"
           }
          ],
          "histogram2dcontour": [
           {
            "colorbar": {
             "outlinewidth": 0,
             "ticks": ""
            },
            "colorscale": [
             [
              0,
              "#0d0887"
             ],
             [
              0.1111111111111111,
              "#46039f"
             ],
             [
              0.2222222222222222,
              "#7201a8"
             ],
             [
              0.3333333333333333,
              "#9c179e"
             ],
             [
              0.4444444444444444,
              "#bd3786"
             ],
             [
              0.5555555555555556,
              "#d8576b"
             ],
             [
              0.6666666666666666,
              "#ed7953"
             ],
             [
              0.7777777777777778,
              "#fb9f3a"
             ],
             [
              0.8888888888888888,
              "#fdca26"
             ],
             [
              1,
              "#f0f921"
             ]
            ],
            "type": "histogram2dcontour"
           }
          ],
          "mesh3d": [
           {
            "colorbar": {
             "outlinewidth": 0,
             "ticks": ""
            },
            "type": "mesh3d"
           }
          ],
          "parcoords": [
           {
            "line": {
             "colorbar": {
              "outlinewidth": 0,
              "ticks": ""
             }
            },
            "type": "parcoords"
           }
          ],
          "pie": [
           {
            "automargin": true,
            "type": "pie"
           }
          ],
          "scatter": [
           {
            "marker": {
             "colorbar": {
              "outlinewidth": 0,
              "ticks": ""
             }
            },
            "type": "scatter"
           }
          ],
          "scatter3d": [
           {
            "line": {
             "colorbar": {
              "outlinewidth": 0,
              "ticks": ""
             }
            },
            "marker": {
             "colorbar": {
              "outlinewidth": 0,
              "ticks": ""
             }
            },
            "type": "scatter3d"
           }
          ],
          "scattercarpet": [
           {
            "marker": {
             "colorbar": {
              "outlinewidth": 0,
              "ticks": ""
             }
            },
            "type": "scattercarpet"
           }
          ],
          "scattergeo": [
           {
            "marker": {
             "colorbar": {
              "outlinewidth": 0,
              "ticks": ""
             }
            },
            "type": "scattergeo"
           }
          ],
          "scattergl": [
           {
            "marker": {
             "colorbar": {
              "outlinewidth": 0,
              "ticks": ""
             }
            },
            "type": "scattergl"
           }
          ],
          "scattermapbox": [
           {
            "marker": {
             "colorbar": {
              "outlinewidth": 0,
              "ticks": ""
             }
            },
            "type": "scattermapbox"
           }
          ],
          "scatterpolar": [
           {
            "marker": {
             "colorbar": {
              "outlinewidth": 0,
              "ticks": ""
             }
            },
            "type": "scatterpolar"
           }
          ],
          "scatterpolargl": [
           {
            "marker": {
             "colorbar": {
              "outlinewidth": 0,
              "ticks": ""
             }
            },
            "type": "scatterpolargl"
           }
          ],
          "scatterternary": [
           {
            "marker": {
             "colorbar": {
              "outlinewidth": 0,
              "ticks": ""
             }
            },
            "type": "scatterternary"
           }
          ],
          "surface": [
           {
            "colorbar": {
             "outlinewidth": 0,
             "ticks": ""
            },
            "colorscale": [
             [
              0,
              "#0d0887"
             ],
             [
              0.1111111111111111,
              "#46039f"
             ],
             [
              0.2222222222222222,
              "#7201a8"
             ],
             [
              0.3333333333333333,
              "#9c179e"
             ],
             [
              0.4444444444444444,
              "#bd3786"
             ],
             [
              0.5555555555555556,
              "#d8576b"
             ],
             [
              0.6666666666666666,
              "#ed7953"
             ],
             [
              0.7777777777777778,
              "#fb9f3a"
             ],
             [
              0.8888888888888888,
              "#fdca26"
             ],
             [
              1,
              "#f0f921"
             ]
            ],
            "type": "surface"
           }
          ],
          "table": [
           {
            "cells": {
             "fill": {
              "color": "#EBF0F8"
             },
             "line": {
              "color": "white"
             }
            },
            "header": {
             "fill": {
              "color": "#C8D4E3"
             },
             "line": {
              "color": "white"
             }
            },
            "type": "table"
           }
          ]
         },
         "layout": {
          "annotationdefaults": {
           "arrowcolor": "#2a3f5f",
           "arrowhead": 0,
           "arrowwidth": 1
          },
          "autotypenumbers": "strict",
          "coloraxis": {
           "colorbar": {
            "outlinewidth": 0,
            "ticks": ""
           }
          },
          "colorscale": {
           "diverging": [
            [
             0,
             "#8e0152"
            ],
            [
             0.1,
             "#c51b7d"
            ],
            [
             0.2,
             "#de77ae"
            ],
            [
             0.3,
             "#f1b6da"
            ],
            [
             0.4,
             "#fde0ef"
            ],
            [
             0.5,
             "#f7f7f7"
            ],
            [
             0.6,
             "#e6f5d0"
            ],
            [
             0.7,
             "#b8e186"
            ],
            [
             0.8,
             "#7fbc41"
            ],
            [
             0.9,
             "#4d9221"
            ],
            [
             1,
             "#276419"
            ]
           ],
           "sequential": [
            [
             0,
             "#0d0887"
            ],
            [
             0.1111111111111111,
             "#46039f"
            ],
            [
             0.2222222222222222,
             "#7201a8"
            ],
            [
             0.3333333333333333,
             "#9c179e"
            ],
            [
             0.4444444444444444,
             "#bd3786"
            ],
            [
             0.5555555555555556,
             "#d8576b"
            ],
            [
             0.6666666666666666,
             "#ed7953"
            ],
            [
             0.7777777777777778,
             "#fb9f3a"
            ],
            [
             0.8888888888888888,
             "#fdca26"
            ],
            [
             1,
             "#f0f921"
            ]
           ],
           "sequentialminus": [
            [
             0,
             "#0d0887"
            ],
            [
             0.1111111111111111,
             "#46039f"
            ],
            [
             0.2222222222222222,
             "#7201a8"
            ],
            [
             0.3333333333333333,
             "#9c179e"
            ],
            [
             0.4444444444444444,
             "#bd3786"
            ],
            [
             0.5555555555555556,
             "#d8576b"
            ],
            [
             0.6666666666666666,
             "#ed7953"
            ],
            [
             0.7777777777777778,
             "#fb9f3a"
            ],
            [
             0.8888888888888888,
             "#fdca26"
            ],
            [
             1,
             "#f0f921"
            ]
           ]
          },
          "colorway": [
           "#636efa",
           "#EF553B",
           "#00cc96",
           "#ab63fa",
           "#FFA15A",
           "#19d3f3",
           "#FF6692",
           "#B6E880",
           "#FF97FF",
           "#FECB52"
          ],
          "font": {
           "color": "#2a3f5f"
          },
          "geo": {
           "bgcolor": "white",
           "lakecolor": "white",
           "landcolor": "#E5ECF6",
           "showlakes": true,
           "showland": true,
           "subunitcolor": "white"
          },
          "hoverlabel": {
           "align": "left"
          },
          "hovermode": "closest",
          "mapbox": {
           "style": "light"
          },
          "paper_bgcolor": "white",
          "plot_bgcolor": "#E5ECF6",
          "polar": {
           "angularaxis": {
            "gridcolor": "white",
            "linecolor": "white",
            "ticks": ""
           },
           "bgcolor": "#E5ECF6",
           "radialaxis": {
            "gridcolor": "white",
            "linecolor": "white",
            "ticks": ""
           }
          },
          "scene": {
           "xaxis": {
            "backgroundcolor": "#E5ECF6",
            "gridcolor": "white",
            "gridwidth": 2,
            "linecolor": "white",
            "showbackground": true,
            "ticks": "",
            "zerolinecolor": "white"
           },
           "yaxis": {
            "backgroundcolor": "#E5ECF6",
            "gridcolor": "white",
            "gridwidth": 2,
            "linecolor": "white",
            "showbackground": true,
            "ticks": "",
            "zerolinecolor": "white"
           },
           "zaxis": {
            "backgroundcolor": "#E5ECF6",
            "gridcolor": "white",
            "gridwidth": 2,
            "linecolor": "white",
            "showbackground": true,
            "ticks": "",
            "zerolinecolor": "white"
           }
          },
          "shapedefaults": {
           "line": {
            "color": "#2a3f5f"
           }
          },
          "ternary": {
           "aaxis": {
            "gridcolor": "white",
            "linecolor": "white",
            "ticks": ""
           },
           "baxis": {
            "gridcolor": "white",
            "linecolor": "white",
            "ticks": ""
           },
           "bgcolor": "#E5ECF6",
           "caxis": {
            "gridcolor": "white",
            "linecolor": "white",
            "ticks": ""
           }
          },
          "title": {
           "x": 0.05
          },
          "xaxis": {
           "automargin": true,
           "gridcolor": "white",
           "linecolor": "white",
           "ticks": "",
           "title": {
            "standoff": 15
           },
           "zerolinecolor": "white",
           "zerolinewidth": 2
          },
          "yaxis": {
           "automargin": true,
           "gridcolor": "white",
           "linecolor": "white",
           "ticks": "",
           "title": {
            "standoff": 15
           },
           "zerolinecolor": "white",
           "zerolinewidth": 2
          }
         }
        },
        "title": {
         "text": "Violin Plot of Error Distances"
        },
        "xaxis": {
         "title": {
          "text": "Checkpoints"
         }
        },
        "yaxis": {
         "range": [
          -1.5,
          7.5
         ]
        }
       }
      },
      "text/html": [
       "<div>                            <div id=\"58bfb1f5-5dd5-4678-a0b0-c6e671f42a20\" class=\"plotly-graph-div\" style=\"height:525px; width:100%;\"></div>            <script type=\"text/javascript\">                require([\"plotly\"], function(Plotly) {                    window.PLOTLYENV=window.PLOTLYENV || {};                                    if (document.getElementById(\"58bfb1f5-5dd5-4678-a0b0-c6e671f42a20\")) {                    Plotly.newPlot(                        \"58bfb1f5-5dd5-4678-a0b0-c6e671f42a20\",                        [{\"box\":{\"visible\":true},\"jitter\":0.05,\"meanline\":{\"visible\":true},\"name\":\"A-1.1\",\"points\":\"all\",\"scalemode\":\"count\",\"type\":\"violin\",\"x\":[\"A-1.1\",\"A-1.1\",\"A-1.1\",\"A-1.1\",\"A-1.1\",\"A-1.1\",\"A-1.1\",\"A-1.1\",\"A-1.1\",\"A-1.1\",\"A-1.1\",\"A-1.1\",\"A-1.1\",\"A-1.1\",\"A-1.1\",\"A-1.1\",\"A-1.1\",\"A-1.1\",\"A-1.1\",\"A-1.1\",\"A-1.1\"],\"y\":[2.834838990382368,2.834838990382368,2.834838990382368,2.834838990382368,2.834838990382368,2.834838990382368,2.834838990382368,2.834838990382368,2.834838990382368,2.834838990382368,2.834838990382368,2.834838990382368,2.834838990382368,2.834838990382368,2.834838990382368,2.834838990382368,2.834838990382368,2.834838990382368,2.834838990382368,2.834838990382368,2.834838990382368]},{\"box\":{\"visible\":true},\"jitter\":0.05,\"meanline\":{\"visible\":true},\"name\":\"A-1.2\",\"points\":\"all\",\"scalemode\":\"count\",\"type\":\"violin\",\"x\":[\"A-1.2\",\"A-1.2\",\"A-1.2\",\"A-1.2\",\"A-1.2\",\"A-1.2\",\"A-1.2\",\"A-1.2\",\"A-1.2\",\"A-1.2\",\"A-1.2\",\"A-1.2\",\"A-1.2\",\"A-1.2\",\"A-1.2\",\"A-1.2\",\"A-1.2\",\"A-1.2\",\"A-1.2\",\"A-1.2\",\"A-1.2\"],\"y\":[2.1403725059072136,2.1403725059072136,2.1403725059072136,2.1403725059072136,2.1403725059072136,2.1403725059072136,2.1403725059072136,2.1403725059072136,2.1403725059072136,2.1403725059072136,2.1403725059072136,2.1403725059072136,2.1403725059072136,2.1403725059072136,2.1403725059072136,2.1403725059072136,2.1403725059072136,2.1403725059072136,2.1403725059072136,2.1403725059072136,2.1403725059072136]},{\"box\":{\"visible\":true},\"jitter\":0.05,\"meanline\":{\"visible\":true},\"name\":\"A-2.1\",\"points\":\"all\",\"scalemode\":\"count\",\"type\":\"violin\",\"x\":[\"A-2.1\",\"A-2.1\",\"A-2.1\",\"A-2.1\",\"A-2.1\",\"A-2.1\",\"A-2.1\",\"A-2.1\",\"A-2.1\",\"A-2.1\",\"A-2.1\",\"A-2.1\",\"A-2.1\",\"A-2.1\",\"A-2.1\",\"A-2.1\",\"A-2.1\",\"A-2.1\",\"A-2.1\",\"A-2.1\",\"A-2.1\"],\"y\":[3.6288466315365637,3.6288466315365637,3.6288466315365637,3.6288466315365637,3.6288466315365637,3.6288466315365637,3.6288466315365637,3.6288466315365637,3.6288466315365637,3.6288466315365637,3.6288466315365637,3.6288466315365637,3.6288466315365637,3.6288466315365637,3.6288466315365637,3.6288466315365637,3.6288466315365637,3.6288466315365637,3.6288466315365637,3.6288466315365637,3.6288466315365637]},{\"box\":{\"visible\":true},\"jitter\":0.05,\"meanline\":{\"visible\":true},\"name\":\"A-2.2\",\"points\":\"all\",\"scalemode\":\"count\",\"type\":\"violin\",\"x\":[\"A-2.2\",\"A-2.2\",\"A-2.2\",\"A-2.2\",\"A-2.2\",\"A-2.2\",\"A-2.2\",\"A-2.2\",\"A-2.2\",\"A-2.2\",\"A-2.2\",\"A-2.2\",\"A-2.2\",\"A-2.2\",\"A-2.2\",\"A-2.2\",\"A-2.2\",\"A-2.2\",\"A-2.2\",\"A-2.2\",\"A-2.2\"],\"y\":[1.6575540861540672,1.6575540861540672,1.6575540861540672,1.6575540861540672,1.6575540861540672,1.6575540861540672,1.6575540861540672,1.6575540861540672,1.6575540861540672,1.6575540861540672,1.6575540861540672,1.6575540861540672,1.6575540861540672,1.6575540861540672,1.6575540861540672,1.6575540861540672,1.6575540861540672,1.6575540861540672,1.6575540861540672,1.6575540861540672,1.6575540861540672]},{\"box\":{\"visible\":true},\"jitter\":0.05,\"meanline\":{\"visible\":true},\"name\":\"A-3.1\",\"points\":\"all\",\"scalemode\":\"count\",\"type\":\"violin\",\"x\":[\"A-3.1\",\"A-3.1\",\"A-3.1\",\"A-3.1\",\"A-3.1\",\"A-3.1\",\"A-3.1\",\"A-3.1\",\"A-3.1\",\"A-3.1\",\"A-3.1\",\"A-3.1\",\"A-3.1\",\"A-3.1\",\"A-3.1\",\"A-3.1\",\"A-3.1\",\"A-3.1\",\"A-3.1\",\"A-3.1\",\"A-3.1\"],\"y\":[2.1779344178652735,2.1779344178652735,2.1779344178652735,2.1779344178652735,2.1779344178652735,2.1779344178652735,2.1779344178652735,2.1779344178652735,2.1779344178652735,2.1779344178652735,2.1779344178652735,2.1779344178652735,2.1779344178652735,2.1779344178652735,2.1779344178652735,2.1779344178652735,2.1779344178652735,2.1779344178652735,2.1779344178652735,2.1779344178652735,2.1779344178652735]},{\"box\":{\"visible\":true},\"jitter\":0.05,\"meanline\":{\"visible\":true},\"name\":\"A-3.2\",\"points\":\"all\",\"scalemode\":\"count\",\"type\":\"violin\",\"x\":[\"A-3.2\",\"A-3.2\",\"A-3.2\",\"A-3.2\",\"A-3.2\",\"A-3.2\",\"A-3.2\",\"A-3.2\",\"A-3.2\",\"A-3.2\",\"A-3.2\",\"A-3.2\",\"A-3.2\",\"A-3.2\",\"A-3.2\",\"A-3.2\",\"A-3.2\",\"A-3.2\",\"A-3.2\",\"A-3.2\",\"A-3.2\"],\"y\":[1.1288406211820998,1.1288406211820998,1.1288406211820998,1.1288406211820998,1.1288406211820998,1.1288406211820998,1.1288406211820998,1.1288406211820998,1.1288406211820998,1.1288406211820998,1.1288406211820998,1.1288406211820998,1.1288406211820998,1.1288406211820998,1.1288406211820998,1.1288406211820998,1.1288406211820998,1.1288406211820998,1.1288406211820998,1.1288406211820998,1.1288406211820998]},{\"box\":{\"visible\":true},\"jitter\":0.05,\"meanline\":{\"visible\":true},\"name\":\"A-4.1\",\"points\":\"all\",\"scalemode\":\"count\",\"type\":\"violin\",\"x\":[\"A-4.1\",\"A-4.1\",\"A-4.1\",\"A-4.1\",\"A-4.1\",\"A-4.1\",\"A-4.1\",\"A-4.1\",\"A-4.1\",\"A-4.1\",\"A-4.1\",\"A-4.1\",\"A-4.1\",\"A-4.1\",\"A-4.1\",\"A-4.1\",\"A-4.1\",\"A-4.1\",\"A-4.1\",\"A-4.1\",\"A-4.1\"],\"y\":[2.476432817479202,2.476432817479202,2.476432817479202,2.476432817479202,2.476432817479202,2.476432817479202,2.476432817479202,2.476432817479202,2.476432817479202,2.476432817479202,2.476432817479202,2.476432817479202,2.476432817479202,2.476432817479202,2.476432817479202,2.476432817479202,2.476432817479202,2.476432817479202,2.476432817479202,2.476432817479202,2.476432817479202]},{\"box\":{\"visible\":true},\"jitter\":0.05,\"meanline\":{\"visible\":true},\"name\":\"A-4.2\",\"points\":\"all\",\"scalemode\":\"count\",\"type\":\"violin\",\"x\":[\"A-4.2\",\"A-4.2\",\"A-4.2\",\"A-4.2\",\"A-4.2\",\"A-4.2\",\"A-4.2\",\"A-4.2\",\"A-4.2\",\"A-4.2\",\"A-4.2\",\"A-4.2\",\"A-4.2\",\"A-4.2\",\"A-4.2\",\"A-4.2\",\"A-4.2\",\"A-4.2\",\"A-4.2\",\"A-4.2\",\"A-4.2\"],\"y\":[4.284437974685646,4.284437974685646,4.284437974685646,4.284437974685646,4.284437974685646,4.284437974685646,4.284437974685646,4.284437974685646,4.284437974685646,4.284437974685646,4.284437974685646,4.284437974685646,4.284437974685646,4.284437974685646,4.284437974685646,4.284437974685646,4.284437974685646,4.284437974685646,4.284437974685646,4.284437974685646,4.284437974685646]},{\"box\":{\"visible\":true},\"jitter\":0.05,\"meanline\":{\"visible\":true},\"name\":\"A-5.1\",\"points\":\"all\",\"scalemode\":\"count\",\"type\":\"violin\",\"x\":[\"A-5.1\",\"A-5.1\",\"A-5.1\",\"A-5.1\",\"A-5.1\",\"A-5.1\",\"A-5.1\",\"A-5.1\",\"A-5.1\",\"A-5.1\",\"A-5.1\",\"A-5.1\",\"A-5.1\",\"A-5.1\",\"A-5.1\",\"A-5.1\",\"A-5.1\",\"A-5.1\",\"A-5.1\",\"A-5.1\",\"A-5.1\"],\"y\":[4.244675055449898,4.244675055449898,4.244675055449898,4.244675055449898,4.244675055449898,4.244675055449898,4.244675055449898,4.244675055449898,4.244675055449898,4.244675055449898,4.244675055449898,4.244675055449898,4.244675055449898,4.244675055449898,4.244675055449898,4.244675055449898,4.244675055449898,4.244675055449898,4.244675055449898,4.244675055449898,4.244675055449898]},{\"box\":{\"visible\":true},\"jitter\":0.05,\"meanline\":{\"visible\":true},\"name\":\"A-5.2\",\"points\":\"all\",\"scalemode\":\"count\",\"type\":\"violin\",\"x\":[\"A-5.2\",\"A-5.2\",\"A-5.2\",\"A-5.2\",\"A-5.2\",\"A-5.2\",\"A-5.2\",\"A-5.2\",\"A-5.2\",\"A-5.2\",\"A-5.2\",\"A-5.2\",\"A-5.2\",\"A-5.2\",\"A-5.2\",\"A-5.2\",\"A-5.2\",\"A-5.2\",\"A-5.2\",\"A-5.2\",\"A-5.2\"],\"y\":[6.045059615668613,6.045059615668613,6.045059615668613,6.045059615668613,6.045059615668613,6.045059615668613,6.045059615668613,6.045059615668613,6.045059615668613,6.045059615668613,6.045059615668613,6.045059615668613,6.045059615668613,6.045059615668613,6.045059615668613,6.045059615668613,6.045059615668613,6.045059615668613,6.045059615668613,6.045059615668613,6.045059615668613]}],                        {\"barmode\":\"group\",\"legend\":{\"orientation\":\"v\",\"title\":{\"text\":\"No Filter\"},\"xanchor\":\"left\"},\"template\":{\"data\":{\"bar\":[{\"error_x\":{\"color\":\"#2a3f5f\"},\"error_y\":{\"color\":\"#2a3f5f\"},\"marker\":{\"line\":{\"color\":\"#E5ECF6\",\"width\":0.5},\"pattern\":{\"fillmode\":\"overlay\",\"size\":10,\"solidity\":0.2}},\"type\":\"bar\"}],\"barpolar\":[{\"marker\":{\"line\":{\"color\":\"#E5ECF6\",\"width\":0.5},\"pattern\":{\"fillmode\":\"overlay\",\"size\":10,\"solidity\":0.2}},\"type\":\"barpolar\"}],\"carpet\":[{\"aaxis\":{\"endlinecolor\":\"#2a3f5f\",\"gridcolor\":\"white\",\"linecolor\":\"white\",\"minorgridcolor\":\"white\",\"startlinecolor\":\"#2a3f5f\"},\"baxis\":{\"endlinecolor\":\"#2a3f5f\",\"gridcolor\":\"white\",\"linecolor\":\"white\",\"minorgridcolor\":\"white\",\"startlinecolor\":\"#2a3f5f\"},\"type\":\"carpet\"}],\"choropleth\":[{\"colorbar\":{\"outlinewidth\":0,\"ticks\":\"\"},\"type\":\"choropleth\"}],\"contour\":[{\"colorbar\":{\"outlinewidth\":0,\"ticks\":\"\"},\"colorscale\":[[0.0,\"#0d0887\"],[0.1111111111111111,\"#46039f\"],[0.2222222222222222,\"#7201a8\"],[0.3333333333333333,\"#9c179e\"],[0.4444444444444444,\"#bd3786\"],[0.5555555555555556,\"#d8576b\"],[0.6666666666666666,\"#ed7953\"],[0.7777777777777778,\"#fb9f3a\"],[0.8888888888888888,\"#fdca26\"],[1.0,\"#f0f921\"]],\"type\":\"contour\"}],\"contourcarpet\":[{\"colorbar\":{\"outlinewidth\":0,\"ticks\":\"\"},\"type\":\"contourcarpet\"}],\"heatmap\":[{\"colorbar\":{\"outlinewidth\":0,\"ticks\":\"\"},\"colorscale\":[[0.0,\"#0d0887\"],[0.1111111111111111,\"#46039f\"],[0.2222222222222222,\"#7201a8\"],[0.3333333333333333,\"#9c179e\"],[0.4444444444444444,\"#bd3786\"],[0.5555555555555556,\"#d8576b\"],[0.6666666666666666,\"#ed7953\"],[0.7777777777777778,\"#fb9f3a\"],[0.8888888888888888,\"#fdca26\"],[1.0,\"#f0f921\"]],\"type\":\"heatmap\"}],\"heatmapgl\":[{\"colorbar\":{\"outlinewidth\":0,\"ticks\":\"\"},\"colorscale\":[[0.0,\"#0d0887\"],[0.1111111111111111,\"#46039f\"],[0.2222222222222222,\"#7201a8\"],[0.3333333333333333,\"#9c179e\"],[0.4444444444444444,\"#bd3786\"],[0.5555555555555556,\"#d8576b\"],[0.6666666666666666,\"#ed7953\"],[0.7777777777777778,\"#fb9f3a\"],[0.8888888888888888,\"#fdca26\"],[1.0,\"#f0f921\"]],\"type\":\"heatmapgl\"}],\"histogram\":[{\"marker\":{\"pattern\":{\"fillmode\":\"overlay\",\"size\":10,\"solidity\":0.2}},\"type\":\"histogram\"}],\"histogram2d\":[{\"colorbar\":{\"outlinewidth\":0,\"ticks\":\"\"},\"colorscale\":[[0.0,\"#0d0887\"],[0.1111111111111111,\"#46039f\"],[0.2222222222222222,\"#7201a8\"],[0.3333333333333333,\"#9c179e\"],[0.4444444444444444,\"#bd3786\"],[0.5555555555555556,\"#d8576b\"],[0.6666666666666666,\"#ed7953\"],[0.7777777777777778,\"#fb9f3a\"],[0.8888888888888888,\"#fdca26\"],[1.0,\"#f0f921\"]],\"type\":\"histogram2d\"}],\"histogram2dcontour\":[{\"colorbar\":{\"outlinewidth\":0,\"ticks\":\"\"},\"colorscale\":[[0.0,\"#0d0887\"],[0.1111111111111111,\"#46039f\"],[0.2222222222222222,\"#7201a8\"],[0.3333333333333333,\"#9c179e\"],[0.4444444444444444,\"#bd3786\"],[0.5555555555555556,\"#d8576b\"],[0.6666666666666666,\"#ed7953\"],[0.7777777777777778,\"#fb9f3a\"],[0.8888888888888888,\"#fdca26\"],[1.0,\"#f0f921\"]],\"type\":\"histogram2dcontour\"}],\"mesh3d\":[{\"colorbar\":{\"outlinewidth\":0,\"ticks\":\"\"},\"type\":\"mesh3d\"}],\"parcoords\":[{\"line\":{\"colorbar\":{\"outlinewidth\":0,\"ticks\":\"\"}},\"type\":\"parcoords\"}],\"pie\":[{\"automargin\":true,\"type\":\"pie\"}],\"scatter\":[{\"marker\":{\"colorbar\":{\"outlinewidth\":0,\"ticks\":\"\"}},\"type\":\"scatter\"}],\"scatter3d\":[{\"line\":{\"colorbar\":{\"outlinewidth\":0,\"ticks\":\"\"}},\"marker\":{\"colorbar\":{\"outlinewidth\":0,\"ticks\":\"\"}},\"type\":\"scatter3d\"}],\"scattercarpet\":[{\"marker\":{\"colorbar\":{\"outlinewidth\":0,\"ticks\":\"\"}},\"type\":\"scattercarpet\"}],\"scattergeo\":[{\"marker\":{\"colorbar\":{\"outlinewidth\":0,\"ticks\":\"\"}},\"type\":\"scattergeo\"}],\"scattergl\":[{\"marker\":{\"colorbar\":{\"outlinewidth\":0,\"ticks\":\"\"}},\"type\":\"scattergl\"}],\"scattermapbox\":[{\"marker\":{\"colorbar\":{\"outlinewidth\":0,\"ticks\":\"\"}},\"type\":\"scattermapbox\"}],\"scatterpolar\":[{\"marker\":{\"colorbar\":{\"outlinewidth\":0,\"ticks\":\"\"}},\"type\":\"scatterpolar\"}],\"scatterpolargl\":[{\"marker\":{\"colorbar\":{\"outlinewidth\":0,\"ticks\":\"\"}},\"type\":\"scatterpolargl\"}],\"scatterternary\":[{\"marker\":{\"colorbar\":{\"outlinewidth\":0,\"ticks\":\"\"}},\"type\":\"scatterternary\"}],\"surface\":[{\"colorbar\":{\"outlinewidth\":0,\"ticks\":\"\"},\"colorscale\":[[0.0,\"#0d0887\"],[0.1111111111111111,\"#46039f\"],[0.2222222222222222,\"#7201a8\"],[0.3333333333333333,\"#9c179e\"],[0.4444444444444444,\"#bd3786\"],[0.5555555555555556,\"#d8576b\"],[0.6666666666666666,\"#ed7953\"],[0.7777777777777778,\"#fb9f3a\"],[0.8888888888888888,\"#fdca26\"],[1.0,\"#f0f921\"]],\"type\":\"surface\"}],\"table\":[{\"cells\":{\"fill\":{\"color\":\"#EBF0F8\"},\"line\":{\"color\":\"white\"}},\"header\":{\"fill\":{\"color\":\"#C8D4E3\"},\"line\":{\"color\":\"white\"}},\"type\":\"table\"}]},\"layout\":{\"annotationdefaults\":{\"arrowcolor\":\"#2a3f5f\",\"arrowhead\":0,\"arrowwidth\":1},\"autotypenumbers\":\"strict\",\"coloraxis\":{\"colorbar\":{\"outlinewidth\":0,\"ticks\":\"\"}},\"colorscale\":{\"diverging\":[[0,\"#8e0152\"],[0.1,\"#c51b7d\"],[0.2,\"#de77ae\"],[0.3,\"#f1b6da\"],[0.4,\"#fde0ef\"],[0.5,\"#f7f7f7\"],[0.6,\"#e6f5d0\"],[0.7,\"#b8e186\"],[0.8,\"#7fbc41\"],[0.9,\"#4d9221\"],[1,\"#276419\"]],\"sequential\":[[0.0,\"#0d0887\"],[0.1111111111111111,\"#46039f\"],[0.2222222222222222,\"#7201a8\"],[0.3333333333333333,\"#9c179e\"],[0.4444444444444444,\"#bd3786\"],[0.5555555555555556,\"#d8576b\"],[0.6666666666666666,\"#ed7953\"],[0.7777777777777778,\"#fb9f3a\"],[0.8888888888888888,\"#fdca26\"],[1.0,\"#f0f921\"]],\"sequentialminus\":[[0.0,\"#0d0887\"],[0.1111111111111111,\"#46039f\"],[0.2222222222222222,\"#7201a8\"],[0.3333333333333333,\"#9c179e\"],[0.4444444444444444,\"#bd3786\"],[0.5555555555555556,\"#d8576b\"],[0.6666666666666666,\"#ed7953\"],[0.7777777777777778,\"#fb9f3a\"],[0.8888888888888888,\"#fdca26\"],[1.0,\"#f0f921\"]]},\"colorway\":[\"#636efa\",\"#EF553B\",\"#00cc96\",\"#ab63fa\",\"#FFA15A\",\"#19d3f3\",\"#FF6692\",\"#B6E880\",\"#FF97FF\",\"#FECB52\"],\"font\":{\"color\":\"#2a3f5f\"},\"geo\":{\"bgcolor\":\"white\",\"lakecolor\":\"white\",\"landcolor\":\"#E5ECF6\",\"showlakes\":true,\"showland\":true,\"subunitcolor\":\"white\"},\"hoverlabel\":{\"align\":\"left\"},\"hovermode\":\"closest\",\"mapbox\":{\"style\":\"light\"},\"paper_bgcolor\":\"white\",\"plot_bgcolor\":\"#E5ECF6\",\"polar\":{\"angularaxis\":{\"gridcolor\":\"white\",\"linecolor\":\"white\",\"ticks\":\"\"},\"bgcolor\":\"#E5ECF6\",\"radialaxis\":{\"gridcolor\":\"white\",\"linecolor\":\"white\",\"ticks\":\"\"}},\"scene\":{\"xaxis\":{\"backgroundcolor\":\"#E5ECF6\",\"gridcolor\":\"white\",\"gridwidth\":2,\"linecolor\":\"white\",\"showbackground\":true,\"ticks\":\"\",\"zerolinecolor\":\"white\"},\"yaxis\":{\"backgroundcolor\":\"#E5ECF6\",\"gridcolor\":\"white\",\"gridwidth\":2,\"linecolor\":\"white\",\"showbackground\":true,\"ticks\":\"\",\"zerolinecolor\":\"white\"},\"zaxis\":{\"backgroundcolor\":\"#E5ECF6\",\"gridcolor\":\"white\",\"gridwidth\":2,\"linecolor\":\"white\",\"showbackground\":true,\"ticks\":\"\",\"zerolinecolor\":\"white\"}},\"shapedefaults\":{\"line\":{\"color\":\"#2a3f5f\"}},\"ternary\":{\"aaxis\":{\"gridcolor\":\"white\",\"linecolor\":\"white\",\"ticks\":\"\"},\"baxis\":{\"gridcolor\":\"white\",\"linecolor\":\"white\",\"ticks\":\"\"},\"bgcolor\":\"#E5ECF6\",\"caxis\":{\"gridcolor\":\"white\",\"linecolor\":\"white\",\"ticks\":\"\"}},\"title\":{\"x\":0.05},\"xaxis\":{\"automargin\":true,\"gridcolor\":\"white\",\"linecolor\":\"white\",\"ticks\":\"\",\"title\":{\"standoff\":15},\"zerolinecolor\":\"white\",\"zerolinewidth\":2},\"yaxis\":{\"automargin\":true,\"gridcolor\":\"white\",\"linecolor\":\"white\",\"ticks\":\"\",\"title\":{\"standoff\":15},\"zerolinecolor\":\"white\",\"zerolinewidth\":2}}},\"title\":{\"text\":\"Violin Plot of Error Distances\"},\"xaxis\":{\"title\":{\"text\":\"Checkpoints\"}},\"yaxis\":{\"range\":[-1.5,7.5]}},                        {\"responsive\": true}                    ).then(function(){\n",
       "                            \n",
       "var gd = document.getElementById('58bfb1f5-5dd5-4678-a0b0-c6e671f42a20');\n",
       "var x = new MutationObserver(function (mutations, observer) {{\n",
       "        var display = window.getComputedStyle(gd).display;\n",
       "        if (!display || display === 'none') {{\n",
       "            console.log([gd, 'removed!']);\n",
       "            Plotly.purge(gd);\n",
       "            observer.disconnect();\n",
       "        }}\n",
       "}});\n",
       "\n",
       "// Listen for the removal of the full notebook cells\n",
       "var notebookContainer = gd.closest('#notebook-container');\n",
       "if (notebookContainer) {{\n",
       "    x.observe(notebookContainer, {childList: true});\n",
       "}}\n",
       "\n",
       "// Listen for the clearing of the current output cell\n",
       "var outputEl = gd.closest('.output');\n",
       "if (outputEl) {{\n",
       "    x.observe(outputEl, {childList: true});\n",
       "}}\n",
       "\n",
       "                        })                };                });            </script>        </div>"
      ]
     },
     "metadata": {},
     "output_type": "display_data"
    },
    {
     "data": {
      "application/vnd.plotly.v1+json": {
       "config": {
        "plotlyServerURL": "https://plot.ly"
       },
       "data": [
        {
         "mode": "lines+markers",
         "name": "A-1.1",
         "type": "scatter",
         "x": [
          7,
          8,
          9,
          10,
          11,
          12,
          13,
          14,
          15,
          16,
          17,
          18,
          19,
          20,
          21,
          22,
          23,
          24,
          25,
          26,
          27
         ],
         "y": [
          2.834838990382368,
          2.834838990382368,
          2.834838990382368,
          2.834838990382368,
          2.834838990382368,
          2.834838990382368,
          2.834838990382368,
          2.834838990382368,
          2.834838990382368,
          2.834838990382368,
          2.834838990382368,
          2.834838990382368,
          2.834838990382368,
          2.834838990382368,
          2.834838990382368,
          2.834838990382368,
          2.834838990382368,
          2.834838990382368,
          2.834838990382368,
          2.834838990382368,
          2.834838990382368
         ]
        },
        {
         "mode": "lines+markers",
         "name": "A-1.2",
         "type": "scatter",
         "x": [
          35,
          36,
          37,
          38,
          39,
          40,
          41,
          42,
          43,
          44,
          45,
          46,
          47,
          48,
          49,
          50,
          51,
          52,
          53,
          54,
          55
         ],
         "y": [
          2.1403725059072136,
          2.1403725059072136,
          2.1403725059072136,
          2.1403725059072136,
          2.1403725059072136,
          2.1403725059072136,
          2.1403725059072136,
          2.1403725059072136,
          2.1403725059072136,
          2.1403725059072136,
          2.1403725059072136,
          2.1403725059072136,
          2.1403725059072136,
          2.1403725059072136,
          2.1403725059072136,
          2.1403725059072136,
          2.1403725059072136,
          2.1403725059072136,
          2.1403725059072136,
          2.1403725059072136,
          2.1403725059072136
         ]
        },
        {
         "mode": "lines+markers",
         "name": "A-2.1",
         "type": "scatter",
         "x": [
          67,
          68,
          69,
          70,
          71,
          72,
          73,
          74,
          75,
          76,
          77,
          78,
          79,
          80,
          81,
          82,
          83,
          84,
          85,
          86,
          87
         ],
         "y": [
          3.6288466315365637,
          3.6288466315365637,
          3.6288466315365637,
          3.6288466315365637,
          3.6288466315365637,
          3.6288466315365637,
          3.6288466315365637,
          3.6288466315365637,
          3.6288466315365637,
          3.6288466315365637,
          3.6288466315365637,
          3.6288466315365637,
          3.6288466315365637,
          3.6288466315365637,
          3.6288466315365637,
          3.6288466315365637,
          3.6288466315365637,
          3.6288466315365637,
          3.6288466315365637,
          3.6288466315365637,
          3.6288466315365637
         ]
        },
        {
         "mode": "lines+markers",
         "name": "A-2.2",
         "type": "scatter",
         "x": [
          98,
          99,
          100,
          101,
          102,
          103,
          104,
          105,
          106,
          107,
          108,
          109,
          110,
          111,
          112,
          113,
          114,
          115,
          116,
          117,
          118
         ],
         "y": [
          1.6575540861540672,
          1.6575540861540672,
          1.6575540861540672,
          1.6575540861540672,
          1.6575540861540672,
          1.6575540861540672,
          1.6575540861540672,
          1.6575540861540672,
          1.6575540861540672,
          1.6575540861540672,
          1.6575540861540672,
          1.6575540861540672,
          1.6575540861540672,
          1.6575540861540672,
          1.6575540861540672,
          1.6575540861540672,
          1.6575540861540672,
          1.6575540861540672,
          1.6575540861540672,
          1.6575540861540672,
          1.6575540861540672
         ]
        },
        {
         "mode": "lines+markers",
         "name": "A-3.1",
         "type": "scatter",
         "x": [
          136,
          137,
          138,
          139,
          140,
          141,
          142,
          143,
          144,
          145,
          146,
          147,
          148,
          149,
          150,
          151,
          152,
          153,
          154,
          155,
          156
         ],
         "y": [
          2.1779344178652735,
          2.1779344178652735,
          2.1779344178652735,
          2.1779344178652735,
          2.1779344178652735,
          2.1779344178652735,
          2.1779344178652735,
          2.1779344178652735,
          2.1779344178652735,
          2.1779344178652735,
          2.1779344178652735,
          2.1779344178652735,
          2.1779344178652735,
          2.1779344178652735,
          2.1779344178652735,
          2.1779344178652735,
          2.1779344178652735,
          2.1779344178652735,
          2.1779344178652735,
          2.1779344178652735,
          2.1779344178652735
         ]
        },
        {
         "mode": "lines+markers",
         "name": "A-3.2",
         "type": "scatter",
         "x": [
          164,
          165,
          166,
          167,
          168,
          169,
          170,
          171,
          172,
          173,
          174,
          175,
          176,
          177,
          178,
          179,
          180,
          181,
          182,
          183,
          184
         ],
         "y": [
          1.1288406211820998,
          1.1288406211820998,
          1.1288406211820998,
          1.1288406211820998,
          1.1288406211820998,
          1.1288406211820998,
          1.1288406211820998,
          1.1288406211820998,
          1.1288406211820998,
          1.1288406211820998,
          1.1288406211820998,
          1.1288406211820998,
          1.1288406211820998,
          1.1288406211820998,
          1.1288406211820998,
          1.1288406211820998,
          1.1288406211820998,
          1.1288406211820998,
          1.1288406211820998,
          1.1288406211820998,
          1.1288406211820998
         ]
        },
        {
         "mode": "lines+markers",
         "name": "A-4.1",
         "type": "scatter",
         "x": [
          193,
          194,
          195,
          196,
          197,
          198,
          199,
          200,
          201,
          202,
          203,
          204,
          205,
          206,
          207,
          208,
          209,
          210,
          211,
          212,
          213
         ],
         "y": [
          2.476432817479202,
          2.476432817479202,
          2.476432817479202,
          2.476432817479202,
          2.476432817479202,
          2.476432817479202,
          2.476432817479202,
          2.476432817479202,
          2.476432817479202,
          2.476432817479202,
          2.476432817479202,
          2.476432817479202,
          2.476432817479202,
          2.476432817479202,
          2.476432817479202,
          2.476432817479202,
          2.476432817479202,
          2.476432817479202,
          2.476432817479202,
          2.476432817479202,
          2.476432817479202
         ]
        },
        {
         "mode": "lines+markers",
         "name": "A-4.2",
         "type": "scatter",
         "x": [
          220,
          221,
          222,
          223,
          224,
          225,
          226,
          227,
          228,
          229,
          230,
          231,
          232,
          233,
          234,
          235,
          236,
          237,
          238,
          239,
          240
         ],
         "y": [
          4.284437974685646,
          4.284437974685646,
          4.284437974685646,
          4.284437974685646,
          4.284437974685646,
          4.284437974685646,
          4.284437974685646,
          4.284437974685646,
          4.284437974685646,
          4.284437974685646,
          4.284437974685646,
          4.284437974685646,
          4.284437974685646,
          4.284437974685646,
          4.284437974685646,
          4.284437974685646,
          4.284437974685646,
          4.284437974685646,
          4.284437974685646,
          4.284437974685646,
          4.284437974685646
         ]
        },
        {
         "mode": "lines+markers",
         "name": "A-5.1",
         "type": "scatter",
         "x": [
          248,
          249,
          250,
          251,
          252,
          253,
          254,
          255,
          256,
          257,
          258,
          259,
          260,
          261,
          262,
          263,
          264,
          265,
          266,
          267,
          268
         ],
         "y": [
          4.244675055449898,
          4.244675055449898,
          4.244675055449898,
          4.244675055449898,
          4.244675055449898,
          4.244675055449898,
          4.244675055449898,
          4.244675055449898,
          4.244675055449898,
          4.244675055449898,
          4.244675055449898,
          4.244675055449898,
          4.244675055449898,
          4.244675055449898,
          4.244675055449898,
          4.244675055449898,
          4.244675055449898,
          4.244675055449898,
          4.244675055449898,
          4.244675055449898,
          4.244675055449898
         ]
        },
        {
         "mode": "lines+markers",
         "name": "A-5.2",
         "type": "scatter",
         "x": [
          278,
          279,
          280,
          281,
          282,
          283,
          284,
          285,
          286,
          287,
          288,
          289,
          290,
          291,
          292,
          293,
          294,
          295,
          296,
          297,
          298
         ],
         "y": [
          6.045059615668613,
          6.045059615668613,
          6.045059615668613,
          6.045059615668613,
          6.045059615668613,
          6.045059615668613,
          6.045059615668613,
          6.045059615668613,
          6.045059615668613,
          6.045059615668613,
          6.045059615668613,
          6.045059615668613,
          6.045059615668613,
          6.045059615668613,
          6.045059615668613,
          6.045059615668613,
          6.045059615668613,
          6.045059615668613,
          6.045059615668613,
          6.045059615668613,
          6.045059615668613
         ]
        }
       ],
       "layout": {
        "legend": {
         "title": {
          "text": "No Filter"
         }
        },
        "template": {
         "data": {
          "bar": [
           {
            "error_x": {
             "color": "#2a3f5f"
            },
            "error_y": {
             "color": "#2a3f5f"
            },
            "marker": {
             "line": {
              "color": "#E5ECF6",
              "width": 0.5
             },
             "pattern": {
              "fillmode": "overlay",
              "size": 10,
              "solidity": 0.2
             }
            },
            "type": "bar"
           }
          ],
          "barpolar": [
           {
            "marker": {
             "line": {
              "color": "#E5ECF6",
              "width": 0.5
             },
             "pattern": {
              "fillmode": "overlay",
              "size": 10,
              "solidity": 0.2
             }
            },
            "type": "barpolar"
           }
          ],
          "carpet": [
           {
            "aaxis": {
             "endlinecolor": "#2a3f5f",
             "gridcolor": "white",
             "linecolor": "white",
             "minorgridcolor": "white",
             "startlinecolor": "#2a3f5f"
            },
            "baxis": {
             "endlinecolor": "#2a3f5f",
             "gridcolor": "white",
             "linecolor": "white",
             "minorgridcolor": "white",
             "startlinecolor": "#2a3f5f"
            },
            "type": "carpet"
           }
          ],
          "choropleth": [
           {
            "colorbar": {
             "outlinewidth": 0,
             "ticks": ""
            },
            "type": "choropleth"
           }
          ],
          "contour": [
           {
            "colorbar": {
             "outlinewidth": 0,
             "ticks": ""
            },
            "colorscale": [
             [
              0,
              "#0d0887"
             ],
             [
              0.1111111111111111,
              "#46039f"
             ],
             [
              0.2222222222222222,
              "#7201a8"
             ],
             [
              0.3333333333333333,
              "#9c179e"
             ],
             [
              0.4444444444444444,
              "#bd3786"
             ],
             [
              0.5555555555555556,
              "#d8576b"
             ],
             [
              0.6666666666666666,
              "#ed7953"
             ],
             [
              0.7777777777777778,
              "#fb9f3a"
             ],
             [
              0.8888888888888888,
              "#fdca26"
             ],
             [
              1,
              "#f0f921"
             ]
            ],
            "type": "contour"
           }
          ],
          "contourcarpet": [
           {
            "colorbar": {
             "outlinewidth": 0,
             "ticks": ""
            },
            "type": "contourcarpet"
           }
          ],
          "heatmap": [
           {
            "colorbar": {
             "outlinewidth": 0,
             "ticks": ""
            },
            "colorscale": [
             [
              0,
              "#0d0887"
             ],
             [
              0.1111111111111111,
              "#46039f"
             ],
             [
              0.2222222222222222,
              "#7201a8"
             ],
             [
              0.3333333333333333,
              "#9c179e"
             ],
             [
              0.4444444444444444,
              "#bd3786"
             ],
             [
              0.5555555555555556,
              "#d8576b"
             ],
             [
              0.6666666666666666,
              "#ed7953"
             ],
             [
              0.7777777777777778,
              "#fb9f3a"
             ],
             [
              0.8888888888888888,
              "#fdca26"
             ],
             [
              1,
              "#f0f921"
             ]
            ],
            "type": "heatmap"
           }
          ],
          "heatmapgl": [
           {
            "colorbar": {
             "outlinewidth": 0,
             "ticks": ""
            },
            "colorscale": [
             [
              0,
              "#0d0887"
             ],
             [
              0.1111111111111111,
              "#46039f"
             ],
             [
              0.2222222222222222,
              "#7201a8"
             ],
             [
              0.3333333333333333,
              "#9c179e"
             ],
             [
              0.4444444444444444,
              "#bd3786"
             ],
             [
              0.5555555555555556,
              "#d8576b"
             ],
             [
              0.6666666666666666,
              "#ed7953"
             ],
             [
              0.7777777777777778,
              "#fb9f3a"
             ],
             [
              0.8888888888888888,
              "#fdca26"
             ],
             [
              1,
              "#f0f921"
             ]
            ],
            "type": "heatmapgl"
           }
          ],
          "histogram": [
           {
            "marker": {
             "pattern": {
              "fillmode": "overlay",
              "size": 10,
              "solidity": 0.2
             }
            },
            "type": "histogram"
           }
          ],
          "histogram2d": [
           {
            "colorbar": {
             "outlinewidth": 0,
             "ticks": ""
            },
            "colorscale": [
             [
              0,
              "#0d0887"
             ],
             [
              0.1111111111111111,
              "#46039f"
             ],
             [
              0.2222222222222222,
              "#7201a8"
             ],
             [
              0.3333333333333333,
              "#9c179e"
             ],
             [
              0.4444444444444444,
              "#bd3786"
             ],
             [
              0.5555555555555556,
              "#d8576b"
             ],
             [
              0.6666666666666666,
              "#ed7953"
             ],
             [
              0.7777777777777778,
              "#fb9f3a"
             ],
             [
              0.8888888888888888,
              "#fdca26"
             ],
             [
              1,
              "#f0f921"
             ]
            ],
            "type": "histogram2d"
           }
          ],
          "histogram2dcontour": [
           {
            "colorbar": {
             "outlinewidth": 0,
             "ticks": ""
            },
            "colorscale": [
             [
              0,
              "#0d0887"
             ],
             [
              0.1111111111111111,
              "#46039f"
             ],
             [
              0.2222222222222222,
              "#7201a8"
             ],
             [
              0.3333333333333333,
              "#9c179e"
             ],
             [
              0.4444444444444444,
              "#bd3786"
             ],
             [
              0.5555555555555556,
              "#d8576b"
             ],
             [
              0.6666666666666666,
              "#ed7953"
             ],
             [
              0.7777777777777778,
              "#fb9f3a"
             ],
             [
              0.8888888888888888,
              "#fdca26"
             ],
             [
              1,
              "#f0f921"
             ]
            ],
            "type": "histogram2dcontour"
           }
          ],
          "mesh3d": [
           {
            "colorbar": {
             "outlinewidth": 0,
             "ticks": ""
            },
            "type": "mesh3d"
           }
          ],
          "parcoords": [
           {
            "line": {
             "colorbar": {
              "outlinewidth": 0,
              "ticks": ""
             }
            },
            "type": "parcoords"
           }
          ],
          "pie": [
           {
            "automargin": true,
            "type": "pie"
           }
          ],
          "scatter": [
           {
            "marker": {
             "colorbar": {
              "outlinewidth": 0,
              "ticks": ""
             }
            },
            "type": "scatter"
           }
          ],
          "scatter3d": [
           {
            "line": {
             "colorbar": {
              "outlinewidth": 0,
              "ticks": ""
             }
            },
            "marker": {
             "colorbar": {
              "outlinewidth": 0,
              "ticks": ""
             }
            },
            "type": "scatter3d"
           }
          ],
          "scattercarpet": [
           {
            "marker": {
             "colorbar": {
              "outlinewidth": 0,
              "ticks": ""
             }
            },
            "type": "scattercarpet"
           }
          ],
          "scattergeo": [
           {
            "marker": {
             "colorbar": {
              "outlinewidth": 0,
              "ticks": ""
             }
            },
            "type": "scattergeo"
           }
          ],
          "scattergl": [
           {
            "marker": {
             "colorbar": {
              "outlinewidth": 0,
              "ticks": ""
             }
            },
            "type": "scattergl"
           }
          ],
          "scattermapbox": [
           {
            "marker": {
             "colorbar": {
              "outlinewidth": 0,
              "ticks": ""
             }
            },
            "type": "scattermapbox"
           }
          ],
          "scatterpolar": [
           {
            "marker": {
             "colorbar": {
              "outlinewidth": 0,
              "ticks": ""
             }
            },
            "type": "scatterpolar"
           }
          ],
          "scatterpolargl": [
           {
            "marker": {
             "colorbar": {
              "outlinewidth": 0,
              "ticks": ""
             }
            },
            "type": "scatterpolargl"
           }
          ],
          "scatterternary": [
           {
            "marker": {
             "colorbar": {
              "outlinewidth": 0,
              "ticks": ""
             }
            },
            "type": "scatterternary"
           }
          ],
          "surface": [
           {
            "colorbar": {
             "outlinewidth": 0,
             "ticks": ""
            },
            "colorscale": [
             [
              0,
              "#0d0887"
             ],
             [
              0.1111111111111111,
              "#46039f"
             ],
             [
              0.2222222222222222,
              "#7201a8"
             ],
             [
              0.3333333333333333,
              "#9c179e"
             ],
             [
              0.4444444444444444,
              "#bd3786"
             ],
             [
              0.5555555555555556,
              "#d8576b"
             ],
             [
              0.6666666666666666,
              "#ed7953"
             ],
             [
              0.7777777777777778,
              "#fb9f3a"
             ],
             [
              0.8888888888888888,
              "#fdca26"
             ],
             [
              1,
              "#f0f921"
             ]
            ],
            "type": "surface"
           }
          ],
          "table": [
           {
            "cells": {
             "fill": {
              "color": "#EBF0F8"
             },
             "line": {
              "color": "white"
             }
            },
            "header": {
             "fill": {
              "color": "#C8D4E3"
             },
             "line": {
              "color": "white"
             }
            },
            "type": "table"
           }
          ]
         },
         "layout": {
          "annotationdefaults": {
           "arrowcolor": "#2a3f5f",
           "arrowhead": 0,
           "arrowwidth": 1
          },
          "autotypenumbers": "strict",
          "coloraxis": {
           "colorbar": {
            "outlinewidth": 0,
            "ticks": ""
           }
          },
          "colorscale": {
           "diverging": [
            [
             0,
             "#8e0152"
            ],
            [
             0.1,
             "#c51b7d"
            ],
            [
             0.2,
             "#de77ae"
            ],
            [
             0.3,
             "#f1b6da"
            ],
            [
             0.4,
             "#fde0ef"
            ],
            [
             0.5,
             "#f7f7f7"
            ],
            [
             0.6,
             "#e6f5d0"
            ],
            [
             0.7,
             "#b8e186"
            ],
            [
             0.8,
             "#7fbc41"
            ],
            [
             0.9,
             "#4d9221"
            ],
            [
             1,
             "#276419"
            ]
           ],
           "sequential": [
            [
             0,
             "#0d0887"
            ],
            [
             0.1111111111111111,
             "#46039f"
            ],
            [
             0.2222222222222222,
             "#7201a8"
            ],
            [
             0.3333333333333333,
             "#9c179e"
            ],
            [
             0.4444444444444444,
             "#bd3786"
            ],
            [
             0.5555555555555556,
             "#d8576b"
            ],
            [
             0.6666666666666666,
             "#ed7953"
            ],
            [
             0.7777777777777778,
             "#fb9f3a"
            ],
            [
             0.8888888888888888,
             "#fdca26"
            ],
            [
             1,
             "#f0f921"
            ]
           ],
           "sequentialminus": [
            [
             0,
             "#0d0887"
            ],
            [
             0.1111111111111111,
             "#46039f"
            ],
            [
             0.2222222222222222,
             "#7201a8"
            ],
            [
             0.3333333333333333,
             "#9c179e"
            ],
            [
             0.4444444444444444,
             "#bd3786"
            ],
            [
             0.5555555555555556,
             "#d8576b"
            ],
            [
             0.6666666666666666,
             "#ed7953"
            ],
            [
             0.7777777777777778,
             "#fb9f3a"
            ],
            [
             0.8888888888888888,
             "#fdca26"
            ],
            [
             1,
             "#f0f921"
            ]
           ]
          },
          "colorway": [
           "#636efa",
           "#EF553B",
           "#00cc96",
           "#ab63fa",
           "#FFA15A",
           "#19d3f3",
           "#FF6692",
           "#B6E880",
           "#FF97FF",
           "#FECB52"
          ],
          "font": {
           "color": "#2a3f5f"
          },
          "geo": {
           "bgcolor": "white",
           "lakecolor": "white",
           "landcolor": "#E5ECF6",
           "showlakes": true,
           "showland": true,
           "subunitcolor": "white"
          },
          "hoverlabel": {
           "align": "left"
          },
          "hovermode": "closest",
          "mapbox": {
           "style": "light"
          },
          "paper_bgcolor": "white",
          "plot_bgcolor": "#E5ECF6",
          "polar": {
           "angularaxis": {
            "gridcolor": "white",
            "linecolor": "white",
            "ticks": ""
           },
           "bgcolor": "#E5ECF6",
           "radialaxis": {
            "gridcolor": "white",
            "linecolor": "white",
            "ticks": ""
           }
          },
          "scene": {
           "xaxis": {
            "backgroundcolor": "#E5ECF6",
            "gridcolor": "white",
            "gridwidth": 2,
            "linecolor": "white",
            "showbackground": true,
            "ticks": "",
            "zerolinecolor": "white"
           },
           "yaxis": {
            "backgroundcolor": "#E5ECF6",
            "gridcolor": "white",
            "gridwidth": 2,
            "linecolor": "white",
            "showbackground": true,
            "ticks": "",
            "zerolinecolor": "white"
           },
           "zaxis": {
            "backgroundcolor": "#E5ECF6",
            "gridcolor": "white",
            "gridwidth": 2,
            "linecolor": "white",
            "showbackground": true,
            "ticks": "",
            "zerolinecolor": "white"
           }
          },
          "shapedefaults": {
           "line": {
            "color": "#2a3f5f"
           }
          },
          "ternary": {
           "aaxis": {
            "gridcolor": "white",
            "linecolor": "white",
            "ticks": ""
           },
           "baxis": {
            "gridcolor": "white",
            "linecolor": "white",
            "ticks": ""
           },
           "bgcolor": "#E5ECF6",
           "caxis": {
            "gridcolor": "white",
            "linecolor": "white",
            "ticks": ""
           }
          },
          "title": {
           "x": 0.05
          },
          "xaxis": {
           "automargin": true,
           "gridcolor": "white",
           "linecolor": "white",
           "ticks": "",
           "title": {
            "standoff": 15
           },
           "zerolinecolor": "white",
           "zerolinewidth": 2
          },
          "yaxis": {
           "automargin": true,
           "gridcolor": "white",
           "linecolor": "white",
           "ticks": "",
           "title": {
            "standoff": 15
           },
           "zerolinecolor": "white",
           "zerolinewidth": 2
          }
         }
        },
        "title": {
         "text": "Error Distances Over Time"
        },
        "xaxis": {
         "dtick": 20,
         "tick0": 0,
         "tickmode": "linear",
         "title": {
          "text": "Time"
         }
        }
       }
      },
      "text/html": [
       "<div>                            <div id=\"b011d03f-1821-4e38-8ab4-f8b9d8dd6c57\" class=\"plotly-graph-div\" style=\"height:525px; width:100%;\"></div>            <script type=\"text/javascript\">                require([\"plotly\"], function(Plotly) {                    window.PLOTLYENV=window.PLOTLYENV || {};                                    if (document.getElementById(\"b011d03f-1821-4e38-8ab4-f8b9d8dd6c57\")) {                    Plotly.newPlot(                        \"b011d03f-1821-4e38-8ab4-f8b9d8dd6c57\",                        [{\"mode\":\"lines+markers\",\"name\":\"A-1.1\",\"type\":\"scatter\",\"x\":[7.0,8.0,9.0,10.0,11.0,12.0,13.0,14.0,15.0,16.0,17.0,18.0,19.0,20.0,21.0,22.0,23.0,24.0,25.0,26.0,27.0],\"y\":[2.834838990382368,2.834838990382368,2.834838990382368,2.834838990382368,2.834838990382368,2.834838990382368,2.834838990382368,2.834838990382368,2.834838990382368,2.834838990382368,2.834838990382368,2.834838990382368,2.834838990382368,2.834838990382368,2.834838990382368,2.834838990382368,2.834838990382368,2.834838990382368,2.834838990382368,2.834838990382368,2.834838990382368]},{\"mode\":\"lines+markers\",\"name\":\"A-1.2\",\"type\":\"scatter\",\"x\":[35.0,36.0,37.0,38.0,39.0,40.0,41.0,42.0,43.0,44.0,45.0,46.0,47.0,48.0,49.0,50.0,51.0,52.0,53.0,54.0,55.0],\"y\":[2.1403725059072136,2.1403725059072136,2.1403725059072136,2.1403725059072136,2.1403725059072136,2.1403725059072136,2.1403725059072136,2.1403725059072136,2.1403725059072136,2.1403725059072136,2.1403725059072136,2.1403725059072136,2.1403725059072136,2.1403725059072136,2.1403725059072136,2.1403725059072136,2.1403725059072136,2.1403725059072136,2.1403725059072136,2.1403725059072136,2.1403725059072136]},{\"mode\":\"lines+markers\",\"name\":\"A-2.1\",\"type\":\"scatter\",\"x\":[67.0,68.0,69.0,70.0,71.0,72.0,73.0,74.0,75.0,76.0,77.0,78.0,79.0,80.0,81.0,82.0,83.0,84.0,85.0,86.0,87.0],\"y\":[3.6288466315365637,3.6288466315365637,3.6288466315365637,3.6288466315365637,3.6288466315365637,3.6288466315365637,3.6288466315365637,3.6288466315365637,3.6288466315365637,3.6288466315365637,3.6288466315365637,3.6288466315365637,3.6288466315365637,3.6288466315365637,3.6288466315365637,3.6288466315365637,3.6288466315365637,3.6288466315365637,3.6288466315365637,3.6288466315365637,3.6288466315365637]},{\"mode\":\"lines+markers\",\"name\":\"A-2.2\",\"type\":\"scatter\",\"x\":[98.0,99.0,100.0,101.0,102.0,103.0,104.0,105.0,106.0,107.0,108.0,109.0,110.0,111.0,112.0,113.0,114.0,115.0,116.0,117.0,118.0],\"y\":[1.6575540861540672,1.6575540861540672,1.6575540861540672,1.6575540861540672,1.6575540861540672,1.6575540861540672,1.6575540861540672,1.6575540861540672,1.6575540861540672,1.6575540861540672,1.6575540861540672,1.6575540861540672,1.6575540861540672,1.6575540861540672,1.6575540861540672,1.6575540861540672,1.6575540861540672,1.6575540861540672,1.6575540861540672,1.6575540861540672,1.6575540861540672]},{\"mode\":\"lines+markers\",\"name\":\"A-3.1\",\"type\":\"scatter\",\"x\":[136.0,137.0,138.0,139.0,140.0,141.0,142.0,143.0,144.0,145.0,146.0,147.0,148.0,149.0,150.0,151.0,152.0,153.0,154.0,155.0,156.0],\"y\":[2.1779344178652735,2.1779344178652735,2.1779344178652735,2.1779344178652735,2.1779344178652735,2.1779344178652735,2.1779344178652735,2.1779344178652735,2.1779344178652735,2.1779344178652735,2.1779344178652735,2.1779344178652735,2.1779344178652735,2.1779344178652735,2.1779344178652735,2.1779344178652735,2.1779344178652735,2.1779344178652735,2.1779344178652735,2.1779344178652735,2.1779344178652735]},{\"mode\":\"lines+markers\",\"name\":\"A-3.2\",\"type\":\"scatter\",\"x\":[164.0,165.0,166.0,167.0,168.0,169.0,170.0,171.0,172.0,173.0,174.0,175.0,176.0,177.0,178.0,179.0,180.0,181.0,182.0,183.0,184.0],\"y\":[1.1288406211820998,1.1288406211820998,1.1288406211820998,1.1288406211820998,1.1288406211820998,1.1288406211820998,1.1288406211820998,1.1288406211820998,1.1288406211820998,1.1288406211820998,1.1288406211820998,1.1288406211820998,1.1288406211820998,1.1288406211820998,1.1288406211820998,1.1288406211820998,1.1288406211820998,1.1288406211820998,1.1288406211820998,1.1288406211820998,1.1288406211820998]},{\"mode\":\"lines+markers\",\"name\":\"A-4.1\",\"type\":\"scatter\",\"x\":[193.0,194.0,195.0,196.0,197.0,198.0,199.0,200.0,201.0,202.0,203.0,204.0,205.0,206.0,207.0,208.0,209.0,210.0,211.0,212.0,213.0],\"y\":[2.476432817479202,2.476432817479202,2.476432817479202,2.476432817479202,2.476432817479202,2.476432817479202,2.476432817479202,2.476432817479202,2.476432817479202,2.476432817479202,2.476432817479202,2.476432817479202,2.476432817479202,2.476432817479202,2.476432817479202,2.476432817479202,2.476432817479202,2.476432817479202,2.476432817479202,2.476432817479202,2.476432817479202]},{\"mode\":\"lines+markers\",\"name\":\"A-4.2\",\"type\":\"scatter\",\"x\":[220.0,221.0,222.0,223.0,224.0,225.0,226.0,227.0,228.0,229.0,230.0,231.0,232.0,233.0,234.0,235.0,236.0,237.0,238.0,239.0,240.0],\"y\":[4.284437974685646,4.284437974685646,4.284437974685646,4.284437974685646,4.284437974685646,4.284437974685646,4.284437974685646,4.284437974685646,4.284437974685646,4.284437974685646,4.284437974685646,4.284437974685646,4.284437974685646,4.284437974685646,4.284437974685646,4.284437974685646,4.284437974685646,4.284437974685646,4.284437974685646,4.284437974685646,4.284437974685646]},{\"mode\":\"lines+markers\",\"name\":\"A-5.1\",\"type\":\"scatter\",\"x\":[248.0,249.0,250.0,251.0,252.0,253.0,254.0,255.0,256.0,257.0,258.0,259.0,260.0,261.0,262.0,263.0,264.0,265.0,266.0,267.0,268.0],\"y\":[4.244675055449898,4.244675055449898,4.244675055449898,4.244675055449898,4.244675055449898,4.244675055449898,4.244675055449898,4.244675055449898,4.244675055449898,4.244675055449898,4.244675055449898,4.244675055449898,4.244675055449898,4.244675055449898,4.244675055449898,4.244675055449898,4.244675055449898,4.244675055449898,4.244675055449898,4.244675055449898,4.244675055449898]},{\"mode\":\"lines+markers\",\"name\":\"A-5.2\",\"type\":\"scatter\",\"x\":[278.0,279.0,280.0,281.0,282.0,283.0,284.0,285.0,286.0,287.0,288.0,289.0,290.0,291.0,292.0,293.0,294.0,295.0,296.0,297.0,298.0],\"y\":[6.045059615668613,6.045059615668613,6.045059615668613,6.045059615668613,6.045059615668613,6.045059615668613,6.045059615668613,6.045059615668613,6.045059615668613,6.045059615668613,6.045059615668613,6.045059615668613,6.045059615668613,6.045059615668613,6.045059615668613,6.045059615668613,6.045059615668613,6.045059615668613,6.045059615668613,6.045059615668613,6.045059615668613]}],                        {\"legend\":{\"title\":{\"text\":\"No Filter\"}},\"template\":{\"data\":{\"bar\":[{\"error_x\":{\"color\":\"#2a3f5f\"},\"error_y\":{\"color\":\"#2a3f5f\"},\"marker\":{\"line\":{\"color\":\"#E5ECF6\",\"width\":0.5},\"pattern\":{\"fillmode\":\"overlay\",\"size\":10,\"solidity\":0.2}},\"type\":\"bar\"}],\"barpolar\":[{\"marker\":{\"line\":{\"color\":\"#E5ECF6\",\"width\":0.5},\"pattern\":{\"fillmode\":\"overlay\",\"size\":10,\"solidity\":0.2}},\"type\":\"barpolar\"}],\"carpet\":[{\"aaxis\":{\"endlinecolor\":\"#2a3f5f\",\"gridcolor\":\"white\",\"linecolor\":\"white\",\"minorgridcolor\":\"white\",\"startlinecolor\":\"#2a3f5f\"},\"baxis\":{\"endlinecolor\":\"#2a3f5f\",\"gridcolor\":\"white\",\"linecolor\":\"white\",\"minorgridcolor\":\"white\",\"startlinecolor\":\"#2a3f5f\"},\"type\":\"carpet\"}],\"choropleth\":[{\"colorbar\":{\"outlinewidth\":0,\"ticks\":\"\"},\"type\":\"choropleth\"}],\"contour\":[{\"colorbar\":{\"outlinewidth\":0,\"ticks\":\"\"},\"colorscale\":[[0.0,\"#0d0887\"],[0.1111111111111111,\"#46039f\"],[0.2222222222222222,\"#7201a8\"],[0.3333333333333333,\"#9c179e\"],[0.4444444444444444,\"#bd3786\"],[0.5555555555555556,\"#d8576b\"],[0.6666666666666666,\"#ed7953\"],[0.7777777777777778,\"#fb9f3a\"],[0.8888888888888888,\"#fdca26\"],[1.0,\"#f0f921\"]],\"type\":\"contour\"}],\"contourcarpet\":[{\"colorbar\":{\"outlinewidth\":0,\"ticks\":\"\"},\"type\":\"contourcarpet\"}],\"heatmap\":[{\"colorbar\":{\"outlinewidth\":0,\"ticks\":\"\"},\"colorscale\":[[0.0,\"#0d0887\"],[0.1111111111111111,\"#46039f\"],[0.2222222222222222,\"#7201a8\"],[0.3333333333333333,\"#9c179e\"],[0.4444444444444444,\"#bd3786\"],[0.5555555555555556,\"#d8576b\"],[0.6666666666666666,\"#ed7953\"],[0.7777777777777778,\"#fb9f3a\"],[0.8888888888888888,\"#fdca26\"],[1.0,\"#f0f921\"]],\"type\":\"heatmap\"}],\"heatmapgl\":[{\"colorbar\":{\"outlinewidth\":0,\"ticks\":\"\"},\"colorscale\":[[0.0,\"#0d0887\"],[0.1111111111111111,\"#46039f\"],[0.2222222222222222,\"#7201a8\"],[0.3333333333333333,\"#9c179e\"],[0.4444444444444444,\"#bd3786\"],[0.5555555555555556,\"#d8576b\"],[0.6666666666666666,\"#ed7953\"],[0.7777777777777778,\"#fb9f3a\"],[0.8888888888888888,\"#fdca26\"],[1.0,\"#f0f921\"]],\"type\":\"heatmapgl\"}],\"histogram\":[{\"marker\":{\"pattern\":{\"fillmode\":\"overlay\",\"size\":10,\"solidity\":0.2}},\"type\":\"histogram\"}],\"histogram2d\":[{\"colorbar\":{\"outlinewidth\":0,\"ticks\":\"\"},\"colorscale\":[[0.0,\"#0d0887\"],[0.1111111111111111,\"#46039f\"],[0.2222222222222222,\"#7201a8\"],[0.3333333333333333,\"#9c179e\"],[0.4444444444444444,\"#bd3786\"],[0.5555555555555556,\"#d8576b\"],[0.6666666666666666,\"#ed7953\"],[0.7777777777777778,\"#fb9f3a\"],[0.8888888888888888,\"#fdca26\"],[1.0,\"#f0f921\"]],\"type\":\"histogram2d\"}],\"histogram2dcontour\":[{\"colorbar\":{\"outlinewidth\":0,\"ticks\":\"\"},\"colorscale\":[[0.0,\"#0d0887\"],[0.1111111111111111,\"#46039f\"],[0.2222222222222222,\"#7201a8\"],[0.3333333333333333,\"#9c179e\"],[0.4444444444444444,\"#bd3786\"],[0.5555555555555556,\"#d8576b\"],[0.6666666666666666,\"#ed7953\"],[0.7777777777777778,\"#fb9f3a\"],[0.8888888888888888,\"#fdca26\"],[1.0,\"#f0f921\"]],\"type\":\"histogram2dcontour\"}],\"mesh3d\":[{\"colorbar\":{\"outlinewidth\":0,\"ticks\":\"\"},\"type\":\"mesh3d\"}],\"parcoords\":[{\"line\":{\"colorbar\":{\"outlinewidth\":0,\"ticks\":\"\"}},\"type\":\"parcoords\"}],\"pie\":[{\"automargin\":true,\"type\":\"pie\"}],\"scatter\":[{\"marker\":{\"colorbar\":{\"outlinewidth\":0,\"ticks\":\"\"}},\"type\":\"scatter\"}],\"scatter3d\":[{\"line\":{\"colorbar\":{\"outlinewidth\":0,\"ticks\":\"\"}},\"marker\":{\"colorbar\":{\"outlinewidth\":0,\"ticks\":\"\"}},\"type\":\"scatter3d\"}],\"scattercarpet\":[{\"marker\":{\"colorbar\":{\"outlinewidth\":0,\"ticks\":\"\"}},\"type\":\"scattercarpet\"}],\"scattergeo\":[{\"marker\":{\"colorbar\":{\"outlinewidth\":0,\"ticks\":\"\"}},\"type\":\"scattergeo\"}],\"scattergl\":[{\"marker\":{\"colorbar\":{\"outlinewidth\":0,\"ticks\":\"\"}},\"type\":\"scattergl\"}],\"scattermapbox\":[{\"marker\":{\"colorbar\":{\"outlinewidth\":0,\"ticks\":\"\"}},\"type\":\"scattermapbox\"}],\"scatterpolar\":[{\"marker\":{\"colorbar\":{\"outlinewidth\":0,\"ticks\":\"\"}},\"type\":\"scatterpolar\"}],\"scatterpolargl\":[{\"marker\":{\"colorbar\":{\"outlinewidth\":0,\"ticks\":\"\"}},\"type\":\"scatterpolargl\"}],\"scatterternary\":[{\"marker\":{\"colorbar\":{\"outlinewidth\":0,\"ticks\":\"\"}},\"type\":\"scatterternary\"}],\"surface\":[{\"colorbar\":{\"outlinewidth\":0,\"ticks\":\"\"},\"colorscale\":[[0.0,\"#0d0887\"],[0.1111111111111111,\"#46039f\"],[0.2222222222222222,\"#7201a8\"],[0.3333333333333333,\"#9c179e\"],[0.4444444444444444,\"#bd3786\"],[0.5555555555555556,\"#d8576b\"],[0.6666666666666666,\"#ed7953\"],[0.7777777777777778,\"#fb9f3a\"],[0.8888888888888888,\"#fdca26\"],[1.0,\"#f0f921\"]],\"type\":\"surface\"}],\"table\":[{\"cells\":{\"fill\":{\"color\":\"#EBF0F8\"},\"line\":{\"color\":\"white\"}},\"header\":{\"fill\":{\"color\":\"#C8D4E3\"},\"line\":{\"color\":\"white\"}},\"type\":\"table\"}]},\"layout\":{\"annotationdefaults\":{\"arrowcolor\":\"#2a3f5f\",\"arrowhead\":0,\"arrowwidth\":1},\"autotypenumbers\":\"strict\",\"coloraxis\":{\"colorbar\":{\"outlinewidth\":0,\"ticks\":\"\"}},\"colorscale\":{\"diverging\":[[0,\"#8e0152\"],[0.1,\"#c51b7d\"],[0.2,\"#de77ae\"],[0.3,\"#f1b6da\"],[0.4,\"#fde0ef\"],[0.5,\"#f7f7f7\"],[0.6,\"#e6f5d0\"],[0.7,\"#b8e186\"],[0.8,\"#7fbc41\"],[0.9,\"#4d9221\"],[1,\"#276419\"]],\"sequential\":[[0.0,\"#0d0887\"],[0.1111111111111111,\"#46039f\"],[0.2222222222222222,\"#7201a8\"],[0.3333333333333333,\"#9c179e\"],[0.4444444444444444,\"#bd3786\"],[0.5555555555555556,\"#d8576b\"],[0.6666666666666666,\"#ed7953\"],[0.7777777777777778,\"#fb9f3a\"],[0.8888888888888888,\"#fdca26\"],[1.0,\"#f0f921\"]],\"sequentialminus\":[[0.0,\"#0d0887\"],[0.1111111111111111,\"#46039f\"],[0.2222222222222222,\"#7201a8\"],[0.3333333333333333,\"#9c179e\"],[0.4444444444444444,\"#bd3786\"],[0.5555555555555556,\"#d8576b\"],[0.6666666666666666,\"#ed7953\"],[0.7777777777777778,\"#fb9f3a\"],[0.8888888888888888,\"#fdca26\"],[1.0,\"#f0f921\"]]},\"colorway\":[\"#636efa\",\"#EF553B\",\"#00cc96\",\"#ab63fa\",\"#FFA15A\",\"#19d3f3\",\"#FF6692\",\"#B6E880\",\"#FF97FF\",\"#FECB52\"],\"font\":{\"color\":\"#2a3f5f\"},\"geo\":{\"bgcolor\":\"white\",\"lakecolor\":\"white\",\"landcolor\":\"#E5ECF6\",\"showlakes\":true,\"showland\":true,\"subunitcolor\":\"white\"},\"hoverlabel\":{\"align\":\"left\"},\"hovermode\":\"closest\",\"mapbox\":{\"style\":\"light\"},\"paper_bgcolor\":\"white\",\"plot_bgcolor\":\"#E5ECF6\",\"polar\":{\"angularaxis\":{\"gridcolor\":\"white\",\"linecolor\":\"white\",\"ticks\":\"\"},\"bgcolor\":\"#E5ECF6\",\"radialaxis\":{\"gridcolor\":\"white\",\"linecolor\":\"white\",\"ticks\":\"\"}},\"scene\":{\"xaxis\":{\"backgroundcolor\":\"#E5ECF6\",\"gridcolor\":\"white\",\"gridwidth\":2,\"linecolor\":\"white\",\"showbackground\":true,\"ticks\":\"\",\"zerolinecolor\":\"white\"},\"yaxis\":{\"backgroundcolor\":\"#E5ECF6\",\"gridcolor\":\"white\",\"gridwidth\":2,\"linecolor\":\"white\",\"showbackground\":true,\"ticks\":\"\",\"zerolinecolor\":\"white\"},\"zaxis\":{\"backgroundcolor\":\"#E5ECF6\",\"gridcolor\":\"white\",\"gridwidth\":2,\"linecolor\":\"white\",\"showbackground\":true,\"ticks\":\"\",\"zerolinecolor\":\"white\"}},\"shapedefaults\":{\"line\":{\"color\":\"#2a3f5f\"}},\"ternary\":{\"aaxis\":{\"gridcolor\":\"white\",\"linecolor\":\"white\",\"ticks\":\"\"},\"baxis\":{\"gridcolor\":\"white\",\"linecolor\":\"white\",\"ticks\":\"\"},\"bgcolor\":\"#E5ECF6\",\"caxis\":{\"gridcolor\":\"white\",\"linecolor\":\"white\",\"ticks\":\"\"}},\"title\":{\"x\":0.05},\"xaxis\":{\"automargin\":true,\"gridcolor\":\"white\",\"linecolor\":\"white\",\"ticks\":\"\",\"title\":{\"standoff\":15},\"zerolinecolor\":\"white\",\"zerolinewidth\":2},\"yaxis\":{\"automargin\":true,\"gridcolor\":\"white\",\"linecolor\":\"white\",\"ticks\":\"\",\"title\":{\"standoff\":15},\"zerolinecolor\":\"white\",\"zerolinewidth\":2}}},\"title\":{\"text\":\"Error Distances Over Time\"},\"xaxis\":{\"dtick\":20,\"tick0\":0,\"tickmode\":\"linear\",\"title\":{\"text\":\"Time\"}}},                        {\"responsive\": true}                    ).then(function(){\n",
       "                            \n",
       "var gd = document.getElementById('b011d03f-1821-4e38-8ab4-f8b9d8dd6c57');\n",
       "var x = new MutationObserver(function (mutations, observer) {{\n",
       "        var display = window.getComputedStyle(gd).display;\n",
       "        if (!display || display === 'none') {{\n",
       "            console.log([gd, 'removed!']);\n",
       "            Plotly.purge(gd);\n",
       "            observer.disconnect();\n",
       "        }}\n",
       "}});\n",
       "\n",
       "// Listen for the removal of the full notebook cells\n",
       "var notebookContainer = gd.closest('#notebook-container');\n",
       "if (notebookContainer) {{\n",
       "    x.observe(notebookContainer, {childList: true});\n",
       "}}\n",
       "\n",
       "// Listen for the clearing of the current output cell\n",
       "var outputEl = gd.closest('.output');\n",
       "if (outputEl) {{\n",
       "    x.observe(outputEl, {childList: true});\n",
       "}}\n",
       "\n",
       "                        })                };                });            </script>        </div>"
      ]
     },
     "metadata": {},
     "output_type": "display_data"
    }
   ],
   "source": [
    "### Analysis data for no filter ###\n",
    "fig = createFigure('No Filter')\n",
    "fig_dist = createFigureForDistances('No Filter')\n",
    "result, checkpointslist, fileName = main('./noFilter/actlab_location_test1_08Jul.csv')\n",
    "fig = plotValues(fig, result, fileName, 'mean')\n",
    "fig_dist = plotValuesForDistance(fig_dist, result)\n",
    "fig.show()\n",
    "fig_dist.show()"
   ]
  },
  {
   "cell_type": "code",
   "execution_count": 576,
   "metadata": {},
   "outputs": [
    {
     "data": {
      "application/vnd.plotly.v1+json": {
       "config": {
        "plotlyServerURL": "https://plot.ly"
       },
       "data": [
        {
         "box": {
          "visible": true
         },
         "jitter": 0.05,
         "meanline": {
          "visible": true
         },
         "name": "A-1.1",
         "points": "all",
         "scalemode": "count",
         "type": "violin",
         "x": [
          "A-1.1",
          "A-1.1",
          "A-1.1",
          "A-1.1",
          "A-1.1",
          "A-1.1",
          "A-1.1",
          "A-1.1",
          "A-1.1",
          "A-1.1",
          "A-1.1",
          "A-1.1",
          "A-1.1",
          "A-1.1",
          "A-1.1",
          "A-1.1",
          "A-1.1",
          "A-1.1",
          "A-1.1",
          "A-1.1",
          "A-1.1"
         ],
         "y": [
          3.170778534833566,
          2.722462256146028,
          3.19332064895599,
          2.2947437655309852,
          2.9040590360693246,
          3.245308484639045,
          2.843946261276235,
          3.0362767719288564,
          3.5453347874308134,
          2.304763461489689,
          2.777732780752176,
          2.9564236667575563,
          3.4912037449123976,
          3.29438679709107,
          3.7010638040303157,
          3.233710539073657,
          3.0654170700106005,
          2.362086435669002,
          2.557800433581099,
          2.92160982650351,
          2.521209303997227
         ]
        },
        {
         "box": {
          "visible": true
         },
         "jitter": 0.05,
         "meanline": {
          "visible": true
         },
         "name": "A-1.2",
         "points": "all",
         "scalemode": "count",
         "type": "violin",
         "x": [
          "A-1.2",
          "A-1.2",
          "A-1.2",
          "A-1.2",
          "A-1.2",
          "A-1.2",
          "A-1.2",
          "A-1.2",
          "A-1.2",
          "A-1.2",
          "A-1.2",
          "A-1.2",
          "A-1.2",
          "A-1.2",
          "A-1.2",
          "A-1.2",
          "A-1.2",
          "A-1.2",
          "A-1.2",
          "A-1.2",
          "A-1.2"
         ],
         "y": [
          1.6131601937003077,
          1.7044807155168364,
          1.4341876252902463,
          1.4892650866149661,
          1.4549809981747814,
          1.3473574625791842,
          1.453129439322175,
          1.7676376497667228,
          1.4188931395148006,
          1.5380000764778312,
          1.362790996727373,
          1.8507818519397314,
          1.68609386563688,
          1.5242692232362594,
          1.361539102971453,
          1.5951616633672943,
          1.9991508285814157,
          1.3238975283974228,
          1.5560678917228459,
          0.7009190999890045,
          1.383779349159979
         ]
        },
        {
         "box": {
          "visible": true
         },
         "jitter": 0.05,
         "meanline": {
          "visible": true
         },
         "name": "A-2.1",
         "points": "all",
         "scalemode": "count",
         "type": "violin",
         "x": [
          "A-2.1",
          "A-2.1",
          "A-2.1",
          "A-2.1",
          "A-2.1",
          "A-2.1",
          "A-2.1",
          "A-2.1",
          "A-2.1",
          "A-2.1",
          "A-2.1",
          "A-2.1",
          "A-2.1",
          "A-2.1",
          "A-2.1",
          "A-2.1",
          "A-2.1",
          "A-2.1",
          "A-2.1",
          "A-2.1",
          "A-2.1"
         ],
         "y": [
          3.490389363454779,
          3.419946306591407,
          3.170355538769049,
          3.2583718969153233,
          3.423958413067122,
          3.1127689105944696,
          3.1543016453296944,
          3.2993850446997612,
          3.1086745403194933,
          3.5324009204984175,
          3.1764705913571842,
          2.7719279727152255,
          2.8313024864406624,
          2.813582811351861,
          2.223480607362407,
          2.333969102180249,
          1.981736011518619,
          3.113660464652964,
          3.1841617050509443,
          2.122652883939479,
          2.697441850677724
         ]
        },
        {
         "box": {
          "visible": true
         },
         "jitter": 0.05,
         "meanline": {
          "visible": true
         },
         "name": "A-2.2",
         "points": "all",
         "scalemode": "count",
         "type": "violin",
         "x": [
          "A-2.2",
          "A-2.2",
          "A-2.2",
          "A-2.2",
          "A-2.2",
          "A-2.2",
          "A-2.2",
          "A-2.2",
          "A-2.2",
          "A-2.2",
          "A-2.2",
          "A-2.2",
          "A-2.2",
          "A-2.2",
          "A-2.2",
          "A-2.2",
          "A-2.2",
          "A-2.2",
          "A-2.2",
          "A-2.2",
          "A-2.2"
         ],
         "y": [
          1.0963791729976093,
          0.819141940146859,
          0.46532925002416503,
          0.6655306779817083,
          0.48254982915696093,
          0.559107060881238,
          0.3928292354721312,
          0.9194207213192657,
          0.26990136229206635,
          1.0265343808792835,
          0.8985620991115194,
          0.8107356458831839,
          0.5444622015666872,
          0.44895076183851257,
          1.3228011984679107,
          0.5760060395082964,
          0.17895492470712815,
          0.748362888793275,
          0.896408517018355,
          0.46009863094412906,
          0.5228505202281849
         ]
        },
        {
         "box": {
          "visible": true
         },
         "jitter": 0.05,
         "meanline": {
          "visible": true
         },
         "name": "A-3.1",
         "points": "all",
         "scalemode": "count",
         "type": "violin",
         "x": [
          "A-3.1",
          "A-3.1",
          "A-3.1",
          "A-3.1",
          "A-3.1",
          "A-3.1",
          "A-3.1",
          "A-3.1",
          "A-3.1",
          "A-3.1",
          "A-3.1",
          "A-3.1",
          "A-3.1",
          "A-3.1",
          "A-3.1",
          "A-3.1",
          "A-3.1",
          "A-3.1",
          "A-3.1",
          "A-3.1",
          "A-3.1"
         ],
         "y": [
          1.9043969031060062,
          2.2440922024542522,
          2.637781896268458,
          3.2147746543136733,
          2.953763967623793,
          2.9870776777556864,
          2.6357569847235958,
          2.6335015781159066,
          2.3608066742525025,
          2.230765818050504,
          2.2416539622491283,
          2.1832721180762658,
          2.0461043661845597,
          2.6021914216086723,
          2.6349817715985218,
          1.7191021590705955,
          2.01220315334174,
          2.883042821034061,
          3.92917036252781,
          3.75187570143746,
          3.656564451461521
         ]
        },
        {
         "box": {
          "visible": true
         },
         "jitter": 0.05,
         "meanline": {
          "visible": true
         },
         "name": "A-3.2",
         "points": "all",
         "scalemode": "count",
         "type": "violin",
         "x": [
          "A-3.2",
          "A-3.2",
          "A-3.2",
          "A-3.2",
          "A-3.2",
          "A-3.2",
          "A-3.2",
          "A-3.2",
          "A-3.2",
          "A-3.2",
          "A-3.2",
          "A-3.2",
          "A-3.2",
          "A-3.2",
          "A-3.2",
          "A-3.2",
          "A-3.2",
          "A-3.2",
          "A-3.2",
          "A-3.2",
          "A-3.2"
         ],
         "y": [
          2.876840834874931,
          2.0111174857606966,
          0.7679079488263019,
          1.927327684992977,
          1.440998760949331,
          1.3054373447364047,
          2.0591249685653397,
          1.2725753625620633,
          2.432363167512277,
          2.1721254080162713,
          1.958506694079738,
          1.9850545307592513,
          1.4372598412668274,
          1.7800145214687202,
          2.2032176735644793,
          1.6467480142955666,
          1.9548734721215448,
          2.0784990309444478,
          1.3896256925413744,
          0.20349461740466346,
          0.6861468053188114
         ]
        },
        {
         "box": {
          "visible": true
         },
         "jitter": 0.05,
         "meanline": {
          "visible": true
         },
         "name": "A-4.1",
         "points": "all",
         "scalemode": "count",
         "type": "violin",
         "x": [
          "A-4.1",
          "A-4.1",
          "A-4.1",
          "A-4.1",
          "A-4.1",
          "A-4.1",
          "A-4.1",
          "A-4.1",
          "A-4.1",
          "A-4.1",
          "A-4.1",
          "A-4.1",
          "A-4.1",
          "A-4.1",
          "A-4.1",
          "A-4.1",
          "A-4.1",
          "A-4.1",
          "A-4.1",
          "A-4.1",
          "A-4.1"
         ],
         "y": [
          3.6381828423000018,
          3.490272181921183,
          3.4083018421148905,
          2.894615646903072,
          2.4023724725724174,
          3.1210605532765383,
          1.9489516692570443,
          2.6135549393201405,
          2.656165064863896,
          2.6694051352656825,
          3.106442929850249,
          2.6971027220570307,
          2.874970154580414,
          3.1919446003074095,
          2.2835695000843046,
          1.8899206460180529,
          2.3563090947751495,
          2.4806719262374624,
          3.2591822191398827,
          3.3608535117298812,
          2.2300728786316673
         ]
        },
        {
         "box": {
          "visible": true
         },
         "jitter": 0.05,
         "meanline": {
          "visible": true
         },
         "name": "A-4.2",
         "points": "all",
         "scalemode": "count",
         "type": "violin",
         "x": [
          "A-4.2",
          "A-4.2",
          "A-4.2",
          "A-4.2",
          "A-4.2",
          "A-4.2",
          "A-4.2",
          "A-4.2",
          "A-4.2",
          "A-4.2",
          "A-4.2",
          "A-4.2",
          "A-4.2",
          "A-4.2",
          "A-4.2",
          "A-4.2",
          "A-4.2",
          "A-4.2",
          "A-4.2",
          "A-4.2",
          "A-4.2"
         ],
         "y": [
          4.302968242709914,
          4.1640764835816055,
          2.9599893909803763,
          2.6852986816373132,
          2.6518749569409232,
          2.415497337359354,
          2.1478332990884272,
          2.586774160048991,
          2.3065252475657,
          2.073440638417488,
          2.3317928669861385,
          1.794437452161767,
          2.5167901664995997,
          2.6570020877140936,
          2.3295436436759647,
          2.045316788038334,
          2.0046111675540392,
          2.1772178627424514,
          1.8924137315603833,
          2.3950393611841854,
          2.495872728494559
         ]
        },
        {
         "box": {
          "visible": true
         },
         "jitter": 0.05,
         "meanline": {
          "visible": true
         },
         "name": "A-5.1",
         "points": "all",
         "scalemode": "count",
         "type": "violin",
         "x": [
          "A-5.1",
          "A-5.1",
          "A-5.1",
          "A-5.1",
          "A-5.1",
          "A-5.1",
          "A-5.1",
          "A-5.1",
          "A-5.1",
          "A-5.1",
          "A-5.1",
          "A-5.1",
          "A-5.1",
          "A-5.1",
          "A-5.1",
          "A-5.1",
          "A-5.1",
          "A-5.1",
          "A-5.1",
          "A-5.1",
          "A-5.1"
         ],
         "y": [
          1.7083031053542206,
          1.9337077378986718,
          1.5414062043883667,
          1.4877328228801328,
          1.0099298126538407,
          2.3790092909982032,
          2.517360017917441,
          1.1839277683814535,
          1.6964666930493024,
          2.2471131143200624,
          1.7403881446733427,
          1.3526317753329111,
          1.3138512052195321,
          1.820736416257367,
          2.7399571388523136,
          2.3114449177988288,
          2.4520650408213602,
          2.327770523847499,
          3.137681813175164,
          1.4105159753213314,
          2.476985383162255
         ]
        },
        {
         "box": {
          "visible": true
         },
         "jitter": 0.05,
         "meanline": {
          "visible": true
         },
         "name": "A-5.2",
         "points": "all",
         "scalemode": "count",
         "type": "violin",
         "x": [
          "A-5.2",
          "A-5.2",
          "A-5.2",
          "A-5.2",
          "A-5.2",
          "A-5.2",
          "A-5.2",
          "A-5.2",
          "A-5.2",
          "A-5.2",
          "A-5.2",
          "A-5.2",
          "A-5.2",
          "A-5.2",
          "A-5.2",
          "A-5.2",
          "A-5.2",
          "A-5.2",
          "A-5.2",
          "A-5.2",
          "A-5.2"
         ],
         "y": [
          3.9550526996669766,
          4.275302693490155,
          5.708485015068634,
          4.84560409273139,
          3.922185298221478,
          4.043560544292896,
          3.9823757946443923,
          5.480035909068324,
          5.016772740227727,
          4.069604953522445,
          2.5670500136016297,
          4.804933292289205,
          3.893038765652062,
          5.3093241516605,
          3.28252116870423,
          4.1520130865256615,
          4.1594738316682704,
          3.5655508661064443,
          4.802228812169488,
          3.2227424861239657,
          4.4682288844755
         ]
        }
       ],
       "layout": {
        "barmode": "group",
        "legend": {
         "orientation": "v",
         "title": {
          "text": "Decreased Filter"
         },
         "xanchor": "left"
        },
        "template": {
         "data": {
          "bar": [
           {
            "error_x": {
             "color": "#2a3f5f"
            },
            "error_y": {
             "color": "#2a3f5f"
            },
            "marker": {
             "line": {
              "color": "#E5ECF6",
              "width": 0.5
             },
             "pattern": {
              "fillmode": "overlay",
              "size": 10,
              "solidity": 0.2
             }
            },
            "type": "bar"
           }
          ],
          "barpolar": [
           {
            "marker": {
             "line": {
              "color": "#E5ECF6",
              "width": 0.5
             },
             "pattern": {
              "fillmode": "overlay",
              "size": 10,
              "solidity": 0.2
             }
            },
            "type": "barpolar"
           }
          ],
          "carpet": [
           {
            "aaxis": {
             "endlinecolor": "#2a3f5f",
             "gridcolor": "white",
             "linecolor": "white",
             "minorgridcolor": "white",
             "startlinecolor": "#2a3f5f"
            },
            "baxis": {
             "endlinecolor": "#2a3f5f",
             "gridcolor": "white",
             "linecolor": "white",
             "minorgridcolor": "white",
             "startlinecolor": "#2a3f5f"
            },
            "type": "carpet"
           }
          ],
          "choropleth": [
           {
            "colorbar": {
             "outlinewidth": 0,
             "ticks": ""
            },
            "type": "choropleth"
           }
          ],
          "contour": [
           {
            "colorbar": {
             "outlinewidth": 0,
             "ticks": ""
            },
            "colorscale": [
             [
              0,
              "#0d0887"
             ],
             [
              0.1111111111111111,
              "#46039f"
             ],
             [
              0.2222222222222222,
              "#7201a8"
             ],
             [
              0.3333333333333333,
              "#9c179e"
             ],
             [
              0.4444444444444444,
              "#bd3786"
             ],
             [
              0.5555555555555556,
              "#d8576b"
             ],
             [
              0.6666666666666666,
              "#ed7953"
             ],
             [
              0.7777777777777778,
              "#fb9f3a"
             ],
             [
              0.8888888888888888,
              "#fdca26"
             ],
             [
              1,
              "#f0f921"
             ]
            ],
            "type": "contour"
           }
          ],
          "contourcarpet": [
           {
            "colorbar": {
             "outlinewidth": 0,
             "ticks": ""
            },
            "type": "contourcarpet"
           }
          ],
          "heatmap": [
           {
            "colorbar": {
             "outlinewidth": 0,
             "ticks": ""
            },
            "colorscale": [
             [
              0,
              "#0d0887"
             ],
             [
              0.1111111111111111,
              "#46039f"
             ],
             [
              0.2222222222222222,
              "#7201a8"
             ],
             [
              0.3333333333333333,
              "#9c179e"
             ],
             [
              0.4444444444444444,
              "#bd3786"
             ],
             [
              0.5555555555555556,
              "#d8576b"
             ],
             [
              0.6666666666666666,
              "#ed7953"
             ],
             [
              0.7777777777777778,
              "#fb9f3a"
             ],
             [
              0.8888888888888888,
              "#fdca26"
             ],
             [
              1,
              "#f0f921"
             ]
            ],
            "type": "heatmap"
           }
          ],
          "heatmapgl": [
           {
            "colorbar": {
             "outlinewidth": 0,
             "ticks": ""
            },
            "colorscale": [
             [
              0,
              "#0d0887"
             ],
             [
              0.1111111111111111,
              "#46039f"
             ],
             [
              0.2222222222222222,
              "#7201a8"
             ],
             [
              0.3333333333333333,
              "#9c179e"
             ],
             [
              0.4444444444444444,
              "#bd3786"
             ],
             [
              0.5555555555555556,
              "#d8576b"
             ],
             [
              0.6666666666666666,
              "#ed7953"
             ],
             [
              0.7777777777777778,
              "#fb9f3a"
             ],
             [
              0.8888888888888888,
              "#fdca26"
             ],
             [
              1,
              "#f0f921"
             ]
            ],
            "type": "heatmapgl"
           }
          ],
          "histogram": [
           {
            "marker": {
             "pattern": {
              "fillmode": "overlay",
              "size": 10,
              "solidity": 0.2
             }
            },
            "type": "histogram"
           }
          ],
          "histogram2d": [
           {
            "colorbar": {
             "outlinewidth": 0,
             "ticks": ""
            },
            "colorscale": [
             [
              0,
              "#0d0887"
             ],
             [
              0.1111111111111111,
              "#46039f"
             ],
             [
              0.2222222222222222,
              "#7201a8"
             ],
             [
              0.3333333333333333,
              "#9c179e"
             ],
             [
              0.4444444444444444,
              "#bd3786"
             ],
             [
              0.5555555555555556,
              "#d8576b"
             ],
             [
              0.6666666666666666,
              "#ed7953"
             ],
             [
              0.7777777777777778,
              "#fb9f3a"
             ],
             [
              0.8888888888888888,
              "#fdca26"
             ],
             [
              1,
              "#f0f921"
             ]
            ],
            "type": "histogram2d"
           }
          ],
          "histogram2dcontour": [
           {
            "colorbar": {
             "outlinewidth": 0,
             "ticks": ""
            },
            "colorscale": [
             [
              0,
              "#0d0887"
             ],
             [
              0.1111111111111111,
              "#46039f"
             ],
             [
              0.2222222222222222,
              "#7201a8"
             ],
             [
              0.3333333333333333,
              "#9c179e"
             ],
             [
              0.4444444444444444,
              "#bd3786"
             ],
             [
              0.5555555555555556,
              "#d8576b"
             ],
             [
              0.6666666666666666,
              "#ed7953"
             ],
             [
              0.7777777777777778,
              "#fb9f3a"
             ],
             [
              0.8888888888888888,
              "#fdca26"
             ],
             [
              1,
              "#f0f921"
             ]
            ],
            "type": "histogram2dcontour"
           }
          ],
          "mesh3d": [
           {
            "colorbar": {
             "outlinewidth": 0,
             "ticks": ""
            },
            "type": "mesh3d"
           }
          ],
          "parcoords": [
           {
            "line": {
             "colorbar": {
              "outlinewidth": 0,
              "ticks": ""
             }
            },
            "type": "parcoords"
           }
          ],
          "pie": [
           {
            "automargin": true,
            "type": "pie"
           }
          ],
          "scatter": [
           {
            "marker": {
             "colorbar": {
              "outlinewidth": 0,
              "ticks": ""
             }
            },
            "type": "scatter"
           }
          ],
          "scatter3d": [
           {
            "line": {
             "colorbar": {
              "outlinewidth": 0,
              "ticks": ""
             }
            },
            "marker": {
             "colorbar": {
              "outlinewidth": 0,
              "ticks": ""
             }
            },
            "type": "scatter3d"
           }
          ],
          "scattercarpet": [
           {
            "marker": {
             "colorbar": {
              "outlinewidth": 0,
              "ticks": ""
             }
            },
            "type": "scattercarpet"
           }
          ],
          "scattergeo": [
           {
            "marker": {
             "colorbar": {
              "outlinewidth": 0,
              "ticks": ""
             }
            },
            "type": "scattergeo"
           }
          ],
          "scattergl": [
           {
            "marker": {
             "colorbar": {
              "outlinewidth": 0,
              "ticks": ""
             }
            },
            "type": "scattergl"
           }
          ],
          "scattermapbox": [
           {
            "marker": {
             "colorbar": {
              "outlinewidth": 0,
              "ticks": ""
             }
            },
            "type": "scattermapbox"
           }
          ],
          "scatterpolar": [
           {
            "marker": {
             "colorbar": {
              "outlinewidth": 0,
              "ticks": ""
             }
            },
            "type": "scatterpolar"
           }
          ],
          "scatterpolargl": [
           {
            "marker": {
             "colorbar": {
              "outlinewidth": 0,
              "ticks": ""
             }
            },
            "type": "scatterpolargl"
           }
          ],
          "scatterternary": [
           {
            "marker": {
             "colorbar": {
              "outlinewidth": 0,
              "ticks": ""
             }
            },
            "type": "scatterternary"
           }
          ],
          "surface": [
           {
            "colorbar": {
             "outlinewidth": 0,
             "ticks": ""
            },
            "colorscale": [
             [
              0,
              "#0d0887"
             ],
             [
              0.1111111111111111,
              "#46039f"
             ],
             [
              0.2222222222222222,
              "#7201a8"
             ],
             [
              0.3333333333333333,
              "#9c179e"
             ],
             [
              0.4444444444444444,
              "#bd3786"
             ],
             [
              0.5555555555555556,
              "#d8576b"
             ],
             [
              0.6666666666666666,
              "#ed7953"
             ],
             [
              0.7777777777777778,
              "#fb9f3a"
             ],
             [
              0.8888888888888888,
              "#fdca26"
             ],
             [
              1,
              "#f0f921"
             ]
            ],
            "type": "surface"
           }
          ],
          "table": [
           {
            "cells": {
             "fill": {
              "color": "#EBF0F8"
             },
             "line": {
              "color": "white"
             }
            },
            "header": {
             "fill": {
              "color": "#C8D4E3"
             },
             "line": {
              "color": "white"
             }
            },
            "type": "table"
           }
          ]
         },
         "layout": {
          "annotationdefaults": {
           "arrowcolor": "#2a3f5f",
           "arrowhead": 0,
           "arrowwidth": 1
          },
          "autotypenumbers": "strict",
          "coloraxis": {
           "colorbar": {
            "outlinewidth": 0,
            "ticks": ""
           }
          },
          "colorscale": {
           "diverging": [
            [
             0,
             "#8e0152"
            ],
            [
             0.1,
             "#c51b7d"
            ],
            [
             0.2,
             "#de77ae"
            ],
            [
             0.3,
             "#f1b6da"
            ],
            [
             0.4,
             "#fde0ef"
            ],
            [
             0.5,
             "#f7f7f7"
            ],
            [
             0.6,
             "#e6f5d0"
            ],
            [
             0.7,
             "#b8e186"
            ],
            [
             0.8,
             "#7fbc41"
            ],
            [
             0.9,
             "#4d9221"
            ],
            [
             1,
             "#276419"
            ]
           ],
           "sequential": [
            [
             0,
             "#0d0887"
            ],
            [
             0.1111111111111111,
             "#46039f"
            ],
            [
             0.2222222222222222,
             "#7201a8"
            ],
            [
             0.3333333333333333,
             "#9c179e"
            ],
            [
             0.4444444444444444,
             "#bd3786"
            ],
            [
             0.5555555555555556,
             "#d8576b"
            ],
            [
             0.6666666666666666,
             "#ed7953"
            ],
            [
             0.7777777777777778,
             "#fb9f3a"
            ],
            [
             0.8888888888888888,
             "#fdca26"
            ],
            [
             1,
             "#f0f921"
            ]
           ],
           "sequentialminus": [
            [
             0,
             "#0d0887"
            ],
            [
             0.1111111111111111,
             "#46039f"
            ],
            [
             0.2222222222222222,
             "#7201a8"
            ],
            [
             0.3333333333333333,
             "#9c179e"
            ],
            [
             0.4444444444444444,
             "#bd3786"
            ],
            [
             0.5555555555555556,
             "#d8576b"
            ],
            [
             0.6666666666666666,
             "#ed7953"
            ],
            [
             0.7777777777777778,
             "#fb9f3a"
            ],
            [
             0.8888888888888888,
             "#fdca26"
            ],
            [
             1,
             "#f0f921"
            ]
           ]
          },
          "colorway": [
           "#636efa",
           "#EF553B",
           "#00cc96",
           "#ab63fa",
           "#FFA15A",
           "#19d3f3",
           "#FF6692",
           "#B6E880",
           "#FF97FF",
           "#FECB52"
          ],
          "font": {
           "color": "#2a3f5f"
          },
          "geo": {
           "bgcolor": "white",
           "lakecolor": "white",
           "landcolor": "#E5ECF6",
           "showlakes": true,
           "showland": true,
           "subunitcolor": "white"
          },
          "hoverlabel": {
           "align": "left"
          },
          "hovermode": "closest",
          "mapbox": {
           "style": "light"
          },
          "paper_bgcolor": "white",
          "plot_bgcolor": "#E5ECF6",
          "polar": {
           "angularaxis": {
            "gridcolor": "white",
            "linecolor": "white",
            "ticks": ""
           },
           "bgcolor": "#E5ECF6",
           "radialaxis": {
            "gridcolor": "white",
            "linecolor": "white",
            "ticks": ""
           }
          },
          "scene": {
           "xaxis": {
            "backgroundcolor": "#E5ECF6",
            "gridcolor": "white",
            "gridwidth": 2,
            "linecolor": "white",
            "showbackground": true,
            "ticks": "",
            "zerolinecolor": "white"
           },
           "yaxis": {
            "backgroundcolor": "#E5ECF6",
            "gridcolor": "white",
            "gridwidth": 2,
            "linecolor": "white",
            "showbackground": true,
            "ticks": "",
            "zerolinecolor": "white"
           },
           "zaxis": {
            "backgroundcolor": "#E5ECF6",
            "gridcolor": "white",
            "gridwidth": 2,
            "linecolor": "white",
            "showbackground": true,
            "ticks": "",
            "zerolinecolor": "white"
           }
          },
          "shapedefaults": {
           "line": {
            "color": "#2a3f5f"
           }
          },
          "ternary": {
           "aaxis": {
            "gridcolor": "white",
            "linecolor": "white",
            "ticks": ""
           },
           "baxis": {
            "gridcolor": "white",
            "linecolor": "white",
            "ticks": ""
           },
           "bgcolor": "#E5ECF6",
           "caxis": {
            "gridcolor": "white",
            "linecolor": "white",
            "ticks": ""
           }
          },
          "title": {
           "x": 0.05
          },
          "xaxis": {
           "automargin": true,
           "gridcolor": "white",
           "linecolor": "white",
           "ticks": "",
           "title": {
            "standoff": 15
           },
           "zerolinecolor": "white",
           "zerolinewidth": 2
          },
          "yaxis": {
           "automargin": true,
           "gridcolor": "white",
           "linecolor": "white",
           "ticks": "",
           "title": {
            "standoff": 15
           },
           "zerolinecolor": "white",
           "zerolinewidth": 2
          }
         }
        },
        "title": {
         "text": "Violin Plot of Error Distances"
        },
        "xaxis": {
         "title": {
          "text": "Checkpoints"
         }
        },
        "yaxis": {
         "range": [
          -1.5,
          7.5
         ]
        }
       }
      },
      "text/html": [
       "<div>                            <div id=\"2fe2aa20-fb0f-4723-9a0c-4c44476f4e2a\" class=\"plotly-graph-div\" style=\"height:525px; width:100%;\"></div>            <script type=\"text/javascript\">                require([\"plotly\"], function(Plotly) {                    window.PLOTLYENV=window.PLOTLYENV || {};                                    if (document.getElementById(\"2fe2aa20-fb0f-4723-9a0c-4c44476f4e2a\")) {                    Plotly.newPlot(                        \"2fe2aa20-fb0f-4723-9a0c-4c44476f4e2a\",                        [{\"box\":{\"visible\":true},\"jitter\":0.05,\"meanline\":{\"visible\":true},\"name\":\"A-1.1\",\"points\":\"all\",\"scalemode\":\"count\",\"type\":\"violin\",\"x\":[\"A-1.1\",\"A-1.1\",\"A-1.1\",\"A-1.1\",\"A-1.1\",\"A-1.1\",\"A-1.1\",\"A-1.1\",\"A-1.1\",\"A-1.1\",\"A-1.1\",\"A-1.1\",\"A-1.1\",\"A-1.1\",\"A-1.1\",\"A-1.1\",\"A-1.1\",\"A-1.1\",\"A-1.1\",\"A-1.1\",\"A-1.1\"],\"y\":[3.170778534833566,2.722462256146028,3.19332064895599,2.2947437655309852,2.9040590360693246,3.245308484639045,2.843946261276235,3.0362767719288564,3.5453347874308134,2.304763461489689,2.777732780752176,2.9564236667575563,3.4912037449123976,3.29438679709107,3.7010638040303157,3.233710539073657,3.0654170700106005,2.362086435669002,2.557800433581099,2.92160982650351,2.521209303997227]},{\"box\":{\"visible\":true},\"jitter\":0.05,\"meanline\":{\"visible\":true},\"name\":\"A-1.2\",\"points\":\"all\",\"scalemode\":\"count\",\"type\":\"violin\",\"x\":[\"A-1.2\",\"A-1.2\",\"A-1.2\",\"A-1.2\",\"A-1.2\",\"A-1.2\",\"A-1.2\",\"A-1.2\",\"A-1.2\",\"A-1.2\",\"A-1.2\",\"A-1.2\",\"A-1.2\",\"A-1.2\",\"A-1.2\",\"A-1.2\",\"A-1.2\",\"A-1.2\",\"A-1.2\",\"A-1.2\",\"A-1.2\"],\"y\":[1.6131601937003077,1.7044807155168364,1.4341876252902463,1.4892650866149661,1.4549809981747814,1.3473574625791842,1.453129439322175,1.7676376497667228,1.4188931395148006,1.5380000764778312,1.362790996727373,1.8507818519397314,1.68609386563688,1.5242692232362594,1.361539102971453,1.5951616633672943,1.9991508285814157,1.3238975283974228,1.5560678917228459,0.7009190999890045,1.383779349159979]},{\"box\":{\"visible\":true},\"jitter\":0.05,\"meanline\":{\"visible\":true},\"name\":\"A-2.1\",\"points\":\"all\",\"scalemode\":\"count\",\"type\":\"violin\",\"x\":[\"A-2.1\",\"A-2.1\",\"A-2.1\",\"A-2.1\",\"A-2.1\",\"A-2.1\",\"A-2.1\",\"A-2.1\",\"A-2.1\",\"A-2.1\",\"A-2.1\",\"A-2.1\",\"A-2.1\",\"A-2.1\",\"A-2.1\",\"A-2.1\",\"A-2.1\",\"A-2.1\",\"A-2.1\",\"A-2.1\",\"A-2.1\"],\"y\":[3.490389363454779,3.419946306591407,3.170355538769049,3.2583718969153233,3.423958413067122,3.1127689105944696,3.1543016453296944,3.2993850446997612,3.1086745403194933,3.5324009204984175,3.1764705913571842,2.7719279727152255,2.8313024864406624,2.813582811351861,2.223480607362407,2.333969102180249,1.981736011518619,3.113660464652964,3.1841617050509443,2.122652883939479,2.697441850677724]},{\"box\":{\"visible\":true},\"jitter\":0.05,\"meanline\":{\"visible\":true},\"name\":\"A-2.2\",\"points\":\"all\",\"scalemode\":\"count\",\"type\":\"violin\",\"x\":[\"A-2.2\",\"A-2.2\",\"A-2.2\",\"A-2.2\",\"A-2.2\",\"A-2.2\",\"A-2.2\",\"A-2.2\",\"A-2.2\",\"A-2.2\",\"A-2.2\",\"A-2.2\",\"A-2.2\",\"A-2.2\",\"A-2.2\",\"A-2.2\",\"A-2.2\",\"A-2.2\",\"A-2.2\",\"A-2.2\",\"A-2.2\"],\"y\":[1.0963791729976093,0.819141940146859,0.46532925002416503,0.6655306779817083,0.48254982915696093,0.559107060881238,0.3928292354721312,0.9194207213192657,0.26990136229206635,1.0265343808792835,0.8985620991115194,0.8107356458831839,0.5444622015666872,0.44895076183851257,1.3228011984679107,0.5760060395082964,0.17895492470712815,0.748362888793275,0.896408517018355,0.46009863094412906,0.5228505202281849]},{\"box\":{\"visible\":true},\"jitter\":0.05,\"meanline\":{\"visible\":true},\"name\":\"A-3.1\",\"points\":\"all\",\"scalemode\":\"count\",\"type\":\"violin\",\"x\":[\"A-3.1\",\"A-3.1\",\"A-3.1\",\"A-3.1\",\"A-3.1\",\"A-3.1\",\"A-3.1\",\"A-3.1\",\"A-3.1\",\"A-3.1\",\"A-3.1\",\"A-3.1\",\"A-3.1\",\"A-3.1\",\"A-3.1\",\"A-3.1\",\"A-3.1\",\"A-3.1\",\"A-3.1\",\"A-3.1\",\"A-3.1\"],\"y\":[1.9043969031060062,2.2440922024542522,2.637781896268458,3.2147746543136733,2.953763967623793,2.9870776777556864,2.6357569847235958,2.6335015781159066,2.3608066742525025,2.230765818050504,2.2416539622491283,2.1832721180762658,2.0461043661845597,2.6021914216086723,2.6349817715985218,1.7191021590705955,2.01220315334174,2.883042821034061,3.92917036252781,3.75187570143746,3.656564451461521]},{\"box\":{\"visible\":true},\"jitter\":0.05,\"meanline\":{\"visible\":true},\"name\":\"A-3.2\",\"points\":\"all\",\"scalemode\":\"count\",\"type\":\"violin\",\"x\":[\"A-3.2\",\"A-3.2\",\"A-3.2\",\"A-3.2\",\"A-3.2\",\"A-3.2\",\"A-3.2\",\"A-3.2\",\"A-3.2\",\"A-3.2\",\"A-3.2\",\"A-3.2\",\"A-3.2\",\"A-3.2\",\"A-3.2\",\"A-3.2\",\"A-3.2\",\"A-3.2\",\"A-3.2\",\"A-3.2\",\"A-3.2\"],\"y\":[2.876840834874931,2.0111174857606966,0.7679079488263019,1.927327684992977,1.440998760949331,1.3054373447364047,2.0591249685653397,1.2725753625620633,2.432363167512277,2.1721254080162713,1.958506694079738,1.9850545307592513,1.4372598412668274,1.7800145214687202,2.2032176735644793,1.6467480142955666,1.9548734721215448,2.0784990309444478,1.3896256925413744,0.20349461740466346,0.6861468053188114]},{\"box\":{\"visible\":true},\"jitter\":0.05,\"meanline\":{\"visible\":true},\"name\":\"A-4.1\",\"points\":\"all\",\"scalemode\":\"count\",\"type\":\"violin\",\"x\":[\"A-4.1\",\"A-4.1\",\"A-4.1\",\"A-4.1\",\"A-4.1\",\"A-4.1\",\"A-4.1\",\"A-4.1\",\"A-4.1\",\"A-4.1\",\"A-4.1\",\"A-4.1\",\"A-4.1\",\"A-4.1\",\"A-4.1\",\"A-4.1\",\"A-4.1\",\"A-4.1\",\"A-4.1\",\"A-4.1\",\"A-4.1\"],\"y\":[3.6381828423000018,3.490272181921183,3.4083018421148905,2.894615646903072,2.4023724725724174,3.1210605532765383,1.9489516692570443,2.6135549393201405,2.656165064863896,2.6694051352656825,3.106442929850249,2.6971027220570307,2.874970154580414,3.1919446003074095,2.2835695000843046,1.8899206460180529,2.3563090947751495,2.4806719262374624,3.2591822191398827,3.3608535117298812,2.2300728786316673]},{\"box\":{\"visible\":true},\"jitter\":0.05,\"meanline\":{\"visible\":true},\"name\":\"A-4.2\",\"points\":\"all\",\"scalemode\":\"count\",\"type\":\"violin\",\"x\":[\"A-4.2\",\"A-4.2\",\"A-4.2\",\"A-4.2\",\"A-4.2\",\"A-4.2\",\"A-4.2\",\"A-4.2\",\"A-4.2\",\"A-4.2\",\"A-4.2\",\"A-4.2\",\"A-4.2\",\"A-4.2\",\"A-4.2\",\"A-4.2\",\"A-4.2\",\"A-4.2\",\"A-4.2\",\"A-4.2\",\"A-4.2\"],\"y\":[4.302968242709914,4.1640764835816055,2.9599893909803763,2.6852986816373132,2.6518749569409232,2.415497337359354,2.1478332990884272,2.586774160048991,2.3065252475657,2.073440638417488,2.3317928669861385,1.794437452161767,2.5167901664995997,2.6570020877140936,2.3295436436759647,2.045316788038334,2.0046111675540392,2.1772178627424514,1.8924137315603833,2.3950393611841854,2.495872728494559]},{\"box\":{\"visible\":true},\"jitter\":0.05,\"meanline\":{\"visible\":true},\"name\":\"A-5.1\",\"points\":\"all\",\"scalemode\":\"count\",\"type\":\"violin\",\"x\":[\"A-5.1\",\"A-5.1\",\"A-5.1\",\"A-5.1\",\"A-5.1\",\"A-5.1\",\"A-5.1\",\"A-5.1\",\"A-5.1\",\"A-5.1\",\"A-5.1\",\"A-5.1\",\"A-5.1\",\"A-5.1\",\"A-5.1\",\"A-5.1\",\"A-5.1\",\"A-5.1\",\"A-5.1\",\"A-5.1\",\"A-5.1\"],\"y\":[1.7083031053542206,1.9337077378986718,1.5414062043883667,1.4877328228801328,1.0099298126538407,2.3790092909982032,2.517360017917441,1.1839277683814535,1.6964666930493024,2.2471131143200624,1.7403881446733427,1.3526317753329111,1.3138512052195321,1.820736416257367,2.7399571388523136,2.3114449177988288,2.4520650408213602,2.327770523847499,3.137681813175164,1.4105159753213314,2.476985383162255]},{\"box\":{\"visible\":true},\"jitter\":0.05,\"meanline\":{\"visible\":true},\"name\":\"A-5.2\",\"points\":\"all\",\"scalemode\":\"count\",\"type\":\"violin\",\"x\":[\"A-5.2\",\"A-5.2\",\"A-5.2\",\"A-5.2\",\"A-5.2\",\"A-5.2\",\"A-5.2\",\"A-5.2\",\"A-5.2\",\"A-5.2\",\"A-5.2\",\"A-5.2\",\"A-5.2\",\"A-5.2\",\"A-5.2\",\"A-5.2\",\"A-5.2\",\"A-5.2\",\"A-5.2\",\"A-5.2\",\"A-5.2\"],\"y\":[3.9550526996669766,4.275302693490155,5.708485015068634,4.84560409273139,3.922185298221478,4.043560544292896,3.9823757946443923,5.480035909068324,5.016772740227727,4.069604953522445,2.5670500136016297,4.804933292289205,3.893038765652062,5.3093241516605,3.28252116870423,4.1520130865256615,4.1594738316682704,3.5655508661064443,4.802228812169488,3.2227424861239657,4.4682288844755]}],                        {\"barmode\":\"group\",\"legend\":{\"orientation\":\"v\",\"title\":{\"text\":\"Decreased Filter\"},\"xanchor\":\"left\"},\"template\":{\"data\":{\"bar\":[{\"error_x\":{\"color\":\"#2a3f5f\"},\"error_y\":{\"color\":\"#2a3f5f\"},\"marker\":{\"line\":{\"color\":\"#E5ECF6\",\"width\":0.5},\"pattern\":{\"fillmode\":\"overlay\",\"size\":10,\"solidity\":0.2}},\"type\":\"bar\"}],\"barpolar\":[{\"marker\":{\"line\":{\"color\":\"#E5ECF6\",\"width\":0.5},\"pattern\":{\"fillmode\":\"overlay\",\"size\":10,\"solidity\":0.2}},\"type\":\"barpolar\"}],\"carpet\":[{\"aaxis\":{\"endlinecolor\":\"#2a3f5f\",\"gridcolor\":\"white\",\"linecolor\":\"white\",\"minorgridcolor\":\"white\",\"startlinecolor\":\"#2a3f5f\"},\"baxis\":{\"endlinecolor\":\"#2a3f5f\",\"gridcolor\":\"white\",\"linecolor\":\"white\",\"minorgridcolor\":\"white\",\"startlinecolor\":\"#2a3f5f\"},\"type\":\"carpet\"}],\"choropleth\":[{\"colorbar\":{\"outlinewidth\":0,\"ticks\":\"\"},\"type\":\"choropleth\"}],\"contour\":[{\"colorbar\":{\"outlinewidth\":0,\"ticks\":\"\"},\"colorscale\":[[0.0,\"#0d0887\"],[0.1111111111111111,\"#46039f\"],[0.2222222222222222,\"#7201a8\"],[0.3333333333333333,\"#9c179e\"],[0.4444444444444444,\"#bd3786\"],[0.5555555555555556,\"#d8576b\"],[0.6666666666666666,\"#ed7953\"],[0.7777777777777778,\"#fb9f3a\"],[0.8888888888888888,\"#fdca26\"],[1.0,\"#f0f921\"]],\"type\":\"contour\"}],\"contourcarpet\":[{\"colorbar\":{\"outlinewidth\":0,\"ticks\":\"\"},\"type\":\"contourcarpet\"}],\"heatmap\":[{\"colorbar\":{\"outlinewidth\":0,\"ticks\":\"\"},\"colorscale\":[[0.0,\"#0d0887\"],[0.1111111111111111,\"#46039f\"],[0.2222222222222222,\"#7201a8\"],[0.3333333333333333,\"#9c179e\"],[0.4444444444444444,\"#bd3786\"],[0.5555555555555556,\"#d8576b\"],[0.6666666666666666,\"#ed7953\"],[0.7777777777777778,\"#fb9f3a\"],[0.8888888888888888,\"#fdca26\"],[1.0,\"#f0f921\"]],\"type\":\"heatmap\"}],\"heatmapgl\":[{\"colorbar\":{\"outlinewidth\":0,\"ticks\":\"\"},\"colorscale\":[[0.0,\"#0d0887\"],[0.1111111111111111,\"#46039f\"],[0.2222222222222222,\"#7201a8\"],[0.3333333333333333,\"#9c179e\"],[0.4444444444444444,\"#bd3786\"],[0.5555555555555556,\"#d8576b\"],[0.6666666666666666,\"#ed7953\"],[0.7777777777777778,\"#fb9f3a\"],[0.8888888888888888,\"#fdca26\"],[1.0,\"#f0f921\"]],\"type\":\"heatmapgl\"}],\"histogram\":[{\"marker\":{\"pattern\":{\"fillmode\":\"overlay\",\"size\":10,\"solidity\":0.2}},\"type\":\"histogram\"}],\"histogram2d\":[{\"colorbar\":{\"outlinewidth\":0,\"ticks\":\"\"},\"colorscale\":[[0.0,\"#0d0887\"],[0.1111111111111111,\"#46039f\"],[0.2222222222222222,\"#7201a8\"],[0.3333333333333333,\"#9c179e\"],[0.4444444444444444,\"#bd3786\"],[0.5555555555555556,\"#d8576b\"],[0.6666666666666666,\"#ed7953\"],[0.7777777777777778,\"#fb9f3a\"],[0.8888888888888888,\"#fdca26\"],[1.0,\"#f0f921\"]],\"type\":\"histogram2d\"}],\"histogram2dcontour\":[{\"colorbar\":{\"outlinewidth\":0,\"ticks\":\"\"},\"colorscale\":[[0.0,\"#0d0887\"],[0.1111111111111111,\"#46039f\"],[0.2222222222222222,\"#7201a8\"],[0.3333333333333333,\"#9c179e\"],[0.4444444444444444,\"#bd3786\"],[0.5555555555555556,\"#d8576b\"],[0.6666666666666666,\"#ed7953\"],[0.7777777777777778,\"#fb9f3a\"],[0.8888888888888888,\"#fdca26\"],[1.0,\"#f0f921\"]],\"type\":\"histogram2dcontour\"}],\"mesh3d\":[{\"colorbar\":{\"outlinewidth\":0,\"ticks\":\"\"},\"type\":\"mesh3d\"}],\"parcoords\":[{\"line\":{\"colorbar\":{\"outlinewidth\":0,\"ticks\":\"\"}},\"type\":\"parcoords\"}],\"pie\":[{\"automargin\":true,\"type\":\"pie\"}],\"scatter\":[{\"marker\":{\"colorbar\":{\"outlinewidth\":0,\"ticks\":\"\"}},\"type\":\"scatter\"}],\"scatter3d\":[{\"line\":{\"colorbar\":{\"outlinewidth\":0,\"ticks\":\"\"}},\"marker\":{\"colorbar\":{\"outlinewidth\":0,\"ticks\":\"\"}},\"type\":\"scatter3d\"}],\"scattercarpet\":[{\"marker\":{\"colorbar\":{\"outlinewidth\":0,\"ticks\":\"\"}},\"type\":\"scattercarpet\"}],\"scattergeo\":[{\"marker\":{\"colorbar\":{\"outlinewidth\":0,\"ticks\":\"\"}},\"type\":\"scattergeo\"}],\"scattergl\":[{\"marker\":{\"colorbar\":{\"outlinewidth\":0,\"ticks\":\"\"}},\"type\":\"scattergl\"}],\"scattermapbox\":[{\"marker\":{\"colorbar\":{\"outlinewidth\":0,\"ticks\":\"\"}},\"type\":\"scattermapbox\"}],\"scatterpolar\":[{\"marker\":{\"colorbar\":{\"outlinewidth\":0,\"ticks\":\"\"}},\"type\":\"scatterpolar\"}],\"scatterpolargl\":[{\"marker\":{\"colorbar\":{\"outlinewidth\":0,\"ticks\":\"\"}},\"type\":\"scatterpolargl\"}],\"scatterternary\":[{\"marker\":{\"colorbar\":{\"outlinewidth\":0,\"ticks\":\"\"}},\"type\":\"scatterternary\"}],\"surface\":[{\"colorbar\":{\"outlinewidth\":0,\"ticks\":\"\"},\"colorscale\":[[0.0,\"#0d0887\"],[0.1111111111111111,\"#46039f\"],[0.2222222222222222,\"#7201a8\"],[0.3333333333333333,\"#9c179e\"],[0.4444444444444444,\"#bd3786\"],[0.5555555555555556,\"#d8576b\"],[0.6666666666666666,\"#ed7953\"],[0.7777777777777778,\"#fb9f3a\"],[0.8888888888888888,\"#fdca26\"],[1.0,\"#f0f921\"]],\"type\":\"surface\"}],\"table\":[{\"cells\":{\"fill\":{\"color\":\"#EBF0F8\"},\"line\":{\"color\":\"white\"}},\"header\":{\"fill\":{\"color\":\"#C8D4E3\"},\"line\":{\"color\":\"white\"}},\"type\":\"table\"}]},\"layout\":{\"annotationdefaults\":{\"arrowcolor\":\"#2a3f5f\",\"arrowhead\":0,\"arrowwidth\":1},\"autotypenumbers\":\"strict\",\"coloraxis\":{\"colorbar\":{\"outlinewidth\":0,\"ticks\":\"\"}},\"colorscale\":{\"diverging\":[[0,\"#8e0152\"],[0.1,\"#c51b7d\"],[0.2,\"#de77ae\"],[0.3,\"#f1b6da\"],[0.4,\"#fde0ef\"],[0.5,\"#f7f7f7\"],[0.6,\"#e6f5d0\"],[0.7,\"#b8e186\"],[0.8,\"#7fbc41\"],[0.9,\"#4d9221\"],[1,\"#276419\"]],\"sequential\":[[0.0,\"#0d0887\"],[0.1111111111111111,\"#46039f\"],[0.2222222222222222,\"#7201a8\"],[0.3333333333333333,\"#9c179e\"],[0.4444444444444444,\"#bd3786\"],[0.5555555555555556,\"#d8576b\"],[0.6666666666666666,\"#ed7953\"],[0.7777777777777778,\"#fb9f3a\"],[0.8888888888888888,\"#fdca26\"],[1.0,\"#f0f921\"]],\"sequentialminus\":[[0.0,\"#0d0887\"],[0.1111111111111111,\"#46039f\"],[0.2222222222222222,\"#7201a8\"],[0.3333333333333333,\"#9c179e\"],[0.4444444444444444,\"#bd3786\"],[0.5555555555555556,\"#d8576b\"],[0.6666666666666666,\"#ed7953\"],[0.7777777777777778,\"#fb9f3a\"],[0.8888888888888888,\"#fdca26\"],[1.0,\"#f0f921\"]]},\"colorway\":[\"#636efa\",\"#EF553B\",\"#00cc96\",\"#ab63fa\",\"#FFA15A\",\"#19d3f3\",\"#FF6692\",\"#B6E880\",\"#FF97FF\",\"#FECB52\"],\"font\":{\"color\":\"#2a3f5f\"},\"geo\":{\"bgcolor\":\"white\",\"lakecolor\":\"white\",\"landcolor\":\"#E5ECF6\",\"showlakes\":true,\"showland\":true,\"subunitcolor\":\"white\"},\"hoverlabel\":{\"align\":\"left\"},\"hovermode\":\"closest\",\"mapbox\":{\"style\":\"light\"},\"paper_bgcolor\":\"white\",\"plot_bgcolor\":\"#E5ECF6\",\"polar\":{\"angularaxis\":{\"gridcolor\":\"white\",\"linecolor\":\"white\",\"ticks\":\"\"},\"bgcolor\":\"#E5ECF6\",\"radialaxis\":{\"gridcolor\":\"white\",\"linecolor\":\"white\",\"ticks\":\"\"}},\"scene\":{\"xaxis\":{\"backgroundcolor\":\"#E5ECF6\",\"gridcolor\":\"white\",\"gridwidth\":2,\"linecolor\":\"white\",\"showbackground\":true,\"ticks\":\"\",\"zerolinecolor\":\"white\"},\"yaxis\":{\"backgroundcolor\":\"#E5ECF6\",\"gridcolor\":\"white\",\"gridwidth\":2,\"linecolor\":\"white\",\"showbackground\":true,\"ticks\":\"\",\"zerolinecolor\":\"white\"},\"zaxis\":{\"backgroundcolor\":\"#E5ECF6\",\"gridcolor\":\"white\",\"gridwidth\":2,\"linecolor\":\"white\",\"showbackground\":true,\"ticks\":\"\",\"zerolinecolor\":\"white\"}},\"shapedefaults\":{\"line\":{\"color\":\"#2a3f5f\"}},\"ternary\":{\"aaxis\":{\"gridcolor\":\"white\",\"linecolor\":\"white\",\"ticks\":\"\"},\"baxis\":{\"gridcolor\":\"white\",\"linecolor\":\"white\",\"ticks\":\"\"},\"bgcolor\":\"#E5ECF6\",\"caxis\":{\"gridcolor\":\"white\",\"linecolor\":\"white\",\"ticks\":\"\"}},\"title\":{\"x\":0.05},\"xaxis\":{\"automargin\":true,\"gridcolor\":\"white\",\"linecolor\":\"white\",\"ticks\":\"\",\"title\":{\"standoff\":15},\"zerolinecolor\":\"white\",\"zerolinewidth\":2},\"yaxis\":{\"automargin\":true,\"gridcolor\":\"white\",\"linecolor\":\"white\",\"ticks\":\"\",\"title\":{\"standoff\":15},\"zerolinecolor\":\"white\",\"zerolinewidth\":2}}},\"title\":{\"text\":\"Violin Plot of Error Distances\"},\"xaxis\":{\"title\":{\"text\":\"Checkpoints\"}},\"yaxis\":{\"range\":[-1.5,7.5]}},                        {\"responsive\": true}                    ).then(function(){\n",
       "                            \n",
       "var gd = document.getElementById('2fe2aa20-fb0f-4723-9a0c-4c44476f4e2a');\n",
       "var x = new MutationObserver(function (mutations, observer) {{\n",
       "        var display = window.getComputedStyle(gd).display;\n",
       "        if (!display || display === 'none') {{\n",
       "            console.log([gd, 'removed!']);\n",
       "            Plotly.purge(gd);\n",
       "            observer.disconnect();\n",
       "        }}\n",
       "}});\n",
       "\n",
       "// Listen for the removal of the full notebook cells\n",
       "var notebookContainer = gd.closest('#notebook-container');\n",
       "if (notebookContainer) {{\n",
       "    x.observe(notebookContainer, {childList: true});\n",
       "}}\n",
       "\n",
       "// Listen for the clearing of the current output cell\n",
       "var outputEl = gd.closest('.output');\n",
       "if (outputEl) {{\n",
       "    x.observe(outputEl, {childList: true});\n",
       "}}\n",
       "\n",
       "                        })                };                });            </script>        </div>"
      ]
     },
     "metadata": {},
     "output_type": "display_data"
    },
    {
     "data": {
      "application/vnd.plotly.v1+json": {
       "config": {
        "plotlyServerURL": "https://plot.ly"
       },
       "data": [
        {
         "mode": "lines+markers",
         "name": "A-1.1",
         "type": "scatter",
         "x": [
          7,
          8,
          9,
          10,
          11,
          12,
          13,
          14,
          15,
          16,
          17,
          18,
          19,
          20,
          21,
          22,
          23,
          24,
          25,
          26,
          27
         ],
         "y": [
          3.170778534833566,
          2.722462256146028,
          3.19332064895599,
          2.2947437655309852,
          2.9040590360693246,
          3.245308484639045,
          2.843946261276235,
          3.0362767719288564,
          3.5453347874308134,
          2.304763461489689,
          2.777732780752176,
          2.9564236667575563,
          3.4912037449123976,
          3.29438679709107,
          3.7010638040303157,
          3.233710539073657,
          3.0654170700106005,
          2.362086435669002,
          2.557800433581099,
          2.92160982650351,
          2.521209303997227
         ]
        },
        {
         "mode": "lines+markers",
         "name": "A-1.2",
         "type": "scatter",
         "x": [
          35,
          36,
          37,
          38,
          39,
          40,
          41,
          42,
          43,
          44,
          45,
          46,
          47,
          48,
          49,
          50,
          51,
          52,
          53,
          54,
          55
         ],
         "y": [
          1.6131601937003077,
          1.7044807155168364,
          1.4341876252902463,
          1.4892650866149661,
          1.4549809981747814,
          1.3473574625791842,
          1.453129439322175,
          1.7676376497667228,
          1.4188931395148006,
          1.5380000764778312,
          1.362790996727373,
          1.8507818519397314,
          1.68609386563688,
          1.5242692232362594,
          1.361539102971453,
          1.5951616633672943,
          1.9991508285814157,
          1.3238975283974228,
          1.5560678917228459,
          0.7009190999890045,
          1.383779349159979
         ]
        },
        {
         "mode": "lines+markers",
         "name": "A-2.1",
         "type": "scatter",
         "x": [
          67,
          68,
          69,
          70,
          71,
          72,
          73,
          74,
          75,
          76,
          77,
          78,
          79,
          80,
          81,
          82,
          83,
          84,
          85,
          86,
          87
         ],
         "y": [
          3.490389363454779,
          3.419946306591407,
          3.170355538769049,
          3.2583718969153233,
          3.423958413067122,
          3.1127689105944696,
          3.1543016453296944,
          3.2993850446997612,
          3.1086745403194933,
          3.5324009204984175,
          3.1764705913571842,
          2.7719279727152255,
          2.8313024864406624,
          2.813582811351861,
          2.223480607362407,
          2.333969102180249,
          1.981736011518619,
          3.113660464652964,
          3.1841617050509443,
          2.122652883939479,
          2.697441850677724
         ]
        },
        {
         "mode": "lines+markers",
         "name": "A-2.2",
         "type": "scatter",
         "x": [
          98,
          99,
          100,
          101,
          102,
          103,
          104,
          105,
          106,
          107,
          108,
          109,
          110,
          111,
          112,
          113,
          114,
          115,
          116,
          117,
          118
         ],
         "y": [
          1.0963791729976093,
          0.819141940146859,
          0.46532925002416503,
          0.6655306779817083,
          0.48254982915696093,
          0.559107060881238,
          0.3928292354721312,
          0.9194207213192657,
          0.26990136229206635,
          1.0265343808792835,
          0.8985620991115194,
          0.8107356458831839,
          0.5444622015666872,
          0.44895076183851257,
          1.3228011984679107,
          0.5760060395082964,
          0.17895492470712815,
          0.748362888793275,
          0.896408517018355,
          0.46009863094412906,
          0.5228505202281849
         ]
        },
        {
         "mode": "lines+markers",
         "name": "A-3.1",
         "type": "scatter",
         "x": [
          136,
          137,
          138,
          139,
          140,
          141,
          142,
          143,
          144,
          145,
          146,
          147,
          148,
          149,
          150,
          151,
          152,
          153,
          154,
          155,
          156
         ],
         "y": [
          1.9043969031060062,
          2.2440922024542522,
          2.637781896268458,
          3.2147746543136733,
          2.953763967623793,
          2.9870776777556864,
          2.6357569847235958,
          2.6335015781159066,
          2.3608066742525025,
          2.230765818050504,
          2.2416539622491283,
          2.1832721180762658,
          2.0461043661845597,
          2.6021914216086723,
          2.6349817715985218,
          1.7191021590705955,
          2.01220315334174,
          2.883042821034061,
          3.92917036252781,
          3.75187570143746,
          3.656564451461521
         ]
        },
        {
         "mode": "lines+markers",
         "name": "A-3.2",
         "type": "scatter",
         "x": [
          164,
          165,
          166,
          167,
          168,
          169,
          170,
          171,
          172,
          173,
          174,
          175,
          176,
          177,
          178,
          179,
          180,
          181,
          182,
          183,
          184
         ],
         "y": [
          2.876840834874931,
          2.0111174857606966,
          0.7679079488263019,
          1.927327684992977,
          1.440998760949331,
          1.3054373447364047,
          2.0591249685653397,
          1.2725753625620633,
          2.432363167512277,
          2.1721254080162713,
          1.958506694079738,
          1.9850545307592513,
          1.4372598412668274,
          1.7800145214687202,
          2.2032176735644793,
          1.6467480142955666,
          1.9548734721215448,
          2.0784990309444478,
          1.3896256925413744,
          0.20349461740466346,
          0.6861468053188114
         ]
        },
        {
         "mode": "lines+markers",
         "name": "A-4.1",
         "type": "scatter",
         "x": [
          193,
          194,
          195,
          196,
          197,
          198,
          199,
          200,
          201,
          202,
          203,
          204,
          205,
          206,
          207,
          208,
          209,
          210,
          211,
          212,
          213
         ],
         "y": [
          3.6381828423000018,
          3.490272181921183,
          3.4083018421148905,
          2.894615646903072,
          2.4023724725724174,
          3.1210605532765383,
          1.9489516692570443,
          2.6135549393201405,
          2.656165064863896,
          2.6694051352656825,
          3.106442929850249,
          2.6971027220570307,
          2.874970154580414,
          3.1919446003074095,
          2.2835695000843046,
          1.8899206460180529,
          2.3563090947751495,
          2.4806719262374624,
          3.2591822191398827,
          3.3608535117298812,
          2.2300728786316673
         ]
        },
        {
         "mode": "lines+markers",
         "name": "A-4.2",
         "type": "scatter",
         "x": [
          220,
          221,
          222,
          223,
          224,
          225,
          226,
          227,
          228,
          229,
          230,
          231,
          232,
          233,
          234,
          235,
          236,
          237,
          238,
          239,
          240
         ],
         "y": [
          4.302968242709914,
          4.1640764835816055,
          2.9599893909803763,
          2.6852986816373132,
          2.6518749569409232,
          2.415497337359354,
          2.1478332990884272,
          2.586774160048991,
          2.3065252475657,
          2.073440638417488,
          2.3317928669861385,
          1.794437452161767,
          2.5167901664995997,
          2.6570020877140936,
          2.3295436436759647,
          2.045316788038334,
          2.0046111675540392,
          2.1772178627424514,
          1.8924137315603833,
          2.3950393611841854,
          2.495872728494559
         ]
        },
        {
         "mode": "lines+markers",
         "name": "A-5.1",
         "type": "scatter",
         "x": [
          248,
          249,
          250,
          251,
          252,
          253,
          254,
          255,
          256,
          257,
          258,
          259,
          260,
          261,
          262,
          263,
          264,
          265,
          266,
          267,
          268
         ],
         "y": [
          1.7083031053542206,
          1.9337077378986718,
          1.5414062043883667,
          1.4877328228801328,
          1.0099298126538407,
          2.3790092909982032,
          2.517360017917441,
          1.1839277683814535,
          1.6964666930493024,
          2.2471131143200624,
          1.7403881446733427,
          1.3526317753329111,
          1.3138512052195321,
          1.820736416257367,
          2.7399571388523136,
          2.3114449177988288,
          2.4520650408213602,
          2.327770523847499,
          3.137681813175164,
          1.4105159753213314,
          2.476985383162255
         ]
        },
        {
         "mode": "lines+markers",
         "name": "A-5.2",
         "type": "scatter",
         "x": [
          278,
          279,
          280,
          281,
          282,
          283,
          284,
          285,
          286,
          287,
          288,
          289,
          290,
          291,
          292,
          293,
          294,
          295,
          296,
          297,
          298
         ],
         "y": [
          3.9550526996669766,
          4.275302693490155,
          5.708485015068634,
          4.84560409273139,
          3.922185298221478,
          4.043560544292896,
          3.9823757946443923,
          5.480035909068324,
          5.016772740227727,
          4.069604953522445,
          2.5670500136016297,
          4.804933292289205,
          3.893038765652062,
          5.3093241516605,
          3.28252116870423,
          4.1520130865256615,
          4.1594738316682704,
          3.5655508661064443,
          4.802228812169488,
          3.2227424861239657,
          4.4682288844755
         ]
        }
       ],
       "layout": {
        "legend": {
         "title": {
          "text": "Decreased Filter"
         }
        },
        "template": {
         "data": {
          "bar": [
           {
            "error_x": {
             "color": "#2a3f5f"
            },
            "error_y": {
             "color": "#2a3f5f"
            },
            "marker": {
             "line": {
              "color": "#E5ECF6",
              "width": 0.5
             },
             "pattern": {
              "fillmode": "overlay",
              "size": 10,
              "solidity": 0.2
             }
            },
            "type": "bar"
           }
          ],
          "barpolar": [
           {
            "marker": {
             "line": {
              "color": "#E5ECF6",
              "width": 0.5
             },
             "pattern": {
              "fillmode": "overlay",
              "size": 10,
              "solidity": 0.2
             }
            },
            "type": "barpolar"
           }
          ],
          "carpet": [
           {
            "aaxis": {
             "endlinecolor": "#2a3f5f",
             "gridcolor": "white",
             "linecolor": "white",
             "minorgridcolor": "white",
             "startlinecolor": "#2a3f5f"
            },
            "baxis": {
             "endlinecolor": "#2a3f5f",
             "gridcolor": "white",
             "linecolor": "white",
             "minorgridcolor": "white",
             "startlinecolor": "#2a3f5f"
            },
            "type": "carpet"
           }
          ],
          "choropleth": [
           {
            "colorbar": {
             "outlinewidth": 0,
             "ticks": ""
            },
            "type": "choropleth"
           }
          ],
          "contour": [
           {
            "colorbar": {
             "outlinewidth": 0,
             "ticks": ""
            },
            "colorscale": [
             [
              0,
              "#0d0887"
             ],
             [
              0.1111111111111111,
              "#46039f"
             ],
             [
              0.2222222222222222,
              "#7201a8"
             ],
             [
              0.3333333333333333,
              "#9c179e"
             ],
             [
              0.4444444444444444,
              "#bd3786"
             ],
             [
              0.5555555555555556,
              "#d8576b"
             ],
             [
              0.6666666666666666,
              "#ed7953"
             ],
             [
              0.7777777777777778,
              "#fb9f3a"
             ],
             [
              0.8888888888888888,
              "#fdca26"
             ],
             [
              1,
              "#f0f921"
             ]
            ],
            "type": "contour"
           }
          ],
          "contourcarpet": [
           {
            "colorbar": {
             "outlinewidth": 0,
             "ticks": ""
            },
            "type": "contourcarpet"
           }
          ],
          "heatmap": [
           {
            "colorbar": {
             "outlinewidth": 0,
             "ticks": ""
            },
            "colorscale": [
             [
              0,
              "#0d0887"
             ],
             [
              0.1111111111111111,
              "#46039f"
             ],
             [
              0.2222222222222222,
              "#7201a8"
             ],
             [
              0.3333333333333333,
              "#9c179e"
             ],
             [
              0.4444444444444444,
              "#bd3786"
             ],
             [
              0.5555555555555556,
              "#d8576b"
             ],
             [
              0.6666666666666666,
              "#ed7953"
             ],
             [
              0.7777777777777778,
              "#fb9f3a"
             ],
             [
              0.8888888888888888,
              "#fdca26"
             ],
             [
              1,
              "#f0f921"
             ]
            ],
            "type": "heatmap"
           }
          ],
          "heatmapgl": [
           {
            "colorbar": {
             "outlinewidth": 0,
             "ticks": ""
            },
            "colorscale": [
             [
              0,
              "#0d0887"
             ],
             [
              0.1111111111111111,
              "#46039f"
             ],
             [
              0.2222222222222222,
              "#7201a8"
             ],
             [
              0.3333333333333333,
              "#9c179e"
             ],
             [
              0.4444444444444444,
              "#bd3786"
             ],
             [
              0.5555555555555556,
              "#d8576b"
             ],
             [
              0.6666666666666666,
              "#ed7953"
             ],
             [
              0.7777777777777778,
              "#fb9f3a"
             ],
             [
              0.8888888888888888,
              "#fdca26"
             ],
             [
              1,
              "#f0f921"
             ]
            ],
            "type": "heatmapgl"
           }
          ],
          "histogram": [
           {
            "marker": {
             "pattern": {
              "fillmode": "overlay",
              "size": 10,
              "solidity": 0.2
             }
            },
            "type": "histogram"
           }
          ],
          "histogram2d": [
           {
            "colorbar": {
             "outlinewidth": 0,
             "ticks": ""
            },
            "colorscale": [
             [
              0,
              "#0d0887"
             ],
             [
              0.1111111111111111,
              "#46039f"
             ],
             [
              0.2222222222222222,
              "#7201a8"
             ],
             [
              0.3333333333333333,
              "#9c179e"
             ],
             [
              0.4444444444444444,
              "#bd3786"
             ],
             [
              0.5555555555555556,
              "#d8576b"
             ],
             [
              0.6666666666666666,
              "#ed7953"
             ],
             [
              0.7777777777777778,
              "#fb9f3a"
             ],
             [
              0.8888888888888888,
              "#fdca26"
             ],
             [
              1,
              "#f0f921"
             ]
            ],
            "type": "histogram2d"
           }
          ],
          "histogram2dcontour": [
           {
            "colorbar": {
             "outlinewidth": 0,
             "ticks": ""
            },
            "colorscale": [
             [
              0,
              "#0d0887"
             ],
             [
              0.1111111111111111,
              "#46039f"
             ],
             [
              0.2222222222222222,
              "#7201a8"
             ],
             [
              0.3333333333333333,
              "#9c179e"
             ],
             [
              0.4444444444444444,
              "#bd3786"
             ],
             [
              0.5555555555555556,
              "#d8576b"
             ],
             [
              0.6666666666666666,
              "#ed7953"
             ],
             [
              0.7777777777777778,
              "#fb9f3a"
             ],
             [
              0.8888888888888888,
              "#fdca26"
             ],
             [
              1,
              "#f0f921"
             ]
            ],
            "type": "histogram2dcontour"
           }
          ],
          "mesh3d": [
           {
            "colorbar": {
             "outlinewidth": 0,
             "ticks": ""
            },
            "type": "mesh3d"
           }
          ],
          "parcoords": [
           {
            "line": {
             "colorbar": {
              "outlinewidth": 0,
              "ticks": ""
             }
            },
            "type": "parcoords"
           }
          ],
          "pie": [
           {
            "automargin": true,
            "type": "pie"
           }
          ],
          "scatter": [
           {
            "marker": {
             "colorbar": {
              "outlinewidth": 0,
              "ticks": ""
             }
            },
            "type": "scatter"
           }
          ],
          "scatter3d": [
           {
            "line": {
             "colorbar": {
              "outlinewidth": 0,
              "ticks": ""
             }
            },
            "marker": {
             "colorbar": {
              "outlinewidth": 0,
              "ticks": ""
             }
            },
            "type": "scatter3d"
           }
          ],
          "scattercarpet": [
           {
            "marker": {
             "colorbar": {
              "outlinewidth": 0,
              "ticks": ""
             }
            },
            "type": "scattercarpet"
           }
          ],
          "scattergeo": [
           {
            "marker": {
             "colorbar": {
              "outlinewidth": 0,
              "ticks": ""
             }
            },
            "type": "scattergeo"
           }
          ],
          "scattergl": [
           {
            "marker": {
             "colorbar": {
              "outlinewidth": 0,
              "ticks": ""
             }
            },
            "type": "scattergl"
           }
          ],
          "scattermapbox": [
           {
            "marker": {
             "colorbar": {
              "outlinewidth": 0,
              "ticks": ""
             }
            },
            "type": "scattermapbox"
           }
          ],
          "scatterpolar": [
           {
            "marker": {
             "colorbar": {
              "outlinewidth": 0,
              "ticks": ""
             }
            },
            "type": "scatterpolar"
           }
          ],
          "scatterpolargl": [
           {
            "marker": {
             "colorbar": {
              "outlinewidth": 0,
              "ticks": ""
             }
            },
            "type": "scatterpolargl"
           }
          ],
          "scatterternary": [
           {
            "marker": {
             "colorbar": {
              "outlinewidth": 0,
              "ticks": ""
             }
            },
            "type": "scatterternary"
           }
          ],
          "surface": [
           {
            "colorbar": {
             "outlinewidth": 0,
             "ticks": ""
            },
            "colorscale": [
             [
              0,
              "#0d0887"
             ],
             [
              0.1111111111111111,
              "#46039f"
             ],
             [
              0.2222222222222222,
              "#7201a8"
             ],
             [
              0.3333333333333333,
              "#9c179e"
             ],
             [
              0.4444444444444444,
              "#bd3786"
             ],
             [
              0.5555555555555556,
              "#d8576b"
             ],
             [
              0.6666666666666666,
              "#ed7953"
             ],
             [
              0.7777777777777778,
              "#fb9f3a"
             ],
             [
              0.8888888888888888,
              "#fdca26"
             ],
             [
              1,
              "#f0f921"
             ]
            ],
            "type": "surface"
           }
          ],
          "table": [
           {
            "cells": {
             "fill": {
              "color": "#EBF0F8"
             },
             "line": {
              "color": "white"
             }
            },
            "header": {
             "fill": {
              "color": "#C8D4E3"
             },
             "line": {
              "color": "white"
             }
            },
            "type": "table"
           }
          ]
         },
         "layout": {
          "annotationdefaults": {
           "arrowcolor": "#2a3f5f",
           "arrowhead": 0,
           "arrowwidth": 1
          },
          "autotypenumbers": "strict",
          "coloraxis": {
           "colorbar": {
            "outlinewidth": 0,
            "ticks": ""
           }
          },
          "colorscale": {
           "diverging": [
            [
             0,
             "#8e0152"
            ],
            [
             0.1,
             "#c51b7d"
            ],
            [
             0.2,
             "#de77ae"
            ],
            [
             0.3,
             "#f1b6da"
            ],
            [
             0.4,
             "#fde0ef"
            ],
            [
             0.5,
             "#f7f7f7"
            ],
            [
             0.6,
             "#e6f5d0"
            ],
            [
             0.7,
             "#b8e186"
            ],
            [
             0.8,
             "#7fbc41"
            ],
            [
             0.9,
             "#4d9221"
            ],
            [
             1,
             "#276419"
            ]
           ],
           "sequential": [
            [
             0,
             "#0d0887"
            ],
            [
             0.1111111111111111,
             "#46039f"
            ],
            [
             0.2222222222222222,
             "#7201a8"
            ],
            [
             0.3333333333333333,
             "#9c179e"
            ],
            [
             0.4444444444444444,
             "#bd3786"
            ],
            [
             0.5555555555555556,
             "#d8576b"
            ],
            [
             0.6666666666666666,
             "#ed7953"
            ],
            [
             0.7777777777777778,
             "#fb9f3a"
            ],
            [
             0.8888888888888888,
             "#fdca26"
            ],
            [
             1,
             "#f0f921"
            ]
           ],
           "sequentialminus": [
            [
             0,
             "#0d0887"
            ],
            [
             0.1111111111111111,
             "#46039f"
            ],
            [
             0.2222222222222222,
             "#7201a8"
            ],
            [
             0.3333333333333333,
             "#9c179e"
            ],
            [
             0.4444444444444444,
             "#bd3786"
            ],
            [
             0.5555555555555556,
             "#d8576b"
            ],
            [
             0.6666666666666666,
             "#ed7953"
            ],
            [
             0.7777777777777778,
             "#fb9f3a"
            ],
            [
             0.8888888888888888,
             "#fdca26"
            ],
            [
             1,
             "#f0f921"
            ]
           ]
          },
          "colorway": [
           "#636efa",
           "#EF553B",
           "#00cc96",
           "#ab63fa",
           "#FFA15A",
           "#19d3f3",
           "#FF6692",
           "#B6E880",
           "#FF97FF",
           "#FECB52"
          ],
          "font": {
           "color": "#2a3f5f"
          },
          "geo": {
           "bgcolor": "white",
           "lakecolor": "white",
           "landcolor": "#E5ECF6",
           "showlakes": true,
           "showland": true,
           "subunitcolor": "white"
          },
          "hoverlabel": {
           "align": "left"
          },
          "hovermode": "closest",
          "mapbox": {
           "style": "light"
          },
          "paper_bgcolor": "white",
          "plot_bgcolor": "#E5ECF6",
          "polar": {
           "angularaxis": {
            "gridcolor": "white",
            "linecolor": "white",
            "ticks": ""
           },
           "bgcolor": "#E5ECF6",
           "radialaxis": {
            "gridcolor": "white",
            "linecolor": "white",
            "ticks": ""
           }
          },
          "scene": {
           "xaxis": {
            "backgroundcolor": "#E5ECF6",
            "gridcolor": "white",
            "gridwidth": 2,
            "linecolor": "white",
            "showbackground": true,
            "ticks": "",
            "zerolinecolor": "white"
           },
           "yaxis": {
            "backgroundcolor": "#E5ECF6",
            "gridcolor": "white",
            "gridwidth": 2,
            "linecolor": "white",
            "showbackground": true,
            "ticks": "",
            "zerolinecolor": "white"
           },
           "zaxis": {
            "backgroundcolor": "#E5ECF6",
            "gridcolor": "white",
            "gridwidth": 2,
            "linecolor": "white",
            "showbackground": true,
            "ticks": "",
            "zerolinecolor": "white"
           }
          },
          "shapedefaults": {
           "line": {
            "color": "#2a3f5f"
           }
          },
          "ternary": {
           "aaxis": {
            "gridcolor": "white",
            "linecolor": "white",
            "ticks": ""
           },
           "baxis": {
            "gridcolor": "white",
            "linecolor": "white",
            "ticks": ""
           },
           "bgcolor": "#E5ECF6",
           "caxis": {
            "gridcolor": "white",
            "linecolor": "white",
            "ticks": ""
           }
          },
          "title": {
           "x": 0.05
          },
          "xaxis": {
           "automargin": true,
           "gridcolor": "white",
           "linecolor": "white",
           "ticks": "",
           "title": {
            "standoff": 15
           },
           "zerolinecolor": "white",
           "zerolinewidth": 2
          },
          "yaxis": {
           "automargin": true,
           "gridcolor": "white",
           "linecolor": "white",
           "ticks": "",
           "title": {
            "standoff": 15
           },
           "zerolinecolor": "white",
           "zerolinewidth": 2
          }
         }
        },
        "title": {
         "text": "Error Distances Over Time"
        },
        "xaxis": {
         "dtick": 20,
         "tick0": 0,
         "tickmode": "linear",
         "title": {
          "text": "Time"
         }
        }
       }
      },
      "text/html": [
       "<div>                            <div id=\"8d7b21e7-c15d-4824-8146-be117cddc1db\" class=\"plotly-graph-div\" style=\"height:525px; width:100%;\"></div>            <script type=\"text/javascript\">                require([\"plotly\"], function(Plotly) {                    window.PLOTLYENV=window.PLOTLYENV || {};                                    if (document.getElementById(\"8d7b21e7-c15d-4824-8146-be117cddc1db\")) {                    Plotly.newPlot(                        \"8d7b21e7-c15d-4824-8146-be117cddc1db\",                        [{\"mode\":\"lines+markers\",\"name\":\"A-1.1\",\"type\":\"scatter\",\"x\":[7.0,8.0,9.0,10.0,11.0,12.0,13.0,14.0,15.0,16.0,17.0,18.0,19.0,20.0,21.0,22.0,23.0,24.0,25.0,26.0,27.0],\"y\":[3.170778534833566,2.722462256146028,3.19332064895599,2.2947437655309852,2.9040590360693246,3.245308484639045,2.843946261276235,3.0362767719288564,3.5453347874308134,2.304763461489689,2.777732780752176,2.9564236667575563,3.4912037449123976,3.29438679709107,3.7010638040303157,3.233710539073657,3.0654170700106005,2.362086435669002,2.557800433581099,2.92160982650351,2.521209303997227]},{\"mode\":\"lines+markers\",\"name\":\"A-1.2\",\"type\":\"scatter\",\"x\":[35.0,36.0,37.0,38.0,39.0,40.0,41.0,42.0,43.0,44.0,45.0,46.0,47.0,48.0,49.0,50.0,51.0,52.0,53.0,54.0,55.0],\"y\":[1.6131601937003077,1.7044807155168364,1.4341876252902463,1.4892650866149661,1.4549809981747814,1.3473574625791842,1.453129439322175,1.7676376497667228,1.4188931395148006,1.5380000764778312,1.362790996727373,1.8507818519397314,1.68609386563688,1.5242692232362594,1.361539102971453,1.5951616633672943,1.9991508285814157,1.3238975283974228,1.5560678917228459,0.7009190999890045,1.383779349159979]},{\"mode\":\"lines+markers\",\"name\":\"A-2.1\",\"type\":\"scatter\",\"x\":[67.0,68.0,69.0,70.0,71.0,72.0,73.0,74.0,75.0,76.0,77.0,78.0,79.0,80.0,81.0,82.0,83.0,84.0,85.0,86.0,87.0],\"y\":[3.490389363454779,3.419946306591407,3.170355538769049,3.2583718969153233,3.423958413067122,3.1127689105944696,3.1543016453296944,3.2993850446997612,3.1086745403194933,3.5324009204984175,3.1764705913571842,2.7719279727152255,2.8313024864406624,2.813582811351861,2.223480607362407,2.333969102180249,1.981736011518619,3.113660464652964,3.1841617050509443,2.122652883939479,2.697441850677724]},{\"mode\":\"lines+markers\",\"name\":\"A-2.2\",\"type\":\"scatter\",\"x\":[98.0,99.0,100.0,101.0,102.0,103.0,104.0,105.0,106.0,107.0,108.0,109.0,110.0,111.0,112.0,113.0,114.0,115.0,116.0,117.0,118.0],\"y\":[1.0963791729976093,0.819141940146859,0.46532925002416503,0.6655306779817083,0.48254982915696093,0.559107060881238,0.3928292354721312,0.9194207213192657,0.26990136229206635,1.0265343808792835,0.8985620991115194,0.8107356458831839,0.5444622015666872,0.44895076183851257,1.3228011984679107,0.5760060395082964,0.17895492470712815,0.748362888793275,0.896408517018355,0.46009863094412906,0.5228505202281849]},{\"mode\":\"lines+markers\",\"name\":\"A-3.1\",\"type\":\"scatter\",\"x\":[136.0,137.0,138.0,139.0,140.0,141.0,142.0,143.0,144.0,145.0,146.0,147.0,148.0,149.0,150.0,151.0,152.0,153.0,154.0,155.0,156.0],\"y\":[1.9043969031060062,2.2440922024542522,2.637781896268458,3.2147746543136733,2.953763967623793,2.9870776777556864,2.6357569847235958,2.6335015781159066,2.3608066742525025,2.230765818050504,2.2416539622491283,2.1832721180762658,2.0461043661845597,2.6021914216086723,2.6349817715985218,1.7191021590705955,2.01220315334174,2.883042821034061,3.92917036252781,3.75187570143746,3.656564451461521]},{\"mode\":\"lines+markers\",\"name\":\"A-3.2\",\"type\":\"scatter\",\"x\":[164.0,165.0,166.0,167.0,168.0,169.0,170.0,171.0,172.0,173.0,174.0,175.0,176.0,177.0,178.0,179.0,180.0,181.0,182.0,183.0,184.0],\"y\":[2.876840834874931,2.0111174857606966,0.7679079488263019,1.927327684992977,1.440998760949331,1.3054373447364047,2.0591249685653397,1.2725753625620633,2.432363167512277,2.1721254080162713,1.958506694079738,1.9850545307592513,1.4372598412668274,1.7800145214687202,2.2032176735644793,1.6467480142955666,1.9548734721215448,2.0784990309444478,1.3896256925413744,0.20349461740466346,0.6861468053188114]},{\"mode\":\"lines+markers\",\"name\":\"A-4.1\",\"type\":\"scatter\",\"x\":[193.0,194.0,195.0,196.0,197.0,198.0,199.0,200.0,201.0,202.0,203.0,204.0,205.0,206.0,207.0,208.0,209.0,210.0,211.0,212.0,213.0],\"y\":[3.6381828423000018,3.490272181921183,3.4083018421148905,2.894615646903072,2.4023724725724174,3.1210605532765383,1.9489516692570443,2.6135549393201405,2.656165064863896,2.6694051352656825,3.106442929850249,2.6971027220570307,2.874970154580414,3.1919446003074095,2.2835695000843046,1.8899206460180529,2.3563090947751495,2.4806719262374624,3.2591822191398827,3.3608535117298812,2.2300728786316673]},{\"mode\":\"lines+markers\",\"name\":\"A-4.2\",\"type\":\"scatter\",\"x\":[220.0,221.0,222.0,223.0,224.0,225.0,226.0,227.0,228.0,229.0,230.0,231.0,232.0,233.0,234.0,235.0,236.0,237.0,238.0,239.0,240.0],\"y\":[4.302968242709914,4.1640764835816055,2.9599893909803763,2.6852986816373132,2.6518749569409232,2.415497337359354,2.1478332990884272,2.586774160048991,2.3065252475657,2.073440638417488,2.3317928669861385,1.794437452161767,2.5167901664995997,2.6570020877140936,2.3295436436759647,2.045316788038334,2.0046111675540392,2.1772178627424514,1.8924137315603833,2.3950393611841854,2.495872728494559]},{\"mode\":\"lines+markers\",\"name\":\"A-5.1\",\"type\":\"scatter\",\"x\":[248.0,249.0,250.0,251.0,252.0,253.0,254.0,255.0,256.0,257.0,258.0,259.0,260.0,261.0,262.0,263.0,264.0,265.0,266.0,267.0,268.0],\"y\":[1.7083031053542206,1.9337077378986718,1.5414062043883667,1.4877328228801328,1.0099298126538407,2.3790092909982032,2.517360017917441,1.1839277683814535,1.6964666930493024,2.2471131143200624,1.7403881446733427,1.3526317753329111,1.3138512052195321,1.820736416257367,2.7399571388523136,2.3114449177988288,2.4520650408213602,2.327770523847499,3.137681813175164,1.4105159753213314,2.476985383162255]},{\"mode\":\"lines+markers\",\"name\":\"A-5.2\",\"type\":\"scatter\",\"x\":[278.0,279.0,280.0,281.0,282.0,283.0,284.0,285.0,286.0,287.0,288.0,289.0,290.0,291.0,292.0,293.0,294.0,295.0,296.0,297.0,298.0],\"y\":[3.9550526996669766,4.275302693490155,5.708485015068634,4.84560409273139,3.922185298221478,4.043560544292896,3.9823757946443923,5.480035909068324,5.016772740227727,4.069604953522445,2.5670500136016297,4.804933292289205,3.893038765652062,5.3093241516605,3.28252116870423,4.1520130865256615,4.1594738316682704,3.5655508661064443,4.802228812169488,3.2227424861239657,4.4682288844755]}],                        {\"legend\":{\"title\":{\"text\":\"Decreased Filter\"}},\"template\":{\"data\":{\"bar\":[{\"error_x\":{\"color\":\"#2a3f5f\"},\"error_y\":{\"color\":\"#2a3f5f\"},\"marker\":{\"line\":{\"color\":\"#E5ECF6\",\"width\":0.5},\"pattern\":{\"fillmode\":\"overlay\",\"size\":10,\"solidity\":0.2}},\"type\":\"bar\"}],\"barpolar\":[{\"marker\":{\"line\":{\"color\":\"#E5ECF6\",\"width\":0.5},\"pattern\":{\"fillmode\":\"overlay\",\"size\":10,\"solidity\":0.2}},\"type\":\"barpolar\"}],\"carpet\":[{\"aaxis\":{\"endlinecolor\":\"#2a3f5f\",\"gridcolor\":\"white\",\"linecolor\":\"white\",\"minorgridcolor\":\"white\",\"startlinecolor\":\"#2a3f5f\"},\"baxis\":{\"endlinecolor\":\"#2a3f5f\",\"gridcolor\":\"white\",\"linecolor\":\"white\",\"minorgridcolor\":\"white\",\"startlinecolor\":\"#2a3f5f\"},\"type\":\"carpet\"}],\"choropleth\":[{\"colorbar\":{\"outlinewidth\":0,\"ticks\":\"\"},\"type\":\"choropleth\"}],\"contour\":[{\"colorbar\":{\"outlinewidth\":0,\"ticks\":\"\"},\"colorscale\":[[0.0,\"#0d0887\"],[0.1111111111111111,\"#46039f\"],[0.2222222222222222,\"#7201a8\"],[0.3333333333333333,\"#9c179e\"],[0.4444444444444444,\"#bd3786\"],[0.5555555555555556,\"#d8576b\"],[0.6666666666666666,\"#ed7953\"],[0.7777777777777778,\"#fb9f3a\"],[0.8888888888888888,\"#fdca26\"],[1.0,\"#f0f921\"]],\"type\":\"contour\"}],\"contourcarpet\":[{\"colorbar\":{\"outlinewidth\":0,\"ticks\":\"\"},\"type\":\"contourcarpet\"}],\"heatmap\":[{\"colorbar\":{\"outlinewidth\":0,\"ticks\":\"\"},\"colorscale\":[[0.0,\"#0d0887\"],[0.1111111111111111,\"#46039f\"],[0.2222222222222222,\"#7201a8\"],[0.3333333333333333,\"#9c179e\"],[0.4444444444444444,\"#bd3786\"],[0.5555555555555556,\"#d8576b\"],[0.6666666666666666,\"#ed7953\"],[0.7777777777777778,\"#fb9f3a\"],[0.8888888888888888,\"#fdca26\"],[1.0,\"#f0f921\"]],\"type\":\"heatmap\"}],\"heatmapgl\":[{\"colorbar\":{\"outlinewidth\":0,\"ticks\":\"\"},\"colorscale\":[[0.0,\"#0d0887\"],[0.1111111111111111,\"#46039f\"],[0.2222222222222222,\"#7201a8\"],[0.3333333333333333,\"#9c179e\"],[0.4444444444444444,\"#bd3786\"],[0.5555555555555556,\"#d8576b\"],[0.6666666666666666,\"#ed7953\"],[0.7777777777777778,\"#fb9f3a\"],[0.8888888888888888,\"#fdca26\"],[1.0,\"#f0f921\"]],\"type\":\"heatmapgl\"}],\"histogram\":[{\"marker\":{\"pattern\":{\"fillmode\":\"overlay\",\"size\":10,\"solidity\":0.2}},\"type\":\"histogram\"}],\"histogram2d\":[{\"colorbar\":{\"outlinewidth\":0,\"ticks\":\"\"},\"colorscale\":[[0.0,\"#0d0887\"],[0.1111111111111111,\"#46039f\"],[0.2222222222222222,\"#7201a8\"],[0.3333333333333333,\"#9c179e\"],[0.4444444444444444,\"#bd3786\"],[0.5555555555555556,\"#d8576b\"],[0.6666666666666666,\"#ed7953\"],[0.7777777777777778,\"#fb9f3a\"],[0.8888888888888888,\"#fdca26\"],[1.0,\"#f0f921\"]],\"type\":\"histogram2d\"}],\"histogram2dcontour\":[{\"colorbar\":{\"outlinewidth\":0,\"ticks\":\"\"},\"colorscale\":[[0.0,\"#0d0887\"],[0.1111111111111111,\"#46039f\"],[0.2222222222222222,\"#7201a8\"],[0.3333333333333333,\"#9c179e\"],[0.4444444444444444,\"#bd3786\"],[0.5555555555555556,\"#d8576b\"],[0.6666666666666666,\"#ed7953\"],[0.7777777777777778,\"#fb9f3a\"],[0.8888888888888888,\"#fdca26\"],[1.0,\"#f0f921\"]],\"type\":\"histogram2dcontour\"}],\"mesh3d\":[{\"colorbar\":{\"outlinewidth\":0,\"ticks\":\"\"},\"type\":\"mesh3d\"}],\"parcoords\":[{\"line\":{\"colorbar\":{\"outlinewidth\":0,\"ticks\":\"\"}},\"type\":\"parcoords\"}],\"pie\":[{\"automargin\":true,\"type\":\"pie\"}],\"scatter\":[{\"marker\":{\"colorbar\":{\"outlinewidth\":0,\"ticks\":\"\"}},\"type\":\"scatter\"}],\"scatter3d\":[{\"line\":{\"colorbar\":{\"outlinewidth\":0,\"ticks\":\"\"}},\"marker\":{\"colorbar\":{\"outlinewidth\":0,\"ticks\":\"\"}},\"type\":\"scatter3d\"}],\"scattercarpet\":[{\"marker\":{\"colorbar\":{\"outlinewidth\":0,\"ticks\":\"\"}},\"type\":\"scattercarpet\"}],\"scattergeo\":[{\"marker\":{\"colorbar\":{\"outlinewidth\":0,\"ticks\":\"\"}},\"type\":\"scattergeo\"}],\"scattergl\":[{\"marker\":{\"colorbar\":{\"outlinewidth\":0,\"ticks\":\"\"}},\"type\":\"scattergl\"}],\"scattermapbox\":[{\"marker\":{\"colorbar\":{\"outlinewidth\":0,\"ticks\":\"\"}},\"type\":\"scattermapbox\"}],\"scatterpolar\":[{\"marker\":{\"colorbar\":{\"outlinewidth\":0,\"ticks\":\"\"}},\"type\":\"scatterpolar\"}],\"scatterpolargl\":[{\"marker\":{\"colorbar\":{\"outlinewidth\":0,\"ticks\":\"\"}},\"type\":\"scatterpolargl\"}],\"scatterternary\":[{\"marker\":{\"colorbar\":{\"outlinewidth\":0,\"ticks\":\"\"}},\"type\":\"scatterternary\"}],\"surface\":[{\"colorbar\":{\"outlinewidth\":0,\"ticks\":\"\"},\"colorscale\":[[0.0,\"#0d0887\"],[0.1111111111111111,\"#46039f\"],[0.2222222222222222,\"#7201a8\"],[0.3333333333333333,\"#9c179e\"],[0.4444444444444444,\"#bd3786\"],[0.5555555555555556,\"#d8576b\"],[0.6666666666666666,\"#ed7953\"],[0.7777777777777778,\"#fb9f3a\"],[0.8888888888888888,\"#fdca26\"],[1.0,\"#f0f921\"]],\"type\":\"surface\"}],\"table\":[{\"cells\":{\"fill\":{\"color\":\"#EBF0F8\"},\"line\":{\"color\":\"white\"}},\"header\":{\"fill\":{\"color\":\"#C8D4E3\"},\"line\":{\"color\":\"white\"}},\"type\":\"table\"}]},\"layout\":{\"annotationdefaults\":{\"arrowcolor\":\"#2a3f5f\",\"arrowhead\":0,\"arrowwidth\":1},\"autotypenumbers\":\"strict\",\"coloraxis\":{\"colorbar\":{\"outlinewidth\":0,\"ticks\":\"\"}},\"colorscale\":{\"diverging\":[[0,\"#8e0152\"],[0.1,\"#c51b7d\"],[0.2,\"#de77ae\"],[0.3,\"#f1b6da\"],[0.4,\"#fde0ef\"],[0.5,\"#f7f7f7\"],[0.6,\"#e6f5d0\"],[0.7,\"#b8e186\"],[0.8,\"#7fbc41\"],[0.9,\"#4d9221\"],[1,\"#276419\"]],\"sequential\":[[0.0,\"#0d0887\"],[0.1111111111111111,\"#46039f\"],[0.2222222222222222,\"#7201a8\"],[0.3333333333333333,\"#9c179e\"],[0.4444444444444444,\"#bd3786\"],[0.5555555555555556,\"#d8576b\"],[0.6666666666666666,\"#ed7953\"],[0.7777777777777778,\"#fb9f3a\"],[0.8888888888888888,\"#fdca26\"],[1.0,\"#f0f921\"]],\"sequentialminus\":[[0.0,\"#0d0887\"],[0.1111111111111111,\"#46039f\"],[0.2222222222222222,\"#7201a8\"],[0.3333333333333333,\"#9c179e\"],[0.4444444444444444,\"#bd3786\"],[0.5555555555555556,\"#d8576b\"],[0.6666666666666666,\"#ed7953\"],[0.7777777777777778,\"#fb9f3a\"],[0.8888888888888888,\"#fdca26\"],[1.0,\"#f0f921\"]]},\"colorway\":[\"#636efa\",\"#EF553B\",\"#00cc96\",\"#ab63fa\",\"#FFA15A\",\"#19d3f3\",\"#FF6692\",\"#B6E880\",\"#FF97FF\",\"#FECB52\"],\"font\":{\"color\":\"#2a3f5f\"},\"geo\":{\"bgcolor\":\"white\",\"lakecolor\":\"white\",\"landcolor\":\"#E5ECF6\",\"showlakes\":true,\"showland\":true,\"subunitcolor\":\"white\"},\"hoverlabel\":{\"align\":\"left\"},\"hovermode\":\"closest\",\"mapbox\":{\"style\":\"light\"},\"paper_bgcolor\":\"white\",\"plot_bgcolor\":\"#E5ECF6\",\"polar\":{\"angularaxis\":{\"gridcolor\":\"white\",\"linecolor\":\"white\",\"ticks\":\"\"},\"bgcolor\":\"#E5ECF6\",\"radialaxis\":{\"gridcolor\":\"white\",\"linecolor\":\"white\",\"ticks\":\"\"}},\"scene\":{\"xaxis\":{\"backgroundcolor\":\"#E5ECF6\",\"gridcolor\":\"white\",\"gridwidth\":2,\"linecolor\":\"white\",\"showbackground\":true,\"ticks\":\"\",\"zerolinecolor\":\"white\"},\"yaxis\":{\"backgroundcolor\":\"#E5ECF6\",\"gridcolor\":\"white\",\"gridwidth\":2,\"linecolor\":\"white\",\"showbackground\":true,\"ticks\":\"\",\"zerolinecolor\":\"white\"},\"zaxis\":{\"backgroundcolor\":\"#E5ECF6\",\"gridcolor\":\"white\",\"gridwidth\":2,\"linecolor\":\"white\",\"showbackground\":true,\"ticks\":\"\",\"zerolinecolor\":\"white\"}},\"shapedefaults\":{\"line\":{\"color\":\"#2a3f5f\"}},\"ternary\":{\"aaxis\":{\"gridcolor\":\"white\",\"linecolor\":\"white\",\"ticks\":\"\"},\"baxis\":{\"gridcolor\":\"white\",\"linecolor\":\"white\",\"ticks\":\"\"},\"bgcolor\":\"#E5ECF6\",\"caxis\":{\"gridcolor\":\"white\",\"linecolor\":\"white\",\"ticks\":\"\"}},\"title\":{\"x\":0.05},\"xaxis\":{\"automargin\":true,\"gridcolor\":\"white\",\"linecolor\":\"white\",\"ticks\":\"\",\"title\":{\"standoff\":15},\"zerolinecolor\":\"white\",\"zerolinewidth\":2},\"yaxis\":{\"automargin\":true,\"gridcolor\":\"white\",\"linecolor\":\"white\",\"ticks\":\"\",\"title\":{\"standoff\":15},\"zerolinecolor\":\"white\",\"zerolinewidth\":2}}},\"title\":{\"text\":\"Error Distances Over Time\"},\"xaxis\":{\"dtick\":20,\"tick0\":0,\"tickmode\":\"linear\",\"title\":{\"text\":\"Time\"}}},                        {\"responsive\": true}                    ).then(function(){\n",
       "                            \n",
       "var gd = document.getElementById('8d7b21e7-c15d-4824-8146-be117cddc1db');\n",
       "var x = new MutationObserver(function (mutations, observer) {{\n",
       "        var display = window.getComputedStyle(gd).display;\n",
       "        if (!display || display === 'none') {{\n",
       "            console.log([gd, 'removed!']);\n",
       "            Plotly.purge(gd);\n",
       "            observer.disconnect();\n",
       "        }}\n",
       "}});\n",
       "\n",
       "// Listen for the removal of the full notebook cells\n",
       "var notebookContainer = gd.closest('#notebook-container');\n",
       "if (notebookContainer) {{\n",
       "    x.observe(notebookContainer, {childList: true});\n",
       "}}\n",
       "\n",
       "// Listen for the clearing of the current output cell\n",
       "var outputEl = gd.closest('.output');\n",
       "if (outputEl) {{\n",
       "    x.observe(outputEl, {childList: true});\n",
       "}}\n",
       "\n",
       "                        })                };                });            </script>        </div>"
      ]
     },
     "metadata": {},
     "output_type": "display_data"
    }
   ],
   "source": [
    "### Analysis data for decreased filter with alpha gain of 0.6 ###\n",
    "fig2 = createFigure('Decreased Filter')\n",
    "fig_dist = createFigureForDistances('Decreased Filter')\n",
    "result, checkpointslist, fileName = main('./Filter_0.6/actlab_location_test1_08Jul.csv')\n",
    "fig2 = plotValues(fig2, result, fileName, 'mean')\n",
    "fig_dist = plotValuesForDistance(fig_dist, result)\n",
    "fig2.show()\n",
    "fig_dist.show()"
   ]
  },
  {
   "cell_type": "code",
   "execution_count": 577,
   "metadata": {},
   "outputs": [
    {
     "data": {
      "application/vnd.plotly.v1+json": {
       "config": {
        "plotlyServerURL": "https://plot.ly"
       },
       "data": [
        {
         "box": {
          "visible": true
         },
         "jitter": 0.05,
         "meanline": {
          "visible": true
         },
         "name": "A-1.1",
         "points": "all",
         "scalemode": "count",
         "type": "violin",
         "x": [
          "A-1.1",
          "A-1.1",
          "A-1.1",
          "A-1.1",
          "A-1.1",
          "A-1.1",
          "A-1.1",
          "A-1.1",
          "A-1.1",
          "A-1.1",
          "A-1.1",
          "A-1.1",
          "A-1.1",
          "A-1.1",
          "A-1.1",
          "A-1.1",
          "A-1.1",
          "A-1.1",
          "A-1.1",
          "A-1.1",
          "A-1.1"
         ],
         "y": [
          2.6817045839787537,
          2.701992315256836,
          2.73149283222136,
          2.6748676142587025,
          2.750315010391887,
          2.804213395474275,
          2.796023604216183,
          2.8514328361024908,
          2.8262611681896197,
          2.698194408807934,
          2.7197167336236125,
          2.676544530505897,
          2.71383791988783,
          2.7703114437280028,
          2.8222668632056336,
          2.8350412201142627,
          2.7808825767230143,
          2.7774171201916884,
          2.7712863971532693,
          2.786624792519577,
          2.7671745958997045
         ]
        },
        {
         "box": {
          "visible": true
         },
         "jitter": 0.05,
         "meanline": {
          "visible": true
         },
         "name": "A-1.2",
         "points": "all",
         "scalemode": "count",
         "type": "violin",
         "x": [
          "A-1.2",
          "A-1.2",
          "A-1.2",
          "A-1.2",
          "A-1.2",
          "A-1.2",
          "A-1.2",
          "A-1.2",
          "A-1.2",
          "A-1.2",
          "A-1.2",
          "A-1.2",
          "A-1.2",
          "A-1.2",
          "A-1.2",
          "A-1.2",
          "A-1.2",
          "A-1.2",
          "A-1.2",
          "A-1.2",
          "A-1.2"
         ],
         "y": [
          1.7516290381197732,
          1.7624494218156237,
          1.7212643276320134,
          1.7156621708781654,
          1.7093036153277794,
          1.6445660521573762,
          1.642525894353437,
          1.6696952909643632,
          1.633818544338809,
          1.6298228880956287,
          1.603394942649885,
          1.6117821151911078,
          1.5386755567763186,
          1.5188405019314457,
          1.5012702705351486,
          1.5324703356202578,
          1.5566704430487772,
          1.5184977130907968,
          1.5026060129454066,
          1.4659881462273356,
          1.451809675273406
         ]
        },
        {
         "box": {
          "visible": true
         },
         "jitter": 0.05,
         "meanline": {
          "visible": true
         },
         "name": "A-2.1",
         "points": "all",
         "scalemode": "count",
         "type": "violin",
         "x": [
          "A-2.1",
          "A-2.1",
          "A-2.1",
          "A-2.1",
          "A-2.1",
          "A-2.1",
          "A-2.1",
          "A-2.1",
          "A-2.1",
          "A-2.1",
          "A-2.1",
          "A-2.1",
          "A-2.1",
          "A-2.1",
          "A-2.1",
          "A-2.1",
          "A-2.1",
          "A-2.1",
          "A-2.1",
          "A-2.1",
          "A-2.1"
         ],
         "y": [
          2.8748065085680485,
          2.872109445610243,
          2.868826870943611,
          2.8798630674291816,
          2.8777996484308637,
          2.8853488143669006,
          2.8564743875615983,
          2.877529970587198,
          2.876809993465167,
          2.8392403907286963,
          2.849367028461785,
          2.843046151240357,
          2.8305820988002486,
          2.8185299096367724,
          2.7821185992167634,
          2.761607483759425,
          2.7213945926016048,
          2.747767998215388,
          2.7289612076597862,
          2.6836656975672737,
          2.68891581315493
         ]
        },
        {
         "box": {
          "visible": true
         },
         "jitter": 0.05,
         "meanline": {
          "visible": true
         },
         "name": "A-2.2",
         "points": "all",
         "scalemode": "count",
         "type": "violin",
         "x": [
          "A-2.2",
          "A-2.2",
          "A-2.2",
          "A-2.2",
          "A-2.2",
          "A-2.2",
          "A-2.2",
          "A-2.2",
          "A-2.2",
          "A-2.2",
          "A-2.2",
          "A-2.2",
          "A-2.2",
          "A-2.2",
          "A-2.2",
          "A-2.2",
          "A-2.2",
          "A-2.2",
          "A-2.2",
          "A-2.2",
          "A-2.2"
         ],
         "y": [
          1.0492580868220043,
          0.9973246296901548,
          0.8578767096348906,
          0.8336688532689275,
          0.7987651783134633,
          0.8162822428936483,
          0.7040874716580593,
          0.6990146743424728,
          0.6437240307444548,
          0.6006469098763345,
          0.6508945554852348,
          0.6209094552080054,
          0.6153086262281426,
          0.6235950957812249,
          0.739116664254795,
          0.7011301568579578,
          0.711318001646515,
          0.7395863411514315,
          0.6917199500130062,
          0.6122760807699243,
          0.6536741714789412
         ]
        },
        {
         "box": {
          "visible": true
         },
         "jitter": 0.05,
         "meanline": {
          "visible": true
         },
         "name": "A-3.1",
         "points": "all",
         "scalemode": "count",
         "type": "violin",
         "x": [
          "A-3.1",
          "A-3.1",
          "A-3.1",
          "A-3.1",
          "A-3.1",
          "A-3.1",
          "A-3.1",
          "A-3.1",
          "A-3.1",
          "A-3.1",
          "A-3.1",
          "A-3.1",
          "A-3.1",
          "A-3.1",
          "A-3.1",
          "A-3.1",
          "A-3.1",
          "A-3.1",
          "A-3.1",
          "A-3.1",
          "A-3.1"
         ],
         "y": [
          2.773188809828412,
          2.7377385600324633,
          2.638800706956899,
          2.5615197895588433,
          2.5799162616533047,
          2.5851424448513494,
          2.5978067714065864,
          2.6179769548793894,
          2.5838894107733896,
          2.5591130440010095,
          2.484991769967114,
          2.4716067405818634,
          2.4495561413532396,
          2.4600209582923007,
          2.4295274395316406,
          2.3793982989825238,
          2.3422410554218605,
          2.3980016088235234,
          2.5477490770486826,
          2.5483634645858926,
          2.6117163779349473
         ]
        },
        {
         "box": {
          "visible": true
         },
         "jitter": 0.05,
         "meanline": {
          "visible": true
         },
         "name": "A-3.2",
         "points": "all",
         "scalemode": "count",
         "type": "violin",
         "x": [
          "A-3.2",
          "A-3.2",
          "A-3.2",
          "A-3.2",
          "A-3.2",
          "A-3.2",
          "A-3.2",
          "A-3.2",
          "A-3.2",
          "A-3.2",
          "A-3.2",
          "A-3.2",
          "A-3.2",
          "A-3.2",
          "A-3.2",
          "A-3.2",
          "A-3.2",
          "A-3.2",
          "A-3.2",
          "A-3.2",
          "A-3.2"
         ],
         "y": [
          0.5943087966518334,
          0.5050795710518584,
          0.48779227270010056,
          0.5050439663221173,
          0.49876958700846663,
          0.4982228660455841,
          0.6190717314251657,
          0.6943785871527529,
          0.6803376404862466,
          0.7875145700019397,
          0.9061002281223086,
          0.9013082763255623,
          0.9035737247468684,
          1.0542153251754691,
          1.1282357765209605,
          1.1682700118117184,
          1.234179210994982,
          1.3346672804419906,
          1.3131219912332128,
          1.2174410483588431,
          1.2089600116941133
         ]
        },
        {
         "box": {
          "visible": true
         },
         "jitter": 0.05,
         "meanline": {
          "visible": true
         },
         "name": "A-4.1",
         "points": "all",
         "scalemode": "count",
         "type": "violin",
         "x": [
          "A-4.1",
          "A-4.1",
          "A-4.1",
          "A-4.1",
          "A-4.1",
          "A-4.1",
          "A-4.1",
          "A-4.1",
          "A-4.1",
          "A-4.1",
          "A-4.1",
          "A-4.1",
          "A-4.1",
          "A-4.1",
          "A-4.1",
          "A-4.1",
          "A-4.1",
          "A-4.1",
          "A-4.1",
          "A-4.1",
          "A-4.1"
         ],
         "y": [
          1.3910499952907223,
          1.5995796560473932,
          1.5838643062965065,
          1.6243843704563337,
          1.7322016202165242,
          1.7504361015760788,
          1.7580582109660532,
          1.8822846548744612,
          1.8722375239219462,
          1.9523760929745244,
          2.0134159585424487,
          2.0615071198751163,
          2.0621992555854276,
          2.1334898704599885,
          2.12690723000467,
          2.109946365812476,
          2.23086495946671,
          2.2359523438588558,
          2.3017242063283216,
          2.3753059584044607,
          2.289962962186429
         ]
        },
        {
         "box": {
          "visible": true
         },
         "jitter": 0.05,
         "meanline": {
          "visible": true
         },
         "name": "A-4.2",
         "points": "all",
         "scalemode": "count",
         "type": "violin",
         "x": [
          "A-4.2",
          "A-4.2",
          "A-4.2",
          "A-4.2",
          "A-4.2",
          "A-4.2",
          "A-4.2",
          "A-4.2",
          "A-4.2",
          "A-4.2",
          "A-4.2",
          "A-4.2",
          "A-4.2",
          "A-4.2",
          "A-4.2",
          "A-4.2",
          "A-4.2",
          "A-4.2",
          "A-4.2",
          "A-4.2",
          "A-4.2"
         ],
         "y": [
          4.048017726860751,
          4.004129907264633,
          3.9696150227859968,
          3.8342677312702484,
          3.844099025687016,
          3.767560652002147,
          3.612662318959392,
          3.5316270191496897,
          3.343290711382499,
          3.137697020234572,
          3.137726620741237,
          3.0074038683080953,
          2.9632776432673156,
          2.9555836562278364,
          2.8534333296336123,
          2.7229308856992818,
          2.6289573537805,
          2.592938970142829,
          2.534626962850985,
          2.515042656983562,
          2.5003255734291345
         ]
        },
        {
         "box": {
          "visible": true
         },
         "jitter": 0.05,
         "meanline": {
          "visible": true
         },
         "name": "A-5.1",
         "points": "all",
         "scalemode": "count",
         "type": "violin",
         "x": [
          "A-5.1",
          "A-5.1",
          "A-5.1",
          "A-5.1",
          "A-5.1",
          "A-5.1",
          "A-5.1",
          "A-5.1",
          "A-5.1",
          "A-5.1",
          "A-5.1",
          "A-5.1",
          "A-5.1",
          "A-5.1",
          "A-5.1",
          "A-5.1",
          "A-5.1",
          "A-5.1",
          "A-5.1",
          "A-5.1",
          "A-5.1"
         ],
         "y": [
          1.791033835507259,
          1.8269241316208555,
          1.772704539229704,
          1.7664330506328831,
          1.6892480139613468,
          1.777517164168168,
          1.6684739862704536,
          1.6273694107726684,
          1.6462182962477363,
          1.5265670571657417,
          1.526142862768121,
          1.4595648772443683,
          1.4373814756641536,
          1.4669231825714306,
          1.4194170137864461,
          1.4538533208104476,
          1.488268795967866,
          1.523467662499856,
          1.5922879123467797,
          1.5023422625912557,
          1.5564551775828288
         ]
        },
        {
         "box": {
          "visible": true
         },
         "jitter": 0.05,
         "meanline": {
          "visible": true
         },
         "name": "A-5.2",
         "points": "all",
         "scalemode": "count",
         "type": "violin",
         "x": [
          "A-5.2",
          "A-5.2",
          "A-5.2",
          "A-5.2",
          "A-5.2",
          "A-5.2",
          "A-5.2",
          "A-5.2",
          "A-5.2",
          "A-5.2",
          "A-5.2",
          "A-5.2",
          "A-5.2",
          "A-5.2",
          "A-5.2",
          "A-5.2",
          "A-5.2",
          "A-5.2",
          "A-5.2",
          "A-5.2",
          "A-5.2"
         ],
         "y": [
          3.706417926858932,
          3.7132199462049096,
          3.7521978782170016,
          3.738703740474342,
          3.776225487902737,
          3.7375883447938367,
          3.765951068194099,
          3.844205852758019,
          3.8765908952486425,
          3.8998412617726577,
          3.7880078703614606,
          3.7794582478565846,
          3.780789976745156,
          3.7985667138200174,
          3.7695730849022375,
          3.768112104477242,
          3.7570513951940048,
          3.6753778222148963,
          3.6621367233096143,
          3.545019553691529,
          3.5790596243639974
         ]
        }
       ],
       "layout": {
        "barmode": "group",
        "legend": {
         "orientation": "v",
         "title": {
          "text": "Increased Filter"
         },
         "xanchor": "left"
        },
        "template": {
         "data": {
          "bar": [
           {
            "error_x": {
             "color": "#2a3f5f"
            },
            "error_y": {
             "color": "#2a3f5f"
            },
            "marker": {
             "line": {
              "color": "#E5ECF6",
              "width": 0.5
             },
             "pattern": {
              "fillmode": "overlay",
              "size": 10,
              "solidity": 0.2
             }
            },
            "type": "bar"
           }
          ],
          "barpolar": [
           {
            "marker": {
             "line": {
              "color": "#E5ECF6",
              "width": 0.5
             },
             "pattern": {
              "fillmode": "overlay",
              "size": 10,
              "solidity": 0.2
             }
            },
            "type": "barpolar"
           }
          ],
          "carpet": [
           {
            "aaxis": {
             "endlinecolor": "#2a3f5f",
             "gridcolor": "white",
             "linecolor": "white",
             "minorgridcolor": "white",
             "startlinecolor": "#2a3f5f"
            },
            "baxis": {
             "endlinecolor": "#2a3f5f",
             "gridcolor": "white",
             "linecolor": "white",
             "minorgridcolor": "white",
             "startlinecolor": "#2a3f5f"
            },
            "type": "carpet"
           }
          ],
          "choropleth": [
           {
            "colorbar": {
             "outlinewidth": 0,
             "ticks": ""
            },
            "type": "choropleth"
           }
          ],
          "contour": [
           {
            "colorbar": {
             "outlinewidth": 0,
             "ticks": ""
            },
            "colorscale": [
             [
              0,
              "#0d0887"
             ],
             [
              0.1111111111111111,
              "#46039f"
             ],
             [
              0.2222222222222222,
              "#7201a8"
             ],
             [
              0.3333333333333333,
              "#9c179e"
             ],
             [
              0.4444444444444444,
              "#bd3786"
             ],
             [
              0.5555555555555556,
              "#d8576b"
             ],
             [
              0.6666666666666666,
              "#ed7953"
             ],
             [
              0.7777777777777778,
              "#fb9f3a"
             ],
             [
              0.8888888888888888,
              "#fdca26"
             ],
             [
              1,
              "#f0f921"
             ]
            ],
            "type": "contour"
           }
          ],
          "contourcarpet": [
           {
            "colorbar": {
             "outlinewidth": 0,
             "ticks": ""
            },
            "type": "contourcarpet"
           }
          ],
          "heatmap": [
           {
            "colorbar": {
             "outlinewidth": 0,
             "ticks": ""
            },
            "colorscale": [
             [
              0,
              "#0d0887"
             ],
             [
              0.1111111111111111,
              "#46039f"
             ],
             [
              0.2222222222222222,
              "#7201a8"
             ],
             [
              0.3333333333333333,
              "#9c179e"
             ],
             [
              0.4444444444444444,
              "#bd3786"
             ],
             [
              0.5555555555555556,
              "#d8576b"
             ],
             [
              0.6666666666666666,
              "#ed7953"
             ],
             [
              0.7777777777777778,
              "#fb9f3a"
             ],
             [
              0.8888888888888888,
              "#fdca26"
             ],
             [
              1,
              "#f0f921"
             ]
            ],
            "type": "heatmap"
           }
          ],
          "heatmapgl": [
           {
            "colorbar": {
             "outlinewidth": 0,
             "ticks": ""
            },
            "colorscale": [
             [
              0,
              "#0d0887"
             ],
             [
              0.1111111111111111,
              "#46039f"
             ],
             [
              0.2222222222222222,
              "#7201a8"
             ],
             [
              0.3333333333333333,
              "#9c179e"
             ],
             [
              0.4444444444444444,
              "#bd3786"
             ],
             [
              0.5555555555555556,
              "#d8576b"
             ],
             [
              0.6666666666666666,
              "#ed7953"
             ],
             [
              0.7777777777777778,
              "#fb9f3a"
             ],
             [
              0.8888888888888888,
              "#fdca26"
             ],
             [
              1,
              "#f0f921"
             ]
            ],
            "type": "heatmapgl"
           }
          ],
          "histogram": [
           {
            "marker": {
             "pattern": {
              "fillmode": "overlay",
              "size": 10,
              "solidity": 0.2
             }
            },
            "type": "histogram"
           }
          ],
          "histogram2d": [
           {
            "colorbar": {
             "outlinewidth": 0,
             "ticks": ""
            },
            "colorscale": [
             [
              0,
              "#0d0887"
             ],
             [
              0.1111111111111111,
              "#46039f"
             ],
             [
              0.2222222222222222,
              "#7201a8"
             ],
             [
              0.3333333333333333,
              "#9c179e"
             ],
             [
              0.4444444444444444,
              "#bd3786"
             ],
             [
              0.5555555555555556,
              "#d8576b"
             ],
             [
              0.6666666666666666,
              "#ed7953"
             ],
             [
              0.7777777777777778,
              "#fb9f3a"
             ],
             [
              0.8888888888888888,
              "#fdca26"
             ],
             [
              1,
              "#f0f921"
             ]
            ],
            "type": "histogram2d"
           }
          ],
          "histogram2dcontour": [
           {
            "colorbar": {
             "outlinewidth": 0,
             "ticks": ""
            },
            "colorscale": [
             [
              0,
              "#0d0887"
             ],
             [
              0.1111111111111111,
              "#46039f"
             ],
             [
              0.2222222222222222,
              "#7201a8"
             ],
             [
              0.3333333333333333,
              "#9c179e"
             ],
             [
              0.4444444444444444,
              "#bd3786"
             ],
             [
              0.5555555555555556,
              "#d8576b"
             ],
             [
              0.6666666666666666,
              "#ed7953"
             ],
             [
              0.7777777777777778,
              "#fb9f3a"
             ],
             [
              0.8888888888888888,
              "#fdca26"
             ],
             [
              1,
              "#f0f921"
             ]
            ],
            "type": "histogram2dcontour"
           }
          ],
          "mesh3d": [
           {
            "colorbar": {
             "outlinewidth": 0,
             "ticks": ""
            },
            "type": "mesh3d"
           }
          ],
          "parcoords": [
           {
            "line": {
             "colorbar": {
              "outlinewidth": 0,
              "ticks": ""
             }
            },
            "type": "parcoords"
           }
          ],
          "pie": [
           {
            "automargin": true,
            "type": "pie"
           }
          ],
          "scatter": [
           {
            "marker": {
             "colorbar": {
              "outlinewidth": 0,
              "ticks": ""
             }
            },
            "type": "scatter"
           }
          ],
          "scatter3d": [
           {
            "line": {
             "colorbar": {
              "outlinewidth": 0,
              "ticks": ""
             }
            },
            "marker": {
             "colorbar": {
              "outlinewidth": 0,
              "ticks": ""
             }
            },
            "type": "scatter3d"
           }
          ],
          "scattercarpet": [
           {
            "marker": {
             "colorbar": {
              "outlinewidth": 0,
              "ticks": ""
             }
            },
            "type": "scattercarpet"
           }
          ],
          "scattergeo": [
           {
            "marker": {
             "colorbar": {
              "outlinewidth": 0,
              "ticks": ""
             }
            },
            "type": "scattergeo"
           }
          ],
          "scattergl": [
           {
            "marker": {
             "colorbar": {
              "outlinewidth": 0,
              "ticks": ""
             }
            },
            "type": "scattergl"
           }
          ],
          "scattermapbox": [
           {
            "marker": {
             "colorbar": {
              "outlinewidth": 0,
              "ticks": ""
             }
            },
            "type": "scattermapbox"
           }
          ],
          "scatterpolar": [
           {
            "marker": {
             "colorbar": {
              "outlinewidth": 0,
              "ticks": ""
             }
            },
            "type": "scatterpolar"
           }
          ],
          "scatterpolargl": [
           {
            "marker": {
             "colorbar": {
              "outlinewidth": 0,
              "ticks": ""
             }
            },
            "type": "scatterpolargl"
           }
          ],
          "scatterternary": [
           {
            "marker": {
             "colorbar": {
              "outlinewidth": 0,
              "ticks": ""
             }
            },
            "type": "scatterternary"
           }
          ],
          "surface": [
           {
            "colorbar": {
             "outlinewidth": 0,
             "ticks": ""
            },
            "colorscale": [
             [
              0,
              "#0d0887"
             ],
             [
              0.1111111111111111,
              "#46039f"
             ],
             [
              0.2222222222222222,
              "#7201a8"
             ],
             [
              0.3333333333333333,
              "#9c179e"
             ],
             [
              0.4444444444444444,
              "#bd3786"
             ],
             [
              0.5555555555555556,
              "#d8576b"
             ],
             [
              0.6666666666666666,
              "#ed7953"
             ],
             [
              0.7777777777777778,
              "#fb9f3a"
             ],
             [
              0.8888888888888888,
              "#fdca26"
             ],
             [
              1,
              "#f0f921"
             ]
            ],
            "type": "surface"
           }
          ],
          "table": [
           {
            "cells": {
             "fill": {
              "color": "#EBF0F8"
             },
             "line": {
              "color": "white"
             }
            },
            "header": {
             "fill": {
              "color": "#C8D4E3"
             },
             "line": {
              "color": "white"
             }
            },
            "type": "table"
           }
          ]
         },
         "layout": {
          "annotationdefaults": {
           "arrowcolor": "#2a3f5f",
           "arrowhead": 0,
           "arrowwidth": 1
          },
          "autotypenumbers": "strict",
          "coloraxis": {
           "colorbar": {
            "outlinewidth": 0,
            "ticks": ""
           }
          },
          "colorscale": {
           "diverging": [
            [
             0,
             "#8e0152"
            ],
            [
             0.1,
             "#c51b7d"
            ],
            [
             0.2,
             "#de77ae"
            ],
            [
             0.3,
             "#f1b6da"
            ],
            [
             0.4,
             "#fde0ef"
            ],
            [
             0.5,
             "#f7f7f7"
            ],
            [
             0.6,
             "#e6f5d0"
            ],
            [
             0.7,
             "#b8e186"
            ],
            [
             0.8,
             "#7fbc41"
            ],
            [
             0.9,
             "#4d9221"
            ],
            [
             1,
             "#276419"
            ]
           ],
           "sequential": [
            [
             0,
             "#0d0887"
            ],
            [
             0.1111111111111111,
             "#46039f"
            ],
            [
             0.2222222222222222,
             "#7201a8"
            ],
            [
             0.3333333333333333,
             "#9c179e"
            ],
            [
             0.4444444444444444,
             "#bd3786"
            ],
            [
             0.5555555555555556,
             "#d8576b"
            ],
            [
             0.6666666666666666,
             "#ed7953"
            ],
            [
             0.7777777777777778,
             "#fb9f3a"
            ],
            [
             0.8888888888888888,
             "#fdca26"
            ],
            [
             1,
             "#f0f921"
            ]
           ],
           "sequentialminus": [
            [
             0,
             "#0d0887"
            ],
            [
             0.1111111111111111,
             "#46039f"
            ],
            [
             0.2222222222222222,
             "#7201a8"
            ],
            [
             0.3333333333333333,
             "#9c179e"
            ],
            [
             0.4444444444444444,
             "#bd3786"
            ],
            [
             0.5555555555555556,
             "#d8576b"
            ],
            [
             0.6666666666666666,
             "#ed7953"
            ],
            [
             0.7777777777777778,
             "#fb9f3a"
            ],
            [
             0.8888888888888888,
             "#fdca26"
            ],
            [
             1,
             "#f0f921"
            ]
           ]
          },
          "colorway": [
           "#636efa",
           "#EF553B",
           "#00cc96",
           "#ab63fa",
           "#FFA15A",
           "#19d3f3",
           "#FF6692",
           "#B6E880",
           "#FF97FF",
           "#FECB52"
          ],
          "font": {
           "color": "#2a3f5f"
          },
          "geo": {
           "bgcolor": "white",
           "lakecolor": "white",
           "landcolor": "#E5ECF6",
           "showlakes": true,
           "showland": true,
           "subunitcolor": "white"
          },
          "hoverlabel": {
           "align": "left"
          },
          "hovermode": "closest",
          "mapbox": {
           "style": "light"
          },
          "paper_bgcolor": "white",
          "plot_bgcolor": "#E5ECF6",
          "polar": {
           "angularaxis": {
            "gridcolor": "white",
            "linecolor": "white",
            "ticks": ""
           },
           "bgcolor": "#E5ECF6",
           "radialaxis": {
            "gridcolor": "white",
            "linecolor": "white",
            "ticks": ""
           }
          },
          "scene": {
           "xaxis": {
            "backgroundcolor": "#E5ECF6",
            "gridcolor": "white",
            "gridwidth": 2,
            "linecolor": "white",
            "showbackground": true,
            "ticks": "",
            "zerolinecolor": "white"
           },
           "yaxis": {
            "backgroundcolor": "#E5ECF6",
            "gridcolor": "white",
            "gridwidth": 2,
            "linecolor": "white",
            "showbackground": true,
            "ticks": "",
            "zerolinecolor": "white"
           },
           "zaxis": {
            "backgroundcolor": "#E5ECF6",
            "gridcolor": "white",
            "gridwidth": 2,
            "linecolor": "white",
            "showbackground": true,
            "ticks": "",
            "zerolinecolor": "white"
           }
          },
          "shapedefaults": {
           "line": {
            "color": "#2a3f5f"
           }
          },
          "ternary": {
           "aaxis": {
            "gridcolor": "white",
            "linecolor": "white",
            "ticks": ""
           },
           "baxis": {
            "gridcolor": "white",
            "linecolor": "white",
            "ticks": ""
           },
           "bgcolor": "#E5ECF6",
           "caxis": {
            "gridcolor": "white",
            "linecolor": "white",
            "ticks": ""
           }
          },
          "title": {
           "x": 0.05
          },
          "xaxis": {
           "automargin": true,
           "gridcolor": "white",
           "linecolor": "white",
           "ticks": "",
           "title": {
            "standoff": 15
           },
           "zerolinecolor": "white",
           "zerolinewidth": 2
          },
          "yaxis": {
           "automargin": true,
           "gridcolor": "white",
           "linecolor": "white",
           "ticks": "",
           "title": {
            "standoff": 15
           },
           "zerolinecolor": "white",
           "zerolinewidth": 2
          }
         }
        },
        "title": {
         "text": "Violin Plot of Error Distances"
        },
        "xaxis": {
         "title": {
          "text": "Checkpoints"
         }
        },
        "yaxis": {
         "range": [
          -1.5,
          7.5
         ]
        }
       }
      },
      "text/html": [
       "<div>                            <div id=\"df5a90aa-ea1e-4a0d-ac2c-8d96cfc6db32\" class=\"plotly-graph-div\" style=\"height:525px; width:100%;\"></div>            <script type=\"text/javascript\">                require([\"plotly\"], function(Plotly) {                    window.PLOTLYENV=window.PLOTLYENV || {};                                    if (document.getElementById(\"df5a90aa-ea1e-4a0d-ac2c-8d96cfc6db32\")) {                    Plotly.newPlot(                        \"df5a90aa-ea1e-4a0d-ac2c-8d96cfc6db32\",                        [{\"box\":{\"visible\":true},\"jitter\":0.05,\"meanline\":{\"visible\":true},\"name\":\"A-1.1\",\"points\":\"all\",\"scalemode\":\"count\",\"type\":\"violin\",\"x\":[\"A-1.1\",\"A-1.1\",\"A-1.1\",\"A-1.1\",\"A-1.1\",\"A-1.1\",\"A-1.1\",\"A-1.1\",\"A-1.1\",\"A-1.1\",\"A-1.1\",\"A-1.1\",\"A-1.1\",\"A-1.1\",\"A-1.1\",\"A-1.1\",\"A-1.1\",\"A-1.1\",\"A-1.1\",\"A-1.1\",\"A-1.1\"],\"y\":[2.6817045839787537,2.701992315256836,2.73149283222136,2.6748676142587025,2.750315010391887,2.804213395474275,2.796023604216183,2.8514328361024908,2.8262611681896197,2.698194408807934,2.7197167336236125,2.676544530505897,2.71383791988783,2.7703114437280028,2.8222668632056336,2.8350412201142627,2.7808825767230143,2.7774171201916884,2.7712863971532693,2.786624792519577,2.7671745958997045]},{\"box\":{\"visible\":true},\"jitter\":0.05,\"meanline\":{\"visible\":true},\"name\":\"A-1.2\",\"points\":\"all\",\"scalemode\":\"count\",\"type\":\"violin\",\"x\":[\"A-1.2\",\"A-1.2\",\"A-1.2\",\"A-1.2\",\"A-1.2\",\"A-1.2\",\"A-1.2\",\"A-1.2\",\"A-1.2\",\"A-1.2\",\"A-1.2\",\"A-1.2\",\"A-1.2\",\"A-1.2\",\"A-1.2\",\"A-1.2\",\"A-1.2\",\"A-1.2\",\"A-1.2\",\"A-1.2\",\"A-1.2\"],\"y\":[1.7516290381197732,1.7624494218156237,1.7212643276320134,1.7156621708781654,1.7093036153277794,1.6445660521573762,1.642525894353437,1.6696952909643632,1.633818544338809,1.6298228880956287,1.603394942649885,1.6117821151911078,1.5386755567763186,1.5188405019314457,1.5012702705351486,1.5324703356202578,1.5566704430487772,1.5184977130907968,1.5026060129454066,1.4659881462273356,1.451809675273406]},{\"box\":{\"visible\":true},\"jitter\":0.05,\"meanline\":{\"visible\":true},\"name\":\"A-2.1\",\"points\":\"all\",\"scalemode\":\"count\",\"type\":\"violin\",\"x\":[\"A-2.1\",\"A-2.1\",\"A-2.1\",\"A-2.1\",\"A-2.1\",\"A-2.1\",\"A-2.1\",\"A-2.1\",\"A-2.1\",\"A-2.1\",\"A-2.1\",\"A-2.1\",\"A-2.1\",\"A-2.1\",\"A-2.1\",\"A-2.1\",\"A-2.1\",\"A-2.1\",\"A-2.1\",\"A-2.1\",\"A-2.1\"],\"y\":[2.8748065085680485,2.872109445610243,2.868826870943611,2.8798630674291816,2.8777996484308637,2.8853488143669006,2.8564743875615983,2.877529970587198,2.876809993465167,2.8392403907286963,2.849367028461785,2.843046151240357,2.8305820988002486,2.8185299096367724,2.7821185992167634,2.761607483759425,2.7213945926016048,2.747767998215388,2.7289612076597862,2.6836656975672737,2.68891581315493]},{\"box\":{\"visible\":true},\"jitter\":0.05,\"meanline\":{\"visible\":true},\"name\":\"A-2.2\",\"points\":\"all\",\"scalemode\":\"count\",\"type\":\"violin\",\"x\":[\"A-2.2\",\"A-2.2\",\"A-2.2\",\"A-2.2\",\"A-2.2\",\"A-2.2\",\"A-2.2\",\"A-2.2\",\"A-2.2\",\"A-2.2\",\"A-2.2\",\"A-2.2\",\"A-2.2\",\"A-2.2\",\"A-2.2\",\"A-2.2\",\"A-2.2\",\"A-2.2\",\"A-2.2\",\"A-2.2\",\"A-2.2\"],\"y\":[1.0492580868220043,0.9973246296901548,0.8578767096348906,0.8336688532689275,0.7987651783134633,0.8162822428936483,0.7040874716580593,0.6990146743424728,0.6437240307444548,0.6006469098763345,0.6508945554852348,0.6209094552080054,0.6153086262281426,0.6235950957812249,0.739116664254795,0.7011301568579578,0.711318001646515,0.7395863411514315,0.6917199500130062,0.6122760807699243,0.6536741714789412]},{\"box\":{\"visible\":true},\"jitter\":0.05,\"meanline\":{\"visible\":true},\"name\":\"A-3.1\",\"points\":\"all\",\"scalemode\":\"count\",\"type\":\"violin\",\"x\":[\"A-3.1\",\"A-3.1\",\"A-3.1\",\"A-3.1\",\"A-3.1\",\"A-3.1\",\"A-3.1\",\"A-3.1\",\"A-3.1\",\"A-3.1\",\"A-3.1\",\"A-3.1\",\"A-3.1\",\"A-3.1\",\"A-3.1\",\"A-3.1\",\"A-3.1\",\"A-3.1\",\"A-3.1\",\"A-3.1\",\"A-3.1\"],\"y\":[2.773188809828412,2.7377385600324633,2.638800706956899,2.5615197895588433,2.5799162616533047,2.5851424448513494,2.5978067714065864,2.6179769548793894,2.5838894107733896,2.5591130440010095,2.484991769967114,2.4716067405818634,2.4495561413532396,2.4600209582923007,2.4295274395316406,2.3793982989825238,2.3422410554218605,2.3980016088235234,2.5477490770486826,2.5483634645858926,2.6117163779349473]},{\"box\":{\"visible\":true},\"jitter\":0.05,\"meanline\":{\"visible\":true},\"name\":\"A-3.2\",\"points\":\"all\",\"scalemode\":\"count\",\"type\":\"violin\",\"x\":[\"A-3.2\",\"A-3.2\",\"A-3.2\",\"A-3.2\",\"A-3.2\",\"A-3.2\",\"A-3.2\",\"A-3.2\",\"A-3.2\",\"A-3.2\",\"A-3.2\",\"A-3.2\",\"A-3.2\",\"A-3.2\",\"A-3.2\",\"A-3.2\",\"A-3.2\",\"A-3.2\",\"A-3.2\",\"A-3.2\",\"A-3.2\"],\"y\":[0.5943087966518334,0.5050795710518584,0.48779227270010056,0.5050439663221173,0.49876958700846663,0.4982228660455841,0.6190717314251657,0.6943785871527529,0.6803376404862466,0.7875145700019397,0.9061002281223086,0.9013082763255623,0.9035737247468684,1.0542153251754691,1.1282357765209605,1.1682700118117184,1.234179210994982,1.3346672804419906,1.3131219912332128,1.2174410483588431,1.2089600116941133]},{\"box\":{\"visible\":true},\"jitter\":0.05,\"meanline\":{\"visible\":true},\"name\":\"A-4.1\",\"points\":\"all\",\"scalemode\":\"count\",\"type\":\"violin\",\"x\":[\"A-4.1\",\"A-4.1\",\"A-4.1\",\"A-4.1\",\"A-4.1\",\"A-4.1\",\"A-4.1\",\"A-4.1\",\"A-4.1\",\"A-4.1\",\"A-4.1\",\"A-4.1\",\"A-4.1\",\"A-4.1\",\"A-4.1\",\"A-4.1\",\"A-4.1\",\"A-4.1\",\"A-4.1\",\"A-4.1\",\"A-4.1\"],\"y\":[1.3910499952907223,1.5995796560473932,1.5838643062965065,1.6243843704563337,1.7322016202165242,1.7504361015760788,1.7580582109660532,1.8822846548744612,1.8722375239219462,1.9523760929745244,2.0134159585424487,2.0615071198751163,2.0621992555854276,2.1334898704599885,2.12690723000467,2.109946365812476,2.23086495946671,2.2359523438588558,2.3017242063283216,2.3753059584044607,2.289962962186429]},{\"box\":{\"visible\":true},\"jitter\":0.05,\"meanline\":{\"visible\":true},\"name\":\"A-4.2\",\"points\":\"all\",\"scalemode\":\"count\",\"type\":\"violin\",\"x\":[\"A-4.2\",\"A-4.2\",\"A-4.2\",\"A-4.2\",\"A-4.2\",\"A-4.2\",\"A-4.2\",\"A-4.2\",\"A-4.2\",\"A-4.2\",\"A-4.2\",\"A-4.2\",\"A-4.2\",\"A-4.2\",\"A-4.2\",\"A-4.2\",\"A-4.2\",\"A-4.2\",\"A-4.2\",\"A-4.2\",\"A-4.2\"],\"y\":[4.048017726860751,4.004129907264633,3.9696150227859968,3.8342677312702484,3.844099025687016,3.767560652002147,3.612662318959392,3.5316270191496897,3.343290711382499,3.137697020234572,3.137726620741237,3.0074038683080953,2.9632776432673156,2.9555836562278364,2.8534333296336123,2.7229308856992818,2.6289573537805,2.592938970142829,2.534626962850985,2.515042656983562,2.5003255734291345]},{\"box\":{\"visible\":true},\"jitter\":0.05,\"meanline\":{\"visible\":true},\"name\":\"A-5.1\",\"points\":\"all\",\"scalemode\":\"count\",\"type\":\"violin\",\"x\":[\"A-5.1\",\"A-5.1\",\"A-5.1\",\"A-5.1\",\"A-5.1\",\"A-5.1\",\"A-5.1\",\"A-5.1\",\"A-5.1\",\"A-5.1\",\"A-5.1\",\"A-5.1\",\"A-5.1\",\"A-5.1\",\"A-5.1\",\"A-5.1\",\"A-5.1\",\"A-5.1\",\"A-5.1\",\"A-5.1\",\"A-5.1\"],\"y\":[1.791033835507259,1.8269241316208555,1.772704539229704,1.7664330506328831,1.6892480139613468,1.777517164168168,1.6684739862704536,1.6273694107726684,1.6462182962477363,1.5265670571657417,1.526142862768121,1.4595648772443683,1.4373814756641536,1.4669231825714306,1.4194170137864461,1.4538533208104476,1.488268795967866,1.523467662499856,1.5922879123467797,1.5023422625912557,1.5564551775828288]},{\"box\":{\"visible\":true},\"jitter\":0.05,\"meanline\":{\"visible\":true},\"name\":\"A-5.2\",\"points\":\"all\",\"scalemode\":\"count\",\"type\":\"violin\",\"x\":[\"A-5.2\",\"A-5.2\",\"A-5.2\",\"A-5.2\",\"A-5.2\",\"A-5.2\",\"A-5.2\",\"A-5.2\",\"A-5.2\",\"A-5.2\",\"A-5.2\",\"A-5.2\",\"A-5.2\",\"A-5.2\",\"A-5.2\",\"A-5.2\",\"A-5.2\",\"A-5.2\",\"A-5.2\",\"A-5.2\",\"A-5.2\"],\"y\":[3.706417926858932,3.7132199462049096,3.7521978782170016,3.738703740474342,3.776225487902737,3.7375883447938367,3.765951068194099,3.844205852758019,3.8765908952486425,3.8998412617726577,3.7880078703614606,3.7794582478565846,3.780789976745156,3.7985667138200174,3.7695730849022375,3.768112104477242,3.7570513951940048,3.6753778222148963,3.6621367233096143,3.545019553691529,3.5790596243639974]}],                        {\"barmode\":\"group\",\"legend\":{\"orientation\":\"v\",\"title\":{\"text\":\"Increased Filter\"},\"xanchor\":\"left\"},\"template\":{\"data\":{\"bar\":[{\"error_x\":{\"color\":\"#2a3f5f\"},\"error_y\":{\"color\":\"#2a3f5f\"},\"marker\":{\"line\":{\"color\":\"#E5ECF6\",\"width\":0.5},\"pattern\":{\"fillmode\":\"overlay\",\"size\":10,\"solidity\":0.2}},\"type\":\"bar\"}],\"barpolar\":[{\"marker\":{\"line\":{\"color\":\"#E5ECF6\",\"width\":0.5},\"pattern\":{\"fillmode\":\"overlay\",\"size\":10,\"solidity\":0.2}},\"type\":\"barpolar\"}],\"carpet\":[{\"aaxis\":{\"endlinecolor\":\"#2a3f5f\",\"gridcolor\":\"white\",\"linecolor\":\"white\",\"minorgridcolor\":\"white\",\"startlinecolor\":\"#2a3f5f\"},\"baxis\":{\"endlinecolor\":\"#2a3f5f\",\"gridcolor\":\"white\",\"linecolor\":\"white\",\"minorgridcolor\":\"white\",\"startlinecolor\":\"#2a3f5f\"},\"type\":\"carpet\"}],\"choropleth\":[{\"colorbar\":{\"outlinewidth\":0,\"ticks\":\"\"},\"type\":\"choropleth\"}],\"contour\":[{\"colorbar\":{\"outlinewidth\":0,\"ticks\":\"\"},\"colorscale\":[[0.0,\"#0d0887\"],[0.1111111111111111,\"#46039f\"],[0.2222222222222222,\"#7201a8\"],[0.3333333333333333,\"#9c179e\"],[0.4444444444444444,\"#bd3786\"],[0.5555555555555556,\"#d8576b\"],[0.6666666666666666,\"#ed7953\"],[0.7777777777777778,\"#fb9f3a\"],[0.8888888888888888,\"#fdca26\"],[1.0,\"#f0f921\"]],\"type\":\"contour\"}],\"contourcarpet\":[{\"colorbar\":{\"outlinewidth\":0,\"ticks\":\"\"},\"type\":\"contourcarpet\"}],\"heatmap\":[{\"colorbar\":{\"outlinewidth\":0,\"ticks\":\"\"},\"colorscale\":[[0.0,\"#0d0887\"],[0.1111111111111111,\"#46039f\"],[0.2222222222222222,\"#7201a8\"],[0.3333333333333333,\"#9c179e\"],[0.4444444444444444,\"#bd3786\"],[0.5555555555555556,\"#d8576b\"],[0.6666666666666666,\"#ed7953\"],[0.7777777777777778,\"#fb9f3a\"],[0.8888888888888888,\"#fdca26\"],[1.0,\"#f0f921\"]],\"type\":\"heatmap\"}],\"heatmapgl\":[{\"colorbar\":{\"outlinewidth\":0,\"ticks\":\"\"},\"colorscale\":[[0.0,\"#0d0887\"],[0.1111111111111111,\"#46039f\"],[0.2222222222222222,\"#7201a8\"],[0.3333333333333333,\"#9c179e\"],[0.4444444444444444,\"#bd3786\"],[0.5555555555555556,\"#d8576b\"],[0.6666666666666666,\"#ed7953\"],[0.7777777777777778,\"#fb9f3a\"],[0.8888888888888888,\"#fdca26\"],[1.0,\"#f0f921\"]],\"type\":\"heatmapgl\"}],\"histogram\":[{\"marker\":{\"pattern\":{\"fillmode\":\"overlay\",\"size\":10,\"solidity\":0.2}},\"type\":\"histogram\"}],\"histogram2d\":[{\"colorbar\":{\"outlinewidth\":0,\"ticks\":\"\"},\"colorscale\":[[0.0,\"#0d0887\"],[0.1111111111111111,\"#46039f\"],[0.2222222222222222,\"#7201a8\"],[0.3333333333333333,\"#9c179e\"],[0.4444444444444444,\"#bd3786\"],[0.5555555555555556,\"#d8576b\"],[0.6666666666666666,\"#ed7953\"],[0.7777777777777778,\"#fb9f3a\"],[0.8888888888888888,\"#fdca26\"],[1.0,\"#f0f921\"]],\"type\":\"histogram2d\"}],\"histogram2dcontour\":[{\"colorbar\":{\"outlinewidth\":0,\"ticks\":\"\"},\"colorscale\":[[0.0,\"#0d0887\"],[0.1111111111111111,\"#46039f\"],[0.2222222222222222,\"#7201a8\"],[0.3333333333333333,\"#9c179e\"],[0.4444444444444444,\"#bd3786\"],[0.5555555555555556,\"#d8576b\"],[0.6666666666666666,\"#ed7953\"],[0.7777777777777778,\"#fb9f3a\"],[0.8888888888888888,\"#fdca26\"],[1.0,\"#f0f921\"]],\"type\":\"histogram2dcontour\"}],\"mesh3d\":[{\"colorbar\":{\"outlinewidth\":0,\"ticks\":\"\"},\"type\":\"mesh3d\"}],\"parcoords\":[{\"line\":{\"colorbar\":{\"outlinewidth\":0,\"ticks\":\"\"}},\"type\":\"parcoords\"}],\"pie\":[{\"automargin\":true,\"type\":\"pie\"}],\"scatter\":[{\"marker\":{\"colorbar\":{\"outlinewidth\":0,\"ticks\":\"\"}},\"type\":\"scatter\"}],\"scatter3d\":[{\"line\":{\"colorbar\":{\"outlinewidth\":0,\"ticks\":\"\"}},\"marker\":{\"colorbar\":{\"outlinewidth\":0,\"ticks\":\"\"}},\"type\":\"scatter3d\"}],\"scattercarpet\":[{\"marker\":{\"colorbar\":{\"outlinewidth\":0,\"ticks\":\"\"}},\"type\":\"scattercarpet\"}],\"scattergeo\":[{\"marker\":{\"colorbar\":{\"outlinewidth\":0,\"ticks\":\"\"}},\"type\":\"scattergeo\"}],\"scattergl\":[{\"marker\":{\"colorbar\":{\"outlinewidth\":0,\"ticks\":\"\"}},\"type\":\"scattergl\"}],\"scattermapbox\":[{\"marker\":{\"colorbar\":{\"outlinewidth\":0,\"ticks\":\"\"}},\"type\":\"scattermapbox\"}],\"scatterpolar\":[{\"marker\":{\"colorbar\":{\"outlinewidth\":0,\"ticks\":\"\"}},\"type\":\"scatterpolar\"}],\"scatterpolargl\":[{\"marker\":{\"colorbar\":{\"outlinewidth\":0,\"ticks\":\"\"}},\"type\":\"scatterpolargl\"}],\"scatterternary\":[{\"marker\":{\"colorbar\":{\"outlinewidth\":0,\"ticks\":\"\"}},\"type\":\"scatterternary\"}],\"surface\":[{\"colorbar\":{\"outlinewidth\":0,\"ticks\":\"\"},\"colorscale\":[[0.0,\"#0d0887\"],[0.1111111111111111,\"#46039f\"],[0.2222222222222222,\"#7201a8\"],[0.3333333333333333,\"#9c179e\"],[0.4444444444444444,\"#bd3786\"],[0.5555555555555556,\"#d8576b\"],[0.6666666666666666,\"#ed7953\"],[0.7777777777777778,\"#fb9f3a\"],[0.8888888888888888,\"#fdca26\"],[1.0,\"#f0f921\"]],\"type\":\"surface\"}],\"table\":[{\"cells\":{\"fill\":{\"color\":\"#EBF0F8\"},\"line\":{\"color\":\"white\"}},\"header\":{\"fill\":{\"color\":\"#C8D4E3\"},\"line\":{\"color\":\"white\"}},\"type\":\"table\"}]},\"layout\":{\"annotationdefaults\":{\"arrowcolor\":\"#2a3f5f\",\"arrowhead\":0,\"arrowwidth\":1},\"autotypenumbers\":\"strict\",\"coloraxis\":{\"colorbar\":{\"outlinewidth\":0,\"ticks\":\"\"}},\"colorscale\":{\"diverging\":[[0,\"#8e0152\"],[0.1,\"#c51b7d\"],[0.2,\"#de77ae\"],[0.3,\"#f1b6da\"],[0.4,\"#fde0ef\"],[0.5,\"#f7f7f7\"],[0.6,\"#e6f5d0\"],[0.7,\"#b8e186\"],[0.8,\"#7fbc41\"],[0.9,\"#4d9221\"],[1,\"#276419\"]],\"sequential\":[[0.0,\"#0d0887\"],[0.1111111111111111,\"#46039f\"],[0.2222222222222222,\"#7201a8\"],[0.3333333333333333,\"#9c179e\"],[0.4444444444444444,\"#bd3786\"],[0.5555555555555556,\"#d8576b\"],[0.6666666666666666,\"#ed7953\"],[0.7777777777777778,\"#fb9f3a\"],[0.8888888888888888,\"#fdca26\"],[1.0,\"#f0f921\"]],\"sequentialminus\":[[0.0,\"#0d0887\"],[0.1111111111111111,\"#46039f\"],[0.2222222222222222,\"#7201a8\"],[0.3333333333333333,\"#9c179e\"],[0.4444444444444444,\"#bd3786\"],[0.5555555555555556,\"#d8576b\"],[0.6666666666666666,\"#ed7953\"],[0.7777777777777778,\"#fb9f3a\"],[0.8888888888888888,\"#fdca26\"],[1.0,\"#f0f921\"]]},\"colorway\":[\"#636efa\",\"#EF553B\",\"#00cc96\",\"#ab63fa\",\"#FFA15A\",\"#19d3f3\",\"#FF6692\",\"#B6E880\",\"#FF97FF\",\"#FECB52\"],\"font\":{\"color\":\"#2a3f5f\"},\"geo\":{\"bgcolor\":\"white\",\"lakecolor\":\"white\",\"landcolor\":\"#E5ECF6\",\"showlakes\":true,\"showland\":true,\"subunitcolor\":\"white\"},\"hoverlabel\":{\"align\":\"left\"},\"hovermode\":\"closest\",\"mapbox\":{\"style\":\"light\"},\"paper_bgcolor\":\"white\",\"plot_bgcolor\":\"#E5ECF6\",\"polar\":{\"angularaxis\":{\"gridcolor\":\"white\",\"linecolor\":\"white\",\"ticks\":\"\"},\"bgcolor\":\"#E5ECF6\",\"radialaxis\":{\"gridcolor\":\"white\",\"linecolor\":\"white\",\"ticks\":\"\"}},\"scene\":{\"xaxis\":{\"backgroundcolor\":\"#E5ECF6\",\"gridcolor\":\"white\",\"gridwidth\":2,\"linecolor\":\"white\",\"showbackground\":true,\"ticks\":\"\",\"zerolinecolor\":\"white\"},\"yaxis\":{\"backgroundcolor\":\"#E5ECF6\",\"gridcolor\":\"white\",\"gridwidth\":2,\"linecolor\":\"white\",\"showbackground\":true,\"ticks\":\"\",\"zerolinecolor\":\"white\"},\"zaxis\":{\"backgroundcolor\":\"#E5ECF6\",\"gridcolor\":\"white\",\"gridwidth\":2,\"linecolor\":\"white\",\"showbackground\":true,\"ticks\":\"\",\"zerolinecolor\":\"white\"}},\"shapedefaults\":{\"line\":{\"color\":\"#2a3f5f\"}},\"ternary\":{\"aaxis\":{\"gridcolor\":\"white\",\"linecolor\":\"white\",\"ticks\":\"\"},\"baxis\":{\"gridcolor\":\"white\",\"linecolor\":\"white\",\"ticks\":\"\"},\"bgcolor\":\"#E5ECF6\",\"caxis\":{\"gridcolor\":\"white\",\"linecolor\":\"white\",\"ticks\":\"\"}},\"title\":{\"x\":0.05},\"xaxis\":{\"automargin\":true,\"gridcolor\":\"white\",\"linecolor\":\"white\",\"ticks\":\"\",\"title\":{\"standoff\":15},\"zerolinecolor\":\"white\",\"zerolinewidth\":2},\"yaxis\":{\"automargin\":true,\"gridcolor\":\"white\",\"linecolor\":\"white\",\"ticks\":\"\",\"title\":{\"standoff\":15},\"zerolinecolor\":\"white\",\"zerolinewidth\":2}}},\"title\":{\"text\":\"Violin Plot of Error Distances\"},\"xaxis\":{\"title\":{\"text\":\"Checkpoints\"}},\"yaxis\":{\"range\":[-1.5,7.5]}},                        {\"responsive\": true}                    ).then(function(){\n",
       "                            \n",
       "var gd = document.getElementById('df5a90aa-ea1e-4a0d-ac2c-8d96cfc6db32');\n",
       "var x = new MutationObserver(function (mutations, observer) {{\n",
       "        var display = window.getComputedStyle(gd).display;\n",
       "        if (!display || display === 'none') {{\n",
       "            console.log([gd, 'removed!']);\n",
       "            Plotly.purge(gd);\n",
       "            observer.disconnect();\n",
       "        }}\n",
       "}});\n",
       "\n",
       "// Listen for the removal of the full notebook cells\n",
       "var notebookContainer = gd.closest('#notebook-container');\n",
       "if (notebookContainer) {{\n",
       "    x.observe(notebookContainer, {childList: true});\n",
       "}}\n",
       "\n",
       "// Listen for the clearing of the current output cell\n",
       "var outputEl = gd.closest('.output');\n",
       "if (outputEl) {{\n",
       "    x.observe(outputEl, {childList: true});\n",
       "}}\n",
       "\n",
       "                        })                };                });            </script>        </div>"
      ]
     },
     "metadata": {},
     "output_type": "display_data"
    },
    {
     "data": {
      "application/vnd.plotly.v1+json": {
       "config": {
        "plotlyServerURL": "https://plot.ly"
       },
       "data": [
        {
         "mode": "lines+markers",
         "name": "A-1.1",
         "type": "scatter",
         "x": [
          7,
          8,
          9,
          10,
          11,
          12,
          13,
          14,
          15,
          16,
          17,
          18,
          19,
          20,
          21,
          22,
          23,
          24,
          25,
          26,
          27
         ],
         "y": [
          2.6817045839787537,
          2.701992315256836,
          2.73149283222136,
          2.6748676142587025,
          2.750315010391887,
          2.804213395474275,
          2.796023604216183,
          2.8514328361024908,
          2.8262611681896197,
          2.698194408807934,
          2.7197167336236125,
          2.676544530505897,
          2.71383791988783,
          2.7703114437280028,
          2.8222668632056336,
          2.8350412201142627,
          2.7808825767230143,
          2.7774171201916884,
          2.7712863971532693,
          2.786624792519577,
          2.7671745958997045
         ]
        },
        {
         "mode": "lines+markers",
         "name": "A-1.2",
         "type": "scatter",
         "x": [
          35,
          36,
          37,
          38,
          39,
          40,
          41,
          42,
          43,
          44,
          45,
          46,
          47,
          48,
          49,
          50,
          51,
          52,
          53,
          54,
          55
         ],
         "y": [
          1.7516290381197732,
          1.7624494218156237,
          1.7212643276320134,
          1.7156621708781654,
          1.7093036153277794,
          1.6445660521573762,
          1.642525894353437,
          1.6696952909643632,
          1.633818544338809,
          1.6298228880956287,
          1.603394942649885,
          1.6117821151911078,
          1.5386755567763186,
          1.5188405019314457,
          1.5012702705351486,
          1.5324703356202578,
          1.5566704430487772,
          1.5184977130907968,
          1.5026060129454066,
          1.4659881462273356,
          1.451809675273406
         ]
        },
        {
         "mode": "lines+markers",
         "name": "A-2.1",
         "type": "scatter",
         "x": [
          67,
          68,
          69,
          70,
          71,
          72,
          73,
          74,
          75,
          76,
          77,
          78,
          79,
          80,
          81,
          82,
          83,
          84,
          85,
          86,
          87
         ],
         "y": [
          2.8748065085680485,
          2.872109445610243,
          2.868826870943611,
          2.8798630674291816,
          2.8777996484308637,
          2.8853488143669006,
          2.8564743875615983,
          2.877529970587198,
          2.876809993465167,
          2.8392403907286963,
          2.849367028461785,
          2.843046151240357,
          2.8305820988002486,
          2.8185299096367724,
          2.7821185992167634,
          2.761607483759425,
          2.7213945926016048,
          2.747767998215388,
          2.7289612076597862,
          2.6836656975672737,
          2.68891581315493
         ]
        },
        {
         "mode": "lines+markers",
         "name": "A-2.2",
         "type": "scatter",
         "x": [
          98,
          99,
          100,
          101,
          102,
          103,
          104,
          105,
          106,
          107,
          108,
          109,
          110,
          111,
          112,
          113,
          114,
          115,
          116,
          117,
          118
         ],
         "y": [
          1.0492580868220043,
          0.9973246296901548,
          0.8578767096348906,
          0.8336688532689275,
          0.7987651783134633,
          0.8162822428936483,
          0.7040874716580593,
          0.6990146743424728,
          0.6437240307444548,
          0.6006469098763345,
          0.6508945554852348,
          0.6209094552080054,
          0.6153086262281426,
          0.6235950957812249,
          0.739116664254795,
          0.7011301568579578,
          0.711318001646515,
          0.7395863411514315,
          0.6917199500130062,
          0.6122760807699243,
          0.6536741714789412
         ]
        },
        {
         "mode": "lines+markers",
         "name": "A-3.1",
         "type": "scatter",
         "x": [
          136,
          137,
          138,
          139,
          140,
          141,
          142,
          143,
          144,
          145,
          146,
          147,
          148,
          149,
          150,
          151,
          152,
          153,
          154,
          155,
          156
         ],
         "y": [
          2.773188809828412,
          2.7377385600324633,
          2.638800706956899,
          2.5615197895588433,
          2.5799162616533047,
          2.5851424448513494,
          2.5978067714065864,
          2.6179769548793894,
          2.5838894107733896,
          2.5591130440010095,
          2.484991769967114,
          2.4716067405818634,
          2.4495561413532396,
          2.4600209582923007,
          2.4295274395316406,
          2.3793982989825238,
          2.3422410554218605,
          2.3980016088235234,
          2.5477490770486826,
          2.5483634645858926,
          2.6117163779349473
         ]
        },
        {
         "mode": "lines+markers",
         "name": "A-3.2",
         "type": "scatter",
         "x": [
          164,
          165,
          166,
          167,
          168,
          169,
          170,
          171,
          172,
          173,
          174,
          175,
          176,
          177,
          178,
          179,
          180,
          181,
          182,
          183,
          184
         ],
         "y": [
          0.5943087966518334,
          0.5050795710518584,
          0.48779227270010056,
          0.5050439663221173,
          0.49876958700846663,
          0.4982228660455841,
          0.6190717314251657,
          0.6943785871527529,
          0.6803376404862466,
          0.7875145700019397,
          0.9061002281223086,
          0.9013082763255623,
          0.9035737247468684,
          1.0542153251754691,
          1.1282357765209605,
          1.1682700118117184,
          1.234179210994982,
          1.3346672804419906,
          1.3131219912332128,
          1.2174410483588431,
          1.2089600116941133
         ]
        },
        {
         "mode": "lines+markers",
         "name": "A-4.1",
         "type": "scatter",
         "x": [
          193,
          194,
          195,
          196,
          197,
          198,
          199,
          200,
          201,
          202,
          203,
          204,
          205,
          206,
          207,
          208,
          209,
          210,
          211,
          212,
          213
         ],
         "y": [
          1.3910499952907223,
          1.5995796560473932,
          1.5838643062965065,
          1.6243843704563337,
          1.7322016202165242,
          1.7504361015760788,
          1.7580582109660532,
          1.8822846548744612,
          1.8722375239219462,
          1.9523760929745244,
          2.0134159585424487,
          2.0615071198751163,
          2.0621992555854276,
          2.1334898704599885,
          2.12690723000467,
          2.109946365812476,
          2.23086495946671,
          2.2359523438588558,
          2.3017242063283216,
          2.3753059584044607,
          2.289962962186429
         ]
        },
        {
         "mode": "lines+markers",
         "name": "A-4.2",
         "type": "scatter",
         "x": [
          220,
          221,
          222,
          223,
          224,
          225,
          226,
          227,
          228,
          229,
          230,
          231,
          232,
          233,
          234,
          235,
          236,
          237,
          238,
          239,
          240
         ],
         "y": [
          4.048017726860751,
          4.004129907264633,
          3.9696150227859968,
          3.8342677312702484,
          3.844099025687016,
          3.767560652002147,
          3.612662318959392,
          3.5316270191496897,
          3.343290711382499,
          3.137697020234572,
          3.137726620741237,
          3.0074038683080953,
          2.9632776432673156,
          2.9555836562278364,
          2.8534333296336123,
          2.7229308856992818,
          2.6289573537805,
          2.592938970142829,
          2.534626962850985,
          2.515042656983562,
          2.5003255734291345
         ]
        },
        {
         "mode": "lines+markers",
         "name": "A-5.1",
         "type": "scatter",
         "x": [
          248,
          249,
          250,
          251,
          252,
          253,
          254,
          255,
          256,
          257,
          258,
          259,
          260,
          261,
          262,
          263,
          264,
          265,
          266,
          267,
          268
         ],
         "y": [
          1.791033835507259,
          1.8269241316208555,
          1.772704539229704,
          1.7664330506328831,
          1.6892480139613468,
          1.777517164168168,
          1.6684739862704536,
          1.6273694107726684,
          1.6462182962477363,
          1.5265670571657417,
          1.526142862768121,
          1.4595648772443683,
          1.4373814756641536,
          1.4669231825714306,
          1.4194170137864461,
          1.4538533208104476,
          1.488268795967866,
          1.523467662499856,
          1.5922879123467797,
          1.5023422625912557,
          1.5564551775828288
         ]
        },
        {
         "mode": "lines+markers",
         "name": "A-5.2",
         "type": "scatter",
         "x": [
          278,
          279,
          280,
          281,
          282,
          283,
          284,
          285,
          286,
          287,
          288,
          289,
          290,
          291,
          292,
          293,
          294,
          295,
          296,
          297,
          298
         ],
         "y": [
          3.706417926858932,
          3.7132199462049096,
          3.7521978782170016,
          3.738703740474342,
          3.776225487902737,
          3.7375883447938367,
          3.765951068194099,
          3.844205852758019,
          3.8765908952486425,
          3.8998412617726577,
          3.7880078703614606,
          3.7794582478565846,
          3.780789976745156,
          3.7985667138200174,
          3.7695730849022375,
          3.768112104477242,
          3.7570513951940048,
          3.6753778222148963,
          3.6621367233096143,
          3.545019553691529,
          3.5790596243639974
         ]
        }
       ],
       "layout": {
        "legend": {
         "title": {
          "text": "Increased Filter"
         }
        },
        "template": {
         "data": {
          "bar": [
           {
            "error_x": {
             "color": "#2a3f5f"
            },
            "error_y": {
             "color": "#2a3f5f"
            },
            "marker": {
             "line": {
              "color": "#E5ECF6",
              "width": 0.5
             },
             "pattern": {
              "fillmode": "overlay",
              "size": 10,
              "solidity": 0.2
             }
            },
            "type": "bar"
           }
          ],
          "barpolar": [
           {
            "marker": {
             "line": {
              "color": "#E5ECF6",
              "width": 0.5
             },
             "pattern": {
              "fillmode": "overlay",
              "size": 10,
              "solidity": 0.2
             }
            },
            "type": "barpolar"
           }
          ],
          "carpet": [
           {
            "aaxis": {
             "endlinecolor": "#2a3f5f",
             "gridcolor": "white",
             "linecolor": "white",
             "minorgridcolor": "white",
             "startlinecolor": "#2a3f5f"
            },
            "baxis": {
             "endlinecolor": "#2a3f5f",
             "gridcolor": "white",
             "linecolor": "white",
             "minorgridcolor": "white",
             "startlinecolor": "#2a3f5f"
            },
            "type": "carpet"
           }
          ],
          "choropleth": [
           {
            "colorbar": {
             "outlinewidth": 0,
             "ticks": ""
            },
            "type": "choropleth"
           }
          ],
          "contour": [
           {
            "colorbar": {
             "outlinewidth": 0,
             "ticks": ""
            },
            "colorscale": [
             [
              0,
              "#0d0887"
             ],
             [
              0.1111111111111111,
              "#46039f"
             ],
             [
              0.2222222222222222,
              "#7201a8"
             ],
             [
              0.3333333333333333,
              "#9c179e"
             ],
             [
              0.4444444444444444,
              "#bd3786"
             ],
             [
              0.5555555555555556,
              "#d8576b"
             ],
             [
              0.6666666666666666,
              "#ed7953"
             ],
             [
              0.7777777777777778,
              "#fb9f3a"
             ],
             [
              0.8888888888888888,
              "#fdca26"
             ],
             [
              1,
              "#f0f921"
             ]
            ],
            "type": "contour"
           }
          ],
          "contourcarpet": [
           {
            "colorbar": {
             "outlinewidth": 0,
             "ticks": ""
            },
            "type": "contourcarpet"
           }
          ],
          "heatmap": [
           {
            "colorbar": {
             "outlinewidth": 0,
             "ticks": ""
            },
            "colorscale": [
             [
              0,
              "#0d0887"
             ],
             [
              0.1111111111111111,
              "#46039f"
             ],
             [
              0.2222222222222222,
              "#7201a8"
             ],
             [
              0.3333333333333333,
              "#9c179e"
             ],
             [
              0.4444444444444444,
              "#bd3786"
             ],
             [
              0.5555555555555556,
              "#d8576b"
             ],
             [
              0.6666666666666666,
              "#ed7953"
             ],
             [
              0.7777777777777778,
              "#fb9f3a"
             ],
             [
              0.8888888888888888,
              "#fdca26"
             ],
             [
              1,
              "#f0f921"
             ]
            ],
            "type": "heatmap"
           }
          ],
          "heatmapgl": [
           {
            "colorbar": {
             "outlinewidth": 0,
             "ticks": ""
            },
            "colorscale": [
             [
              0,
              "#0d0887"
             ],
             [
              0.1111111111111111,
              "#46039f"
             ],
             [
              0.2222222222222222,
              "#7201a8"
             ],
             [
              0.3333333333333333,
              "#9c179e"
             ],
             [
              0.4444444444444444,
              "#bd3786"
             ],
             [
              0.5555555555555556,
              "#d8576b"
             ],
             [
              0.6666666666666666,
              "#ed7953"
             ],
             [
              0.7777777777777778,
              "#fb9f3a"
             ],
             [
              0.8888888888888888,
              "#fdca26"
             ],
             [
              1,
              "#f0f921"
             ]
            ],
            "type": "heatmapgl"
           }
          ],
          "histogram": [
           {
            "marker": {
             "pattern": {
              "fillmode": "overlay",
              "size": 10,
              "solidity": 0.2
             }
            },
            "type": "histogram"
           }
          ],
          "histogram2d": [
           {
            "colorbar": {
             "outlinewidth": 0,
             "ticks": ""
            },
            "colorscale": [
             [
              0,
              "#0d0887"
             ],
             [
              0.1111111111111111,
              "#46039f"
             ],
             [
              0.2222222222222222,
              "#7201a8"
             ],
             [
              0.3333333333333333,
              "#9c179e"
             ],
             [
              0.4444444444444444,
              "#bd3786"
             ],
             [
              0.5555555555555556,
              "#d8576b"
             ],
             [
              0.6666666666666666,
              "#ed7953"
             ],
             [
              0.7777777777777778,
              "#fb9f3a"
             ],
             [
              0.8888888888888888,
              "#fdca26"
             ],
             [
              1,
              "#f0f921"
             ]
            ],
            "type": "histogram2d"
           }
          ],
          "histogram2dcontour": [
           {
            "colorbar": {
             "outlinewidth": 0,
             "ticks": ""
            },
            "colorscale": [
             [
              0,
              "#0d0887"
             ],
             [
              0.1111111111111111,
              "#46039f"
             ],
             [
              0.2222222222222222,
              "#7201a8"
             ],
             [
              0.3333333333333333,
              "#9c179e"
             ],
             [
              0.4444444444444444,
              "#bd3786"
             ],
             [
              0.5555555555555556,
              "#d8576b"
             ],
             [
              0.6666666666666666,
              "#ed7953"
             ],
             [
              0.7777777777777778,
              "#fb9f3a"
             ],
             [
              0.8888888888888888,
              "#fdca26"
             ],
             [
              1,
              "#f0f921"
             ]
            ],
            "type": "histogram2dcontour"
           }
          ],
          "mesh3d": [
           {
            "colorbar": {
             "outlinewidth": 0,
             "ticks": ""
            },
            "type": "mesh3d"
           }
          ],
          "parcoords": [
           {
            "line": {
             "colorbar": {
              "outlinewidth": 0,
              "ticks": ""
             }
            },
            "type": "parcoords"
           }
          ],
          "pie": [
           {
            "automargin": true,
            "type": "pie"
           }
          ],
          "scatter": [
           {
            "marker": {
             "colorbar": {
              "outlinewidth": 0,
              "ticks": ""
             }
            },
            "type": "scatter"
           }
          ],
          "scatter3d": [
           {
            "line": {
             "colorbar": {
              "outlinewidth": 0,
              "ticks": ""
             }
            },
            "marker": {
             "colorbar": {
              "outlinewidth": 0,
              "ticks": ""
             }
            },
            "type": "scatter3d"
           }
          ],
          "scattercarpet": [
           {
            "marker": {
             "colorbar": {
              "outlinewidth": 0,
              "ticks": ""
             }
            },
            "type": "scattercarpet"
           }
          ],
          "scattergeo": [
           {
            "marker": {
             "colorbar": {
              "outlinewidth": 0,
              "ticks": ""
             }
            },
            "type": "scattergeo"
           }
          ],
          "scattergl": [
           {
            "marker": {
             "colorbar": {
              "outlinewidth": 0,
              "ticks": ""
             }
            },
            "type": "scattergl"
           }
          ],
          "scattermapbox": [
           {
            "marker": {
             "colorbar": {
              "outlinewidth": 0,
              "ticks": ""
             }
            },
            "type": "scattermapbox"
           }
          ],
          "scatterpolar": [
           {
            "marker": {
             "colorbar": {
              "outlinewidth": 0,
              "ticks": ""
             }
            },
            "type": "scatterpolar"
           }
          ],
          "scatterpolargl": [
           {
            "marker": {
             "colorbar": {
              "outlinewidth": 0,
              "ticks": ""
             }
            },
            "type": "scatterpolargl"
           }
          ],
          "scatterternary": [
           {
            "marker": {
             "colorbar": {
              "outlinewidth": 0,
              "ticks": ""
             }
            },
            "type": "scatterternary"
           }
          ],
          "surface": [
           {
            "colorbar": {
             "outlinewidth": 0,
             "ticks": ""
            },
            "colorscale": [
             [
              0,
              "#0d0887"
             ],
             [
              0.1111111111111111,
              "#46039f"
             ],
             [
              0.2222222222222222,
              "#7201a8"
             ],
             [
              0.3333333333333333,
              "#9c179e"
             ],
             [
              0.4444444444444444,
              "#bd3786"
             ],
             [
              0.5555555555555556,
              "#d8576b"
             ],
             [
              0.6666666666666666,
              "#ed7953"
             ],
             [
              0.7777777777777778,
              "#fb9f3a"
             ],
             [
              0.8888888888888888,
              "#fdca26"
             ],
             [
              1,
              "#f0f921"
             ]
            ],
            "type": "surface"
           }
          ],
          "table": [
           {
            "cells": {
             "fill": {
              "color": "#EBF0F8"
             },
             "line": {
              "color": "white"
             }
            },
            "header": {
             "fill": {
              "color": "#C8D4E3"
             },
             "line": {
              "color": "white"
             }
            },
            "type": "table"
           }
          ]
         },
         "layout": {
          "annotationdefaults": {
           "arrowcolor": "#2a3f5f",
           "arrowhead": 0,
           "arrowwidth": 1
          },
          "autotypenumbers": "strict",
          "coloraxis": {
           "colorbar": {
            "outlinewidth": 0,
            "ticks": ""
           }
          },
          "colorscale": {
           "diverging": [
            [
             0,
             "#8e0152"
            ],
            [
             0.1,
             "#c51b7d"
            ],
            [
             0.2,
             "#de77ae"
            ],
            [
             0.3,
             "#f1b6da"
            ],
            [
             0.4,
             "#fde0ef"
            ],
            [
             0.5,
             "#f7f7f7"
            ],
            [
             0.6,
             "#e6f5d0"
            ],
            [
             0.7,
             "#b8e186"
            ],
            [
             0.8,
             "#7fbc41"
            ],
            [
             0.9,
             "#4d9221"
            ],
            [
             1,
             "#276419"
            ]
           ],
           "sequential": [
            [
             0,
             "#0d0887"
            ],
            [
             0.1111111111111111,
             "#46039f"
            ],
            [
             0.2222222222222222,
             "#7201a8"
            ],
            [
             0.3333333333333333,
             "#9c179e"
            ],
            [
             0.4444444444444444,
             "#bd3786"
            ],
            [
             0.5555555555555556,
             "#d8576b"
            ],
            [
             0.6666666666666666,
             "#ed7953"
            ],
            [
             0.7777777777777778,
             "#fb9f3a"
            ],
            [
             0.8888888888888888,
             "#fdca26"
            ],
            [
             1,
             "#f0f921"
            ]
           ],
           "sequentialminus": [
            [
             0,
             "#0d0887"
            ],
            [
             0.1111111111111111,
             "#46039f"
            ],
            [
             0.2222222222222222,
             "#7201a8"
            ],
            [
             0.3333333333333333,
             "#9c179e"
            ],
            [
             0.4444444444444444,
             "#bd3786"
            ],
            [
             0.5555555555555556,
             "#d8576b"
            ],
            [
             0.6666666666666666,
             "#ed7953"
            ],
            [
             0.7777777777777778,
             "#fb9f3a"
            ],
            [
             0.8888888888888888,
             "#fdca26"
            ],
            [
             1,
             "#f0f921"
            ]
           ]
          },
          "colorway": [
           "#636efa",
           "#EF553B",
           "#00cc96",
           "#ab63fa",
           "#FFA15A",
           "#19d3f3",
           "#FF6692",
           "#B6E880",
           "#FF97FF",
           "#FECB52"
          ],
          "font": {
           "color": "#2a3f5f"
          },
          "geo": {
           "bgcolor": "white",
           "lakecolor": "white",
           "landcolor": "#E5ECF6",
           "showlakes": true,
           "showland": true,
           "subunitcolor": "white"
          },
          "hoverlabel": {
           "align": "left"
          },
          "hovermode": "closest",
          "mapbox": {
           "style": "light"
          },
          "paper_bgcolor": "white",
          "plot_bgcolor": "#E5ECF6",
          "polar": {
           "angularaxis": {
            "gridcolor": "white",
            "linecolor": "white",
            "ticks": ""
           },
           "bgcolor": "#E5ECF6",
           "radialaxis": {
            "gridcolor": "white",
            "linecolor": "white",
            "ticks": ""
           }
          },
          "scene": {
           "xaxis": {
            "backgroundcolor": "#E5ECF6",
            "gridcolor": "white",
            "gridwidth": 2,
            "linecolor": "white",
            "showbackground": true,
            "ticks": "",
            "zerolinecolor": "white"
           },
           "yaxis": {
            "backgroundcolor": "#E5ECF6",
            "gridcolor": "white",
            "gridwidth": 2,
            "linecolor": "white",
            "showbackground": true,
            "ticks": "",
            "zerolinecolor": "white"
           },
           "zaxis": {
            "backgroundcolor": "#E5ECF6",
            "gridcolor": "white",
            "gridwidth": 2,
            "linecolor": "white",
            "showbackground": true,
            "ticks": "",
            "zerolinecolor": "white"
           }
          },
          "shapedefaults": {
           "line": {
            "color": "#2a3f5f"
           }
          },
          "ternary": {
           "aaxis": {
            "gridcolor": "white",
            "linecolor": "white",
            "ticks": ""
           },
           "baxis": {
            "gridcolor": "white",
            "linecolor": "white",
            "ticks": ""
           },
           "bgcolor": "#E5ECF6",
           "caxis": {
            "gridcolor": "white",
            "linecolor": "white",
            "ticks": ""
           }
          },
          "title": {
           "x": 0.05
          },
          "xaxis": {
           "automargin": true,
           "gridcolor": "white",
           "linecolor": "white",
           "ticks": "",
           "title": {
            "standoff": 15
           },
           "zerolinecolor": "white",
           "zerolinewidth": 2
          },
          "yaxis": {
           "automargin": true,
           "gridcolor": "white",
           "linecolor": "white",
           "ticks": "",
           "title": {
            "standoff": 15
           },
           "zerolinecolor": "white",
           "zerolinewidth": 2
          }
         }
        },
        "title": {
         "text": "Error Distances Over Time"
        },
        "xaxis": {
         "dtick": 20,
         "tick0": 0,
         "tickmode": "linear",
         "title": {
          "text": "Time"
         }
        }
       }
      },
      "text/html": [
       "<div>                            <div id=\"2ac7dcbd-ba34-495d-b138-9253ceb44d25\" class=\"plotly-graph-div\" style=\"height:525px; width:100%;\"></div>            <script type=\"text/javascript\">                require([\"plotly\"], function(Plotly) {                    window.PLOTLYENV=window.PLOTLYENV || {};                                    if (document.getElementById(\"2ac7dcbd-ba34-495d-b138-9253ceb44d25\")) {                    Plotly.newPlot(                        \"2ac7dcbd-ba34-495d-b138-9253ceb44d25\",                        [{\"mode\":\"lines+markers\",\"name\":\"A-1.1\",\"type\":\"scatter\",\"x\":[7.0,8.0,9.0,10.0,11.0,12.0,13.0,14.0,15.0,16.0,17.0,18.0,19.0,20.0,21.0,22.0,23.0,24.0,25.0,26.0,27.0],\"y\":[2.6817045839787537,2.701992315256836,2.73149283222136,2.6748676142587025,2.750315010391887,2.804213395474275,2.796023604216183,2.8514328361024908,2.8262611681896197,2.698194408807934,2.7197167336236125,2.676544530505897,2.71383791988783,2.7703114437280028,2.8222668632056336,2.8350412201142627,2.7808825767230143,2.7774171201916884,2.7712863971532693,2.786624792519577,2.7671745958997045]},{\"mode\":\"lines+markers\",\"name\":\"A-1.2\",\"type\":\"scatter\",\"x\":[35.0,36.0,37.0,38.0,39.0,40.0,41.0,42.0,43.0,44.0,45.0,46.0,47.0,48.0,49.0,50.0,51.0,52.0,53.0,54.0,55.0],\"y\":[1.7516290381197732,1.7624494218156237,1.7212643276320134,1.7156621708781654,1.7093036153277794,1.6445660521573762,1.642525894353437,1.6696952909643632,1.633818544338809,1.6298228880956287,1.603394942649885,1.6117821151911078,1.5386755567763186,1.5188405019314457,1.5012702705351486,1.5324703356202578,1.5566704430487772,1.5184977130907968,1.5026060129454066,1.4659881462273356,1.451809675273406]},{\"mode\":\"lines+markers\",\"name\":\"A-2.1\",\"type\":\"scatter\",\"x\":[67.0,68.0,69.0,70.0,71.0,72.0,73.0,74.0,75.0,76.0,77.0,78.0,79.0,80.0,81.0,82.0,83.0,84.0,85.0,86.0,87.0],\"y\":[2.8748065085680485,2.872109445610243,2.868826870943611,2.8798630674291816,2.8777996484308637,2.8853488143669006,2.8564743875615983,2.877529970587198,2.876809993465167,2.8392403907286963,2.849367028461785,2.843046151240357,2.8305820988002486,2.8185299096367724,2.7821185992167634,2.761607483759425,2.7213945926016048,2.747767998215388,2.7289612076597862,2.6836656975672737,2.68891581315493]},{\"mode\":\"lines+markers\",\"name\":\"A-2.2\",\"type\":\"scatter\",\"x\":[98.0,99.0,100.0,101.0,102.0,103.0,104.0,105.0,106.0,107.0,108.0,109.0,110.0,111.0,112.0,113.0,114.0,115.0,116.0,117.0,118.0],\"y\":[1.0492580868220043,0.9973246296901548,0.8578767096348906,0.8336688532689275,0.7987651783134633,0.8162822428936483,0.7040874716580593,0.6990146743424728,0.6437240307444548,0.6006469098763345,0.6508945554852348,0.6209094552080054,0.6153086262281426,0.6235950957812249,0.739116664254795,0.7011301568579578,0.711318001646515,0.7395863411514315,0.6917199500130062,0.6122760807699243,0.6536741714789412]},{\"mode\":\"lines+markers\",\"name\":\"A-3.1\",\"type\":\"scatter\",\"x\":[136.0,137.0,138.0,139.0,140.0,141.0,142.0,143.0,144.0,145.0,146.0,147.0,148.0,149.0,150.0,151.0,152.0,153.0,154.0,155.0,156.0],\"y\":[2.773188809828412,2.7377385600324633,2.638800706956899,2.5615197895588433,2.5799162616533047,2.5851424448513494,2.5978067714065864,2.6179769548793894,2.5838894107733896,2.5591130440010095,2.484991769967114,2.4716067405818634,2.4495561413532396,2.4600209582923007,2.4295274395316406,2.3793982989825238,2.3422410554218605,2.3980016088235234,2.5477490770486826,2.5483634645858926,2.6117163779349473]},{\"mode\":\"lines+markers\",\"name\":\"A-3.2\",\"type\":\"scatter\",\"x\":[164.0,165.0,166.0,167.0,168.0,169.0,170.0,171.0,172.0,173.0,174.0,175.0,176.0,177.0,178.0,179.0,180.0,181.0,182.0,183.0,184.0],\"y\":[0.5943087966518334,0.5050795710518584,0.48779227270010056,0.5050439663221173,0.49876958700846663,0.4982228660455841,0.6190717314251657,0.6943785871527529,0.6803376404862466,0.7875145700019397,0.9061002281223086,0.9013082763255623,0.9035737247468684,1.0542153251754691,1.1282357765209605,1.1682700118117184,1.234179210994982,1.3346672804419906,1.3131219912332128,1.2174410483588431,1.2089600116941133]},{\"mode\":\"lines+markers\",\"name\":\"A-4.1\",\"type\":\"scatter\",\"x\":[193.0,194.0,195.0,196.0,197.0,198.0,199.0,200.0,201.0,202.0,203.0,204.0,205.0,206.0,207.0,208.0,209.0,210.0,211.0,212.0,213.0],\"y\":[1.3910499952907223,1.5995796560473932,1.5838643062965065,1.6243843704563337,1.7322016202165242,1.7504361015760788,1.7580582109660532,1.8822846548744612,1.8722375239219462,1.9523760929745244,2.0134159585424487,2.0615071198751163,2.0621992555854276,2.1334898704599885,2.12690723000467,2.109946365812476,2.23086495946671,2.2359523438588558,2.3017242063283216,2.3753059584044607,2.289962962186429]},{\"mode\":\"lines+markers\",\"name\":\"A-4.2\",\"type\":\"scatter\",\"x\":[220.0,221.0,222.0,223.0,224.0,225.0,226.0,227.0,228.0,229.0,230.0,231.0,232.0,233.0,234.0,235.0,236.0,237.0,238.0,239.0,240.0],\"y\":[4.048017726860751,4.004129907264633,3.9696150227859968,3.8342677312702484,3.844099025687016,3.767560652002147,3.612662318959392,3.5316270191496897,3.343290711382499,3.137697020234572,3.137726620741237,3.0074038683080953,2.9632776432673156,2.9555836562278364,2.8534333296336123,2.7229308856992818,2.6289573537805,2.592938970142829,2.534626962850985,2.515042656983562,2.5003255734291345]},{\"mode\":\"lines+markers\",\"name\":\"A-5.1\",\"type\":\"scatter\",\"x\":[248.0,249.0,250.0,251.0,252.0,253.0,254.0,255.0,256.0,257.0,258.0,259.0,260.0,261.0,262.0,263.0,264.0,265.0,266.0,267.0,268.0],\"y\":[1.791033835507259,1.8269241316208555,1.772704539229704,1.7664330506328831,1.6892480139613468,1.777517164168168,1.6684739862704536,1.6273694107726684,1.6462182962477363,1.5265670571657417,1.526142862768121,1.4595648772443683,1.4373814756641536,1.4669231825714306,1.4194170137864461,1.4538533208104476,1.488268795967866,1.523467662499856,1.5922879123467797,1.5023422625912557,1.5564551775828288]},{\"mode\":\"lines+markers\",\"name\":\"A-5.2\",\"type\":\"scatter\",\"x\":[278.0,279.0,280.0,281.0,282.0,283.0,284.0,285.0,286.0,287.0,288.0,289.0,290.0,291.0,292.0,293.0,294.0,295.0,296.0,297.0,298.0],\"y\":[3.706417926858932,3.7132199462049096,3.7521978782170016,3.738703740474342,3.776225487902737,3.7375883447938367,3.765951068194099,3.844205852758019,3.8765908952486425,3.8998412617726577,3.7880078703614606,3.7794582478565846,3.780789976745156,3.7985667138200174,3.7695730849022375,3.768112104477242,3.7570513951940048,3.6753778222148963,3.6621367233096143,3.545019553691529,3.5790596243639974]}],                        {\"legend\":{\"title\":{\"text\":\"Increased Filter\"}},\"template\":{\"data\":{\"bar\":[{\"error_x\":{\"color\":\"#2a3f5f\"},\"error_y\":{\"color\":\"#2a3f5f\"},\"marker\":{\"line\":{\"color\":\"#E5ECF6\",\"width\":0.5},\"pattern\":{\"fillmode\":\"overlay\",\"size\":10,\"solidity\":0.2}},\"type\":\"bar\"}],\"barpolar\":[{\"marker\":{\"line\":{\"color\":\"#E5ECF6\",\"width\":0.5},\"pattern\":{\"fillmode\":\"overlay\",\"size\":10,\"solidity\":0.2}},\"type\":\"barpolar\"}],\"carpet\":[{\"aaxis\":{\"endlinecolor\":\"#2a3f5f\",\"gridcolor\":\"white\",\"linecolor\":\"white\",\"minorgridcolor\":\"white\",\"startlinecolor\":\"#2a3f5f\"},\"baxis\":{\"endlinecolor\":\"#2a3f5f\",\"gridcolor\":\"white\",\"linecolor\":\"white\",\"minorgridcolor\":\"white\",\"startlinecolor\":\"#2a3f5f\"},\"type\":\"carpet\"}],\"choropleth\":[{\"colorbar\":{\"outlinewidth\":0,\"ticks\":\"\"},\"type\":\"choropleth\"}],\"contour\":[{\"colorbar\":{\"outlinewidth\":0,\"ticks\":\"\"},\"colorscale\":[[0.0,\"#0d0887\"],[0.1111111111111111,\"#46039f\"],[0.2222222222222222,\"#7201a8\"],[0.3333333333333333,\"#9c179e\"],[0.4444444444444444,\"#bd3786\"],[0.5555555555555556,\"#d8576b\"],[0.6666666666666666,\"#ed7953\"],[0.7777777777777778,\"#fb9f3a\"],[0.8888888888888888,\"#fdca26\"],[1.0,\"#f0f921\"]],\"type\":\"contour\"}],\"contourcarpet\":[{\"colorbar\":{\"outlinewidth\":0,\"ticks\":\"\"},\"type\":\"contourcarpet\"}],\"heatmap\":[{\"colorbar\":{\"outlinewidth\":0,\"ticks\":\"\"},\"colorscale\":[[0.0,\"#0d0887\"],[0.1111111111111111,\"#46039f\"],[0.2222222222222222,\"#7201a8\"],[0.3333333333333333,\"#9c179e\"],[0.4444444444444444,\"#bd3786\"],[0.5555555555555556,\"#d8576b\"],[0.6666666666666666,\"#ed7953\"],[0.7777777777777778,\"#fb9f3a\"],[0.8888888888888888,\"#fdca26\"],[1.0,\"#f0f921\"]],\"type\":\"heatmap\"}],\"heatmapgl\":[{\"colorbar\":{\"outlinewidth\":0,\"ticks\":\"\"},\"colorscale\":[[0.0,\"#0d0887\"],[0.1111111111111111,\"#46039f\"],[0.2222222222222222,\"#7201a8\"],[0.3333333333333333,\"#9c179e\"],[0.4444444444444444,\"#bd3786\"],[0.5555555555555556,\"#d8576b\"],[0.6666666666666666,\"#ed7953\"],[0.7777777777777778,\"#fb9f3a\"],[0.8888888888888888,\"#fdca26\"],[1.0,\"#f0f921\"]],\"type\":\"heatmapgl\"}],\"histogram\":[{\"marker\":{\"pattern\":{\"fillmode\":\"overlay\",\"size\":10,\"solidity\":0.2}},\"type\":\"histogram\"}],\"histogram2d\":[{\"colorbar\":{\"outlinewidth\":0,\"ticks\":\"\"},\"colorscale\":[[0.0,\"#0d0887\"],[0.1111111111111111,\"#46039f\"],[0.2222222222222222,\"#7201a8\"],[0.3333333333333333,\"#9c179e\"],[0.4444444444444444,\"#bd3786\"],[0.5555555555555556,\"#d8576b\"],[0.6666666666666666,\"#ed7953\"],[0.7777777777777778,\"#fb9f3a\"],[0.8888888888888888,\"#fdca26\"],[1.0,\"#f0f921\"]],\"type\":\"histogram2d\"}],\"histogram2dcontour\":[{\"colorbar\":{\"outlinewidth\":0,\"ticks\":\"\"},\"colorscale\":[[0.0,\"#0d0887\"],[0.1111111111111111,\"#46039f\"],[0.2222222222222222,\"#7201a8\"],[0.3333333333333333,\"#9c179e\"],[0.4444444444444444,\"#bd3786\"],[0.5555555555555556,\"#d8576b\"],[0.6666666666666666,\"#ed7953\"],[0.7777777777777778,\"#fb9f3a\"],[0.8888888888888888,\"#fdca26\"],[1.0,\"#f0f921\"]],\"type\":\"histogram2dcontour\"}],\"mesh3d\":[{\"colorbar\":{\"outlinewidth\":0,\"ticks\":\"\"},\"type\":\"mesh3d\"}],\"parcoords\":[{\"line\":{\"colorbar\":{\"outlinewidth\":0,\"ticks\":\"\"}},\"type\":\"parcoords\"}],\"pie\":[{\"automargin\":true,\"type\":\"pie\"}],\"scatter\":[{\"marker\":{\"colorbar\":{\"outlinewidth\":0,\"ticks\":\"\"}},\"type\":\"scatter\"}],\"scatter3d\":[{\"line\":{\"colorbar\":{\"outlinewidth\":0,\"ticks\":\"\"}},\"marker\":{\"colorbar\":{\"outlinewidth\":0,\"ticks\":\"\"}},\"type\":\"scatter3d\"}],\"scattercarpet\":[{\"marker\":{\"colorbar\":{\"outlinewidth\":0,\"ticks\":\"\"}},\"type\":\"scattercarpet\"}],\"scattergeo\":[{\"marker\":{\"colorbar\":{\"outlinewidth\":0,\"ticks\":\"\"}},\"type\":\"scattergeo\"}],\"scattergl\":[{\"marker\":{\"colorbar\":{\"outlinewidth\":0,\"ticks\":\"\"}},\"type\":\"scattergl\"}],\"scattermapbox\":[{\"marker\":{\"colorbar\":{\"outlinewidth\":0,\"ticks\":\"\"}},\"type\":\"scattermapbox\"}],\"scatterpolar\":[{\"marker\":{\"colorbar\":{\"outlinewidth\":0,\"ticks\":\"\"}},\"type\":\"scatterpolar\"}],\"scatterpolargl\":[{\"marker\":{\"colorbar\":{\"outlinewidth\":0,\"ticks\":\"\"}},\"type\":\"scatterpolargl\"}],\"scatterternary\":[{\"marker\":{\"colorbar\":{\"outlinewidth\":0,\"ticks\":\"\"}},\"type\":\"scatterternary\"}],\"surface\":[{\"colorbar\":{\"outlinewidth\":0,\"ticks\":\"\"},\"colorscale\":[[0.0,\"#0d0887\"],[0.1111111111111111,\"#46039f\"],[0.2222222222222222,\"#7201a8\"],[0.3333333333333333,\"#9c179e\"],[0.4444444444444444,\"#bd3786\"],[0.5555555555555556,\"#d8576b\"],[0.6666666666666666,\"#ed7953\"],[0.7777777777777778,\"#fb9f3a\"],[0.8888888888888888,\"#fdca26\"],[1.0,\"#f0f921\"]],\"type\":\"surface\"}],\"table\":[{\"cells\":{\"fill\":{\"color\":\"#EBF0F8\"},\"line\":{\"color\":\"white\"}},\"header\":{\"fill\":{\"color\":\"#C8D4E3\"},\"line\":{\"color\":\"white\"}},\"type\":\"table\"}]},\"layout\":{\"annotationdefaults\":{\"arrowcolor\":\"#2a3f5f\",\"arrowhead\":0,\"arrowwidth\":1},\"autotypenumbers\":\"strict\",\"coloraxis\":{\"colorbar\":{\"outlinewidth\":0,\"ticks\":\"\"}},\"colorscale\":{\"diverging\":[[0,\"#8e0152\"],[0.1,\"#c51b7d\"],[0.2,\"#de77ae\"],[0.3,\"#f1b6da\"],[0.4,\"#fde0ef\"],[0.5,\"#f7f7f7\"],[0.6,\"#e6f5d0\"],[0.7,\"#b8e186\"],[0.8,\"#7fbc41\"],[0.9,\"#4d9221\"],[1,\"#276419\"]],\"sequential\":[[0.0,\"#0d0887\"],[0.1111111111111111,\"#46039f\"],[0.2222222222222222,\"#7201a8\"],[0.3333333333333333,\"#9c179e\"],[0.4444444444444444,\"#bd3786\"],[0.5555555555555556,\"#d8576b\"],[0.6666666666666666,\"#ed7953\"],[0.7777777777777778,\"#fb9f3a\"],[0.8888888888888888,\"#fdca26\"],[1.0,\"#f0f921\"]],\"sequentialminus\":[[0.0,\"#0d0887\"],[0.1111111111111111,\"#46039f\"],[0.2222222222222222,\"#7201a8\"],[0.3333333333333333,\"#9c179e\"],[0.4444444444444444,\"#bd3786\"],[0.5555555555555556,\"#d8576b\"],[0.6666666666666666,\"#ed7953\"],[0.7777777777777778,\"#fb9f3a\"],[0.8888888888888888,\"#fdca26\"],[1.0,\"#f0f921\"]]},\"colorway\":[\"#636efa\",\"#EF553B\",\"#00cc96\",\"#ab63fa\",\"#FFA15A\",\"#19d3f3\",\"#FF6692\",\"#B6E880\",\"#FF97FF\",\"#FECB52\"],\"font\":{\"color\":\"#2a3f5f\"},\"geo\":{\"bgcolor\":\"white\",\"lakecolor\":\"white\",\"landcolor\":\"#E5ECF6\",\"showlakes\":true,\"showland\":true,\"subunitcolor\":\"white\"},\"hoverlabel\":{\"align\":\"left\"},\"hovermode\":\"closest\",\"mapbox\":{\"style\":\"light\"},\"paper_bgcolor\":\"white\",\"plot_bgcolor\":\"#E5ECF6\",\"polar\":{\"angularaxis\":{\"gridcolor\":\"white\",\"linecolor\":\"white\",\"ticks\":\"\"},\"bgcolor\":\"#E5ECF6\",\"radialaxis\":{\"gridcolor\":\"white\",\"linecolor\":\"white\",\"ticks\":\"\"}},\"scene\":{\"xaxis\":{\"backgroundcolor\":\"#E5ECF6\",\"gridcolor\":\"white\",\"gridwidth\":2,\"linecolor\":\"white\",\"showbackground\":true,\"ticks\":\"\",\"zerolinecolor\":\"white\"},\"yaxis\":{\"backgroundcolor\":\"#E5ECF6\",\"gridcolor\":\"white\",\"gridwidth\":2,\"linecolor\":\"white\",\"showbackground\":true,\"ticks\":\"\",\"zerolinecolor\":\"white\"},\"zaxis\":{\"backgroundcolor\":\"#E5ECF6\",\"gridcolor\":\"white\",\"gridwidth\":2,\"linecolor\":\"white\",\"showbackground\":true,\"ticks\":\"\",\"zerolinecolor\":\"white\"}},\"shapedefaults\":{\"line\":{\"color\":\"#2a3f5f\"}},\"ternary\":{\"aaxis\":{\"gridcolor\":\"white\",\"linecolor\":\"white\",\"ticks\":\"\"},\"baxis\":{\"gridcolor\":\"white\",\"linecolor\":\"white\",\"ticks\":\"\"},\"bgcolor\":\"#E5ECF6\",\"caxis\":{\"gridcolor\":\"white\",\"linecolor\":\"white\",\"ticks\":\"\"}},\"title\":{\"x\":0.05},\"xaxis\":{\"automargin\":true,\"gridcolor\":\"white\",\"linecolor\":\"white\",\"ticks\":\"\",\"title\":{\"standoff\":15},\"zerolinecolor\":\"white\",\"zerolinewidth\":2},\"yaxis\":{\"automargin\":true,\"gridcolor\":\"white\",\"linecolor\":\"white\",\"ticks\":\"\",\"title\":{\"standoff\":15},\"zerolinecolor\":\"white\",\"zerolinewidth\":2}}},\"title\":{\"text\":\"Error Distances Over Time\"},\"xaxis\":{\"dtick\":20,\"tick0\":0,\"tickmode\":\"linear\",\"title\":{\"text\":\"Time\"}}},                        {\"responsive\": true}                    ).then(function(){\n",
       "                            \n",
       "var gd = document.getElementById('2ac7dcbd-ba34-495d-b138-9253ceb44d25');\n",
       "var x = new MutationObserver(function (mutations, observer) {{\n",
       "        var display = window.getComputedStyle(gd).display;\n",
       "        if (!display || display === 'none') {{\n",
       "            console.log([gd, 'removed!']);\n",
       "            Plotly.purge(gd);\n",
       "            observer.disconnect();\n",
       "        }}\n",
       "}});\n",
       "\n",
       "// Listen for the removal of the full notebook cells\n",
       "var notebookContainer = gd.closest('#notebook-container');\n",
       "if (notebookContainer) {{\n",
       "    x.observe(notebookContainer, {childList: true});\n",
       "}}\n",
       "\n",
       "// Listen for the clearing of the current output cell\n",
       "var outputEl = gd.closest('.output');\n",
       "if (outputEl) {{\n",
       "    x.observe(outputEl, {childList: true});\n",
       "}}\n",
       "\n",
       "                        })                };                });            </script>        </div>"
      ]
     },
     "metadata": {},
     "output_type": "display_data"
    }
   ],
   "source": [
    "### Analysis data for increased filter with alpha gain of 0.05 ###\n",
    "fig3 = createFigure('Increased Filter')\n",
    "fig_dist = createFigureForDistances('Increased Filter')\n",
    "result, checkpointslist, fileName = main('./Filter_0.05/actlab_location_test1_08Jul.csv')\n",
    "fig3 = plotValues(fig3, result, fileName, 'mean')\n",
    "fig_dist = plotValuesForDistance(fig_dist, result)\n",
    "fig3.show()\n",
    "fig_dist.show()"
   ]
  },
  {
   "cell_type": "code",
   "execution_count": 578,
   "metadata": {},
   "outputs": [
    {
     "data": {
      "application/vnd.plotly.v1+json": {
       "config": {
        "plotlyServerURL": "https://plot.ly"
       },
       "data": [
        {
         "box": {
          "visible": true
         },
         "jitter": 0.05,
         "meanline": {
          "visible": true
         },
         "name": "A-1.1",
         "points": "all",
         "scalemode": "count",
         "type": "violin",
         "x": [
          "A-1.1",
          "A-1.1",
          "A-1.1",
          "A-1.1",
          "A-1.1",
          "A-1.1",
          "A-1.1",
          "A-1.1",
          "A-1.1",
          "A-1.1",
          "A-1.1",
          "A-1.1",
          "A-1.1",
          "A-1.1",
          "A-1.1",
          "A-1.1",
          "A-1.1",
          "A-1.1",
          "A-1.1",
          "A-1.1",
          "A-1.1"
         ],
         "y": [
          3.1305980841094128,
          2.778416863321746,
          2.800871100088792,
          2.5273795651072457,
          2.7310541756833464,
          2.967288660998503,
          2.7609630269456953,
          2.7388909676884294,
          2.64605617194069,
          2.6197935474406457,
          2.8856331350846856,
          2.566644907168072,
          2.8324811575290183,
          2.8791310665821284,
          2.6724009381102793,
          2.75871491410625,
          2.032299903818678,
          1.8529028044781233,
          1.756893856993452,
          1.9376289926709445,
          1.7940172630927804
         ]
        },
        {
         "box": {
          "visible": true
         },
         "jitter": 0.05,
         "meanline": {
          "visible": true
         },
         "name": "A-1.2",
         "points": "all",
         "scalemode": "count",
         "type": "violin",
         "x": [
          "A-1.2",
          "A-1.2",
          "A-1.2",
          "A-1.2",
          "A-1.2",
          "A-1.2",
          "A-1.2",
          "A-1.2",
          "A-1.2",
          "A-1.2",
          "A-1.2",
          "A-1.2",
          "A-1.2",
          "A-1.2",
          "A-1.2",
          "A-1.2",
          "A-1.2",
          "A-1.2",
          "A-1.2",
          "A-1.2",
          "A-1.2"
         ],
         "y": [
          0.3535453008158559,
          0.25429152424958007,
          0.11557097753809199,
          0.1875480154525721,
          0.20740943758056418,
          0.34787439621371036,
          0.4476406591514347,
          0.7309680338281032,
          0.884956955303818,
          0.8066004701286037,
          0.7125181096262236,
          0.9516614624847084,
          0.6431730468391847,
          0.588290499302123,
          0.40099638494152773,
          0.7622358286659322,
          0.7842643549343713,
          0.512914629182553,
          0.4247447337671755,
          0.2832298280583512,
          0.18474590746415062
         ]
        },
        {
         "box": {
          "visible": true
         },
         "jitter": 0.05,
         "meanline": {
          "visible": true
         },
         "name": "A-2.1",
         "points": "all",
         "scalemode": "count",
         "type": "violin",
         "x": [
          "A-2.1",
          "A-2.1",
          "A-2.1",
          "A-2.1",
          "A-2.1",
          "A-2.1",
          "A-2.1",
          "A-2.1",
          "A-2.1",
          "A-2.1",
          "A-2.1",
          "A-2.1",
          "A-2.1",
          "A-2.1",
          "A-2.1",
          "A-2.1",
          "A-2.1",
          "A-2.1",
          "A-2.1",
          "A-2.1",
          "A-2.1"
         ],
         "y": [
          2.4066692221923445,
          2.3503527112352742,
          2.317792451079091,
          2.154317464259356,
          2.1372518402732963,
          2.161809073409037,
          1.9714642265838296,
          2.0588997457321025,
          1.9646496542678973,
          1.6955011153917194,
          1.7877829395290268,
          1.692796534636607,
          1.534954426511738,
          1.5717425005849812,
          1.388778087256635,
          1.3675943375976594,
          1.2381344875045703,
          1.488731190325971,
          1.2569277526350804,
          1.1139998933424657,
          1.3149673429861823
         ]
        },
        {
         "box": {
          "visible": true
         },
         "jitter": 0.05,
         "meanline": {
          "visible": true
         },
         "name": "A-2.2",
         "points": "all",
         "scalemode": "count",
         "type": "violin",
         "x": [
          "A-2.2",
          "A-2.2",
          "A-2.2",
          "A-2.2",
          "A-2.2",
          "A-2.2",
          "A-2.2",
          "A-2.2",
          "A-2.2",
          "A-2.2",
          "A-2.2",
          "A-2.2",
          "A-2.2",
          "A-2.2",
          "A-2.2",
          "A-2.2",
          "A-2.2",
          "A-2.2",
          "A-2.2",
          "A-2.2",
          "A-2.2"
         ],
         "y": [
          1.0970167762327552,
          0.914595839854162,
          0.7888144761603896,
          0.8745599871322326,
          0.7717838702231467,
          0.9377582786917263,
          0.779539989062852,
          0.8101372675411972,
          0.8891749310877458,
          0.5408789758124086,
          0.6379474673641653,
          0.6248597739462075,
          0.6113340939512331,
          0.6321199448664337,
          1.0444248335460666,
          1.0048411893402525,
          0.9392155565586902,
          1.120077162882229,
          1.21726164909184,
          1.1526622273158378,
          1.3667307794868278
         ]
        },
        {
         "box": {
          "visible": true
         },
         "jitter": 0.05,
         "meanline": {
          "visible": true
         },
         "name": "A-3.1",
         "points": "all",
         "scalemode": "count",
         "type": "violin",
         "x": [
          "A-3.1",
          "A-3.1",
          "A-3.1",
          "A-3.1",
          "A-3.1",
          "A-3.1",
          "A-3.1",
          "A-3.1",
          "A-3.1",
          "A-3.1",
          "A-3.1",
          "A-3.1",
          "A-3.1",
          "A-3.1",
          "A-3.1",
          "A-3.1",
          "A-3.1",
          "A-3.1",
          "A-3.1",
          "A-3.1",
          "A-3.1"
         ],
         "y": [
          2.7954324189104764,
          2.7818590788506703,
          2.550976308440571,
          2.519711312918887,
          2.8001821577320043,
          2.9394634358169265,
          3.0222758593483454,
          3.2723235438906406,
          3.098996352635445,
          3.2767256679919456,
          2.6437215940660983,
          2.579520935508806,
          2.3971759638527304,
          2.521675948310201,
          2.457321328046192,
          2.1577914063179313,
          2.083530497904578,
          2.5219293497762427,
          3.1910019285700666,
          3.4364142573962866,
          3.5028341467291617
         ]
        },
        {
         "box": {
          "visible": true
         },
         "jitter": 0.05,
         "meanline": {
          "visible": true
         },
         "name": "A-3.2",
         "points": "all",
         "scalemode": "count",
         "type": "violin",
         "x": [
          "A-3.2",
          "A-3.2",
          "A-3.2",
          "A-3.2",
          "A-3.2",
          "A-3.2",
          "A-3.2",
          "A-3.2",
          "A-3.2",
          "A-3.2",
          "A-3.2",
          "A-3.2",
          "A-3.2",
          "A-3.2",
          "A-3.2",
          "A-3.2",
          "A-3.2",
          "A-3.2",
          "A-3.2",
          "A-3.2",
          "A-3.2"
         ],
         "y": [
          1.3909713001729014,
          1.494781623638031,
          1.4122378711481252,
          1.928945776860636,
          1.6395340310660282,
          1.5315350779605041,
          1.7326297098387007,
          1.2738214337786915,
          1.3983225142836306,
          1.639669430231544,
          1.8287353268727935,
          1.8012987674132994,
          1.6301554903810067,
          1.8387898752886571,
          1.9193488315649294,
          1.5851765746128768,
          1.6597109459200428,
          1.7337224874999677,
          1.4763646793205039,
          1.537712859731531,
          1.0591035433781772
         ]
        },
        {
         "box": {
          "visible": true
         },
         "jitter": 0.05,
         "meanline": {
          "visible": true
         },
         "name": "A-4.1",
         "points": "all",
         "scalemode": "count",
         "type": "violin",
         "x": [
          "A-4.1",
          "A-4.1",
          "A-4.1",
          "A-4.1",
          "A-4.1",
          "A-4.1",
          "A-4.1",
          "A-4.1",
          "A-4.1",
          "A-4.1",
          "A-4.1",
          "A-4.1",
          "A-4.1",
          "A-4.1",
          "A-4.1",
          "A-4.1",
          "A-4.1",
          "A-4.1",
          "A-4.1",
          "A-4.1",
          "A-4.1"
         ],
         "y": [
          4.515981139533277,
          4.1110352218554915,
          3.820404425112924,
          3.707656871520716,
          4.402436249076661,
          4.616078229051886,
          4.385222902000302,
          4.376878784263905,
          4.073839110281553,
          4.3077914444884335,
          4.443124570231494,
          3.969681696027305,
          4.639485716769915,
          4.849351255353532,
          4.157070015163781,
          4.304748982683908,
          4.545814778541669,
          4.677316971336252,
          4.95007690284622,
          4.863864409478013,
          4.571321169462237
         ]
        },
        {
         "box": {
          "visible": true
         },
         "jitter": 0.05,
         "meanline": {
          "visible": true
         },
         "name": "A-4.2",
         "points": "all",
         "scalemode": "count",
         "type": "violin",
         "x": [
          "A-4.2",
          "A-4.2",
          "A-4.2",
          "A-4.2",
          "A-4.2",
          "A-4.2",
          "A-4.2",
          "A-4.2",
          "A-4.2",
          "A-4.2",
          "A-4.2",
          "A-4.2",
          "A-4.2",
          "A-4.2",
          "A-4.2",
          "A-4.2",
          "A-4.2",
          "A-4.2",
          "A-4.2",
          "A-4.2",
          "A-4.2"
         ],
         "y": [
          5.978802244390894,
          5.951345627345619,
          6.195609547627557,
          5.219896636302936,
          5.041371333268507,
          4.054964523985735,
          3.4143681008998548,
          3.057637534471877,
          2.7864783634505352,
          2.40984322599871,
          2.4846486372349452,
          2.3183775443325603,
          2.125178054529053,
          2.0731164738942787,
          2.388780126451234,
          2.4496550457679964,
          2.243170980703788,
          2.1474507320140366,
          1.98688439895428,
          2.1363153206435697,
          2.2831721785839565
         ]
        },
        {
         "box": {
          "visible": true
         },
         "jitter": 0.05,
         "meanline": {
          "visible": true
         },
         "name": "A-5.1",
         "points": "all",
         "scalemode": "count",
         "type": "violin",
         "x": [
          "A-5.1",
          "A-5.1",
          "A-5.1",
          "A-5.1",
          "A-5.1",
          "A-5.1",
          "A-5.1",
          "A-5.1",
          "A-5.1",
          "A-5.1",
          "A-5.1",
          "A-5.1",
          "A-5.1",
          "A-5.1",
          "A-5.1",
          "A-5.1",
          "A-5.1",
          "A-5.1",
          "A-5.1",
          "A-5.1",
          "A-5.1"
         ],
         "y": [
          1.629069396864608,
          1.9515397725915846,
          1.7579095510183433,
          1.675390590214032,
          1.453709087456495,
          1.8207507127571103,
          1.8738982717983144,
          1.3872186221519602,
          1.3681408253730756,
          1.3382273690602355,
          1.3723121037865407,
          1.1257720647258753,
          1.1835789481013475,
          1.4435271113187385,
          1.4035378774940495,
          2.0850471684993983,
          2.3966697888466046,
          2.5297841991818837,
          2.5850254532170527,
          1.9535728260631817,
          2.1408769870825735
         ]
        },
        {
         "box": {
          "visible": true
         },
         "jitter": 0.05,
         "meanline": {
          "visible": true
         },
         "name": "A-5.2",
         "points": "all",
         "scalemode": "count",
         "type": "violin",
         "x": [
          "A-5.2",
          "A-5.2",
          "A-5.2",
          "A-5.2",
          "A-5.2",
          "A-5.2",
          "A-5.2",
          "A-5.2",
          "A-5.2",
          "A-5.2",
          "A-5.2",
          "A-5.2",
          "A-5.2",
          "A-5.2",
          "A-5.2",
          "A-5.2",
          "A-5.2",
          "A-5.2",
          "A-5.2",
          "A-5.2",
          "A-5.2"
         ],
         "y": [
          4.475490419753835,
          4.58071914183651,
          4.768554011983472,
          4.545106503644859,
          3.764215884653826,
          3.6622015135426786,
          3.2120678339690576,
          3.0888837454912075,
          2.936082345987594,
          2.8385074582471637,
          1.942575330065151,
          2.692878477032154,
          2.769227894800858,
          2.9230742974830046,
          2.6652914153499214,
          2.7197178467993086,
          2.739476029485196,
          2.8413078424364233,
          2.7947134873029835,
          2.988107741414729,
          3.1405848189533847
         ]
        }
       ],
       "layout": {
        "barmode": "group",
        "legend": {
         "orientation": "v",
         "title": {
          "text": "Calibration"
         },
         "xanchor": "left"
        },
        "template": {
         "data": {
          "bar": [
           {
            "error_x": {
             "color": "#2a3f5f"
            },
            "error_y": {
             "color": "#2a3f5f"
            },
            "marker": {
             "line": {
              "color": "#E5ECF6",
              "width": 0.5
             },
             "pattern": {
              "fillmode": "overlay",
              "size": 10,
              "solidity": 0.2
             }
            },
            "type": "bar"
           }
          ],
          "barpolar": [
           {
            "marker": {
             "line": {
              "color": "#E5ECF6",
              "width": 0.5
             },
             "pattern": {
              "fillmode": "overlay",
              "size": 10,
              "solidity": 0.2
             }
            },
            "type": "barpolar"
           }
          ],
          "carpet": [
           {
            "aaxis": {
             "endlinecolor": "#2a3f5f",
             "gridcolor": "white",
             "linecolor": "white",
             "minorgridcolor": "white",
             "startlinecolor": "#2a3f5f"
            },
            "baxis": {
             "endlinecolor": "#2a3f5f",
             "gridcolor": "white",
             "linecolor": "white",
             "minorgridcolor": "white",
             "startlinecolor": "#2a3f5f"
            },
            "type": "carpet"
           }
          ],
          "choropleth": [
           {
            "colorbar": {
             "outlinewidth": 0,
             "ticks": ""
            },
            "type": "choropleth"
           }
          ],
          "contour": [
           {
            "colorbar": {
             "outlinewidth": 0,
             "ticks": ""
            },
            "colorscale": [
             [
              0,
              "#0d0887"
             ],
             [
              0.1111111111111111,
              "#46039f"
             ],
             [
              0.2222222222222222,
              "#7201a8"
             ],
             [
              0.3333333333333333,
              "#9c179e"
             ],
             [
              0.4444444444444444,
              "#bd3786"
             ],
             [
              0.5555555555555556,
              "#d8576b"
             ],
             [
              0.6666666666666666,
              "#ed7953"
             ],
             [
              0.7777777777777778,
              "#fb9f3a"
             ],
             [
              0.8888888888888888,
              "#fdca26"
             ],
             [
              1,
              "#f0f921"
             ]
            ],
            "type": "contour"
           }
          ],
          "contourcarpet": [
           {
            "colorbar": {
             "outlinewidth": 0,
             "ticks": ""
            },
            "type": "contourcarpet"
           }
          ],
          "heatmap": [
           {
            "colorbar": {
             "outlinewidth": 0,
             "ticks": ""
            },
            "colorscale": [
             [
              0,
              "#0d0887"
             ],
             [
              0.1111111111111111,
              "#46039f"
             ],
             [
              0.2222222222222222,
              "#7201a8"
             ],
             [
              0.3333333333333333,
              "#9c179e"
             ],
             [
              0.4444444444444444,
              "#bd3786"
             ],
             [
              0.5555555555555556,
              "#d8576b"
             ],
             [
              0.6666666666666666,
              "#ed7953"
             ],
             [
              0.7777777777777778,
              "#fb9f3a"
             ],
             [
              0.8888888888888888,
              "#fdca26"
             ],
             [
              1,
              "#f0f921"
             ]
            ],
            "type": "heatmap"
           }
          ],
          "heatmapgl": [
           {
            "colorbar": {
             "outlinewidth": 0,
             "ticks": ""
            },
            "colorscale": [
             [
              0,
              "#0d0887"
             ],
             [
              0.1111111111111111,
              "#46039f"
             ],
             [
              0.2222222222222222,
              "#7201a8"
             ],
             [
              0.3333333333333333,
              "#9c179e"
             ],
             [
              0.4444444444444444,
              "#bd3786"
             ],
             [
              0.5555555555555556,
              "#d8576b"
             ],
             [
              0.6666666666666666,
              "#ed7953"
             ],
             [
              0.7777777777777778,
              "#fb9f3a"
             ],
             [
              0.8888888888888888,
              "#fdca26"
             ],
             [
              1,
              "#f0f921"
             ]
            ],
            "type": "heatmapgl"
           }
          ],
          "histogram": [
           {
            "marker": {
             "pattern": {
              "fillmode": "overlay",
              "size": 10,
              "solidity": 0.2
             }
            },
            "type": "histogram"
           }
          ],
          "histogram2d": [
           {
            "colorbar": {
             "outlinewidth": 0,
             "ticks": ""
            },
            "colorscale": [
             [
              0,
              "#0d0887"
             ],
             [
              0.1111111111111111,
              "#46039f"
             ],
             [
              0.2222222222222222,
              "#7201a8"
             ],
             [
              0.3333333333333333,
              "#9c179e"
             ],
             [
              0.4444444444444444,
              "#bd3786"
             ],
             [
              0.5555555555555556,
              "#d8576b"
             ],
             [
              0.6666666666666666,
              "#ed7953"
             ],
             [
              0.7777777777777778,
              "#fb9f3a"
             ],
             [
              0.8888888888888888,
              "#fdca26"
             ],
             [
              1,
              "#f0f921"
             ]
            ],
            "type": "histogram2d"
           }
          ],
          "histogram2dcontour": [
           {
            "colorbar": {
             "outlinewidth": 0,
             "ticks": ""
            },
            "colorscale": [
             [
              0,
              "#0d0887"
             ],
             [
              0.1111111111111111,
              "#46039f"
             ],
             [
              0.2222222222222222,
              "#7201a8"
             ],
             [
              0.3333333333333333,
              "#9c179e"
             ],
             [
              0.4444444444444444,
              "#bd3786"
             ],
             [
              0.5555555555555556,
              "#d8576b"
             ],
             [
              0.6666666666666666,
              "#ed7953"
             ],
             [
              0.7777777777777778,
              "#fb9f3a"
             ],
             [
              0.8888888888888888,
              "#fdca26"
             ],
             [
              1,
              "#f0f921"
             ]
            ],
            "type": "histogram2dcontour"
           }
          ],
          "mesh3d": [
           {
            "colorbar": {
             "outlinewidth": 0,
             "ticks": ""
            },
            "type": "mesh3d"
           }
          ],
          "parcoords": [
           {
            "line": {
             "colorbar": {
              "outlinewidth": 0,
              "ticks": ""
             }
            },
            "type": "parcoords"
           }
          ],
          "pie": [
           {
            "automargin": true,
            "type": "pie"
           }
          ],
          "scatter": [
           {
            "marker": {
             "colorbar": {
              "outlinewidth": 0,
              "ticks": ""
             }
            },
            "type": "scatter"
           }
          ],
          "scatter3d": [
           {
            "line": {
             "colorbar": {
              "outlinewidth": 0,
              "ticks": ""
             }
            },
            "marker": {
             "colorbar": {
              "outlinewidth": 0,
              "ticks": ""
             }
            },
            "type": "scatter3d"
           }
          ],
          "scattercarpet": [
           {
            "marker": {
             "colorbar": {
              "outlinewidth": 0,
              "ticks": ""
             }
            },
            "type": "scattercarpet"
           }
          ],
          "scattergeo": [
           {
            "marker": {
             "colorbar": {
              "outlinewidth": 0,
              "ticks": ""
             }
            },
            "type": "scattergeo"
           }
          ],
          "scattergl": [
           {
            "marker": {
             "colorbar": {
              "outlinewidth": 0,
              "ticks": ""
             }
            },
            "type": "scattergl"
           }
          ],
          "scattermapbox": [
           {
            "marker": {
             "colorbar": {
              "outlinewidth": 0,
              "ticks": ""
             }
            },
            "type": "scattermapbox"
           }
          ],
          "scatterpolar": [
           {
            "marker": {
             "colorbar": {
              "outlinewidth": 0,
              "ticks": ""
             }
            },
            "type": "scatterpolar"
           }
          ],
          "scatterpolargl": [
           {
            "marker": {
             "colorbar": {
              "outlinewidth": 0,
              "ticks": ""
             }
            },
            "type": "scatterpolargl"
           }
          ],
          "scatterternary": [
           {
            "marker": {
             "colorbar": {
              "outlinewidth": 0,
              "ticks": ""
             }
            },
            "type": "scatterternary"
           }
          ],
          "surface": [
           {
            "colorbar": {
             "outlinewidth": 0,
             "ticks": ""
            },
            "colorscale": [
             [
              0,
              "#0d0887"
             ],
             [
              0.1111111111111111,
              "#46039f"
             ],
             [
              0.2222222222222222,
              "#7201a8"
             ],
             [
              0.3333333333333333,
              "#9c179e"
             ],
             [
              0.4444444444444444,
              "#bd3786"
             ],
             [
              0.5555555555555556,
              "#d8576b"
             ],
             [
              0.6666666666666666,
              "#ed7953"
             ],
             [
              0.7777777777777778,
              "#fb9f3a"
             ],
             [
              0.8888888888888888,
              "#fdca26"
             ],
             [
              1,
              "#f0f921"
             ]
            ],
            "type": "surface"
           }
          ],
          "table": [
           {
            "cells": {
             "fill": {
              "color": "#EBF0F8"
             },
             "line": {
              "color": "white"
             }
            },
            "header": {
             "fill": {
              "color": "#C8D4E3"
             },
             "line": {
              "color": "white"
             }
            },
            "type": "table"
           }
          ]
         },
         "layout": {
          "annotationdefaults": {
           "arrowcolor": "#2a3f5f",
           "arrowhead": 0,
           "arrowwidth": 1
          },
          "autotypenumbers": "strict",
          "coloraxis": {
           "colorbar": {
            "outlinewidth": 0,
            "ticks": ""
           }
          },
          "colorscale": {
           "diverging": [
            [
             0,
             "#8e0152"
            ],
            [
             0.1,
             "#c51b7d"
            ],
            [
             0.2,
             "#de77ae"
            ],
            [
             0.3,
             "#f1b6da"
            ],
            [
             0.4,
             "#fde0ef"
            ],
            [
             0.5,
             "#f7f7f7"
            ],
            [
             0.6,
             "#e6f5d0"
            ],
            [
             0.7,
             "#b8e186"
            ],
            [
             0.8,
             "#7fbc41"
            ],
            [
             0.9,
             "#4d9221"
            ],
            [
             1,
             "#276419"
            ]
           ],
           "sequential": [
            [
             0,
             "#0d0887"
            ],
            [
             0.1111111111111111,
             "#46039f"
            ],
            [
             0.2222222222222222,
             "#7201a8"
            ],
            [
             0.3333333333333333,
             "#9c179e"
            ],
            [
             0.4444444444444444,
             "#bd3786"
            ],
            [
             0.5555555555555556,
             "#d8576b"
            ],
            [
             0.6666666666666666,
             "#ed7953"
            ],
            [
             0.7777777777777778,
             "#fb9f3a"
            ],
            [
             0.8888888888888888,
             "#fdca26"
            ],
            [
             1,
             "#f0f921"
            ]
           ],
           "sequentialminus": [
            [
             0,
             "#0d0887"
            ],
            [
             0.1111111111111111,
             "#46039f"
            ],
            [
             0.2222222222222222,
             "#7201a8"
            ],
            [
             0.3333333333333333,
             "#9c179e"
            ],
            [
             0.4444444444444444,
             "#bd3786"
            ],
            [
             0.5555555555555556,
             "#d8576b"
            ],
            [
             0.6666666666666666,
             "#ed7953"
            ],
            [
             0.7777777777777778,
             "#fb9f3a"
            ],
            [
             0.8888888888888888,
             "#fdca26"
            ],
            [
             1,
             "#f0f921"
            ]
           ]
          },
          "colorway": [
           "#636efa",
           "#EF553B",
           "#00cc96",
           "#ab63fa",
           "#FFA15A",
           "#19d3f3",
           "#FF6692",
           "#B6E880",
           "#FF97FF",
           "#FECB52"
          ],
          "font": {
           "color": "#2a3f5f"
          },
          "geo": {
           "bgcolor": "white",
           "lakecolor": "white",
           "landcolor": "#E5ECF6",
           "showlakes": true,
           "showland": true,
           "subunitcolor": "white"
          },
          "hoverlabel": {
           "align": "left"
          },
          "hovermode": "closest",
          "mapbox": {
           "style": "light"
          },
          "paper_bgcolor": "white",
          "plot_bgcolor": "#E5ECF6",
          "polar": {
           "angularaxis": {
            "gridcolor": "white",
            "linecolor": "white",
            "ticks": ""
           },
           "bgcolor": "#E5ECF6",
           "radialaxis": {
            "gridcolor": "white",
            "linecolor": "white",
            "ticks": ""
           }
          },
          "scene": {
           "xaxis": {
            "backgroundcolor": "#E5ECF6",
            "gridcolor": "white",
            "gridwidth": 2,
            "linecolor": "white",
            "showbackground": true,
            "ticks": "",
            "zerolinecolor": "white"
           },
           "yaxis": {
            "backgroundcolor": "#E5ECF6",
            "gridcolor": "white",
            "gridwidth": 2,
            "linecolor": "white",
            "showbackground": true,
            "ticks": "",
            "zerolinecolor": "white"
           },
           "zaxis": {
            "backgroundcolor": "#E5ECF6",
            "gridcolor": "white",
            "gridwidth": 2,
            "linecolor": "white",
            "showbackground": true,
            "ticks": "",
            "zerolinecolor": "white"
           }
          },
          "shapedefaults": {
           "line": {
            "color": "#2a3f5f"
           }
          },
          "ternary": {
           "aaxis": {
            "gridcolor": "white",
            "linecolor": "white",
            "ticks": ""
           },
           "baxis": {
            "gridcolor": "white",
            "linecolor": "white",
            "ticks": ""
           },
           "bgcolor": "#E5ECF6",
           "caxis": {
            "gridcolor": "white",
            "linecolor": "white",
            "ticks": ""
           }
          },
          "title": {
           "x": 0.05
          },
          "xaxis": {
           "automargin": true,
           "gridcolor": "white",
           "linecolor": "white",
           "ticks": "",
           "title": {
            "standoff": 15
           },
           "zerolinecolor": "white",
           "zerolinewidth": 2
          },
          "yaxis": {
           "automargin": true,
           "gridcolor": "white",
           "linecolor": "white",
           "ticks": "",
           "title": {
            "standoff": 15
           },
           "zerolinecolor": "white",
           "zerolinewidth": 2
          }
         }
        },
        "title": {
         "text": "Violin Plot of Error Distances"
        },
        "xaxis": {
         "title": {
          "text": "Checkpoints"
         }
        },
        "yaxis": {
         "range": [
          -1.5,
          7.5
         ]
        }
       }
      },
      "text/html": [
       "<div>                            <div id=\"c18ec094-460a-41ce-accd-f35eda4c4589\" class=\"plotly-graph-div\" style=\"height:525px; width:100%;\"></div>            <script type=\"text/javascript\">                require([\"plotly\"], function(Plotly) {                    window.PLOTLYENV=window.PLOTLYENV || {};                                    if (document.getElementById(\"c18ec094-460a-41ce-accd-f35eda4c4589\")) {                    Plotly.newPlot(                        \"c18ec094-460a-41ce-accd-f35eda4c4589\",                        [{\"box\":{\"visible\":true},\"jitter\":0.05,\"meanline\":{\"visible\":true},\"name\":\"A-1.1\",\"points\":\"all\",\"scalemode\":\"count\",\"type\":\"violin\",\"x\":[\"A-1.1\",\"A-1.1\",\"A-1.1\",\"A-1.1\",\"A-1.1\",\"A-1.1\",\"A-1.1\",\"A-1.1\",\"A-1.1\",\"A-1.1\",\"A-1.1\",\"A-1.1\",\"A-1.1\",\"A-1.1\",\"A-1.1\",\"A-1.1\",\"A-1.1\",\"A-1.1\",\"A-1.1\",\"A-1.1\",\"A-1.1\"],\"y\":[3.1305980841094128,2.778416863321746,2.800871100088792,2.5273795651072457,2.7310541756833464,2.967288660998503,2.7609630269456953,2.7388909676884294,2.64605617194069,2.6197935474406457,2.8856331350846856,2.566644907168072,2.8324811575290183,2.8791310665821284,2.6724009381102793,2.75871491410625,2.032299903818678,1.8529028044781233,1.756893856993452,1.9376289926709445,1.7940172630927804]},{\"box\":{\"visible\":true},\"jitter\":0.05,\"meanline\":{\"visible\":true},\"name\":\"A-1.2\",\"points\":\"all\",\"scalemode\":\"count\",\"type\":\"violin\",\"x\":[\"A-1.2\",\"A-1.2\",\"A-1.2\",\"A-1.2\",\"A-1.2\",\"A-1.2\",\"A-1.2\",\"A-1.2\",\"A-1.2\",\"A-1.2\",\"A-1.2\",\"A-1.2\",\"A-1.2\",\"A-1.2\",\"A-1.2\",\"A-1.2\",\"A-1.2\",\"A-1.2\",\"A-1.2\",\"A-1.2\",\"A-1.2\"],\"y\":[0.3535453008158559,0.25429152424958007,0.11557097753809199,0.1875480154525721,0.20740943758056418,0.34787439621371036,0.4476406591514347,0.7309680338281032,0.884956955303818,0.8066004701286037,0.7125181096262236,0.9516614624847084,0.6431730468391847,0.588290499302123,0.40099638494152773,0.7622358286659322,0.7842643549343713,0.512914629182553,0.4247447337671755,0.2832298280583512,0.18474590746415062]},{\"box\":{\"visible\":true},\"jitter\":0.05,\"meanline\":{\"visible\":true},\"name\":\"A-2.1\",\"points\":\"all\",\"scalemode\":\"count\",\"type\":\"violin\",\"x\":[\"A-2.1\",\"A-2.1\",\"A-2.1\",\"A-2.1\",\"A-2.1\",\"A-2.1\",\"A-2.1\",\"A-2.1\",\"A-2.1\",\"A-2.1\",\"A-2.1\",\"A-2.1\",\"A-2.1\",\"A-2.1\",\"A-2.1\",\"A-2.1\",\"A-2.1\",\"A-2.1\",\"A-2.1\",\"A-2.1\",\"A-2.1\"],\"y\":[2.4066692221923445,2.3503527112352742,2.317792451079091,2.154317464259356,2.1372518402732963,2.161809073409037,1.9714642265838296,2.0588997457321025,1.9646496542678973,1.6955011153917194,1.7877829395290268,1.692796534636607,1.534954426511738,1.5717425005849812,1.388778087256635,1.3675943375976594,1.2381344875045703,1.488731190325971,1.2569277526350804,1.1139998933424657,1.3149673429861823]},{\"box\":{\"visible\":true},\"jitter\":0.05,\"meanline\":{\"visible\":true},\"name\":\"A-2.2\",\"points\":\"all\",\"scalemode\":\"count\",\"type\":\"violin\",\"x\":[\"A-2.2\",\"A-2.2\",\"A-2.2\",\"A-2.2\",\"A-2.2\",\"A-2.2\",\"A-2.2\",\"A-2.2\",\"A-2.2\",\"A-2.2\",\"A-2.2\",\"A-2.2\",\"A-2.2\",\"A-2.2\",\"A-2.2\",\"A-2.2\",\"A-2.2\",\"A-2.2\",\"A-2.2\",\"A-2.2\",\"A-2.2\"],\"y\":[1.0970167762327552,0.914595839854162,0.7888144761603896,0.8745599871322326,0.7717838702231467,0.9377582786917263,0.779539989062852,0.8101372675411972,0.8891749310877458,0.5408789758124086,0.6379474673641653,0.6248597739462075,0.6113340939512331,0.6321199448664337,1.0444248335460666,1.0048411893402525,0.9392155565586902,1.120077162882229,1.21726164909184,1.1526622273158378,1.3667307794868278]},{\"box\":{\"visible\":true},\"jitter\":0.05,\"meanline\":{\"visible\":true},\"name\":\"A-3.1\",\"points\":\"all\",\"scalemode\":\"count\",\"type\":\"violin\",\"x\":[\"A-3.1\",\"A-3.1\",\"A-3.1\",\"A-3.1\",\"A-3.1\",\"A-3.1\",\"A-3.1\",\"A-3.1\",\"A-3.1\",\"A-3.1\",\"A-3.1\",\"A-3.1\",\"A-3.1\",\"A-3.1\",\"A-3.1\",\"A-3.1\",\"A-3.1\",\"A-3.1\",\"A-3.1\",\"A-3.1\",\"A-3.1\"],\"y\":[2.7954324189104764,2.7818590788506703,2.550976308440571,2.519711312918887,2.8001821577320043,2.9394634358169265,3.0222758593483454,3.2723235438906406,3.098996352635445,3.2767256679919456,2.6437215940660983,2.579520935508806,2.3971759638527304,2.521675948310201,2.457321328046192,2.1577914063179313,2.083530497904578,2.5219293497762427,3.1910019285700666,3.4364142573962866,3.5028341467291617]},{\"box\":{\"visible\":true},\"jitter\":0.05,\"meanline\":{\"visible\":true},\"name\":\"A-3.2\",\"points\":\"all\",\"scalemode\":\"count\",\"type\":\"violin\",\"x\":[\"A-3.2\",\"A-3.2\",\"A-3.2\",\"A-3.2\",\"A-3.2\",\"A-3.2\",\"A-3.2\",\"A-3.2\",\"A-3.2\",\"A-3.2\",\"A-3.2\",\"A-3.2\",\"A-3.2\",\"A-3.2\",\"A-3.2\",\"A-3.2\",\"A-3.2\",\"A-3.2\",\"A-3.2\",\"A-3.2\",\"A-3.2\"],\"y\":[1.3909713001729014,1.494781623638031,1.4122378711481252,1.928945776860636,1.6395340310660282,1.5315350779605041,1.7326297098387007,1.2738214337786915,1.3983225142836306,1.639669430231544,1.8287353268727935,1.8012987674132994,1.6301554903810067,1.8387898752886571,1.9193488315649294,1.5851765746128768,1.6597109459200428,1.7337224874999677,1.4763646793205039,1.537712859731531,1.0591035433781772]},{\"box\":{\"visible\":true},\"jitter\":0.05,\"meanline\":{\"visible\":true},\"name\":\"A-4.1\",\"points\":\"all\",\"scalemode\":\"count\",\"type\":\"violin\",\"x\":[\"A-4.1\",\"A-4.1\",\"A-4.1\",\"A-4.1\",\"A-4.1\",\"A-4.1\",\"A-4.1\",\"A-4.1\",\"A-4.1\",\"A-4.1\",\"A-4.1\",\"A-4.1\",\"A-4.1\",\"A-4.1\",\"A-4.1\",\"A-4.1\",\"A-4.1\",\"A-4.1\",\"A-4.1\",\"A-4.1\",\"A-4.1\"],\"y\":[4.515981139533277,4.1110352218554915,3.820404425112924,3.707656871520716,4.402436249076661,4.616078229051886,4.385222902000302,4.376878784263905,4.073839110281553,4.3077914444884335,4.443124570231494,3.969681696027305,4.639485716769915,4.849351255353532,4.157070015163781,4.304748982683908,4.545814778541669,4.677316971336252,4.95007690284622,4.863864409478013,4.571321169462237]},{\"box\":{\"visible\":true},\"jitter\":0.05,\"meanline\":{\"visible\":true},\"name\":\"A-4.2\",\"points\":\"all\",\"scalemode\":\"count\",\"type\":\"violin\",\"x\":[\"A-4.2\",\"A-4.2\",\"A-4.2\",\"A-4.2\",\"A-4.2\",\"A-4.2\",\"A-4.2\",\"A-4.2\",\"A-4.2\",\"A-4.2\",\"A-4.2\",\"A-4.2\",\"A-4.2\",\"A-4.2\",\"A-4.2\",\"A-4.2\",\"A-4.2\",\"A-4.2\",\"A-4.2\",\"A-4.2\",\"A-4.2\"],\"y\":[5.978802244390894,5.951345627345619,6.195609547627557,5.219896636302936,5.041371333268507,4.054964523985735,3.4143681008998548,3.057637534471877,2.7864783634505352,2.40984322599871,2.4846486372349452,2.3183775443325603,2.125178054529053,2.0731164738942787,2.388780126451234,2.4496550457679964,2.243170980703788,2.1474507320140366,1.98688439895428,2.1363153206435697,2.2831721785839565]},{\"box\":{\"visible\":true},\"jitter\":0.05,\"meanline\":{\"visible\":true},\"name\":\"A-5.1\",\"points\":\"all\",\"scalemode\":\"count\",\"type\":\"violin\",\"x\":[\"A-5.1\",\"A-5.1\",\"A-5.1\",\"A-5.1\",\"A-5.1\",\"A-5.1\",\"A-5.1\",\"A-5.1\",\"A-5.1\",\"A-5.1\",\"A-5.1\",\"A-5.1\",\"A-5.1\",\"A-5.1\",\"A-5.1\",\"A-5.1\",\"A-5.1\",\"A-5.1\",\"A-5.1\",\"A-5.1\",\"A-5.1\"],\"y\":[1.629069396864608,1.9515397725915846,1.7579095510183433,1.675390590214032,1.453709087456495,1.8207507127571103,1.8738982717983144,1.3872186221519602,1.3681408253730756,1.3382273690602355,1.3723121037865407,1.1257720647258753,1.1835789481013475,1.4435271113187385,1.4035378774940495,2.0850471684993983,2.3966697888466046,2.5297841991818837,2.5850254532170527,1.9535728260631817,2.1408769870825735]},{\"box\":{\"visible\":true},\"jitter\":0.05,\"meanline\":{\"visible\":true},\"name\":\"A-5.2\",\"points\":\"all\",\"scalemode\":\"count\",\"type\":\"violin\",\"x\":[\"A-5.2\",\"A-5.2\",\"A-5.2\",\"A-5.2\",\"A-5.2\",\"A-5.2\",\"A-5.2\",\"A-5.2\",\"A-5.2\",\"A-5.2\",\"A-5.2\",\"A-5.2\",\"A-5.2\",\"A-5.2\",\"A-5.2\",\"A-5.2\",\"A-5.2\",\"A-5.2\",\"A-5.2\",\"A-5.2\",\"A-5.2\"],\"y\":[4.475490419753835,4.58071914183651,4.768554011983472,4.545106503644859,3.764215884653826,3.6622015135426786,3.2120678339690576,3.0888837454912075,2.936082345987594,2.8385074582471637,1.942575330065151,2.692878477032154,2.769227894800858,2.9230742974830046,2.6652914153499214,2.7197178467993086,2.739476029485196,2.8413078424364233,2.7947134873029835,2.988107741414729,3.1405848189533847]}],                        {\"barmode\":\"group\",\"legend\":{\"orientation\":\"v\",\"title\":{\"text\":\"Calibration\"},\"xanchor\":\"left\"},\"template\":{\"data\":{\"bar\":[{\"error_x\":{\"color\":\"#2a3f5f\"},\"error_y\":{\"color\":\"#2a3f5f\"},\"marker\":{\"line\":{\"color\":\"#E5ECF6\",\"width\":0.5},\"pattern\":{\"fillmode\":\"overlay\",\"size\":10,\"solidity\":0.2}},\"type\":\"bar\"}],\"barpolar\":[{\"marker\":{\"line\":{\"color\":\"#E5ECF6\",\"width\":0.5},\"pattern\":{\"fillmode\":\"overlay\",\"size\":10,\"solidity\":0.2}},\"type\":\"barpolar\"}],\"carpet\":[{\"aaxis\":{\"endlinecolor\":\"#2a3f5f\",\"gridcolor\":\"white\",\"linecolor\":\"white\",\"minorgridcolor\":\"white\",\"startlinecolor\":\"#2a3f5f\"},\"baxis\":{\"endlinecolor\":\"#2a3f5f\",\"gridcolor\":\"white\",\"linecolor\":\"white\",\"minorgridcolor\":\"white\",\"startlinecolor\":\"#2a3f5f\"},\"type\":\"carpet\"}],\"choropleth\":[{\"colorbar\":{\"outlinewidth\":0,\"ticks\":\"\"},\"type\":\"choropleth\"}],\"contour\":[{\"colorbar\":{\"outlinewidth\":0,\"ticks\":\"\"},\"colorscale\":[[0.0,\"#0d0887\"],[0.1111111111111111,\"#46039f\"],[0.2222222222222222,\"#7201a8\"],[0.3333333333333333,\"#9c179e\"],[0.4444444444444444,\"#bd3786\"],[0.5555555555555556,\"#d8576b\"],[0.6666666666666666,\"#ed7953\"],[0.7777777777777778,\"#fb9f3a\"],[0.8888888888888888,\"#fdca26\"],[1.0,\"#f0f921\"]],\"type\":\"contour\"}],\"contourcarpet\":[{\"colorbar\":{\"outlinewidth\":0,\"ticks\":\"\"},\"type\":\"contourcarpet\"}],\"heatmap\":[{\"colorbar\":{\"outlinewidth\":0,\"ticks\":\"\"},\"colorscale\":[[0.0,\"#0d0887\"],[0.1111111111111111,\"#46039f\"],[0.2222222222222222,\"#7201a8\"],[0.3333333333333333,\"#9c179e\"],[0.4444444444444444,\"#bd3786\"],[0.5555555555555556,\"#d8576b\"],[0.6666666666666666,\"#ed7953\"],[0.7777777777777778,\"#fb9f3a\"],[0.8888888888888888,\"#fdca26\"],[1.0,\"#f0f921\"]],\"type\":\"heatmap\"}],\"heatmapgl\":[{\"colorbar\":{\"outlinewidth\":0,\"ticks\":\"\"},\"colorscale\":[[0.0,\"#0d0887\"],[0.1111111111111111,\"#46039f\"],[0.2222222222222222,\"#7201a8\"],[0.3333333333333333,\"#9c179e\"],[0.4444444444444444,\"#bd3786\"],[0.5555555555555556,\"#d8576b\"],[0.6666666666666666,\"#ed7953\"],[0.7777777777777778,\"#fb9f3a\"],[0.8888888888888888,\"#fdca26\"],[1.0,\"#f0f921\"]],\"type\":\"heatmapgl\"}],\"histogram\":[{\"marker\":{\"pattern\":{\"fillmode\":\"overlay\",\"size\":10,\"solidity\":0.2}},\"type\":\"histogram\"}],\"histogram2d\":[{\"colorbar\":{\"outlinewidth\":0,\"ticks\":\"\"},\"colorscale\":[[0.0,\"#0d0887\"],[0.1111111111111111,\"#46039f\"],[0.2222222222222222,\"#7201a8\"],[0.3333333333333333,\"#9c179e\"],[0.4444444444444444,\"#bd3786\"],[0.5555555555555556,\"#d8576b\"],[0.6666666666666666,\"#ed7953\"],[0.7777777777777778,\"#fb9f3a\"],[0.8888888888888888,\"#fdca26\"],[1.0,\"#f0f921\"]],\"type\":\"histogram2d\"}],\"histogram2dcontour\":[{\"colorbar\":{\"outlinewidth\":0,\"ticks\":\"\"},\"colorscale\":[[0.0,\"#0d0887\"],[0.1111111111111111,\"#46039f\"],[0.2222222222222222,\"#7201a8\"],[0.3333333333333333,\"#9c179e\"],[0.4444444444444444,\"#bd3786\"],[0.5555555555555556,\"#d8576b\"],[0.6666666666666666,\"#ed7953\"],[0.7777777777777778,\"#fb9f3a\"],[0.8888888888888888,\"#fdca26\"],[1.0,\"#f0f921\"]],\"type\":\"histogram2dcontour\"}],\"mesh3d\":[{\"colorbar\":{\"outlinewidth\":0,\"ticks\":\"\"},\"type\":\"mesh3d\"}],\"parcoords\":[{\"line\":{\"colorbar\":{\"outlinewidth\":0,\"ticks\":\"\"}},\"type\":\"parcoords\"}],\"pie\":[{\"automargin\":true,\"type\":\"pie\"}],\"scatter\":[{\"marker\":{\"colorbar\":{\"outlinewidth\":0,\"ticks\":\"\"}},\"type\":\"scatter\"}],\"scatter3d\":[{\"line\":{\"colorbar\":{\"outlinewidth\":0,\"ticks\":\"\"}},\"marker\":{\"colorbar\":{\"outlinewidth\":0,\"ticks\":\"\"}},\"type\":\"scatter3d\"}],\"scattercarpet\":[{\"marker\":{\"colorbar\":{\"outlinewidth\":0,\"ticks\":\"\"}},\"type\":\"scattercarpet\"}],\"scattergeo\":[{\"marker\":{\"colorbar\":{\"outlinewidth\":0,\"ticks\":\"\"}},\"type\":\"scattergeo\"}],\"scattergl\":[{\"marker\":{\"colorbar\":{\"outlinewidth\":0,\"ticks\":\"\"}},\"type\":\"scattergl\"}],\"scattermapbox\":[{\"marker\":{\"colorbar\":{\"outlinewidth\":0,\"ticks\":\"\"}},\"type\":\"scattermapbox\"}],\"scatterpolar\":[{\"marker\":{\"colorbar\":{\"outlinewidth\":0,\"ticks\":\"\"}},\"type\":\"scatterpolar\"}],\"scatterpolargl\":[{\"marker\":{\"colorbar\":{\"outlinewidth\":0,\"ticks\":\"\"}},\"type\":\"scatterpolargl\"}],\"scatterternary\":[{\"marker\":{\"colorbar\":{\"outlinewidth\":0,\"ticks\":\"\"}},\"type\":\"scatterternary\"}],\"surface\":[{\"colorbar\":{\"outlinewidth\":0,\"ticks\":\"\"},\"colorscale\":[[0.0,\"#0d0887\"],[0.1111111111111111,\"#46039f\"],[0.2222222222222222,\"#7201a8\"],[0.3333333333333333,\"#9c179e\"],[0.4444444444444444,\"#bd3786\"],[0.5555555555555556,\"#d8576b\"],[0.6666666666666666,\"#ed7953\"],[0.7777777777777778,\"#fb9f3a\"],[0.8888888888888888,\"#fdca26\"],[1.0,\"#f0f921\"]],\"type\":\"surface\"}],\"table\":[{\"cells\":{\"fill\":{\"color\":\"#EBF0F8\"},\"line\":{\"color\":\"white\"}},\"header\":{\"fill\":{\"color\":\"#C8D4E3\"},\"line\":{\"color\":\"white\"}},\"type\":\"table\"}]},\"layout\":{\"annotationdefaults\":{\"arrowcolor\":\"#2a3f5f\",\"arrowhead\":0,\"arrowwidth\":1},\"autotypenumbers\":\"strict\",\"coloraxis\":{\"colorbar\":{\"outlinewidth\":0,\"ticks\":\"\"}},\"colorscale\":{\"diverging\":[[0,\"#8e0152\"],[0.1,\"#c51b7d\"],[0.2,\"#de77ae\"],[0.3,\"#f1b6da\"],[0.4,\"#fde0ef\"],[0.5,\"#f7f7f7\"],[0.6,\"#e6f5d0\"],[0.7,\"#b8e186\"],[0.8,\"#7fbc41\"],[0.9,\"#4d9221\"],[1,\"#276419\"]],\"sequential\":[[0.0,\"#0d0887\"],[0.1111111111111111,\"#46039f\"],[0.2222222222222222,\"#7201a8\"],[0.3333333333333333,\"#9c179e\"],[0.4444444444444444,\"#bd3786\"],[0.5555555555555556,\"#d8576b\"],[0.6666666666666666,\"#ed7953\"],[0.7777777777777778,\"#fb9f3a\"],[0.8888888888888888,\"#fdca26\"],[1.0,\"#f0f921\"]],\"sequentialminus\":[[0.0,\"#0d0887\"],[0.1111111111111111,\"#46039f\"],[0.2222222222222222,\"#7201a8\"],[0.3333333333333333,\"#9c179e\"],[0.4444444444444444,\"#bd3786\"],[0.5555555555555556,\"#d8576b\"],[0.6666666666666666,\"#ed7953\"],[0.7777777777777778,\"#fb9f3a\"],[0.8888888888888888,\"#fdca26\"],[1.0,\"#f0f921\"]]},\"colorway\":[\"#636efa\",\"#EF553B\",\"#00cc96\",\"#ab63fa\",\"#FFA15A\",\"#19d3f3\",\"#FF6692\",\"#B6E880\",\"#FF97FF\",\"#FECB52\"],\"font\":{\"color\":\"#2a3f5f\"},\"geo\":{\"bgcolor\":\"white\",\"lakecolor\":\"white\",\"landcolor\":\"#E5ECF6\",\"showlakes\":true,\"showland\":true,\"subunitcolor\":\"white\"},\"hoverlabel\":{\"align\":\"left\"},\"hovermode\":\"closest\",\"mapbox\":{\"style\":\"light\"},\"paper_bgcolor\":\"white\",\"plot_bgcolor\":\"#E5ECF6\",\"polar\":{\"angularaxis\":{\"gridcolor\":\"white\",\"linecolor\":\"white\",\"ticks\":\"\"},\"bgcolor\":\"#E5ECF6\",\"radialaxis\":{\"gridcolor\":\"white\",\"linecolor\":\"white\",\"ticks\":\"\"}},\"scene\":{\"xaxis\":{\"backgroundcolor\":\"#E5ECF6\",\"gridcolor\":\"white\",\"gridwidth\":2,\"linecolor\":\"white\",\"showbackground\":true,\"ticks\":\"\",\"zerolinecolor\":\"white\"},\"yaxis\":{\"backgroundcolor\":\"#E5ECF6\",\"gridcolor\":\"white\",\"gridwidth\":2,\"linecolor\":\"white\",\"showbackground\":true,\"ticks\":\"\",\"zerolinecolor\":\"white\"},\"zaxis\":{\"backgroundcolor\":\"#E5ECF6\",\"gridcolor\":\"white\",\"gridwidth\":2,\"linecolor\":\"white\",\"showbackground\":true,\"ticks\":\"\",\"zerolinecolor\":\"white\"}},\"shapedefaults\":{\"line\":{\"color\":\"#2a3f5f\"}},\"ternary\":{\"aaxis\":{\"gridcolor\":\"white\",\"linecolor\":\"white\",\"ticks\":\"\"},\"baxis\":{\"gridcolor\":\"white\",\"linecolor\":\"white\",\"ticks\":\"\"},\"bgcolor\":\"#E5ECF6\",\"caxis\":{\"gridcolor\":\"white\",\"linecolor\":\"white\",\"ticks\":\"\"}},\"title\":{\"x\":0.05},\"xaxis\":{\"automargin\":true,\"gridcolor\":\"white\",\"linecolor\":\"white\",\"ticks\":\"\",\"title\":{\"standoff\":15},\"zerolinecolor\":\"white\",\"zerolinewidth\":2},\"yaxis\":{\"automargin\":true,\"gridcolor\":\"white\",\"linecolor\":\"white\",\"ticks\":\"\",\"title\":{\"standoff\":15},\"zerolinecolor\":\"white\",\"zerolinewidth\":2}}},\"title\":{\"text\":\"Violin Plot of Error Distances\"},\"xaxis\":{\"title\":{\"text\":\"Checkpoints\"}},\"yaxis\":{\"range\":[-1.5,7.5]}},                        {\"responsive\": true}                    ).then(function(){\n",
       "                            \n",
       "var gd = document.getElementById('c18ec094-460a-41ce-accd-f35eda4c4589');\n",
       "var x = new MutationObserver(function (mutations, observer) {{\n",
       "        var display = window.getComputedStyle(gd).display;\n",
       "        if (!display || display === 'none') {{\n",
       "            console.log([gd, 'removed!']);\n",
       "            Plotly.purge(gd);\n",
       "            observer.disconnect();\n",
       "        }}\n",
       "}});\n",
       "\n",
       "// Listen for the removal of the full notebook cells\n",
       "var notebookContainer = gd.closest('#notebook-container');\n",
       "if (notebookContainer) {{\n",
       "    x.observe(notebookContainer, {childList: true});\n",
       "}}\n",
       "\n",
       "// Listen for the clearing of the current output cell\n",
       "var outputEl = gd.closest('.output');\n",
       "if (outputEl) {{\n",
       "    x.observe(outputEl, {childList: true});\n",
       "}}\n",
       "\n",
       "                        })                };                });            </script>        </div>"
      ]
     },
     "metadata": {},
     "output_type": "display_data"
    }
   ],
   "source": [
    "### Analysis data for calibrated Measured Power with normal filter ###\n",
    "fig4 = createFigure('Calibration')\n",
    "result, checkpointslist, fileName = main('./Filter_0.2/anchorCalibration/actlab_location_test1_08Jul.csv')\n",
    "fig4 = plotValues(fig4, result, fileName, 'calibrate')\n",
    "fig4.show()"
   ]
  }
 ],
 "metadata": {
  "kernelspec": {
   "display_name": "Python 3 (ipykernel)",
   "language": "python",
   "name": "python3"
  },
  "language_info": {
   "codemirror_mode": {
    "name": "ipython",
    "version": 3
   },
   "file_extension": ".py",
   "mimetype": "text/x-python",
   "name": "python",
   "nbconvert_exporter": "python",
   "pygments_lexer": "ipython3",
   "version": "3.7.10"
  }
 },
 "nbformat": 4,
 "nbformat_minor": 4
}
